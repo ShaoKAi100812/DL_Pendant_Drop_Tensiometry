{
 "cells": [
  {
   "cell_type": "markdown",
   "metadata": {},
   "source": [
    "# Deep Learning for tensiometry of pendant drop"
   ]
  },
  {
   "cell_type": "markdown",
   "metadata": {},
   "source": [
    "### Import necessary packages and self-defined classes"
   ]
  },
  {
   "cell_type": "code",
   "execution_count": 1,
   "metadata": {},
   "outputs": [],
   "source": [
    "# pyplot\n",
    "import matplotlib.pyplot as plt\n",
    "# pytorch\n",
    "import torch\n",
    "import torch.optim as optim\n",
    "import torch.nn.functional as F  # useful stateless functions\n",
    "#Test/Train data split\n",
    "from functools import lru_cache\n",
    "from torch.utils.data import DataLoader, Dataset\n",
    "from torch.utils.data.sampler import SubsetRandomSampler\n",
    "import numpy as np\n",
    "import logging\n",
    "# sklearn\n",
    "from sklearn import preprocessing\n",
    "# os\n",
    "import os\n",
    "# warnings\n",
    "import warnings\n",
    "warnings.filterwarnings('ignore')\n",
    "# random\n",
    "import random\n",
    "\n",
    "# self-defined model\n",
    "from model_pic import *\n",
    "from model_cal import *\n",
    "import pandas as pd\n",
    "\n",
    "#PictureNet\n",
    "from PIL import Image\n",
    "from skimage.io import imread\n",
    "from sklearn.model_selection import train_test_split"
   ]
  },
  {
   "cell_type": "markdown",
   "metadata": {},
   "source": [
    "## Dataset loading and preprocessing"
   ]
  },
  {
   "cell_type": "code",
   "execution_count": 2,
   "metadata": {},
   "outputs": [],
   "source": [
    "class DataSplit:\n",
    "\n",
    "    def __init__(self, dataset, test_train_split=0.8, val_train_split=0.1, shuffle=False):\n",
    "        self.dataset = dataset\n",
    "\n",
    "        dataset_size = len(dataset)\n",
    "        self.indices = list(range(dataset_size))\n",
    "        test_split = int(np.floor(test_train_split * dataset_size))\n",
    "\n",
    "        if shuffle:\n",
    "            np.random.shuffle(self.indices)\n",
    "\n",
    "        train_indices, self.test_indices = self.indices[:test_split], self.indices[test_split:]\n",
    "        train_size = len(train_indices)\n",
    "        validation_split = int(np.floor((1 - val_train_split) * train_size))\n",
    "\n",
    "        self.train_indices, self.val_indices = train_indices[:validation_split], train_indices[validation_split:]\n",
    "\n",
    "        self.train_sampler = SubsetRandomSampler(self.train_indices)\n",
    "        self.val_sampler = SubsetRandomSampler(self.val_indices)\n",
    "        self.test_sampler = SubsetRandomSampler(self.test_indices)\n",
    "    \n",
    "    def get_train_split_point(self):\n",
    "        return len(self.train_sampler) + len(self.val_indices)\n",
    "\n",
    "    def get_validation_split_point(self):\n",
    "        return len(self.train_sampler)\n",
    "\n",
    "    @lru_cache(maxsize=4)\n",
    "    def get_split(self, batch_size=64, num_workers=0):\n",
    "        logging.debug('Initializing train-validation-test dataloaders')\n",
    "        self.train_loader = self.get_train_loader(batch_size=batch_size, num_workers=num_workers)\n",
    "        self.val_loader = self.get_validation_loader(batch_size=batch_size, num_workers=num_workers)\n",
    "        self.test_loader = self.get_test_loader(batch_size=batch_size, num_workers=num_workers)\n",
    "        return self.train_loader, self.val_loader, self.test_loader\n",
    "\n",
    "    @lru_cache(maxsize=4)\n",
    "    def get_train_loader(self, batch_size=64, num_workers=0):\n",
    "        logging.debug('Initializing train dataloader')\n",
    "        self.train_loader = DataLoader(self.dataset, batch_size=batch_size, sampler=self.train_sampler, shuffle=False, num_workers=num_workers)\n",
    "        return self.train_loader\n",
    "\n",
    "    @lru_cache(maxsize=4)\n",
    "    def get_validation_loader(self, batch_size=64, num_workers=0):\n",
    "        logging.debug('Initializing validation dataloader')\n",
    "        self.val_loader = DataLoader(self.dataset, batch_size=batch_size, sampler=self.val_sampler, shuffle=False, num_workers=num_workers)\n",
    "        return self.val_loader\n",
    "\n",
    "    @lru_cache(maxsize=4)\n",
    "    def get_test_loader(self, batch_size=64, num_workers=0):\n",
    "        logging.debug('Initializing test dataloader')\n",
    "        self.test_loader = DataLoader(self.dataset, batch_size=batch_size, sampler=self.test_sampler, shuffle=False, num_workers=num_workers)\n",
    "        return self.test_loader"
   ]
  },
  {
   "cell_type": "markdown",
   "metadata": {},
   "source": [
    "### Load data for PhysicsNet"
   ]
  },
  {
   "cell_type": "code",
   "execution_count": 17,
   "metadata": {},
   "outputs": [
    {
     "data": {
      "image/png": "[encoded data removed]",
      "text/plain": [
       "<Figure size 432x288 with 1 Axes>"
      ]
     },
     "metadata": {
      "needs_background": "light"
     },
     "output_type": "display_data"
    }
   ],
   "source": [
    "data_matrix = df = pd.DataFrame()\n",
    "\n",
    "# data_matrix = pd.read_csv(\"Data_folder/Spline.csv\", header= None)           # Spline dataset\n",
    "data_matrix = pd.read_csv(\"Big_Data1/Picture_Large.csv\", header= None)      # Large dataset (only for observation)\n",
    "\n",
    "# Make the droplet dataset class based on data_matrix\n",
    "class Droplet_data_set(Dataset):\n",
    "    def __init__(self):\n",
    "        x = data_matrix.iloc[0:,3:].values\n",
    "        y = data_matrix.iloc[0:,0:2].values\n",
    "\n",
    "        ###### Data distribution visualization ######\n",
    "        # x = np.random.normal(x,0.01)\n",
    "        # y0 is surface tension,  y1 is pressure\n",
    "        y0 = data_matrix.iloc[:,0].values\n",
    "        y1 = data_matrix.iloc[:,1].values\n",
    "        \n",
    "        # Add normalization for x\n",
    "        # x = preprocessing.normalize(x)\n",
    "        # y = preprocessing.normalize(y, axis = 0,norm='l2')\n",
    "        n, bins, patches = plt.hist(x=y0, bins='auto', color='#0504aa',\n",
    "                                    alpha=0.7, rwidth=0.85)\n",
    "        plt.grid(axis='y', alpha=0.75)\n",
    "        plt.xlabel('Surface Tension')\n",
    "        # plt.xlabel('Volume[mm^3]')\n",
    "        plt.ylabel('Frequency')\n",
    "        plt.title('Occurence of data per Pressure')\n",
    "        \n",
    "        maxfreq = n.max()\n",
    "        # Set a clean upper y-axis limit.\n",
    "        plt.ylim(ymax=np.ceil(maxfreq / 10) * 10 if maxfreq % 10 else maxfreq + 10)\n",
    "        ##############################################\n",
    "\n",
    "        self.x_train = torch.tensor(x,dtype=torch.float32)\n",
    "        self.y_train = torch.tensor(y,dtype=torch.float32)\n",
    "        \n",
    "    def __getitem__(self, idx):\n",
    "        return self.x_train[idx],self.y_train[idx]\n",
    "    \n",
    "    def __len__(self):\n",
    "         return len(self.y_train)\n",
    "        \n",
    "my_data_set = Droplet_data_set()\n",
    "\n",
    "# Split the single dataset into 3 datasets for training, test and validation.\n",
    "split = DataSplit(my_data_set, shuffle=True)\n",
    "train_loader, val_loader, test_loader = split.get_split(batch_size=64, num_workers=0)\n"
   ]
  },
  {
   "cell_type": "markdown",
   "metadata": {},
   "source": [
    "### Load data for PictureNet\n",
    "Read image from files"
   ]
  },
  {
   "cell_type": "code",
   "execution_count": 13,
   "metadata": {},
   "outputs": [
    {
     "ename": "FileNotFoundError",
     "evalue": "No such file: 'c:\\Users\\jrimm\\Documents\\tue\\DL_Pendant_Drop_Tensiometry\\Data_folder\\1.png'",
     "output_type": "error",
     "traceback": [
      "\u001b[1;31m---------------------------------------------------------------------------\u001b[0m",
      "\u001b[1;31mFileNotFoundError\u001b[0m                         Traceback (most recent call last)",
      "\u001b[1;32mc:\\Users\\jrimm\\Documents\\tue\\DL_Pendant_Drop_Tensiometry\\main_spline.ipynb Cell 9'\u001b[0m in \u001b[0;36m<cell line: 4>\u001b[1;34m()\u001b[0m\n\u001b[0;32m      <a href='vscode-notebook-cell:/c%3A/Users/jrimm/Documents/tue/DL_Pendant_Drop_Tensiometry/main_spline.ipynb#ch0000008?line=5'>6</a>\u001b[0m image_path \u001b[39m=\u001b[39m \u001b[39m'\u001b[39m\u001b[39mData_folder/\u001b[39m\u001b[39m'\u001b[39m \u001b[39m+\u001b[39m \u001b[39mstr\u001b[39m(img_name) \u001b[39m+\u001b[39m \u001b[39m'\u001b[39m\u001b[39m.png\u001b[39m\u001b[39m'\u001b[39m      \u001b[39m# modify the path depends on which dataset\u001b[39;00m\n\u001b[0;32m      <a href='vscode-notebook-cell:/c%3A/Users/jrimm/Documents/tue/DL_Pendant_Drop_Tensiometry/main_spline.ipynb#ch0000008?line=6'>7</a>\u001b[0m \u001b[39m# reading the image\u001b[39;00m\n\u001b[1;32m----> <a href='vscode-notebook-cell:/c%3A/Users/jrimm/Documents/tue/DL_Pendant_Drop_Tensiometry/main_spline.ipynb#ch0000008?line=7'>8</a>\u001b[0m img \u001b[39m=\u001b[39m imread(image_path, as_gray\u001b[39m=\u001b[39;49m\u001b[39mTrue\u001b[39;49;00m)\n\u001b[0;32m      <a href='vscode-notebook-cell:/c%3A/Users/jrimm/Documents/tue/DL_Pendant_Drop_Tensiometry/main_spline.ipynb#ch0000008?line=8'>9</a>\u001b[0m img \u001b[39m=\u001b[39m img[\u001b[39m4\u001b[39m:\u001b[39m-\u001b[39m\u001b[39m4\u001b[39m, \u001b[39m4\u001b[39m:\u001b[39m-\u001b[39m\u001b[39m4\u001b[39m]  \u001b[39m#crop \u001b[39;00m\n\u001b[0;32m     <a href='vscode-notebook-cell:/c%3A/Users/jrimm/Documents/tue/DL_Pendant_Drop_Tensiometry/main_spline.ipynb#ch0000008?line=9'>10</a>\u001b[0m \u001b[39m# normalizing the pixel values\u001b[39;00m\n",
      "File \u001b[1;32mc:\\Users\\jrimm\\AppData\\Local\\Programs\\Python\\Python38\\lib\\site-packages\\skimage\\io\\_io.py:53\u001b[0m, in \u001b[0;36mimread\u001b[1;34m(fname, as_gray, plugin, **plugin_args)\u001b[0m\n\u001b[0;32m     <a href='file:///c%3A/Users/jrimm/AppData/Local/Programs/Python/Python38/lib/site-packages/skimage/io/_io.py?line=49'>50</a>\u001b[0m         plugin \u001b[39m=\u001b[39m \u001b[39m'\u001b[39m\u001b[39mtifffile\u001b[39m\u001b[39m'\u001b[39m\n\u001b[0;32m     <a href='file:///c%3A/Users/jrimm/AppData/Local/Programs/Python/Python38/lib/site-packages/skimage/io/_io.py?line=51'>52</a>\u001b[0m \u001b[39mwith\u001b[39;00m file_or_url_context(fname) \u001b[39mas\u001b[39;00m fname:\n\u001b[1;32m---> <a href='file:///c%3A/Users/jrimm/AppData/Local/Programs/Python/Python38/lib/site-packages/skimage/io/_io.py?line=52'>53</a>\u001b[0m     img \u001b[39m=\u001b[39m call_plugin(\u001b[39m'\u001b[39;49m\u001b[39mimread\u001b[39;49m\u001b[39m'\u001b[39;49m, fname, plugin\u001b[39m=\u001b[39;49mplugin, \u001b[39m*\u001b[39;49m\u001b[39m*\u001b[39;49mplugin_args)\n\u001b[0;32m     <a href='file:///c%3A/Users/jrimm/AppData/Local/Programs/Python/Python38/lib/site-packages/skimage/io/_io.py?line=54'>55</a>\u001b[0m \u001b[39mif\u001b[39;00m \u001b[39mnot\u001b[39;00m \u001b[39mhasattr\u001b[39m(img, \u001b[39m'\u001b[39m\u001b[39mndim\u001b[39m\u001b[39m'\u001b[39m):\n\u001b[0;32m     <a href='file:///c%3A/Users/jrimm/AppData/Local/Programs/Python/Python38/lib/site-packages/skimage/io/_io.py?line=55'>56</a>\u001b[0m     \u001b[39mreturn\u001b[39;00m img\n",
      "File \u001b[1;32mc:\\Users\\jrimm\\AppData\\Local\\Programs\\Python\\Python38\\lib\\site-packages\\skimage\\io\\manage_plugins.py:207\u001b[0m, in \u001b[0;36mcall_plugin\u001b[1;34m(kind, *args, **kwargs)\u001b[0m\n\u001b[0;32m    <a href='file:///c%3A/Users/jrimm/AppData/Local/Programs/Python/Python38/lib/site-packages/skimage/io/manage_plugins.py?line=202'>203</a>\u001b[0m     \u001b[39mexcept\u001b[39;00m \u001b[39mIndexError\u001b[39;00m:\n\u001b[0;32m    <a href='file:///c%3A/Users/jrimm/AppData/Local/Programs/Python/Python38/lib/site-packages/skimage/io/manage_plugins.py?line=203'>204</a>\u001b[0m         \u001b[39mraise\u001b[39;00m \u001b[39mRuntimeError\u001b[39;00m(\u001b[39m'\u001b[39m\u001b[39mCould not find the plugin \u001b[39m\u001b[39m\"\u001b[39m\u001b[39m%s\u001b[39;00m\u001b[39m\"\u001b[39m\u001b[39m for \u001b[39m\u001b[39m%s\u001b[39;00m\u001b[39m.\u001b[39m\u001b[39m'\u001b[39m \u001b[39m%\u001b[39m\n\u001b[0;32m    <a href='file:///c%3A/Users/jrimm/AppData/Local/Programs/Python/Python38/lib/site-packages/skimage/io/manage_plugins.py?line=204'>205</a>\u001b[0m                            (plugin, kind))\n\u001b[1;32m--> <a href='file:///c%3A/Users/jrimm/AppData/Local/Programs/Python/Python38/lib/site-packages/skimage/io/manage_plugins.py?line=206'>207</a>\u001b[0m \u001b[39mreturn\u001b[39;00m func(\u001b[39m*\u001b[39;49margs, \u001b[39m*\u001b[39;49m\u001b[39m*\u001b[39;49mkwargs)\n",
      "File \u001b[1;32mc:\\Users\\jrimm\\AppData\\Local\\Programs\\Python\\Python38\\lib\\site-packages\\skimage\\io\\_plugins\\imageio_plugin.py:10\u001b[0m, in \u001b[0;36mimread\u001b[1;34m(*args, **kwargs)\u001b[0m\n\u001b[0;32m      <a href='file:///c%3A/Users/jrimm/AppData/Local/Programs/Python/Python38/lib/site-packages/skimage/io/_plugins/imageio_plugin.py?line=7'>8</a>\u001b[0m \u001b[39m@wraps\u001b[39m(imageio_imread)\n\u001b[0;32m      <a href='file:///c%3A/Users/jrimm/AppData/Local/Programs/Python/Python38/lib/site-packages/skimage/io/_plugins/imageio_plugin.py?line=8'>9</a>\u001b[0m \u001b[39mdef\u001b[39;00m \u001b[39mimread\u001b[39m(\u001b[39m*\u001b[39margs, \u001b[39m*\u001b[39m\u001b[39m*\u001b[39mkwargs):\n\u001b[1;32m---> <a href='file:///c%3A/Users/jrimm/AppData/Local/Programs/Python/Python38/lib/site-packages/skimage/io/_plugins/imageio_plugin.py?line=9'>10</a>\u001b[0m     \u001b[39mreturn\u001b[39;00m np\u001b[39m.\u001b[39masarray(imageio_imread(\u001b[39m*\u001b[39;49margs, \u001b[39m*\u001b[39;49m\u001b[39m*\u001b[39;49mkwargs))\n",
      "File \u001b[1;32mc:\\Users\\jrimm\\AppData\\Local\\Programs\\Python\\Python38\\lib\\site-packages\\imageio\\__init__.py:96\u001b[0m, in \u001b[0;36mimread\u001b[1;34m(uri, format, **kwargs)\u001b[0m\n\u001b[0;32m     <a href='file:///c%3A/Users/jrimm/AppData/Local/Programs/Python/Python38/lib/site-packages/imageio/__init__.py?line=67'>68</a>\u001b[0m \u001b[39m\"\"\"imread(uri, format=None, **kwargs)\u001b[39;00m\n\u001b[0;32m     <a href='file:///c%3A/Users/jrimm/AppData/Local/Programs/Python/Python38/lib/site-packages/imageio/__init__.py?line=68'>69</a>\u001b[0m \n\u001b[0;32m     <a href='file:///c%3A/Users/jrimm/AppData/Local/Programs/Python/Python38/lib/site-packages/imageio/__init__.py?line=69'>70</a>\u001b[0m \u001b[39mReads an image from the specified file. Returns a numpy array, which\u001b[39;00m\n\u001b[1;32m   (...)\u001b[0m\n\u001b[0;32m     <a href='file:///c%3A/Users/jrimm/AppData/Local/Programs/Python/Python38/lib/site-packages/imageio/__init__.py?line=85'>86</a>\u001b[0m \u001b[39m    to see what arguments are available for a particular format.\u001b[39;00m\n\u001b[0;32m     <a href='file:///c%3A/Users/jrimm/AppData/Local/Programs/Python/Python38/lib/site-packages/imageio/__init__.py?line=86'>87</a>\u001b[0m \u001b[39m\"\"\"\u001b[39;00m\n\u001b[0;32m     <a href='file:///c%3A/Users/jrimm/AppData/Local/Programs/Python/Python38/lib/site-packages/imageio/__init__.py?line=88'>89</a>\u001b[0m warnings\u001b[39m.\u001b[39mwarn(\n\u001b[0;32m     <a href='file:///c%3A/Users/jrimm/AppData/Local/Programs/Python/Python38/lib/site-packages/imageio/__init__.py?line=89'>90</a>\u001b[0m     \u001b[39m\"\u001b[39m\u001b[39mStarting with ImageIO v3 the behavior of this function will switch to that of\u001b[39m\u001b[39m\"\u001b[39m\n\u001b[0;32m     <a href='file:///c%3A/Users/jrimm/AppData/Local/Programs/Python/Python38/lib/site-packages/imageio/__init__.py?line=90'>91</a>\u001b[0m     \u001b[39m\"\u001b[39m\u001b[39m iio.v3.imread. To keep the current behavior (and make this warning dissapear)\u001b[39m\u001b[39m\"\u001b[39m\n\u001b[0;32m     <a href='file:///c%3A/Users/jrimm/AppData/Local/Programs/Python/Python38/lib/site-packages/imageio/__init__.py?line=91'>92</a>\u001b[0m     \u001b[39m\"\u001b[39m\u001b[39m use `import imageio.v2 as imageio` or call `imageio.v2.imread` directly.\u001b[39m\u001b[39m\"\u001b[39m,\n\u001b[0;32m     <a href='file:///c%3A/Users/jrimm/AppData/Local/Programs/Python/Python38/lib/site-packages/imageio/__init__.py?line=92'>93</a>\u001b[0m     \u001b[39mDeprecationWarning\u001b[39;00m,\n\u001b[0;32m     <a href='file:///c%3A/Users/jrimm/AppData/Local/Programs/Python/Python38/lib/site-packages/imageio/__init__.py?line=93'>94</a>\u001b[0m )\n\u001b[1;32m---> <a href='file:///c%3A/Users/jrimm/AppData/Local/Programs/Python/Python38/lib/site-packages/imageio/__init__.py?line=95'>96</a>\u001b[0m \u001b[39mreturn\u001b[39;00m imread_v2(uri, \u001b[39mformat\u001b[39;49m\u001b[39m=\u001b[39;49m\u001b[39mformat\u001b[39;49m, \u001b[39m*\u001b[39;49m\u001b[39m*\u001b[39;49mkwargs)\n",
      "File \u001b[1;32mc:\\Users\\jrimm\\AppData\\Local\\Programs\\Python\\Python38\\lib\\site-packages\\imageio\\v2.py:200\u001b[0m, in \u001b[0;36mimread\u001b[1;34m(uri, format, **kwargs)\u001b[0m\n\u001b[0;32m    <a href='file:///c%3A/Users/jrimm/AppData/Local/Programs/Python/Python38/lib/site-packages/imageio/v2.py?line=196'>197</a>\u001b[0m imopen_args \u001b[39m=\u001b[39m decypher_format_arg(\u001b[39mformat\u001b[39m)\n\u001b[0;32m    <a href='file:///c%3A/Users/jrimm/AppData/Local/Programs/Python/Python38/lib/site-packages/imageio/v2.py?line=197'>198</a>\u001b[0m imopen_args[\u001b[39m\"\u001b[39m\u001b[39mlegacy_mode\u001b[39m\u001b[39m\"\u001b[39m] \u001b[39m=\u001b[39m \u001b[39mTrue\u001b[39;00m\n\u001b[1;32m--> <a href='file:///c%3A/Users/jrimm/AppData/Local/Programs/Python/Python38/lib/site-packages/imageio/v2.py?line=199'>200</a>\u001b[0m \u001b[39mwith\u001b[39;00m imopen(uri, \u001b[39m\"\u001b[39;49m\u001b[39mri\u001b[39;49m\u001b[39m\"\u001b[39;49m, \u001b[39m*\u001b[39;49m\u001b[39m*\u001b[39;49mimopen_args) \u001b[39mas\u001b[39;00m file:\n\u001b[0;32m    <a href='file:///c%3A/Users/jrimm/AppData/Local/Programs/Python/Python38/lib/site-packages/imageio/v2.py?line=200'>201</a>\u001b[0m     \u001b[39mreturn\u001b[39;00m file\u001b[39m.\u001b[39mread(index\u001b[39m=\u001b[39m\u001b[39m0\u001b[39m, \u001b[39m*\u001b[39m\u001b[39m*\u001b[39mkwargs)\n",
      "File \u001b[1;32mc:\\Users\\jrimm\\AppData\\Local\\Programs\\Python\\Python38\\lib\\site-packages\\imageio\\core\\imopen.py:117\u001b[0m, in \u001b[0;36mimopen\u001b[1;34m(uri, io_mode, plugin, extension, format_hint, legacy_mode, **kwargs)\u001b[0m\n\u001b[0;32m    <a href='file:///c%3A/Users/jrimm/AppData/Local/Programs/Python/Python38/lib/site-packages/imageio/core/imopen.py?line=114'>115</a>\u001b[0m     request\u001b[39m.\u001b[39mformat_hint \u001b[39m=\u001b[39m format_hint\n\u001b[0;32m    <a href='file:///c%3A/Users/jrimm/AppData/Local/Programs/Python/Python38/lib/site-packages/imageio/core/imopen.py?line=115'>116</a>\u001b[0m \u001b[39melse\u001b[39;00m:\n\u001b[1;32m--> <a href='file:///c%3A/Users/jrimm/AppData/Local/Programs/Python/Python38/lib/site-packages/imageio/core/imopen.py?line=116'>117</a>\u001b[0m     request \u001b[39m=\u001b[39m Request(uri, io_mode, format_hint\u001b[39m=\u001b[39;49mformat_hint, extension\u001b[39m=\u001b[39;49mextension)\n\u001b[0;32m    <a href='file:///c%3A/Users/jrimm/AppData/Local/Programs/Python/Python38/lib/site-packages/imageio/core/imopen.py?line=118'>119</a>\u001b[0m source \u001b[39m=\u001b[39m \u001b[39m\"\u001b[39m\u001b[39m<bytes>\u001b[39m\u001b[39m\"\u001b[39m \u001b[39mif\u001b[39;00m \u001b[39misinstance\u001b[39m(uri, \u001b[39mbytes\u001b[39m) \u001b[39melse\u001b[39;00m uri\n\u001b[0;32m    <a href='file:///c%3A/Users/jrimm/AppData/Local/Programs/Python/Python38/lib/site-packages/imageio/core/imopen.py?line=120'>121</a>\u001b[0m \u001b[39m# fast-path based on plugin\u001b[39;00m\n\u001b[0;32m    <a href='file:///c%3A/Users/jrimm/AppData/Local/Programs/Python/Python38/lib/site-packages/imageio/core/imopen.py?line=121'>122</a>\u001b[0m \u001b[39m# (except in legacy mode)\u001b[39;00m\n",
      "File \u001b[1;32mc:\\Users\\jrimm\\AppData\\Local\\Programs\\Python\\Python38\\lib\\site-packages\\imageio\\core\\request.py:248\u001b[0m, in \u001b[0;36mRequest.__init__\u001b[1;34m(self, uri, mode, extension, format_hint, **kwargs)\u001b[0m\n\u001b[0;32m    <a href='file:///c%3A/Users/jrimm/AppData/Local/Programs/Python/Python38/lib/site-packages/imageio/core/request.py?line=244'>245</a>\u001b[0m     \u001b[39mraise\u001b[39;00m \u001b[39mValueError\u001b[39;00m(\u001b[39mf\u001b[39m\u001b[39m\"\u001b[39m\u001b[39mInvalid Request.Mode: \u001b[39m\u001b[39m{\u001b[39;00mmode\u001b[39m}\u001b[39;00m\u001b[39m\"\u001b[39m)\n\u001b[0;32m    <a href='file:///c%3A/Users/jrimm/AppData/Local/Programs/Python/Python38/lib/site-packages/imageio/core/request.py?line=246'>247</a>\u001b[0m \u001b[39m# Parse what was given\u001b[39;00m\n\u001b[1;32m--> <a href='file:///c%3A/Users/jrimm/AppData/Local/Programs/Python/Python38/lib/site-packages/imageio/core/request.py?line=247'>248</a>\u001b[0m \u001b[39mself\u001b[39;49m\u001b[39m.\u001b[39;49m_parse_uri(uri)\n\u001b[0;32m    <a href='file:///c%3A/Users/jrimm/AppData/Local/Programs/Python/Python38/lib/site-packages/imageio/core/request.py?line=249'>250</a>\u001b[0m \u001b[39m# Set extension\u001b[39;00m\n\u001b[0;32m    <a href='file:///c%3A/Users/jrimm/AppData/Local/Programs/Python/Python38/lib/site-packages/imageio/core/request.py?line=250'>251</a>\u001b[0m \u001b[39mif\u001b[39;00m extension \u001b[39mis\u001b[39;00m \u001b[39mnot\u001b[39;00m \u001b[39mNone\u001b[39;00m:\n",
      "File \u001b[1;32mc:\\Users\\jrimm\\AppData\\Local\\Programs\\Python\\Python38\\lib\\site-packages\\imageio\\core\\request.py:407\u001b[0m, in \u001b[0;36mRequest._parse_uri\u001b[1;34m(self, uri)\u001b[0m\n\u001b[0;32m    <a href='file:///c%3A/Users/jrimm/AppData/Local/Programs/Python/Python38/lib/site-packages/imageio/core/request.py?line=403'>404</a>\u001b[0m \u001b[39mif\u001b[39;00m is_read_request:\n\u001b[0;32m    <a href='file:///c%3A/Users/jrimm/AppData/Local/Programs/Python/Python38/lib/site-packages/imageio/core/request.py?line=404'>405</a>\u001b[0m     \u001b[39m# Reading: check that the file exists (but is allowed a dir)\u001b[39;00m\n\u001b[0;32m    <a href='file:///c%3A/Users/jrimm/AppData/Local/Programs/Python/Python38/lib/site-packages/imageio/core/request.py?line=405'>406</a>\u001b[0m     \u001b[39mif\u001b[39;00m \u001b[39mnot\u001b[39;00m os\u001b[39m.\u001b[39mpath\u001b[39m.\u001b[39mexists(fn):\n\u001b[1;32m--> <a href='file:///c%3A/Users/jrimm/AppData/Local/Programs/Python/Python38/lib/site-packages/imageio/core/request.py?line=406'>407</a>\u001b[0m         \u001b[39mraise\u001b[39;00m \u001b[39mFileNotFoundError\u001b[39;00m(\u001b[39m\"\u001b[39m\u001b[39mNo such file: \u001b[39m\u001b[39m'\u001b[39m\u001b[39m%s\u001b[39;00m\u001b[39m'\u001b[39m\u001b[39m\"\u001b[39m \u001b[39m%\u001b[39m fn)\n\u001b[0;32m    <a href='file:///c%3A/Users/jrimm/AppData/Local/Programs/Python/Python38/lib/site-packages/imageio/core/request.py?line=407'>408</a>\u001b[0m \u001b[39melse\u001b[39;00m:\n\u001b[0;32m    <a href='file:///c%3A/Users/jrimm/AppData/Local/Programs/Python/Python38/lib/site-packages/imageio/core/request.py?line=408'>409</a>\u001b[0m     \u001b[39m# Writing: check that the directory to write to does exist\u001b[39;00m\n\u001b[0;32m    <a href='file:///c%3A/Users/jrimm/AppData/Local/Programs/Python/Python38/lib/site-packages/imageio/core/request.py?line=409'>410</a>\u001b[0m     dn \u001b[39m=\u001b[39m os\u001b[39m.\u001b[39mpath\u001b[39m.\u001b[39mdirname(fn)\n",
      "\u001b[1;31mFileNotFoundError\u001b[0m: No such file: 'c:\\Users\\jrimm\\Documents\\tue\\DL_Pendant_Drop_Tensiometry\\Data_folder\\1.png'"
     ]
    }
   ],
   "source": [
    "train_img = []\n",
    "\n",
    "data_image = pd.read_csv(\"Data_folder/Spline.csv\", header= None)    # Spline dataset\n",
    "for img_name in data_image.iloc[0:,3:].index + 1:      # modify the number depends on size of dataset\n",
    "    # defining the image path\n",
    "    image_path = 'Data_folder/' + str(img_name) + '.png'      # modify the path depends on which dataset\n",
    "    # reading the image\n",
    "    img = imread(image_path, as_gray=True)\n",
    "    img = img[4:-4, 4:-4]  #crop \n",
    "    # normalizing the pixel values\n",
    "    img /= 255.0\n",
    "    # converting the type of pixel to float 32\n",
    "    img = img.astype('float32')\n",
    "    # appending the image into the list\n",
    "    train_img.append(img)"
   ]
  },
  {
   "cell_type": "markdown",
   "metadata": {},
   "source": [
    "Plot a single image for viewing"
   ]
  },
  {
   "cell_type": "code",
   "execution_count": 28,
   "metadata": {},
   "outputs": [
    {
     "name": "stdout",
     "output_type": "stream",
     "text": [
      "Current image = 69\n",
      "Picture size = (82, 77)\n"
     ]
    },
    {
     "data": {
      "text/plain": [
       "<matplotlib.image.AxesImage at 0x1feabd08488>"
      ]
     },
     "execution_count": 28,
     "metadata": {},
     "output_type": "execute_result"
    },
    {
     "data": {
      "image/png": "[encoded data removed]",
      "text/plain": [
       "<Figure size 432x288 with 1 Axes>"
      ]
     },
     "metadata": {
      "needs_background": "light"
     },
     "output_type": "display_data"
    }
   ],
   "source": [
    "rand = random.randint(0, 112)\n",
    "print(\"Current image =\", rand)\n",
    "print(\"Picture size =\", train_img[rand].shape)\n",
    "plt.imshow(train_img[rand], cmap='gray')"
   ]
  },
  {
   "cell_type": "code",
   "execution_count": 30,
   "metadata": {},
   "outputs": [],
   "source": [
    "# converting the list to numpy array\n",
    "train_x_pic = np.array(train_img)\n",
    "train_y_pic = data_image.iloc[0:,3:].values            # modify the number depends on size of dataset\n",
    "train_x_pic, rem_x_pic, train_y_pic, rem_y_pic = train_test_split(train_x_pic, train_y_pic, test_size = 0.2)    # default shuffle = True\n",
    "val_x_pic, test_x_pic, val_y_pic, test_y_pic = train_test_split(rem_x_pic, rem_y_pic, test_size = 0.5)\n",
    "\n",
    "# converting the trian images and targets into torch format\n",
    "train_x_pic = train_x_pic.reshape(len(train_x_pic), 1, 82, 77)\n",
    "train_x_pic  = torch.from_numpy(train_x_pic)\n",
    "train_y_pic = torch.from_numpy(train_y_pic)\n",
    "# print(train_x_pic.shape, train_y_pic.shape)\n",
    "\n",
    "# converting the val images and targets into torch format\n",
    "val_x_pic = val_x_pic.reshape(len(val_x_pic), 1, 82, 77)\n",
    "val_x_pic  = torch.from_numpy(val_x_pic)\n",
    "val_y_pic = torch.from_numpy(val_y_pic)\n",
    "# print(val_x_pic.shape, val_y_pic.shape)\n",
    "\n",
    "# converting the test images and targets into torch format\n",
    "test_x_pic = test_x_pic.reshape(len(test_x_pic), 1, 82, 77)\n",
    "test_x_pic  = torch.from_numpy(test_x_pic)\n",
    "test_y_pic = torch.from_numpy(test_y_pic)\n",
    "# print(test_x_pic.shape, test_y_pic.shape)\n",
    "\n",
    "# converting the dataset into mini-batch dataset (input 4D -> 5D and 2D -> 3D)\n",
    "def batch_transform(dataset, batch_size=64):\n",
    "    batch = []\n",
    "    batch_num = len(dataset) // batch_size\n",
    "    for i in range(batch_num+1):\n",
    "        if len(dataset) == 4:\n",
    "            if i < batch_num:\n",
    "                batch.append(dataset[i*batch_size:(i+1)*batch_size, :, :, :])\n",
    "            else:\n",
    "                batch.append(dataset[i*batch_size:, :, :, :])\n",
    "        else:\n",
    "            if i < batch_num:\n",
    "                batch.append(dataset[i*batch_size:(i+1)*batch_size, :])\n",
    "            else:\n",
    "                batch.append(dataset[i*batch_size:, :])\n",
    "    return batch\n",
    "\n",
    "train_x_pic = batch_transform(train_x_pic)\n",
    "train_y_pic = batch_transform(train_y_pic)\n",
    "val_x_pic = batch_transform(val_x_pic)\n",
    "val_y_pic = batch_transform(val_y_pic)\n",
    "test_x_pic = batch_transform(test_x_pic)\n",
    "test_y_pic = batch_transform(test_y_pic)\n",
    "# print(len(train_x_pic), len(train_y_pic), len(val_x_pic), len(val_y_pic), len(test_x_pic), len(test_y_pic))"
   ]
  },
  {
   "cell_type": "markdown",
   "metadata": {},
   "source": [
    "### Deside to apply host or device\n"
   ]
  },
  {
   "cell_type": "code",
   "execution_count": 31,
   "metadata": {},
   "outputs": [
    {
     "name": "stdout",
     "output_type": "stream",
     "text": [
      "cuda\n"
     ]
    }
   ],
   "source": [
    "USE_GPU = True\n",
    "if USE_GPU and torch.cuda.is_available():\n",
    "    device = torch.device('cuda')\n",
    "else:\n",
    "    device = torch.device('cpu')\n",
    "#device = torch.device('cpu')\n",
    "print(device)"
   ]
  },
  {
   "cell_type": "markdown",
   "metadata": {},
   "source": [
    "## Define the functions"
   ]
  },
  {
   "cell_type": "code",
   "execution_count": 32,
   "metadata": {},
   "outputs": [],
   "source": [
    "def loss_cal_phiysics(loss_list, model, loader):\n",
    "    model.eval()  # set model to evaluation mode\n",
    "    with torch.no_grad():\n",
    "        loss_epoch = 0\n",
    "        for t, (x, y) in enumerate(loader):\n",
    "            x = x.to(device=device, dtype=torch.float32)  # move to device, e.g. GPU\n",
    "            y = y.to(device=device, dtype=torch.float32)\n",
    "            scores = model(x)\n",
    "            loss = F.mse_loss(scores, y)\n",
    "            loss_epoch += loss\n",
    "        loss_list.append(loss_epoch.cpu().data.numpy()/t)\n",
    "\n",
    "def loss_cal_picture(loss_list, model, x_dataset, y_dataset):\n",
    "    model.eval()  # set model to evaluation mode\n",
    "    with torch.no_grad():\n",
    "        loss_epoch = 0\n",
    "        for t in range(len(x_dataset)):\n",
    "            x = x_dataset[t]\n",
    "            y = y_dataset[t]\n",
    "            x = x.to(device=device, dtype=torch.float32)  # move to device, e.g. GPU\n",
    "            y = y.to(device=device, dtype=torch.float32)\n",
    "            scores = model(x)\n",
    "            loss = F.mse_loss(scores, y)\n",
    "            loss_epoch += loss\n",
    "        loss_list.append(loss_epoch.cpu().data.numpy()/t)\n",
    "\n",
    "def prediction(model, x):   # only a batch\n",
    "    model = model.to(device=device)\n",
    "    model.eval()  # set model to evaluation mode\n",
    "    with torch.no_grad():\n",
    "        x = x.to(device=device, dtype=torch.float32)\n",
    "        score = torch.Tensor.cpu(model(x))\n",
    "    return score\n",
    "\n",
    "def train_physics(model, optimizer, epochs=1):\n",
    "    loss_train = []\n",
    "    loss_val = []\n",
    "    model = model.to(device=device)  # move the model parameters to CPU/GPU\n",
    "    for e in range(epochs):\n",
    "        for _, (x, y) in enumerate(train_loader):\n",
    "            x = x.reshape(len(x), 1, 1, -1)     # reshape to 4D data for formal input of model\n",
    "            model.train()  # put model to training mode\n",
    "            x = x.to(device=device, dtype=torch.float32)  # move to device, e.g. GPU\n",
    "            y = y.to(device=device, dtype=torch.float32)\n",
    "            scores = model(x)\n",
    "            loss = F.mse_loss(scores, y)\n",
    "\n",
    "            optimizer.zero_grad()\n",
    "            loss.backward()\n",
    "            optimizer.step()\n",
    "        loss_cal_phiysics(loss_train, model, train_loader)\n",
    "        loss_cal_phiysics(loss_val, model, val_loader)\n",
    "        print('epoch %d: train_loss = %.4f, val_loss = %.4f' % (e+1, loss_train[e], loss_val[e]))\n",
    "    \n",
    "    x = range(1, epochs+1)\n",
    "\n",
    "    plt.semilogy(x, loss_train, 'b-', label=\"training loss\")\n",
    "    plt.semilogy(x, loss_val, 'r--', label=\"validation loss\")\n",
    "    plt.xlabel(\"Epochs\")\n",
    "    plt.ylabel(\"MSE Loss\")\n",
    "    plt.title(\"Train/Validation Loss\")\n",
    "    plt.legend()\n",
    "    plt.show()\n",
    "\n",
    "def train_picture(model, optimizer, epochs=1):\n",
    "    loss_train = []\n",
    "    loss_val = []\n",
    "    model = model.to(device=device)  # move the model parameters to CPU/GPU\n",
    "    for e in range(epochs):\n",
    "        for t in range(len(train_x_pic)):\n",
    "            model.train()  # put model to training mode\n",
    "            x = train_x_pic[t]\n",
    "            y = train_y_pic[t]\n",
    "            x = x.to(device=device, dtype=torch.float32)  # move to device, e.g. GPU\n",
    "            y = y.to(device=device, dtype=torch.float32)\n",
    "\n",
    "            scores = model(x)\n",
    "            loss = F.mse_loss(scores, y)\n",
    "\n",
    "            optimizer.zero_grad()\n",
    "            loss.backward()\n",
    "            optimizer.step()\n",
    "        loss_cal_picture(loss_train, model, train_x_pic, train_y_pic)\n",
    "        loss_cal_picture(loss_val, model, val_x_pic, val_y_pic)\n",
    "        print('epoch %d: train_loss = %.4f, val_loss = %.4f' % (e+1, loss_train[e], loss_val[e]))\n",
    "    \n",
    "    x = range(1, epochs+1)\n",
    "\n",
    "    plt.semilogy(x, loss_train, 'b-', label=\"training loss\")\n",
    "    plt.semilogy(x, loss_val, 'r--', label=\"validation loss\")\n",
    "    plt.xlabel(\"Epochs\")\n",
    "    plt.ylabel(\"MSE Loss\")\n",
    "    plt.title(\"Train/Validation Loss\")\n",
    "    plt.legend()\n",
    "    plt.show()\n"
   ]
  },
  {
   "cell_type": "markdown",
   "metadata": {},
   "source": [
    "## Train PhysicsNet"
   ]
  },
  {
   "cell_type": "code",
   "execution_count": 33,
   "metadata": {},
   "outputs": [
    {
     "name": "stdout",
     "output_type": "stream",
     "text": [
      "epoch 1: train_loss = 1022.8391, val_loss = inf\n",
      "epoch 2: train_loss = 1020.2399, val_loss = inf\n",
      "epoch 3: train_loss = 1015.7494, val_loss = inf\n",
      "epoch 4: train_loss = 977.3696, val_loss = inf\n",
      "epoch 5: train_loss = 1065.3142, val_loss = inf\n",
      "epoch 6: train_loss = 1037.0231, val_loss = inf\n",
      "epoch 7: train_loss = 1000.9583, val_loss = inf\n",
      "epoch 8: train_loss = 1005.0244, val_loss = inf\n",
      "epoch 9: train_loss = 1044.3806, val_loss = inf\n",
      "epoch 10: train_loss = 988.1915, val_loss = inf\n",
      "epoch 11: train_loss = 1003.5828, val_loss = inf\n",
      "epoch 12: train_loss = 1033.0867, val_loss = inf\n",
      "epoch 13: train_loss = 955.9215, val_loss = inf\n",
      "epoch 14: train_loss = 986.6799, val_loss = inf\n",
      "epoch 15: train_loss = 936.9997, val_loss = inf\n",
      "epoch 16: train_loss = 978.6381, val_loss = inf\n",
      "epoch 17: train_loss = 966.4848, val_loss = inf\n",
      "epoch 18: train_loss = 977.4803, val_loss = inf\n",
      "epoch 19: train_loss = 961.9991, val_loss = inf\n",
      "epoch 20: train_loss = 999.2988, val_loss = inf\n",
      "epoch 21: train_loss = 1020.9723, val_loss = inf\n",
      "epoch 22: train_loss = 998.2754, val_loss = inf\n",
      "epoch 23: train_loss = 1025.8944, val_loss = inf\n",
      "epoch 24: train_loss = 969.4789, val_loss = inf\n",
      "epoch 25: train_loss = 972.6123, val_loss = inf\n",
      "epoch 26: train_loss = 979.6272, val_loss = inf\n",
      "epoch 27: train_loss = 925.3145, val_loss = inf\n",
      "epoch 28: train_loss = 919.7864, val_loss = inf\n",
      "epoch 29: train_loss = 964.1200, val_loss = inf\n",
      "epoch 30: train_loss = 971.5646, val_loss = inf\n",
      "epoch 31: train_loss = 965.1693, val_loss = inf\n",
      "epoch 32: train_loss = 988.6216, val_loss = inf\n",
      "epoch 33: train_loss = 979.1655, val_loss = inf\n",
      "epoch 34: train_loss = 965.6093, val_loss = inf\n",
      "epoch 35: train_loss = 933.2594, val_loss = inf\n",
      "epoch 36: train_loss = 904.3231, val_loss = inf\n",
      "epoch 37: train_loss = 950.5333, val_loss = inf\n",
      "epoch 38: train_loss = 947.1205, val_loss = inf\n",
      "epoch 39: train_loss = 900.9273, val_loss = inf\n",
      "epoch 40: train_loss = 931.5286, val_loss = inf\n",
      "epoch 41: train_loss = 907.6673, val_loss = inf\n",
      "epoch 42: train_loss = 926.0996, val_loss = inf\n",
      "epoch 43: train_loss = 914.0157, val_loss = inf\n",
      "epoch 44: train_loss = 909.9391, val_loss = inf\n",
      "epoch 45: train_loss = 930.2726, val_loss = inf\n",
      "epoch 46: train_loss = 883.8874, val_loss = inf\n",
      "epoch 47: train_loss = 903.7555, val_loss = inf\n",
      "epoch 48: train_loss = 888.6197, val_loss = inf\n",
      "epoch 49: train_loss = 869.2825, val_loss = inf\n",
      "epoch 50: train_loss = 838.1986, val_loss = inf\n",
      "epoch 51: train_loss = 841.0828, val_loss = inf\n",
      "epoch 52: train_loss = 825.2642, val_loss = inf\n",
      "epoch 53: train_loss = 859.9061, val_loss = inf\n",
      "epoch 54: train_loss = 857.0787, val_loss = inf\n",
      "epoch 55: train_loss = 867.9224, val_loss = inf\n",
      "epoch 56: train_loss = 848.1827, val_loss = inf\n",
      "epoch 57: train_loss = 827.5439, val_loss = inf\n",
      "epoch 58: train_loss = 826.2204, val_loss = inf\n",
      "epoch 59: train_loss = 857.2296, val_loss = inf\n",
      "epoch 60: train_loss = 843.6516, val_loss = inf\n",
      "epoch 61: train_loss = 877.4197, val_loss = inf\n",
      "epoch 62: train_loss = 835.9569, val_loss = inf\n",
      "epoch 63: train_loss = 861.2921, val_loss = inf\n",
      "epoch 64: train_loss = 862.2405, val_loss = inf\n",
      "epoch 65: train_loss = 803.7493, val_loss = inf\n",
      "epoch 66: train_loss = 804.2032, val_loss = inf\n",
      "epoch 67: train_loss = 811.6226, val_loss = inf\n",
      "epoch 68: train_loss = 790.2561, val_loss = inf\n",
      "epoch 69: train_loss = 802.1704, val_loss = inf\n",
      "epoch 70: train_loss = 837.6283, val_loss = inf\n",
      "epoch 71: train_loss = 805.4706, val_loss = inf\n",
      "epoch 72: train_loss = 807.1860, val_loss = inf\n",
      "epoch 73: train_loss = 811.7229, val_loss = inf\n",
      "epoch 74: train_loss = 802.1098, val_loss = inf\n",
      "epoch 75: train_loss = 819.5985, val_loss = inf\n",
      "epoch 76: train_loss = 828.4506, val_loss = inf\n",
      "epoch 77: train_loss = 802.4996, val_loss = inf\n",
      "epoch 78: train_loss = 776.8623, val_loss = inf\n",
      "epoch 79: train_loss = 771.2709, val_loss = inf\n",
      "epoch 80: train_loss = 788.9938, val_loss = inf\n",
      "epoch 81: train_loss = 787.6927, val_loss = inf\n",
      "epoch 82: train_loss = 775.6372, val_loss = inf\n",
      "epoch 83: train_loss = 721.8875, val_loss = inf\n",
      "epoch 84: train_loss = 758.8599, val_loss = inf\n",
      "epoch 85: train_loss = 748.0482, val_loss = inf\n",
      "epoch 86: train_loss = 759.7904, val_loss = inf\n",
      "epoch 87: train_loss = 751.6928, val_loss = inf\n",
      "epoch 88: train_loss = 732.2505, val_loss = inf\n",
      "epoch 89: train_loss = 749.1670, val_loss = inf\n",
      "epoch 90: train_loss = 759.9392, val_loss = inf\n",
      "epoch 91: train_loss = 774.5128, val_loss = inf\n",
      "epoch 92: train_loss = 768.0430, val_loss = inf\n",
      "epoch 93: train_loss = 778.9120, val_loss = inf\n",
      "epoch 94: train_loss = 780.4066, val_loss = inf\n",
      "epoch 95: train_loss = 800.2328, val_loss = inf\n",
      "epoch 96: train_loss = 753.1815, val_loss = inf\n",
      "epoch 97: train_loss = 759.4255, val_loss = inf\n",
      "epoch 98: train_loss = 742.0460, val_loss = inf\n",
      "epoch 99: train_loss = 738.6931, val_loss = inf\n",
      "epoch 100: train_loss = 733.6274, val_loss = inf\n"
     ]
    },
    {
     "data": {
      "image/png": "[encoded data removed]",
      "text/plain": [
       "<Figure size 432x288 with 1 Axes>"
      ]
     },
     "metadata": {
      "needs_background": "light"
     },
     "output_type": "display_data"
    }
   ],
   "source": [
    "in_channel = 22\n",
    "node_1 = 512\n",
    "node_2 = 512\n",
    "node_3 = 256\n",
    "node_4 = 256\n",
    "node_5 = 64\n",
    "node_6 = 16\n",
    "out_channel = 2\n",
    "\n",
    "learning_rate = 1e-3\n",
    "\n",
    "model_physics = PhysicsNet(in_channel, node_1, node_2, node_3, node_4, node_5, node_6, out_channel)\n",
    "optimizer = optim.Adam(model_physics.parameters(), lr=learning_rate)\n",
    "epoch = 100\n",
    "\n",
    "train_physics(model_physics, optimizer, epoch)\n",
    "PATH_CAL = os.path.join(os.getcwd(), \"model_cal\")\n",
    "torch.save(model_physics, PATH_CAL)\n"
   ]
  },
  {
   "cell_type": "markdown",
   "metadata": {},
   "source": [
    "### Visualization of outcomes"
   ]
  },
  {
   "cell_type": "code",
   "execution_count": 36,
   "metadata": {},
   "outputs": [
    {
     "name": "stdout",
     "output_type": "stream",
     "text": [
      "Ground Truths = tensor([[33., 15.],\n",
      "        [33., 14.],\n",
      "        [30., 12.],\n",
      "        [31., 12.],\n",
      "        [35., 14.],\n",
      "        [25., 12.],\n",
      "        [27.,  8.],\n",
      "        [16.,  6.],\n",
      "        [17.,  6.],\n",
      "        [25.,  9.],\n",
      "        [16.,  7.],\n",
      "        [21., 10.],\n",
      "        [31.,  8.],\n",
      "        [21.,  9.],\n",
      "        [38., 16.]])\n",
      "Prediction    = tensor([[6.0144, 5.1320],\n",
      "        [5.6872, 4.5889],\n",
      "        [5.0920, 3.5232],\n",
      "        [5.1143, 3.5141],\n",
      "        [5.6895, 4.4482],\n",
      "        [3.7984, 3.3306],\n",
      "        [0.5443, 0.3314],\n",
      "        [0.3235, 0.2814],\n",
      "        [0.3404, 0.2780],\n",
      "        [4.1279, 2.7801],\n",
      "        [0.2587, 0.4283],\n",
      "        [0.2922, 0.6499],\n",
      "        [2.0957, 1.3525],\n",
      "        [0.4639, 0.4175],\n",
      "        [6.3266, 5.4214]])\n"
     ]
    }
   ],
   "source": [
    "PATH_CAL = os.path.join(os.getcwd(), \"model_cal\")\n",
    "model_physics_trained = torch.load(PATH_CAL)\n",
    "\n",
    "examples = enumerate(test_loader)\n",
    "_, (x_test_example, y_test_example) = next(examples)\n",
    "\n",
    "score_example = prediction(model_physics_trained, x_test_example)\n",
    "# y = data_matrix.iloc[0:,0:2].values\n",
    "#Revert normalized values back to real values\n",
    "# Print only 8 data samples for comparison\n",
    "print(\"Ground Truths =\", y_test_example[:15])\n",
    "print(\"Prediction    =\", score_example[:15].reshape(15, 2))"
   ]
  },
  {
   "cell_type": "markdown",
   "metadata": {},
   "source": [
    "## Train PictureNet"
   ]
  },
  {
   "cell_type": "code",
   "execution_count": 37,
   "metadata": {},
   "outputs": [
    {
     "name": "stdout",
     "output_type": "stream",
     "text": [
      "epoch 1: train_loss = 1.4457, val_loss = inf\n",
      "epoch 2: train_loss = 0.5446, val_loss = inf\n",
      "epoch 3: train_loss = 0.2675, val_loss = inf\n",
      "epoch 4: train_loss = 0.9754, val_loss = inf\n",
      "epoch 5: train_loss = 1.6233, val_loss = inf\n",
      "epoch 6: train_loss = 0.3527, val_loss = inf\n",
      "epoch 7: train_loss = 0.9578, val_loss = inf\n",
      "epoch 8: train_loss = 1.2650, val_loss = inf\n",
      "epoch 9: train_loss = 0.7216, val_loss = inf\n",
      "epoch 10: train_loss = 2.9798, val_loss = inf\n",
      "epoch 11: train_loss = 2.2417, val_loss = inf\n",
      "epoch 12: train_loss = 2.0959, val_loss = inf\n",
      "epoch 13: train_loss = 3.0929, val_loss = inf\n",
      "epoch 14: train_loss = 1.0174, val_loss = inf\n",
      "epoch 15: train_loss = 2.2069, val_loss = inf\n",
      "epoch 16: train_loss = 1.7948, val_loss = inf\n",
      "epoch 17: train_loss = 1.2330, val_loss = inf\n",
      "epoch 18: train_loss = 2.0502, val_loss = inf\n",
      "epoch 19: train_loss = 1.2349, val_loss = inf\n",
      "epoch 20: train_loss = 1.4285, val_loss = inf\n",
      "epoch 21: train_loss = 1.4508, val_loss = inf\n",
      "epoch 22: train_loss = 1.1736, val_loss = inf\n",
      "epoch 23: train_loss = 1.2078, val_loss = inf\n",
      "epoch 24: train_loss = 1.0636, val_loss = inf\n",
      "epoch 25: train_loss = 1.0786, val_loss = inf\n",
      "epoch 26: train_loss = 1.0463, val_loss = inf\n",
      "epoch 27: train_loss = 0.8440, val_loss = inf\n",
      "epoch 28: train_loss = 0.9311, val_loss = inf\n",
      "epoch 29: train_loss = 0.9053, val_loss = inf\n",
      "epoch 30: train_loss = 0.8542, val_loss = inf\n",
      "epoch 31: train_loss = 0.8509, val_loss = inf\n",
      "epoch 32: train_loss = 0.7802, val_loss = inf\n",
      "epoch 33: train_loss = 0.7846, val_loss = inf\n",
      "epoch 34: train_loss = 0.7363, val_loss = inf\n",
      "epoch 35: train_loss = 0.6636, val_loss = inf\n",
      "epoch 36: train_loss = 0.6324, val_loss = inf\n",
      "epoch 37: train_loss = 0.5762, val_loss = inf\n",
      "epoch 38: train_loss = 0.5335, val_loss = inf\n",
      "epoch 39: train_loss = 0.5146, val_loss = inf\n",
      "epoch 40: train_loss = 0.4652, val_loss = inf\n",
      "epoch 41: train_loss = 0.4376, val_loss = inf\n",
      "epoch 42: train_loss = 0.4051, val_loss = inf\n",
      "epoch 43: train_loss = 0.3497, val_loss = inf\n",
      "epoch 44: train_loss = 0.2950, val_loss = inf\n",
      "epoch 45: train_loss = 0.2510, val_loss = inf\n",
      "epoch 46: train_loss = 0.2062, val_loss = inf\n",
      "epoch 47: train_loss = 0.1620, val_loss = inf\n",
      "epoch 48: train_loss = 0.1235, val_loss = inf\n",
      "epoch 49: train_loss = 0.1065, val_loss = inf\n",
      "epoch 50: train_loss = 0.0896, val_loss = inf\n",
      "epoch 51: train_loss = 0.0684, val_loss = inf\n",
      "epoch 52: train_loss = 0.0490, val_loss = inf\n",
      "epoch 53: train_loss = 0.0448, val_loss = inf\n",
      "epoch 54: train_loss = 0.0298, val_loss = inf\n",
      "epoch 55: train_loss = 0.0229, val_loss = inf\n",
      "epoch 56: train_loss = 0.0166, val_loss = inf\n",
      "epoch 57: train_loss = 0.0138, val_loss = inf\n",
      "epoch 58: train_loss = 0.0100, val_loss = inf\n",
      "epoch 59: train_loss = 0.0109, val_loss = inf\n",
      "epoch 60: train_loss = 0.0088, val_loss = inf\n",
      "epoch 61: train_loss = 0.0096, val_loss = inf\n",
      "epoch 62: train_loss = 0.0083, val_loss = inf\n",
      "epoch 63: train_loss = 0.0114, val_loss = inf\n",
      "epoch 64: train_loss = 0.0148, val_loss = inf\n",
      "epoch 65: train_loss = 0.0096, val_loss = inf\n",
      "epoch 66: train_loss = 0.0237, val_loss = inf\n",
      "epoch 67: train_loss = 0.0201, val_loss = inf\n",
      "epoch 68: train_loss = 0.0117, val_loss = inf\n",
      "epoch 69: train_loss = 0.0398, val_loss = inf\n",
      "epoch 70: train_loss = 0.0104, val_loss = inf\n",
      "epoch 71: train_loss = 0.0401, val_loss = inf\n",
      "epoch 72: train_loss = 0.0253, val_loss = inf\n",
      "epoch 73: train_loss = 0.0239, val_loss = inf\n",
      "epoch 74: train_loss = 0.0493, val_loss = inf\n",
      "epoch 75: train_loss = 0.0166, val_loss = inf\n",
      "epoch 76: train_loss = 0.0367, val_loss = inf\n",
      "epoch 77: train_loss = 0.0128, val_loss = inf\n",
      "epoch 78: train_loss = 0.0230, val_loss = inf\n",
      "epoch 79: train_loss = 0.0156, val_loss = inf\n",
      "epoch 80: train_loss = 0.0248, val_loss = inf\n",
      "epoch 81: train_loss = 0.0224, val_loss = inf\n",
      "epoch 82: train_loss = 0.0134, val_loss = inf\n",
      "epoch 83: train_loss = 0.0277, val_loss = inf\n",
      "epoch 84: train_loss = 0.0157, val_loss = inf\n",
      "epoch 85: train_loss = 0.0183, val_loss = inf\n",
      "epoch 86: train_loss = 0.0207, val_loss = inf\n",
      "epoch 87: train_loss = 0.0101, val_loss = inf\n",
      "epoch 88: train_loss = 0.0132, val_loss = inf\n",
      "epoch 89: train_loss = 0.0045, val_loss = inf\n",
      "epoch 90: train_loss = 0.0098, val_loss = inf\n",
      "epoch 91: train_loss = 0.0028, val_loss = inf\n",
      "epoch 92: train_loss = 0.0043, val_loss = inf\n",
      "epoch 93: train_loss = 0.0082, val_loss = inf\n",
      "epoch 94: train_loss = 0.0049, val_loss = inf\n",
      "epoch 95: train_loss = 0.0191, val_loss = inf\n",
      "epoch 96: train_loss = 0.0055, val_loss = inf\n",
      "epoch 97: train_loss = 0.0141, val_loss = inf\n",
      "epoch 98: train_loss = 0.0028, val_loss = inf\n",
      "epoch 99: train_loss = 0.0062, val_loss = inf\n",
      "epoch 100: train_loss = 0.0127, val_loss = inf\n"
     ]
    },
    {
     "data": {
      "image/png": "[encoded data removed]",
      "text/plain": [
       "<Figure size 432x288 with 1 Axes>"
      ]
     },
     "metadata": {
      "needs_background": "light"
     },
     "output_type": "display_data"
    }
   ],
   "source": [
    "in_channel = 1\n",
    "channel_1 = 16\n",
    "channel_2 = 32\n",
    "channel_3 = 64\n",
    "node_1 = 1024\n",
    "node_2 = 1024\n",
    "out_channel = 22\n",
    "\n",
    "learning_rate = 1e-3\n",
    "\n",
    "model_picture = PictureNet(in_channel, channel_1, channel_2, channel_3, node_1, node_2, out_channel)\n",
    "optimizer = optim.Adam(model_picture.parameters(), lr=learning_rate)\n",
    "epoch = 100\n",
    "\n",
    "train_picture(model_picture, optimizer, epoch)\n",
    "PATH_PIC = os.path.join(os.getcwd(), \"model_pic\")\n",
    "torch.save(model_picture, PATH_PIC)"
   ]
  },
  {
   "cell_type": "markdown",
   "metadata": {},
   "source": [
    "### Visualization of outcomes"
   ]
  },
  {
   "cell_type": "code",
   "execution_count": 38,
   "metadata": {},
   "outputs": [
    {
     "name": "stdout",
     "output_type": "stream",
     "text": [
      "2\n",
      "torch.Size([64, 1, 82, 77])\n",
      "torch.Size([64, 22])\n"
     ]
    }
   ],
   "source": [
    "# testing cell for better viewing the length\n",
    "train_x_pic, train_y_pic\n",
    "\n",
    "print(len(train_x_pic))\n",
    "print(train_x_pic[0].shape)\n",
    "print(train_y_pic[0].shape)"
   ]
  },
  {
   "cell_type": "code",
   "execution_count": 72,
   "metadata": {},
   "outputs": [
    {
     "name": "stdout",
     "output_type": "stream",
     "text": [
      "current batch = 0\n",
      "current testing image = 3\n",
      "tensor([ 0.6654,  0.4722, -0.1873, -0.1128,  0.1183, -0.0532,  0.0299, -0.0160,\n",
      "        -0.0777,  0.0653,  0.0051])\n"
     ]
    }
   ],
   "source": [
    "PATH_PIC = os.path.join(os.getcwd(), \"model_pic\")\n",
    "model_picture_trained = torch.load(PATH_PIC)\n",
    "#Load YC matrix for point values\n",
    "data_YC = pd.read_csv(\"Data_folder/YC.csv\", header= None)\n",
    "YC = torch.Tensor(data_YC.values)\n",
    "\n",
    "rand1 = random.randint(0, len(test_x_pic)-1)\n",
    "rand2 = random.randint(0, 11)\n",
    "\n",
    "print(\"current batch =\", rand1)\n",
    "print(\"current testing image =\", rand2)\n",
    "\n",
    "score_pic = prediction(model_picture_trained, test_x_pic[0][1].reshape(1, 1, 82, 77))\n",
    "score_pic = torch.transpose(score_pic[0, 0:11],0,-1)\n",
    "print(score_pic)\n",
    "#for num in range(len(test_y_pic[rand1][rand2])):\n",
    " #   print(num+1, \": Ground Truths =\", test_y_pic[rand1][rand2][num].item(), \", Prediction =\", score_pic[0, num].item())\n"
   ]
  },
  {
   "cell_type": "markdown",
   "metadata": {},
   "source": [
    "### Plot the ground truth and prediction to make a comparison"
   ]
  },
  {
   "cell_type": "code",
   "execution_count": 40,
   "metadata": {},
   "outputs": [
    {
     "ename": "IndexError",
     "evalue": "index 16 is out of bounds for dimension 0 with size 13",
     "output_type": "error",
     "traceback": [
      "\u001b[1;31m---------------------------------------------------------------------------\u001b[0m",
      "\u001b[1;31mIndexError\u001b[0m                                Traceback (most recent call last)",
      "\u001b[1;32m~\\AppData\\Local\\Temp/ipykernel_22660/7764708.py\u001b[0m in \u001b[0;36m<module>\u001b[1;34m\u001b[0m\n\u001b[1;32m----> 1\u001b[1;33m \u001b[0mplt\u001b[0m\u001b[1;33m.\u001b[0m\u001b[0mscatter\u001b[0m\u001b[1;33m(\u001b[0m\u001b[0mtest_y_pic\u001b[0m\u001b[1;33m[\u001b[0m\u001b[0mrand1\u001b[0m\u001b[1;33m]\u001b[0m\u001b[1;33m[\u001b[0m\u001b[0mrand2\u001b[0m\u001b[1;33m]\u001b[0m\u001b[1;33m[\u001b[0m\u001b[1;36m0\u001b[0m\u001b[1;33m:\u001b[0m\u001b[1;36m80\u001b[0m\u001b[1;33m]\u001b[0m\u001b[1;33m,\u001b[0m \u001b[0mtest_y_pic\u001b[0m\u001b[1;33m[\u001b[0m\u001b[0mrand1\u001b[0m\u001b[1;33m]\u001b[0m\u001b[1;33m[\u001b[0m\u001b[0mrand2\u001b[0m\u001b[1;33m]\u001b[0m\u001b[1;33m[\u001b[0m\u001b[1;36m80\u001b[0m\u001b[1;33m:\u001b[0m\u001b[1;36m160\u001b[0m\u001b[1;33m]\u001b[0m\u001b[1;33m,\u001b[0m \u001b[0mc\u001b[0m\u001b[1;33m=\u001b[0m\u001b[1;34m\"red\"\u001b[0m\u001b[1;33m,\u001b[0m \u001b[0mlabel\u001b[0m\u001b[1;33m=\u001b[0m\u001b[1;34m\"ground truth\"\u001b[0m\u001b[1;33m)\u001b[0m\u001b[1;33m\u001b[0m\u001b[1;33m\u001b[0m\u001b[0m\n\u001b[0m\u001b[0;32m      2\u001b[0m \u001b[0mplt\u001b[0m\u001b[1;33m.\u001b[0m\u001b[0mscatter\u001b[0m\u001b[1;33m(\u001b[0m\u001b[0mscore_pic\u001b[0m\u001b[1;33m[\u001b[0m\u001b[1;36m0\u001b[0m\u001b[1;33m,\u001b[0m \u001b[1;36m0\u001b[0m\u001b[1;33m:\u001b[0m\u001b[1;36m80\u001b[0m\u001b[1;33m]\u001b[0m\u001b[1;33m,\u001b[0m \u001b[0mscore_pic\u001b[0m\u001b[1;33m[\u001b[0m\u001b[1;36m0\u001b[0m\u001b[1;33m,\u001b[0m \u001b[1;36m80\u001b[0m\u001b[1;33m:\u001b[0m\u001b[1;36m160\u001b[0m\u001b[1;33m]\u001b[0m\u001b[1;33m,\u001b[0m \u001b[0mc\u001b[0m\u001b[1;33m=\u001b[0m\u001b[1;34m\"blue\"\u001b[0m\u001b[1;33m,\u001b[0m \u001b[0mlabel\u001b[0m\u001b[1;33m=\u001b[0m\u001b[1;34m\"prediction\"\u001b[0m\u001b[1;33m)\u001b[0m\u001b[1;33m\u001b[0m\u001b[1;33m\u001b[0m\u001b[0m\n\u001b[0;32m      3\u001b[0m \u001b[0mplt\u001b[0m\u001b[1;33m.\u001b[0m\u001b[0mxlabel\u001b[0m\u001b[1;33m(\u001b[0m\u001b[1;34m\"rr\"\u001b[0m\u001b[1;33m)\u001b[0m\u001b[1;33m\u001b[0m\u001b[1;33m\u001b[0m\u001b[0m\n\u001b[0;32m      4\u001b[0m \u001b[0mplt\u001b[0m\u001b[1;33m.\u001b[0m\u001b[0mylabel\u001b[0m\u001b[1;33m(\u001b[0m\u001b[1;34m\"zz\"\u001b[0m\u001b[1;33m)\u001b[0m\u001b[1;33m\u001b[0m\u001b[1;33m\u001b[0m\u001b[0m\n\u001b[0;32m      5\u001b[0m \u001b[0mplt\u001b[0m\u001b[1;33m.\u001b[0m\u001b[0mlegend\u001b[0m\u001b[1;33m(\u001b[0m\u001b[1;33m)\u001b[0m\u001b[1;33m\u001b[0m\u001b[1;33m\u001b[0m\u001b[0m\n",
      "\u001b[1;31mIndexError\u001b[0m: index 16 is out of bounds for dimension 0 with size 13"
     ]
    }
   ],
   "source": [
    "plt.scatter(test_y_pic[rand1][rand2][0:40], test_y_pic[rand1][rand2][40:80], c=\"red\", label=\"ground truth\")\n",
    "plt.scatter(score_pic[0, 0:40], score_pic[0, 40:80], c=\"blue\", label=\"prediction\")\n",
    "plt.xlabel(\"rr\")\n",
    "plt.ylabel(\"zz\")\n",
    "plt.legend()\n",
    "plt.show()"
   ]
  },
  {
   "cell_type": "code",
   "execution_count": null,
   "metadata": {},
   "outputs": [],
   "source": []
  }
 ],
 "metadata": {
  "interpreter": {
   "hash": "64def4006c78149665c79cf5850ee76c9e416630a0d9e75e41ff194dcaf5fb2b"
  },
  "kernelspec": {
   "display_name": "Python 3.8.10 64-bit",
   "language": "python",
   "name": "python3"
  },
  "language_info": {
   "codemirror_mode": {
    "name": "ipython",
    "version": 3
   },
   "file_extension": ".py",
   "mimetype": "text/x-python",
   "name": "python",
   "nbconvert_exporter": "python",
   "pygments_lexer": "ipython3",
   "version": "3.8.10"
  }
 },
 "nbformat": 4,
 "nbformat_minor": 2
}
