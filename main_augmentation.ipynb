{
 "cells": [
  {
   "cell_type": "markdown",
   "metadata": {},
   "source": [
    "# For spline (two-model) method training only"
   ]
  },
  {
   "cell_type": "markdown",
   "metadata": {},
   "source": [
    "### Import necessary packages and self-defined classes"
   ]
  },
  {
   "cell_type": "code",
   "execution_count": 1,
   "metadata": {},
   "outputs": [],
   "source": [
    "# pyplot\n",
    "import matplotlib.pyplot as plt\n",
    "# pytorch\n",
    "import torch\n",
    "import torch.optim as optim\n",
    "import torch.nn.functional as F  # useful stateless functions\n",
    "# Test/Train data split\n",
    "from functools import lru_cache\n",
    "from torch.utils.data import DataLoader, Dataset\n",
    "from torch.utils.data.sampler import SubsetRandomSampler\n",
    "import numpy as np\n",
    "import logging\n",
    "# sklearn\n",
    "from sklearn import preprocessing\n",
    "# os\n",
    "import os\n",
    "# warnings\n",
    "import warnings\n",
    "warnings.filterwarnings('ignore')\n",
    "# random\n",
    "import random\n",
    "# math\n",
    "import math\n",
    "import scipy.interpolate\n",
    "# self-defined model\n",
    "from model_pic import *\n",
    "from model_cal import *\n",
    "from model_one import *\n",
    "import pandas as pd\n",
    "\n",
    "#PictureNet\n",
    "from PIL import Image\n",
    "from skimage.io import imread\n",
    "from sklearn.model_selection import train_test_split"
   ]
  },
  {
   "cell_type": "markdown",
   "metadata": {},
   "source": [
    "### Augamented dataset loading and preprocessing"
   ]
  },
  {
   "cell_type": "code",
   "execution_count": 2,
   "metadata": {},
   "outputs": [],
   "source": [
    "class DataSplit:\n",
    "\n",
    "    def __init__(self, dataset, test_train_split=0.9, val_train_split=0.1, shuffle=False):\n",
    "        self.dataset = dataset\n",
    "\n",
    "        dataset_size = len(dataset)\n",
    "        self.indices = list(range(dataset_size))\n",
    "        test_split = int(np.floor(test_train_split * dataset_size))\n",
    "\n",
    "        if shuffle:\n",
    "            np.random.shuffle(self.indices)\n",
    "\n",
    "        train_indices, self.test_indices = self.indices[:test_split], self.indices[test_split:]\n",
    "        train_size = len(train_indices)\n",
    "        validation_split = int(np.floor((1 - val_train_split) * train_size))\n",
    "\n",
    "        self.train_indices, self.val_indices = train_indices[:validation_split], train_indices[validation_split:]\n",
    "\n",
    "        self.train_sampler = SubsetRandomSampler(self.train_indices)\n",
    "        self.val_sampler = SubsetRandomSampler(self.val_indices)\n",
    "        self.test_sampler = SubsetRandomSampler(self.test_indices)\n",
    "    \n",
    "    def get_train_split_point(self):\n",
    "        return len(self.train_sampler) + len(self.val_indices)\n",
    "\n",
    "    def get_validation_split_point(self):\n",
    "        return len(self.train_sampler)\n",
    "\n",
    "    @lru_cache(maxsize=4)\n",
    "    def get_split(self, batch_size=64, num_workers=0):\n",
    "        logging.debug('Initializing train-validation-test dataloaders')\n",
    "        self.train_loader = self.get_train_loader(batch_size=batch_size, num_workers=num_workers)\n",
    "        self.val_loader = self.get_validation_loader(batch_size=batch_size, num_workers=num_workers)\n",
    "        self.test_loader = self.get_test_loader(batch_size=batch_size, num_workers=num_workers)\n",
    "        return self.train_loader, self.val_loader, self.test_loader\n",
    "\n",
    "    @lru_cache(maxsize=4)\n",
    "    def get_train_loader(self, batch_size=64, num_workers=0):\n",
    "        logging.debug('Initializing train dataloader')\n",
    "        self.train_loader = DataLoader(self.dataset, batch_size=batch_size, sampler=self.train_sampler, shuffle=False, num_workers=num_workers)\n",
    "        return self.train_loader\n",
    "\n",
    "    @lru_cache(maxsize=4)\n",
    "    def get_validation_loader(self, batch_size=64, num_workers=0):\n",
    "        logging.debug('Initializing validation dataloader')\n",
    "        self.val_loader = DataLoader(self.dataset, batch_size=batch_size, sampler=self.val_sampler, shuffle=False, num_workers=num_workers)\n",
    "        return self.val_loader\n",
    "\n",
    "    @lru_cache(maxsize=4)\n",
    "    def get_test_loader(self, batch_size=64, num_workers=0):\n",
    "        logging.debug('Initializing test dataloader')\n",
    "        self.test_loader = DataLoader(self.dataset, batch_size=batch_size, sampler=self.test_sampler, shuffle=False, num_workers=num_workers)\n",
    "        return self.test_loader"
   ]
  },
  {
   "cell_type": "markdown",
   "metadata": {},
   "source": [
    "### Load data for PhysicsNet"
   ]
  },
  {
   "cell_type": "markdown",
   "metadata": {},
   "source": [
    "Spline Model Interpolation points"
   ]
  },
  {
   "cell_type": "code",
   "execution_count": 3,
   "metadata": {},
   "outputs": [],
   "source": [
    "#Number of interpolation points to use for PhysicsNet and plotting\n",
    "Num_points = 80\n",
    "\n",
    "# Load YC matrix for point values and s data for interpolation\n",
    "data_s = pd.read_csv(\"Data_uniform/s.csv\", header= None)\n",
    "\n",
    "s = data_s.values\n",
    "s = s.reshape(1,len(s))\n",
    "\n",
    "# Interpolate to 160 points using a linear vector for s\n",
    "ss = np.linspace(s[0][0],s[0][-1],Num_points)\n",
    "\n",
    "data_YC = pd.read_csv(\"Data_uniform/YC.csv\", header= None)\n",
    "YC = data_YC.values     # numpy format here for dataset calculation\n"
   ]
  },
  {
   "cell_type": "markdown",
   "metadata": {},
   "source": [
    "Loading data"
   ]
  },
  {
   "cell_type": "code",
   "execution_count": 4,
   "metadata": {},
   "outputs": [
    {
     "name": "stdout",
     "output_type": "stream",
     "text": [
      "(99612, 25)\n"
     ]
    }
   ],
   "source": [
    "data_matrix_augmentation = pd.read_csv(\"Data_uniform/Data_aug2/Spline_coef_aug_2.csv\", header= None)\n",
    "print(data_matrix_augmentation.shape)\n",
    "\n",
    "# Make the droplet dataset class based on data_matrix\n",
    "class Droplet_data_set(Dataset):\n",
    "    def __init__(self,dataInput):\n",
    "        x = dataInput.iloc[0:,3:].values\n",
    "        y = dataInput.iloc[0:,0:2].values\n",
    "        # transfer coef to 160 edge points for training\n",
    "        x_1 = []\n",
    "        x_2 = []\n",
    "        for i in range(len(x)):\n",
    "            x_1_temp = np.matmul(YC ,x[i, 0:11]) \n",
    "            x_2_temp = np.matmul(YC, x[i, 11:22])\n",
    "            x_1.append(np.polyval(np.polyfit(s[0], x_1_temp, 15), ss))\n",
    "            x_2.append(np.polyval(np.polyfit(s[0], x_2_temp, 15), ss))\n",
    "        x = np.append(x_1, x_2, axis=1)\n",
    "        print(np.shape(x))\n",
    "        # x = np.random.normal(x,0.01)\n",
    "        y0 = dataInput.iloc[:,0].values\n",
    "        y1 = dataInput.iloc[:,1].values\n",
    "        \n",
    "        # Plot surface tension histogram\n",
    "        n, bins, patches = plt.hist(x=y0, bins='auto', color='#0504aa',\n",
    "                                    alpha=0.7, rwidth=0.85)\n",
    "        plt.grid(axis='y', alpha=0.75)\n",
    "        plt.xlabel('Surface Tension[mN/m]')\n",
    "        plt.ylabel('Frequency')\n",
    "        plt.title('Occurence of data per Surface Tension')\\\n",
    "\n",
    "        # Plot volume histogram\n",
    "        # n, bins, patches = plt.hist(x=y1, bins='auto', color='#0504aa',\n",
    "        #                             alpha=0.7, rwidth=0.85)\n",
    "        # plt.grid(axis='y', alpha=0.75)\n",
    "        # plt.xlabel('Volume[mm^3]')\n",
    "        # plt.ylabel('Frequency')\n",
    "        # plt.title('Occurence of data per Volume')\n",
    "\n",
    "        self.x_train = torch.tensor(x,dtype=torch.float32)\n",
    "        self.y_train = torch.tensor(y,dtype=torch.float32)\n",
    "        \n",
    "    def __getitem__(self, idx):\n",
    "        return self.x_train[idx],self.y_train[idx]\n",
    "    \n",
    "    def __len__(self):\n",
    "         return len(self.y_train)\n",
    "        \n",
    "\n",
    "# # Testing \n",
    "# my_data_set_augmentation = Droplet_data_set(data_matrix_augmentation)"
   ]
  },
  {
   "cell_type": "code",
   "execution_count": 5,
   "metadata": {},
   "outputs": [
    {
     "name": "stdout",
     "output_type": "stream",
     "text": [
      "(99612, 160)\n"
     ]
    },
    {
     "data": {
      "image/png": "[encoded data removed]",
      "text/plain": [
       "<Figure size 432x288 with 1 Axes>"
      ]
     },
     "metadata": {
      "needs_background": "light"
     },
     "output_type": "display_data"
    }
   ],
   "source": [
    "# Slow bc of tranfering coef to edge points\n",
    "my_data_set_augmentation = Droplet_data_set(data_matrix_augmentation)\n",
    "split_augmentation = DataSplit(my_data_set_augmentation, shuffle=True)  # Split the single dataset into 3 datasets for training, test and validation.\n",
    "train_loader_augmentation, val_loader_augmentation, test_loader_augmentation = split_augmentation.get_split(batch_size=512, num_workers=0)"
   ]
  },
  {
   "cell_type": "markdown",
   "metadata": {},
   "source": [
    "### Load data for PictureNet\n",
    "Read image from files"
   ]
  },
  {
   "cell_type": "code",
   "execution_count": 6,
   "metadata": {},
   "outputs": [
    {
     "name": "stdout",
     "output_type": "stream",
     "text": [
      "Now loading pic:  0\n",
      "Now loading pic:  1000\n",
      "Now loading pic:  2000\n",
      "Now loading pic:  3000\n",
      "Now loading pic:  4000\n",
      "Now loading pic:  5000\n",
      "Now loading pic:  6000\n",
      "Now loading pic:  7000\n",
      "Now loading pic:  8000\n",
      "Now loading pic:  9000\n",
      "Now loading pic:  10000\n",
      "Now loading pic:  11000\n",
      "Now loading pic:  12000\n",
      "Now loading pic:  13000\n",
      "Now loading pic:  14000\n",
      "Now loading pic:  15000\n",
      "Now loading pic:  16000\n",
      "Now loading pic:  17000\n",
      "Now loading pic:  18000\n",
      "Now loading pic:  19000\n",
      "Now loading pic:  20000\n",
      "Now loading pic:  21000\n",
      "Now loading pic:  22000\n",
      "Now loading pic:  23000\n",
      "Now loading pic:  24000\n",
      "Now loading pic:  25000\n",
      "Now loading pic:  26000\n",
      "Now loading pic:  27000\n",
      "Now loading pic:  28000\n",
      "Now loading pic:  29000\n",
      "Now loading pic:  30000\n",
      "Now loading pic:  31000\n",
      "Now loading pic:  32000\n",
      "Now loading pic:  33000\n",
      "Now loading pic:  34000\n",
      "Now loading pic:  35000\n",
      "Now loading pic:  36000\n",
      "Now loading pic:  37000\n",
      "Now loading pic:  38000\n",
      "Now loading pic:  39000\n",
      "Now loading pic:  40000\n",
      "Now loading pic:  41000\n",
      "Now loading pic:  42000\n",
      "Now loading pic:  43000\n",
      "Now loading pic:  44000\n",
      "Now loading pic:  45000\n",
      "Now loading pic:  46000\n",
      "Now loading pic:  47000\n",
      "Now loading pic:  48000\n",
      "Now loading pic:  49000\n",
      "Now loading pic:  50000\n",
      "Now loading pic:  51000\n",
      "Now loading pic:  52000\n",
      "Now loading pic:  53000\n",
      "Now loading pic:  54000\n",
      "Now loading pic:  55000\n",
      "Now loading pic:  56000\n",
      "Now loading pic:  57000\n",
      "Now loading pic:  58000\n",
      "Now loading pic:  59000\n",
      "Now loading pic:  60000\n",
      "Now loading pic:  61000\n",
      "Now loading pic:  62000\n",
      "Now loading pic:  63000\n",
      "Now loading pic:  64000\n",
      "Now loading pic:  65000\n",
      "Now loading pic:  66000\n",
      "Now loading pic:  67000\n",
      "Now loading pic:  68000\n",
      "Now loading pic:  69000\n",
      "Now loading pic:  70000\n",
      "Now loading pic:  71000\n",
      "Now loading pic:  72000\n",
      "Now loading pic:  73000\n",
      "Now loading pic:  74000\n",
      "Now loading pic:  75000\n",
      "Now loading pic:  76000\n",
      "Now loading pic:  77000\n",
      "Now loading pic:  78000\n",
      "Now loading pic:  79000\n",
      "Now loading pic:  80000\n",
      "Now loading pic:  81000\n",
      "Now loading pic:  82000\n",
      "Now loading pic:  83000\n",
      "Now loading pic:  84000\n",
      "Now loading pic:  85000\n",
      "Now loading pic:  86000\n",
      "Now loading pic:  87000\n",
      "Now loading pic:  88000\n",
      "Now loading pic:  89000\n",
      "Now loading pic:  90000\n",
      "Now loading pic:  91000\n",
      "Now loading pic:  92000\n",
      "Now loading pic:  93000\n",
      "Now loading pic:  94000\n",
      "Now loading pic:  95000\n",
      "Now loading pic:  96000\n",
      "Now loading pic:  97000\n",
      "Now loading pic:  98000\n",
      "Now loading pic:  99000\n"
     ]
    }
   ],
   "source": [
    "train_img = []\n",
    "data_matrix_augmentation = pd.read_csv(\"Data_uniform/Data_aug2/Spline_coef_aug_2.csv\", header= None)\n",
    "data_image_augmentation = data_matrix_augmentation\n",
    "\n",
    "for img_name in data_image_augmentation.iloc[0:,3:].index:\n",
    "    # defining the image path\n",
    "    image_path = 'Data_uniform/Data_aug2/' + str(img_name) + '.png'      # modify the path depends on which dataset\n",
    "    # reading the image\n",
    "    img = imread(image_path, as_gray=True)\n",
    "    img = img[4:-4, 4:-4]  #crop \n",
    "    # normalizing the pixel values\n",
    "    img /= 255.0\n",
    "    # converting the type of pixel to float 32\n",
    "    img = img.astype('float32')\n",
    "    if img_name % 1000 == 0:\n",
    "        print(\"Now loading pic: \", img_name)\n",
    "    img = np.array(img)\n",
    "    # appending the image into the list\n",
    "    train_img.append(img)"
   ]
  },
  {
   "cell_type": "code",
   "execution_count": 7,
   "metadata": {},
   "outputs": [
    {
     "name": "stdout",
     "output_type": "stream",
     "text": [
      "Total pic num = 99612\n"
     ]
    }
   ],
   "source": [
    "print(\"Total pic num =\", len(train_img))"
   ]
  },
  {
   "cell_type": "markdown",
   "metadata": {},
   "source": [
    "Plot a single image for viewing"
   ]
  },
  {
   "cell_type": "code",
   "execution_count": 8,
   "metadata": {},
   "outputs": [
    {
     "name": "stdout",
     "output_type": "stream",
     "text": [
      "Current image = 23933\n",
      "Picture size = (82, 77)\n"
     ]
    },
    {
     "data": {
      "text/plain": [
       "<matplotlib.image.AxesImage at 0x291b5e1f970>"
      ]
     },
     "execution_count": 8,
     "metadata": {},
     "output_type": "execute_result"
    },
    {
     "data": {
      "image/png": "[encoded data removed]",
      "text/plain": [
       "<Figure size 432x288 with 1 Axes>"
      ]
     },
     "metadata": {
      "needs_background": "light"
     },
     "output_type": "display_data"
    }
   ],
   "source": [
    "rand = random.randint(1, len(train_img))\n",
    "print(\"Current image =\", rand)\n",
    "print(\"Picture size =\", train_img[rand].shape)\n",
    "plt.imshow(train_img[rand], cmap='gray')"
   ]
  },
  {
   "cell_type": "markdown",
   "metadata": {},
   "source": [
    "Define the function"
   ]
  },
  {
   "cell_type": "code",
   "execution_count": 9,
   "metadata": {},
   "outputs": [],
   "source": [
    "# Split and transfer the data from list to torch format\n",
    "def split_n_transfer(x, y):\n",
    "    # Points data split\n",
    "    train_x_pic, rem_x_pic, train_y_pic, rem_y_pic = train_test_split(x, y, test_size = 0.2)    # default shuffle = True\n",
    "    val_x_pic, test_x_pic, val_y_pic, test_y_pic = train_test_split(rem_x_pic, rem_y_pic, test_size = 0.5)\n",
    "\n",
    "    # converting the train images of points and targets into torch format\n",
    "    train_x_pic = train_x_pic.reshape(len(train_x_pic), 1, 82, 77)\n",
    "    train_x_pic = torch.from_numpy(train_x_pic)\n",
    "    train_y_pic = torch.from_numpy(train_y_pic)\n",
    "\n",
    "    # converting the val images and  target points into torch format\n",
    "    val_x_pic = val_x_pic.reshape(len(val_x_pic), 1, 82, 77)\n",
    "    val_x_pic = torch.from_numpy(val_x_pic)\n",
    "    val_y_pic = torch.from_numpy(val_y_pic)\n",
    "    # print(val_x_pic.shape, val_y_pic.shape)\n",
    "\n",
    "    # converting the test images and targets into torch format for points\n",
    "    test_x_pic = test_x_pic.reshape(len(test_x_pic), 1, 82, 77)\n",
    "    test_x_pic  = torch.from_numpy(test_x_pic)\n",
    "    test_y_pic = torch.from_numpy(test_y_pic)\n",
    "    # print(test_x_pic.shape, test_y_pic.shape)\n",
    "    \n",
    "    return train_x_pic, train_y_pic, val_x_pic, val_y_pic, test_x_pic, test_y_pic\n",
    "\n",
    "# converting the dataset into mini-batch dataset (input 4D -> 5D and 2D -> 3D)\n",
    "def batch_transform(dataset, batch_size=512):\n",
    "    batch = []\n",
    "    batch_num = math.ceil(len(dataset)/batch_size)\n",
    "    for i in range(batch_num):\n",
    "        if len(dataset) == 4:\n",
    "            if i < batch_num-1:\n",
    "                batch.append(dataset[i*batch_size:(i+1)*batch_size, :, :, :])\n",
    "            else:\n",
    "                batch.append(dataset[i*batch_size:, :, :, :])\n",
    "        else:\n",
    "            if i < batch_num-1:\n",
    "                batch.append(dataset[i*batch_size:(i+1)*batch_size, :])\n",
    "            else:\n",
    "                batch.append(dataset[i*batch_size:, :])\n",
    "    return batch\n",
    "\n",
    "# converting all raw datasets into batch datasets in the same time\n",
    "def batch_all(train_x, train_y, val_x, val_y, test_x, test_y):\n",
    "    train_x_pic = batch_transform(train_x)\n",
    "    train_y_pic = batch_transform(train_y)\n",
    "    val_x_pic = batch_transform(val_x)\n",
    "    val_y_pic = batch_transform(val_y)\n",
    "    test_x_pic = batch_transform(test_x)\n",
    "    test_y_pic = batch_transform(test_y)\n",
    "    return train_x_pic, train_y_pic, val_x_pic, val_y_pic, test_x_pic, test_y_pic"
   ]
  },
  {
   "cell_type": "markdown",
   "metadata": {},
   "source": [
    "Create and splite the dataset for edge point model"
   ]
  },
  {
   "cell_type": "code",
   "execution_count": 10,
   "metadata": {},
   "outputs": [
    {
     "name": "stdout",
     "output_type": "stream",
     "text": [
      "156 156 20 20 20 20\n"
     ]
    }
   ],
   "source": [
    "# converting the list to numpy array\n",
    "train_x_pic = np.array(train_img)\n",
    "train_y_pic_augmentation = data_image_augmentation.iloc[0:,3:].values\n",
    "\n",
    "train_x_pic_augmentation, train_y_pic_augmentation, val_x_pic_augmentation, val_y_pic_augmentation, test_x_pic_augmentation, test_y_pic_augmentation = \\\n",
    "    split_n_transfer(train_x_pic, train_y_pic_augmentation)\n",
    "\n",
    "train_x_pic_augmentation, train_y_pic_augmentation, val_x_pic_augmentation, val_y_pic_augmentation, test_x_pic_augmentation, test_y_pic_augmentation = \\\n",
    "    batch_all(train_x_pic_augmentation, train_y_pic_augmentation, val_x_pic_augmentation, val_y_pic_augmentation, test_x_pic_augmentation, test_y_pic_augmentation)\n",
    "    \n",
    "print(len(train_x_pic_augmentation), len(train_y_pic_augmentation), len(val_x_pic_augmentation), \\\n",
    "    len(val_y_pic_augmentation), len(test_x_pic_augmentation), len(test_y_pic_augmentation))\n"
   ]
  },
  {
   "cell_type": "markdown",
   "metadata": {},
   "source": [
    "Create and splite the dataset for <font color=red>one-model solution</font>"
   ]
  },
  {
   "cell_type": "code",
   "execution_count": 11,
   "metadata": {},
   "outputs": [
    {
     "name": "stdout",
     "output_type": "stream",
     "text": [
      "156 156 20 20 20 20\n"
     ]
    }
   ],
   "source": [
    "# converting the list to numpy array\n",
    "train_x_one = np.array(train_img)\n",
    "train_y_one = data_image_augmentation.iloc[0:,0:2].values\n",
    "\n",
    "train_x_one, train_y_one, val_x_one, val_y_one, test_x_one, test_y_one = \\\n",
    "    split_n_transfer(train_x_one, train_y_one)\n",
    "\n",
    "train_x_one, train_y_one, val_x_one, val_y_one, test_x_one, test_y_one = \\\n",
    "    batch_all(train_x_one, train_y_one, val_x_one, val_y_one, test_x_one, test_y_one)\n",
    "\n",
    "print(len(train_x_one), len(train_y_one), len(val_x_one), len(val_y_one), len(test_x_one), len(test_y_one))"
   ]
  },
  {
   "cell_type": "markdown",
   "metadata": {},
   "source": [
    "### Deside to apply host or device\n"
   ]
  },
  {
   "cell_type": "code",
   "execution_count": 12,
   "metadata": {},
   "outputs": [
    {
     "name": "stdout",
     "output_type": "stream",
     "text": [
      "cuda\n"
     ]
    }
   ],
   "source": [
    "USE_GPU = True\n",
    "if USE_GPU and torch.cuda.is_available():\n",
    "    device = torch.device('cuda')\n",
    "else:\n",
    "    device = torch.device('cpu')\n",
    "print(device)\n"
   ]
  },
  {
   "cell_type": "markdown",
   "metadata": {},
   "source": [
    "## Define the functions for models"
   ]
  },
  {
   "cell_type": "code",
   "execution_count": 14,
   "metadata": {},
   "outputs": [],
   "source": [
    "def loss_cal_phiysics(loss_list, model, loader):\n",
    "    model.eval()  # set model to evaluation mode\n",
    "    with torch.no_grad():\n",
    "        loss_epoch = 0\n",
    "        for t, (x, y) in enumerate(loader):\n",
    "            x = x.to(device=device, dtype=torch.float32)  # move to device, e.g. GPU\n",
    "            y = y.to(device=device, dtype=torch.float32)\n",
    "            scores = model(x)\n",
    "            loss = torch.sum(torch.pow((scores-y), 2) * torch.tensor([0.7, 0.3]).to(device)) / len(scores)\n",
    "            loss_epoch += loss\n",
    "        loss_list.append(loss_epoch.cpu().data.numpy()/t)\n",
    "\n",
    "def loss_cal_picture(loss_list, model, x_dataset, y_dataset):\n",
    "    model.eval()  # set model to evaluation mode\n",
    "    with torch.no_grad():\n",
    "        loss_epoch = 0\n",
    "        for t in range(len(x_dataset)):\n",
    "            x = x_dataset[t]\n",
    "            y = y_dataset[t]\n",
    "            x = x.to(device=device, dtype=torch.float32)  # move to device, e.g. GPU\n",
    "            y = y.to(device=device, dtype=torch.float32)\n",
    "            scores = model(x)\n",
    "            loss = F.mse_loss(scores, y)\n",
    "            loss_epoch += loss\n",
    "        loss_list.append(loss_epoch.cpu().data.numpy()/t)\n",
    "\n",
    "def prediction(model, x):   # only a batch\n",
    "    model = model.to(device=device)\n",
    "    model.eval()  # set model to evaluation mode\n",
    "    with torch.no_grad():\n",
    "        x = x.to(device=device, dtype=torch.float32)\n",
    "        score = torch.Tensor.cpu(model(x))\n",
    "    return score\n",
    "\n",
    "def model_selection(model, path, loss, epoch_current, epoch_ref, loss_ref):\n",
    "    loss_best = loss_ref\n",
    "    epoch_best = epoch_ref\n",
    "    if epoch_current == 0 and ~(os.path.isdir(path)):\n",
    "            loss_current = loss[epoch_current]\n",
    "            loss_best = loss[epoch_current]\n",
    "            torch.save(model, path)\n",
    "    else:\n",
    "        loss_current = loss[epoch_current]\n",
    "        if loss_current <= (loss_best * 1.1):   # 10% margin to get better fitting but a bit more loss\n",
    "            loss_best = loss_current\n",
    "            epoch_best = epoch_current\n",
    "            torch.save(model, path)\n",
    "    return loss_best, epoch_best\n",
    "\n",
    "def train_physics(model, optimizer, epochs=1):\n",
    "    loss_train = []\n",
    "    loss_val = []\n",
    "    loss_best = 0\n",
    "    epoch_best = 0\n",
    "    \n",
    "    train_loader = train_loader_augmentation\n",
    "    val_loader = val_loader_augmentation\n",
    "    PATH_CAL = os.path.join(os.getcwd(), \"model_cal_augmentation.pt\")\n",
    "\n",
    "    model = model.to(device=device)  # move the model parameters to CPU/GPU\n",
    "    for e in range(epochs):\n",
    "        for _, (x, y) in enumerate(train_loader):\n",
    "            x = x.reshape(len(x), 1, 1, -1)     # reshape to 4D data for formal input of model\n",
    "            model.train()  # put model to training mode\n",
    "            x = x.to(device=device, dtype=torch.float32)  # move to device, e.g. GPU\n",
    "            y = y.to(device=device, dtype=torch.float32)\n",
    "            scores = model(x)\n",
    "            loss = torch.sum(torch.pow((scores-y), 2) * torch.tensor([0.7, 0.3]).to(device)) / len(scores)\n",
    "\n",
    "            optimizer.zero_grad()\n",
    "            loss.backward()\n",
    "            optimizer.step()\n",
    "        loss_cal_phiysics(loss_train, model, train_loader)\n",
    "        loss_cal_phiysics(loss_val, model, val_loader)\n",
    "        print('epoch %d: train_loss = %.4f, val_loss = %.4f' % (e+1, loss_train[e], loss_val[e]))\n",
    "\n",
    "        # selecting the best model to save\n",
    "        loss_best, epoch_best = model_selection(model, PATH_CAL, loss_train, e, epoch_best, loss_best)\n",
    "    \n",
    "    print(\"The model is saved at epoch =\", epoch_best+1, \"and the loss =\", loss_best.item())\n",
    "    \n",
    "    x = range(1, epochs+1)\n",
    "\n",
    "    plt.semilogy(x, loss_train, 'b-', label=\"training loss\")\n",
    "    plt.semilogy(x, loss_val, 'r--', label=\"validation loss\")\n",
    "    plt.xlabel(\"Epochs\")\n",
    "    plt.ylabel(\"MSE Loss\")\n",
    "    plt.title(\"Train/Validation Loss\")\n",
    "    plt.legend()\n",
    "    plt.show()\n",
    "\n",
    "def train_picture(model, optimizer, epochs=1):\n",
    "    loss_train = []\n",
    "    loss_val = []\n",
    "    loss_best = 0\n",
    "    epoch_best = 0\n",
    "\n",
    "    train_x_pic = train_x_pic_augmentation\n",
    "    train_y_pic = train_y_pic_augmentation\n",
    "    val_x_pic = val_x_pic_augmentation\n",
    "    val_y_pic = val_y_pic_augmentation\n",
    "    PATH_PIC = os.path.join(os.getcwd(), \"model_pic_augmentation.pt\")\n",
    "\n",
    "    model = model.to(device=device)  # move the model parameters to CPU/GPU\n",
    "    for e in range(epochs):\n",
    "        for t in range(len(train_x_pic)):\n",
    "            model.train()  # put model to training mode\n",
    "            x = train_x_pic[t]\n",
    "            y = train_y_pic[t]\n",
    "            x = x.to(device=device, dtype=torch.float32)  # move to device, e.g. GPU\n",
    "            y = y.to(device=device, dtype=torch.float32)\n",
    "\n",
    "            scores = model(x)\n",
    "            loss = F.mse_loss(scores, y)\n",
    "\n",
    "            optimizer.zero_grad()\n",
    "            loss.backward()\n",
    "            optimizer.step()\n",
    "        loss_cal_picture(loss_train, model, train_x_pic, train_y_pic)\n",
    "        loss_cal_picture(loss_val, model, val_x_pic, val_y_pic)\n",
    "        print('epoch %d: train_loss = %.4f, val_loss = %.4f' % (e+1, loss_train[e], loss_val[e]))\n",
    "        \n",
    "        # selecting the best model to save\n",
    "        loss_best, epoch_best = model_selection(model, PATH_PIC, loss_train, e, epoch_best, loss_best)\n",
    "    \n",
    "    print(\"The model is saved at epoch =\", epoch_best+1, \"and the loss =\", loss_best.item())\n",
    "\n",
    "    x = range(1, epochs+1)\n",
    "\n",
    "    plt.semilogy(x, loss_train, 'b-', label=\"training loss\")\n",
    "    plt.semilogy(x, loss_val, 'r--', label=\"validation loss\")\n",
    "    plt.xlabel(\"Epochs\")\n",
    "    plt.ylabel(\"MSE Loss\")\n",
    "    plt.title(\"Train/Validation Loss\")\n",
    "    plt.legend()\n",
    "    plt.show()\n",
    "\n",
    "def train_united(model, optimizer, epochs=1):\n",
    "    loss_train = []\n",
    "    loss_val = []\n",
    "    loss_best = 0\n",
    "    epoch_best = 0\n",
    "\n",
    "    PATH_ONE = os.path.join(os.getcwd(), \"model_one_augmentation.pt\")\n",
    "\n",
    "    model = model.to(device=device)  # move the model parameters to CPU/GPU\n",
    "    for e in range(epochs):\n",
    "        for t in range(len(train_x_one)):\n",
    "            model.train()  # put model to training mode\n",
    "            x = train_x_one[t]\n",
    "            y = train_y_one[t]\n",
    "            x = x.to(device=device, dtype=torch.float32)  # move to device, e.g. GPU\n",
    "            y = y.to(device=device, dtype=torch.float32)\n",
    "\n",
    "            scores = model(x)\n",
    "            loss = F.mse_loss(scores, y)\n",
    "\n",
    "            optimizer.zero_grad()\n",
    "            loss.backward()\n",
    "            optimizer.step()\n",
    "        loss_cal_picture(loss_train, model, train_x_one, train_y_one)\n",
    "        loss_cal_picture(loss_val, model, val_x_one, val_y_one)\n",
    "        print('epoch %d: train_loss = %.4f, val_loss = %.4f' % (e+1, loss_train[e], loss_val[e]))\n",
    "        \n",
    "        # selecting the best model to save\n",
    "        loss_best, epoch_best = model_selection(model, PATH_ONE, loss_train, e, epoch_best, loss_best)\n",
    "    \n",
    "    print(\"The model is saved at epoch =\", epoch_best+1, \"and the loss =\", loss_best.item())\n",
    "\n",
    "    x = range(1, epochs+1)\n",
    "\n",
    "    plt.semilogy(x, loss_train, 'b-', label=\"training loss\")\n",
    "    plt.semilogy(x, loss_val, 'r--', label=\"validation loss\")\n",
    "    plt.xlabel(\"Epochs\")\n",
    "    plt.ylabel(\"MSE Loss\")\n",
    "    plt.title(\"Train/Validation Loss\")\n",
    "    plt.legend()\n",
    "    plt.show()"
   ]
  },
  {
   "cell_type": "markdown",
   "metadata": {},
   "source": [
    "## Train UnitedNet"
   ]
  },
  {
   "cell_type": "code",
   "execution_count": 16,
   "metadata": {},
   "outputs": [
    {
     "name": "stdout",
     "output_type": "stream",
     "text": [
      "epoch 1: train_loss = 1433.8605, val_loss = 1510.8417\n",
      "epoch 2: train_loss = 467.3845, val_loss = 494.6408\n",
      "epoch 3: train_loss = 415.8981, val_loss = 438.6148\n",
      "epoch 4: train_loss = 563.4985, val_loss = 595.5703\n",
      "epoch 5: train_loss = 912.5466, val_loss = 952.1260\n",
      "epoch 6: train_loss = 1215.2254, val_loss = 1265.4006\n",
      "epoch 7: train_loss = 243.9139, val_loss = 258.2507\n",
      "epoch 8: train_loss = 65.4513, val_loss = 70.1429\n",
      "epoch 9: train_loss = 22.0442, val_loss = 23.7425\n",
      "epoch 10: train_loss = 590.1762, val_loss = 614.7208\n",
      "epoch 11: train_loss = 32.5079, val_loss = 34.3253\n",
      "epoch 12: train_loss = 240.4685, val_loss = 251.1460\n",
      "epoch 13: train_loss = 1545.9534, val_loss = 1608.7493\n",
      "epoch 14: train_loss = 1747.8738, val_loss = 1822.0444\n",
      "epoch 15: train_loss = 239.4626, val_loss = 248.3657\n",
      "epoch 16: train_loss = 382.6253, val_loss = 398.5871\n",
      "epoch 17: train_loss = 965.3064, val_loss = 1003.5351\n",
      "epoch 18: train_loss = 850.2224, val_loss = 884.4092\n",
      "epoch 19: train_loss = 994.8337, val_loss = 1033.9751\n",
      "epoch 20: train_loss = 1323.0054, val_loss = 1375.9295\n",
      "epoch 21: train_loss = 1856.7292, val_loss = 1932.4953\n",
      "epoch 22: train_loss = 1133.5902, val_loss = 1178.7091\n",
      "epoch 23: train_loss = 214.4466, val_loss = 224.4243\n",
      "epoch 24: train_loss = 246.4878, val_loss = 261.7071\n",
      "epoch 25: train_loss = 1131.2422, val_loss = 1177.0761\n",
      "epoch 26: train_loss = 812.4758, val_loss = 844.4353\n",
      "epoch 27: train_loss = 982.1609, val_loss = 1021.5019\n",
      "epoch 28: train_loss = 176.5264, val_loss = 186.4760\n",
      "epoch 29: train_loss = 1134.7603, val_loss = 1179.4858\n",
      "epoch 30: train_loss = 643.5853, val_loss = 669.7100\n",
      "epoch 31: train_loss = 88.1778, val_loss = 93.9798\n",
      "epoch 32: train_loss = 162.2258, val_loss = 169.3100\n",
      "epoch 33: train_loss = 204.4126, val_loss = 213.1247\n",
      "epoch 34: train_loss = 844.7121, val_loss = 878.4550\n",
      "epoch 35: train_loss = 129.1866, val_loss = 135.1768\n",
      "epoch 36: train_loss = 1347.0845, val_loss = 1405.1544\n",
      "epoch 37: train_loss = 83.8943, val_loss = 89.0260\n",
      "epoch 38: train_loss = 212.1045, val_loss = 220.4385\n",
      "epoch 39: train_loss = 230.3443, val_loss = 240.3652\n",
      "epoch 40: train_loss = 925.5528, val_loss = 962.8345\n",
      "epoch 41: train_loss = 2161.3397, val_loss = 2250.7683\n",
      "epoch 42: train_loss = 126.9116, val_loss = 133.1780\n",
      "epoch 43: train_loss = 97.6006, val_loss = 101.2424\n",
      "epoch 44: train_loss = 489.7993, val_loss = 510.6669\n",
      "epoch 45: train_loss = 673.1346, val_loss = 700.1643\n",
      "epoch 46: train_loss = 526.7400, val_loss = 549.9407\n",
      "epoch 47: train_loss = 583.0046, val_loss = 606.6632\n",
      "epoch 48: train_loss = 132.8964, val_loss = 139.4506\n",
      "epoch 49: train_loss = 136.4658, val_loss = 142.0770\n",
      "epoch 50: train_loss = 848.9208, val_loss = 882.7480\n",
      "epoch 51: train_loss = 530.1044, val_loss = 553.8311\n",
      "epoch 52: train_loss = 433.4020, val_loss = 453.3998\n",
      "epoch 53: train_loss = 380.7919, val_loss = 403.0651\n",
      "epoch 54: train_loss = 268.1467, val_loss = 281.2098\n",
      "epoch 55: train_loss = 422.0144, val_loss = 439.2253\n",
      "epoch 56: train_loss = 458.4444, val_loss = 476.9287\n",
      "epoch 57: train_loss = 68.6353, val_loss = 72.2292\n",
      "epoch 58: train_loss = 85.9947, val_loss = 89.6380\n",
      "epoch 59: train_loss = 879.0457, val_loss = 914.3159\n",
      "epoch 60: train_loss = 1086.5824, val_loss = 1130.9329\n",
      "epoch 61: train_loss = 1775.0887, val_loss = 1847.3982\n",
      "epoch 62: train_loss = 174.6617, val_loss = 182.4652\n",
      "epoch 63: train_loss = 671.8367, val_loss = 698.8529\n",
      "epoch 64: train_loss = 212.3569, val_loss = 220.7674\n",
      "epoch 65: train_loss = 684.2006, val_loss = 711.8400\n",
      "epoch 66: train_loss = 850.2035, val_loss = 885.6620\n",
      "epoch 67: train_loss = 105.9040, val_loss = 111.3825\n",
      "epoch 68: train_loss = 170.2915, val_loss = 179.0512\n",
      "epoch 69: train_loss = 1066.8519, val_loss = 1109.4150\n",
      "epoch 70: train_loss = 1151.0902, val_loss = 1196.1466\n",
      "epoch 71: train_loss = 596.8374, val_loss = 620.9334\n",
      "epoch 72: train_loss = 164.8065, val_loss = 172.2586\n",
      "epoch 73: train_loss = 4592.4685, val_loss = 4794.6468\n",
      "epoch 74: train_loss = 176.0719, val_loss = 184.4854\n",
      "epoch 75: train_loss = 193.0376, val_loss = 202.4265\n",
      "epoch 76: train_loss = 373.0710, val_loss = 388.7616\n",
      "epoch 77: train_loss = 1099.1794, val_loss = 1143.6497\n",
      "epoch 78: train_loss = 1241.3110, val_loss = 1291.4113\n",
      "epoch 79: train_loss = 897.9500, val_loss = 932.6714\n",
      "epoch 80: train_loss = 263.3743, val_loss = 275.6931\n",
      "epoch 81: train_loss = 226.4880, val_loss = 237.0712\n",
      "epoch 82: train_loss = 86.4468, val_loss = 91.3314\n",
      "epoch 83: train_loss = 257.1156, val_loss = 268.2942\n",
      "epoch 84: train_loss = 331.4584, val_loss = 345.2194\n",
      "epoch 85: train_loss = 564.9125, val_loss = 587.0345\n",
      "epoch 86: train_loss = 966.0756, val_loss = 1005.3103\n",
      "epoch 87: train_loss = 424.9002, val_loss = 445.5324\n",
      "epoch 88: train_loss = 240.6405, val_loss = 251.9255\n",
      "epoch 89: train_loss = 94.4531, val_loss = 100.3086\n",
      "epoch 90: train_loss = 90.9577, val_loss = 96.9412\n",
      "epoch 91: train_loss = 860.4234, val_loss = 894.9258\n",
      "epoch 92: train_loss = 201.8310, val_loss = 212.8491\n",
      "epoch 93: train_loss = 18.9648, val_loss = 20.1147\n",
      "epoch 94: train_loss = 9617.6726, val_loss = 10060.8405\n",
      "epoch 95: train_loss = 983.2866, val_loss = 1024.9322\n",
      "epoch 96: train_loss = 417.6307, val_loss = 434.7265\n",
      "epoch 97: train_loss = 198.9774, val_loss = 210.3448\n",
      "epoch 98: train_loss = 801.3443, val_loss = 833.4737\n",
      "epoch 99: train_loss = 55380.9806, val_loss = 57886.3684\n",
      "epoch 100: train_loss = 140.4031, val_loss = 147.4860\n",
      "The model is saved at epoch = 93 and the loss = 18.964801222278226\n"
     ]
    },
    {
     "data": {
      "image/png": "[encoded data removed]",
      "text/plain": [
       "<Figure size 432x288 with 1 Axes>"
      ]
     },
     "metadata": {
      "needs_background": "light"
     },
     "output_type": "display_data"
    }
   ],
   "source": [
    "learning_rate = 1e-3\n",
    "\n",
    "model_one = UnitedNet()\n",
    "optimizer = optim.Adam(model_one.parameters(), lr=learning_rate)\n",
    "epoch = 100\n",
    "\n",
    "train_united(model_one, optimizer, epoch)"
   ]
  },
  {
   "cell_type": "markdown",
   "metadata": {},
   "source": [
    "### Retrain with SGD"
   ]
  },
  {
   "cell_type": "code",
   "execution_count": 19,
   "metadata": {},
   "outputs": [
    {
     "name": "stdout",
     "output_type": "stream",
     "text": [
      "epoch 1: train_loss = 1.0937, val_loss = 1.1750\n",
      "epoch 2: train_loss = 2.3933, val_loss = 2.5418\n",
      "epoch 3: train_loss = 0.8676, val_loss = 0.9367\n",
      "epoch 4: train_loss = 0.3309, val_loss = 0.3694\n",
      "epoch 5: train_loss = 1.3973, val_loss = 1.4945\n",
      "epoch 6: train_loss = 1.0982, val_loss = 1.1799\n",
      "epoch 7: train_loss = 1.5415, val_loss = 1.6458\n",
      "epoch 8: train_loss = 0.8016, val_loss = 0.8681\n",
      "epoch 9: train_loss = 0.8627, val_loss = 0.9315\n",
      "epoch 10: train_loss = 1.3334, val_loss = 1.4275\n",
      "epoch 11: train_loss = 1.9321, val_loss = 2.0554\n",
      "epoch 12: train_loss = 1.3621, val_loss = 1.4560\n",
      "epoch 13: train_loss = 0.4524, val_loss = 0.4993\n",
      "epoch 14: train_loss = 0.4778, val_loss = 0.5258\n",
      "epoch 15: train_loss = 1.8111, val_loss = 1.9273\n",
      "epoch 16: train_loss = 1.1492, val_loss = 1.2335\n",
      "epoch 17: train_loss = 0.2391, val_loss = 0.2666\n",
      "epoch 18: train_loss = 1.8208, val_loss = 1.9370\n",
      "epoch 19: train_loss = 1.4136, val_loss = 1.5102\n",
      "epoch 20: train_loss = 0.5643, val_loss = 0.6169\n",
      "The model is saved at epoch = 17 and the loss = 0.239095700171686\n"
     ]
    },
    {
     "data": {
      "image/png": "[encoded data removed]",
      "text/plain": [
       "<Figure size 432x288 with 1 Axes>"
      ]
     },
     "metadata": {
      "needs_background": "light"
     },
     "output_type": "display_data"
    }
   ],
   "source": [
    "PATH_ONE = os.path.join(os.getcwd(), \"model_one_augmentation.pt\")\n",
    "\n",
    "model_one_trained = torch.load(PATH_ONE)\n",
    "\n",
    "learning_rate = 1e-4\n",
    "\n",
    "optimizer = optim.SGD(model_one_trained.parameters(), lr=learning_rate)\n",
    "epoch = 20\n",
    "\n",
    "# 0 indicates edge points 1 indicates spline\n",
    "train_united(model_one_trained, optimizer, epoch)"
   ]
  },
  {
   "cell_type": "markdown",
   "metadata": {},
   "source": [
    "## Train PictureNet for spline"
   ]
  },
  {
   "cell_type": "code",
   "execution_count": 57,
   "metadata": {},
   "outputs": [
    {
     "name": "stdout",
     "output_type": "stream",
     "text": [
      "epoch 1: train_loss = 0.0050, val_loss = 0.0052\n",
      "epoch 2: train_loss = 0.0035, val_loss = 0.0037\n",
      "epoch 3: train_loss = 0.0015, val_loss = 0.0016\n",
      "epoch 4: train_loss = 0.0007, val_loss = 0.0007\n",
      "epoch 5: train_loss = 0.0015, val_loss = 0.0015\n",
      "epoch 6: train_loss = 0.0005, val_loss = 0.0005\n",
      "epoch 7: train_loss = 0.0005, val_loss = 0.0005\n",
      "epoch 8: train_loss = 0.0010, val_loss = 0.0010\n",
      "epoch 9: train_loss = 0.0028, val_loss = 0.0029\n",
      "epoch 10: train_loss = 0.0020, val_loss = 0.0020\n",
      "epoch 11: train_loss = 0.0019, val_loss = 0.0020\n",
      "epoch 12: train_loss = 0.0004, val_loss = 0.0005\n",
      "epoch 13: train_loss = 0.0014, val_loss = 0.0015\n",
      "epoch 14: train_loss = 0.0093, val_loss = 0.0097\n",
      "epoch 15: train_loss = 0.0007, val_loss = 0.0007\n",
      "epoch 16: train_loss = 0.0007, val_loss = 0.0007\n",
      "epoch 17: train_loss = 0.0024, val_loss = 0.0026\n",
      "epoch 18: train_loss = 0.0019, val_loss = 0.0020\n",
      "epoch 19: train_loss = 0.0005, val_loss = 0.0006\n",
      "epoch 20: train_loss = 0.0013, val_loss = 0.0014\n",
      "epoch 21: train_loss = 0.0003, val_loss = 0.0003\n",
      "epoch 22: train_loss = 0.0009, val_loss = 0.0010\n",
      "epoch 23: train_loss = 0.0016, val_loss = 0.0016\n",
      "epoch 24: train_loss = 0.0003, val_loss = 0.0003\n",
      "epoch 25: train_loss = 0.0029, val_loss = 0.0031\n",
      "epoch 26: train_loss = 0.0006, val_loss = 0.0006\n",
      "epoch 27: train_loss = 0.0005, val_loss = 0.0005\n",
      "epoch 28: train_loss = 0.0005, val_loss = 0.0005\n",
      "epoch 29: train_loss = 0.0007, val_loss = 0.0008\n",
      "epoch 30: train_loss = 0.0004, val_loss = 0.0004\n",
      "epoch 31: train_loss = 0.0009, val_loss = 0.0010\n",
      "epoch 32: train_loss = 0.0009, val_loss = 0.0009\n",
      "epoch 33: train_loss = 0.0007, val_loss = 0.0008\n",
      "epoch 34: train_loss = 0.0002, val_loss = 0.0002\n",
      "epoch 35: train_loss = 0.0006, val_loss = 0.0007\n",
      "epoch 36: train_loss = 0.0011, val_loss = 0.0012\n",
      "epoch 37: train_loss = 0.0010, val_loss = 0.0010\n",
      "epoch 38: train_loss = 0.0004, val_loss = 0.0004\n",
      "epoch 39: train_loss = 0.0029, val_loss = 0.0030\n",
      "epoch 40: train_loss = 0.0008, val_loss = 0.0008\n",
      "epoch 41: train_loss = 0.0005, val_loss = 0.0005\n",
      "epoch 42: train_loss = 0.0023, val_loss = 0.0025\n",
      "epoch 43: train_loss = 0.0007, val_loss = 0.0008\n",
      "epoch 44: train_loss = 0.0018, val_loss = 0.0019\n",
      "epoch 45: train_loss = 0.0020, val_loss = 0.0022\n",
      "epoch 46: train_loss = 0.0016, val_loss = 0.0017\n",
      "epoch 47: train_loss = 0.0014, val_loss = 0.0015\n",
      "epoch 48: train_loss = 0.0027, val_loss = 0.0029\n",
      "epoch 49: train_loss = 0.0041, val_loss = 0.0043\n",
      "epoch 50: train_loss = 0.0089, val_loss = 0.0094\n",
      "epoch 51: train_loss = 0.0067, val_loss = 0.0071\n",
      "epoch 52: train_loss = 0.0038, val_loss = 0.0040\n",
      "epoch 53: train_loss = 0.0080, val_loss = 0.0085\n",
      "epoch 54: train_loss = 0.0039, val_loss = 0.0041\n",
      "epoch 55: train_loss = 0.0031, val_loss = 0.0033\n",
      "epoch 56: train_loss = 0.0016, val_loss = 0.0017\n",
      "epoch 57: train_loss = 0.0014, val_loss = 0.0014\n",
      "epoch 58: train_loss = 0.0023, val_loss = 0.0025\n",
      "epoch 59: train_loss = 0.0031, val_loss = 0.0033\n",
      "epoch 60: train_loss = 0.0041, val_loss = 0.0044\n",
      "epoch 61: train_loss = 0.0207, val_loss = 0.0220\n",
      "epoch 62: train_loss = 0.0018, val_loss = 0.0019\n",
      "epoch 63: train_loss = 0.0085, val_loss = 0.0091\n",
      "epoch 64: train_loss = 0.1492, val_loss = 0.1573\n",
      "epoch 65: train_loss = 0.0075, val_loss = 0.0079\n",
      "epoch 66: train_loss = 0.1870, val_loss = 0.1974\n",
      "epoch 67: train_loss = 0.2797, val_loss = 0.2947\n",
      "epoch 68: train_loss = 0.0662, val_loss = 0.0698\n",
      "epoch 69: train_loss = 0.0391, val_loss = 0.0411\n",
      "epoch 70: train_loss = 0.0268, val_loss = 0.0279\n",
      "epoch 71: train_loss = 0.0043, val_loss = 0.0045\n",
      "epoch 72: train_loss = 0.0068, val_loss = 0.0072\n",
      "epoch 73: train_loss = 0.0017, val_loss = 0.0018\n",
      "epoch 74: train_loss = 0.5692, val_loss = 0.5972\n",
      "epoch 75: train_loss = 0.0375, val_loss = 0.0394\n",
      "epoch 76: train_loss = 0.0132, val_loss = 0.0139\n",
      "epoch 77: train_loss = 0.0226, val_loss = 0.0237\n",
      "epoch 78: train_loss = 0.0029, val_loss = 0.0030\n",
      "epoch 79: train_loss = 0.0217, val_loss = 0.0228\n",
      "epoch 80: train_loss = 0.0052, val_loss = 0.0055\n",
      "epoch 81: train_loss = 0.0138, val_loss = 0.0146\n",
      "epoch 82: train_loss = 0.0038, val_loss = 0.0040\n",
      "epoch 83: train_loss = 0.0035, val_loss = 0.0037\n",
      "epoch 84: train_loss = 0.0230, val_loss = 0.0240\n",
      "epoch 85: train_loss = 0.0143, val_loss = 0.0149\n",
      "epoch 86: train_loss = 0.0731, val_loss = 0.0763\n",
      "epoch 87: train_loss = 0.0265, val_loss = 0.0276\n",
      "epoch 88: train_loss = 0.0155, val_loss = 0.0162\n",
      "epoch 89: train_loss = 0.0107, val_loss = 0.0112\n",
      "epoch 90: train_loss = 0.0082, val_loss = 0.0087\n",
      "epoch 91: train_loss = 0.0066, val_loss = 0.0070\n",
      "epoch 92: train_loss = 0.0055, val_loss = 0.0058\n",
      "epoch 93: train_loss = 0.0048, val_loss = 0.0051\n",
      "epoch 94: train_loss = 0.0042, val_loss = 0.0044\n",
      "epoch 95: train_loss = 0.0037, val_loss = 0.0039\n",
      "epoch 96: train_loss = 0.0033, val_loss = 0.0035\n",
      "epoch 97: train_loss = 0.0029, val_loss = 0.0031\n",
      "epoch 98: train_loss = 0.0027, val_loss = 0.0028\n",
      "epoch 99: train_loss = 0.0025, val_loss = 0.0026\n",
      "epoch 100: train_loss = 0.0022, val_loss = 0.0024\n",
      "The model is saved at epoch = 34 and the loss = 0.0002348114405908892\n"
     ]
    },
    {
     "data": {
      "image/png": "[encoded data removed]",
      "text/plain": [
       "<Figure size 432x288 with 1 Axes>"
      ]
     },
     "metadata": {
      "needs_background": "light"
     },
     "output_type": "display_data"
    }
   ],
   "source": [
    "in_channel = 1\n",
    "channel_1 = 16\n",
    "channel_2 = 32\n",
    "channel_3 = 64\n",
    "node_1 = 1024\n",
    "node_2 = 1024\n",
    "out_channel = 22\n",
    "\n",
    "learning_rate = 1e-3\n",
    "\n",
    "model_picture = PictureNet(in_channel, channel_1, channel_2, channel_3, node_1, node_2, out_channel)\n",
    "optimizer = optim.Adam(model_picture.parameters(), lr=learning_rate)\n",
    "epoch = 100\n",
    "\n",
    "train_picture(model_picture, optimizer, epoch)"
   ]
  },
  {
   "cell_type": "markdown",
   "metadata": {},
   "source": [
    "### Retrain with SGD"
   ]
  },
  {
   "cell_type": "code",
   "execution_count": 59,
   "metadata": {},
   "outputs": [
    {
     "name": "stdout",
     "output_type": "stream",
     "text": [
      "epoch 1: train_loss = 0.0002, val_loss = 0.0002\n",
      "epoch 2: train_loss = 0.0002, val_loss = 0.0002\n",
      "epoch 3: train_loss = 0.0002, val_loss = 0.0002\n",
      "epoch 4: train_loss = 0.0002, val_loss = 0.0002\n",
      "epoch 5: train_loss = 0.0002, val_loss = 0.0002\n",
      "epoch 6: train_loss = 0.0002, val_loss = 0.0002\n",
      "epoch 7: train_loss = 0.0002, val_loss = 0.0002\n",
      "epoch 8: train_loss = 0.0002, val_loss = 0.0002\n",
      "epoch 9: train_loss = 0.0002, val_loss = 0.0002\n",
      "epoch 10: train_loss = 0.0002, val_loss = 0.0002\n",
      "epoch 11: train_loss = 0.0002, val_loss = 0.0002\n",
      "epoch 12: train_loss = 0.0002, val_loss = 0.0002\n",
      "epoch 13: train_loss = 0.0002, val_loss = 0.0002\n",
      "epoch 14: train_loss = 0.0002, val_loss = 0.0002\n",
      "epoch 15: train_loss = 0.0002, val_loss = 0.0002\n",
      "epoch 16: train_loss = 0.0002, val_loss = 0.0002\n",
      "epoch 17: train_loss = 0.0002, val_loss = 0.0002\n",
      "epoch 18: train_loss = 0.0002, val_loss = 0.0002\n",
      "epoch 19: train_loss = 0.0002, val_loss = 0.0002\n",
      "epoch 20: train_loss = 0.0002, val_loss = 0.0002\n",
      "The model is saved at epoch = 20 and the loss = 0.00016439154503806945\n"
     ]
    },
    {
     "data": {
      "image/png": "[encoded data removed]",
      "text/plain": [
       "<Figure size 432x288 with 1 Axes>"
      ]
     },
     "metadata": {
      "needs_background": "light"
     },
     "output_type": "display_data"
    }
   ],
   "source": [
    "PATH_PIC = os.path.join(os.getcwd(), \"model_pic_augmentation.pt\")\n",
    "\n",
    "model_picture_trained = torch.load(PATH_PIC)\n",
    "\n",
    "learning_rate = 1e-4\n",
    "\n",
    "optimizer = optim.SGD(model_picture_trained.parameters(), lr=learning_rate)\n",
    "epoch = 20\n",
    "\n",
    "train_picture(model_picture_trained, optimizer, epoch)"
   ]
  },
  {
   "cell_type": "markdown",
   "metadata": {},
   "source": [
    "### Visualization of outcomes"
   ]
  },
  {
   "cell_type": "markdown",
   "metadata": {},
   "source": [
    "Spline Model Interpolation points"
   ]
  },
  {
   "cell_type": "code",
   "execution_count": 60,
   "metadata": {},
   "outputs": [
    {
     "name": "stdout",
     "output_type": "stream",
     "text": [
      "shape of YC = torch.Size([40, 11])\n"
     ]
    }
   ],
   "source": [
    "#Number of interpolation points to use for PhysicsNet and plotting\n",
    "Num_points = 80\n",
    "\n",
    "# Load YC matrix for point values and s data for interpolation\n",
    "data_s = pd.read_csv(\"Data_uniform/s.csv\", header= None)\n",
    "\n",
    "s = data_s.values\n",
    "s = s.reshape(1,len(s))\n",
    "\n",
    "# Interpolate to 160 points using a linear vector for s\n",
    "ss = np.linspace(s[0][0],s[0][-1],Num_points)\n",
    "\n",
    "data_YC = pd.read_csv(\"Data_uniform/YC.csv\", header= None)\n",
    "YC = torch.Tensor(data_YC.values)\n",
    "\n",
    "print(\"shape of YC =\", YC.shape)"
   ]
  },
  {
   "cell_type": "markdown",
   "metadata": {},
   "source": [
    "Plot difference Spline and ground truth"
   ]
  },
  {
   "cell_type": "code",
   "execution_count": 63,
   "metadata": {},
   "outputs": [
    {
     "name": "stdout",
     "output_type": "stream",
     "text": [
      "current testing batch = 15\n",
      "current testing image = 452\n",
      "shape of score_pic_pred[0, 0:11] = torch.Size([11])\n",
      "shape of test_y_pic_r = torch.Size([80])\n"
     ]
    }
   ],
   "source": [
    "PATH_PIC = os.path.join(os.getcwd(), \"model_pic_augmentation.pt\")\n",
    "\n",
    "model_picture_trained = torch.load(PATH_PIC)\n",
    "\n",
    "\n",
    "rand1 = random.randint(0, len(test_x_pic_augmentation)-1)\n",
    "rand2 = random.randint(0, len(test_x_pic_augmentation[rand1])-1)\n",
    "\n",
    "print(\"current testing batch =\", rand1)\n",
    "print(\"current testing image =\", rand2)\n",
    "\n",
    "score_pic_pred = prediction(model_picture_trained, test_x_pic_augmentation[rand1][rand2].reshape(1, 1, 82, 77))\n",
    "\n",
    "print(\"shape of score_pic_pred[0, 0:11] =\", score_pic_pred[0, 0:11].shape)\n",
    "\n",
    "## Prediction \n",
    "# Multiply the found Chebyshev coefficients with YC matrix to obtain edge points\n",
    "score_pic_r = torch.matmul(YC ,score_pic_pred[0, 0:11]) \n",
    "score_pic_z = torch.matmul(YC ,score_pic_pred[0, 11:22])\n",
    "\n",
    "# Do polynominal fitting through data to get more data points\n",
    "score_pic_r = np.polyval(np.polyfit(s[0],score_pic_r.numpy(),15), ss)\n",
    "score_pic_z = np.polyval(np.polyfit(s[0],score_pic_z.numpy(),15), ss)\n",
    "\n",
    "# Convert back to torch\n",
    "score_pic_r = torch.tensor(score_pic_r)\n",
    "score_pic_z = torch.tensor(score_pic_z)\n",
    "\n",
    "## Ground Truth\n",
    "# Multiply the found Chebyshev coefficients with YC matrix to obtain edge points\n",
    "test_y_pic_r = torch.matmul(YC ,test_y_pic_augmentation[rand1][rand2][0:11].float()) \n",
    "test_y_pic_z = torch.matmul(YC ,test_y_pic_augmentation[rand1][rand2][11:22].float()) \n",
    "\n",
    "# Do polynominal fitting through data to get more data points\n",
    "test_y_pic_r = np.polyval(np.polyfit(s[0],test_y_pic_r.numpy(),15), ss)\n",
    "test_y_pic_z = np.polyval(np.polyfit(s[0],test_y_pic_z.numpy(),15), ss)\n",
    "\n",
    "# Convert back to torch\n",
    "test_y_pic_r = torch.tensor(test_y_pic_r)\n",
    "test_y_pic_z = torch.tensor(test_y_pic_z)\n",
    "\n",
    "# Print all points out for viewing\n",
    "# for num in range(len(test_y_pic_r)):\n",
    "#    print(num+1, \": Ground Truths =\", test_y_pic_z[num].item(), \", Prediction =\", score_pic_z[num].item())\n",
    "\n",
    "print(\"shape of test_y_pic_r =\", test_y_pic_r.shape)"
   ]
  },
  {
   "cell_type": "code",
   "execution_count": 64,
   "metadata": {},
   "outputs": [
    {
     "data": {
      "image/png": "[encoded data removed]",
      "text/plain": [
       "<Figure size 504x504 with 1 Axes>"
      ]
     },
     "metadata": {},
     "output_type": "display_data"
    }
   ],
   "source": [
    "# scattering points for ground truth\n",
    "gt_r_pos = test_y_pic_r\n",
    "if gt_r_pos[-1] >= 0:\n",
    "    gt_r_neg = -torch.flip(test_y_pic_r, [0]) + 2*gt_r_pos[0]\n",
    "else:  \n",
    "    gt_r_neg = -torch.flip(test_y_pic_r, [0]) - gt_r_pos[0]\n",
    "gt_z_pos = test_y_pic_z\n",
    "gt_z_neg = torch.flip(test_y_pic_z, [0])\n",
    "gt_r = torch.cat((gt_r_neg, gt_r_pos))\n",
    "gt_z = torch.cat((gt_z_neg, gt_z_pos))\n",
    "\n",
    "# scattering points for prediction\n",
    "pred_r_pos = score_pic_r\n",
    "if pred_r_pos[-1] >= 0:\n",
    "    pred_r_neg = -torch.flip(score_pic_r, [0]) + 2*pred_r_pos[0]\n",
    "else:  \n",
    "    pred_r_neg = -torch.flip(score_pic_r, [0]) - pred_r_pos[0]\n",
    "pred_z_pos = score_pic_z\n",
    "pred_z_neg = torch.flip(score_pic_z, [0])\n",
    "pred_r = torch.cat((pred_r_neg, pred_r_pos))\n",
    "pred_z = torch.cat((pred_z_neg, pred_z_pos))\n",
    "\n",
    "# plotting\n",
    "fig, ax = plt.subplots(1,1,figsize=(7, 7),facecolor=(1, 1, 1))\n",
    "# a1 = fig.add_axes([0,0,1.5,1])\n",
    "# a1.set_xlim(0,3)\n",
    "# a1.set_title(\"Estimated drop edge versus ground truth\", fontsize = 15)\n",
    "ax.imshow(test_x_pic_augmentation[rand1][rand2][0],cmap='gray',aspect='auto', extent=(-3.5,3.5,-7,0.1), interpolation ='bilinear')\n",
    "plt.scatter(gt_r, gt_z, c=\"red\", label=\"ground truth\")\n",
    "plt.scatter(pred_r, pred_z, c=\"blue\", label=\"prediction\")\n",
    "\n",
    "plt.xlabel(\"rr\",fontsize = 15)\n",
    "plt.ylabel(\"zz\",fontsize = 15)\n",
    "plt.legend()\n",
    "plt.axis('equal')\n",
    "plt.show()"
   ]
  },
  {
   "cell_type": "markdown",
   "metadata": {},
   "source": [
    "## Train PhysicsNet for spline"
   ]
  },
  {
   "cell_type": "code",
   "execution_count": 65,
   "metadata": {},
   "outputs": [
    {
     "name": "stdout",
     "output_type": "stream",
     "text": [
      "epoch 1: train_loss = 2027.3838, val_loss = 2166.7918\n",
      "epoch 2: train_loss = 1612.2229, val_loss = 1724.0133\n",
      "epoch 3: train_loss = 1129.8521, val_loss = 1204.3139\n",
      "epoch 4: train_loss = 800.0137, val_loss = 851.9470\n",
      "epoch 5: train_loss = 561.1030, val_loss = 590.6891\n",
      "epoch 6: train_loss = 148.1372, val_loss = 158.9493\n",
      "epoch 7: train_loss = 230.3561, val_loss = 242.7196\n",
      "epoch 8: train_loss = 56.4554, val_loss = 59.6305\n",
      "epoch 9: train_loss = 34.3026, val_loss = 36.3420\n",
      "epoch 10: train_loss = 17.0890, val_loss = 18.1853\n",
      "epoch 11: train_loss = 5.6403, val_loss = 5.9308\n",
      "epoch 12: train_loss = 8.1975, val_loss = 8.6973\n",
      "epoch 13: train_loss = 2.9184, val_loss = 3.0896\n",
      "epoch 14: train_loss = 1.8367, val_loss = 1.9469\n",
      "epoch 15: train_loss = 4.2439, val_loss = 4.4862\n",
      "epoch 16: train_loss = 2.5531, val_loss = 2.7129\n",
      "epoch 17: train_loss = 18.6542, val_loss = 19.7826\n",
      "epoch 18: train_loss = 7.7217, val_loss = 8.0612\n",
      "epoch 19: train_loss = 2.5699, val_loss = 2.7207\n",
      "epoch 20: train_loss = 3.9677, val_loss = 4.2175\n",
      "epoch 21: train_loss = 3.5035, val_loss = 3.7619\n",
      "epoch 22: train_loss = 3.2569, val_loss = 3.4776\n",
      "epoch 23: train_loss = 1.5959, val_loss = 1.6832\n",
      "epoch 24: train_loss = 8.4203, val_loss = 9.0598\n",
      "epoch 25: train_loss = 3.5370, val_loss = 3.8157\n",
      "epoch 26: train_loss = 3.3530, val_loss = 3.6161\n",
      "epoch 27: train_loss = 4.1383, val_loss = 4.4108\n",
      "epoch 28: train_loss = 1.6336, val_loss = 1.7454\n",
      "epoch 29: train_loss = 8.3541, val_loss = 8.9208\n",
      "epoch 30: train_loss = 4.9032, val_loss = 5.0584\n",
      "epoch 31: train_loss = 10.7108, val_loss = 11.5526\n",
      "epoch 32: train_loss = 1.4291, val_loss = 1.5611\n",
      "epoch 33: train_loss = 1.3241, val_loss = 1.4340\n",
      "epoch 34: train_loss = 1.6113, val_loss = 1.7304\n",
      "epoch 35: train_loss = 18.3301, val_loss = 19.6924\n",
      "epoch 36: train_loss = 4.3521, val_loss = 4.5214\n",
      "epoch 37: train_loss = 7.6975, val_loss = 8.0835\n",
      "epoch 38: train_loss = 7.1803, val_loss = 7.6441\n",
      "epoch 39: train_loss = 2.8079, val_loss = 3.0269\n",
      "epoch 40: train_loss = 4.9280, val_loss = 5.2755\n",
      "epoch 41: train_loss = 8.7831, val_loss = 9.4151\n",
      "epoch 42: train_loss = 5.4979, val_loss = 5.8703\n",
      "epoch 43: train_loss = 4.4589, val_loss = 4.7785\n",
      "epoch 44: train_loss = 2.7535, val_loss = 2.9185\n",
      "epoch 45: train_loss = 1.6697, val_loss = 1.7708\n",
      "epoch 46: train_loss = 9.6909, val_loss = 10.2270\n",
      "epoch 47: train_loss = 11.1230, val_loss = 11.8720\n",
      "epoch 48: train_loss = 2.0930, val_loss = 2.2633\n",
      "epoch 49: train_loss = 5.6379, val_loss = 6.0219\n",
      "epoch 50: train_loss = 4.8248, val_loss = 5.1592\n",
      "epoch 51: train_loss = 6.8833, val_loss = 7.2970\n",
      "epoch 52: train_loss = 5.2852, val_loss = 5.6203\n",
      "epoch 53: train_loss = 14.7715, val_loss = 15.7866\n",
      "epoch 54: train_loss = 31.8716, val_loss = 33.9067\n",
      "epoch 55: train_loss = 3.1895, val_loss = 3.3820\n",
      "epoch 56: train_loss = 18.6562, val_loss = 19.9267\n",
      "epoch 57: train_loss = 11.3687, val_loss = 12.1552\n",
      "epoch 58: train_loss = 23.5222, val_loss = 25.1346\n",
      "epoch 59: train_loss = 4.4271, val_loss = 4.7250\n",
      "epoch 60: train_loss = 20.0441, val_loss = 21.2199\n",
      "epoch 61: train_loss = 2.4928, val_loss = 2.7513\n",
      "epoch 62: train_loss = 35.3051, val_loss = 36.7782\n",
      "epoch 63: train_loss = 5.0209, val_loss = 5.3073\n",
      "epoch 64: train_loss = 8.8294, val_loss = 9.4033\n",
      "epoch 65: train_loss = 3.2064, val_loss = 3.4200\n",
      "epoch 66: train_loss = 5.1000, val_loss = 5.4109\n",
      "epoch 67: train_loss = 1.2982, val_loss = 1.3856\n",
      "epoch 68: train_loss = 2.4106, val_loss = 2.6057\n",
      "epoch 69: train_loss = 14.5773, val_loss = 15.5304\n",
      "epoch 70: train_loss = 2.2024, val_loss = 2.3134\n",
      "epoch 71: train_loss = 3.4714, val_loss = 3.6779\n",
      "epoch 72: train_loss = 13.3741, val_loss = 14.4848\n",
      "epoch 73: train_loss = 10.2923, val_loss = 10.9860\n",
      "epoch 74: train_loss = 3.4525, val_loss = 3.6751\n",
      "epoch 75: train_loss = 12.5078, val_loss = 13.3208\n",
      "epoch 76: train_loss = 11.4220, val_loss = 11.9571\n",
      "epoch 77: train_loss = 3.9330, val_loss = 4.1096\n",
      "epoch 78: train_loss = 3.8952, val_loss = 4.1232\n",
      "epoch 79: train_loss = 5.3719, val_loss = 5.7119\n",
      "epoch 80: train_loss = 2.7344, val_loss = 2.9454\n",
      "epoch 81: train_loss = 2.7849, val_loss = 2.9105\n",
      "epoch 82: train_loss = 1.2576, val_loss = 1.3315\n",
      "epoch 83: train_loss = 4.8554, val_loss = 5.1900\n",
      "epoch 84: train_loss = 11.1193, val_loss = 11.7258\n",
      "epoch 85: train_loss = 5.1091, val_loss = 5.4951\n",
      "epoch 86: train_loss = 2.8811, val_loss = 3.0836\n",
      "epoch 87: train_loss = 3.5497, val_loss = 3.7837\n",
      "epoch 88: train_loss = 13.3111, val_loss = 14.1363\n",
      "epoch 89: train_loss = 3.5438, val_loss = 3.7973\n",
      "epoch 90: train_loss = 2.7833, val_loss = 2.9786\n",
      "epoch 91: train_loss = 1.5745, val_loss = 1.6798\n",
      "epoch 92: train_loss = 1.5526, val_loss = 1.6253\n",
      "epoch 93: train_loss = 1.6859, val_loss = 1.8070\n",
      "epoch 94: train_loss = 8.8536, val_loss = 9.1940\n",
      "epoch 95: train_loss = 1.9495, val_loss = 2.0473\n",
      "epoch 96: train_loss = 7.2371, val_loss = 7.7241\n",
      "epoch 97: train_loss = 7.5263, val_loss = 7.9778\n",
      "epoch 98: train_loss = 5.3528, val_loss = 5.6976\n",
      "epoch 99: train_loss = 13.7691, val_loss = 14.4548\n",
      "epoch 100: train_loss = 4.9420, val_loss = 5.3230\n",
      "The model is saved at epoch = 82 and the loss = 1.257636780951433\n"
     ]
    },
    {
     "data": {
      "image/png": "[encoded data removed]",
      "text/plain": [
       "<Figure size 432x288 with 1 Axes>"
      ]
     },
     "metadata": {
      "needs_background": "light"
     },
     "output_type": "display_data"
    }
   ],
   "source": [
    "in_channel = 160    # using tranferred edge points instead of coef\n",
    "node_1 = 512\n",
    "node_2 = 512\n",
    "node_3 = 256\n",
    "node_4 = 256\n",
    "node_5 = 64\n",
    "node_6 = 16\n",
    "out_channel = 2\n",
    "\n",
    "learning_rate = 1e-3\n",
    "\n",
    "model_physics = PhysicsNet(in_channel, node_1, node_2, node_3, node_4, node_5, node_6, out_channel)\n",
    "optimizer = optim.Adam(model_physics.parameters(), lr=learning_rate)\n",
    "epoch = 100\n",
    "\n",
    "train_physics(model_physics, optimizer, epoch)"
   ]
  },
  {
   "cell_type": "markdown",
   "metadata": {},
   "source": [
    "### Retrain with SGD"
   ]
  },
  {
   "cell_type": "code",
   "execution_count": 69,
   "metadata": {},
   "outputs": [
    {
     "name": "stdout",
     "output_type": "stream",
     "text": [
      "epoch 1: train_loss = 0.2081, val_loss = 0.2229\n",
      "epoch 2: train_loss = 0.1842, val_loss = 0.1973\n",
      "epoch 3: train_loss = 0.1856, val_loss = 0.1985\n",
      "epoch 4: train_loss = 0.1978, val_loss = 0.2134\n",
      "epoch 5: train_loss = 0.1871, val_loss = 0.2010\n",
      "epoch 6: train_loss = 0.1815, val_loss = 0.1932\n",
      "epoch 7: train_loss = 0.2084, val_loss = 0.2231\n",
      "epoch 8: train_loss = 0.1941, val_loss = 0.2084\n",
      "epoch 9: train_loss = 0.1671, val_loss = 0.1788\n",
      "epoch 10: train_loss = 0.1811, val_loss = 0.1921\n",
      "epoch 11: train_loss = 0.2038, val_loss = 0.2186\n",
      "epoch 12: train_loss = 0.1761, val_loss = 0.1877\n",
      "epoch 13: train_loss = 0.2016, val_loss = 0.2176\n",
      "epoch 14: train_loss = 0.1882, val_loss = 0.2016\n",
      "epoch 15: train_loss = 0.2759, val_loss = 0.2976\n",
      "epoch 16: train_loss = 0.1596, val_loss = 0.1695\n",
      "epoch 17: train_loss = 0.2110, val_loss = 0.2279\n",
      "epoch 18: train_loss = 0.2485, val_loss = 0.2646\n",
      "epoch 19: train_loss = 0.1857, val_loss = 0.1994\n",
      "epoch 20: train_loss = 0.1916, val_loss = 0.2056\n",
      "The model is saved at epoch = 16 and the loss = 0.15958143343591386\n"
     ]
    },
    {
     "data": {
      "image/png": "[encoded data removed]",
      "text/plain": [
       "<Figure size 432x288 with 1 Axes>"
      ]
     },
     "metadata": {
      "needs_background": "light"
     },
     "output_type": "display_data"
    }
   ],
   "source": [
    "PATH_CAL = os.path.join(os.getcwd(), \"model_cal_augmentation.pt\")\n",
    "\n",
    "model_physics_trained = torch.load(PATH_CAL)\n",
    "\n",
    "learning_rate = 1e-4\n",
    "\n",
    "optimizer = optim.SGD(model_physics_trained.parameters(), lr=learning_rate)\n",
    "epoch = 20\n",
    "\n",
    "train_physics(model_physics_trained, optimizer, epoch)"
   ]
  },
  {
   "cell_type": "code",
   "execution_count": 70,
   "metadata": {},
   "outputs": [
    {
     "name": "stdout",
     "output_type": "stream",
     "text": [
      "shape of x_test_augmentation = torch.Size([9962, 160])\n",
      "Score of Augmented points prediction (two-model solution) = [0.7297731637954712, 0.8263400793075562, 0.88486248254776, 0.9306364059448242, 0.9569363594055176, 0.9714916944503784, 0.9780164361000061, 0.9830355644226074, 0.9864485263824463]\n"
     ]
    },
    {
     "data": {
      "text/plain": [
       "<matplotlib.legend.Legend at 0x225356b2550>"
      ]
     },
     "execution_count": 70,
     "metadata": {},
     "output_type": "execute_result"
    },
    {
     "data": {
      "image/png": "[encoded data removed]",
      "text/plain": [
       "<Figure size 640x480 with 1 Axes>"
      ]
     },
     "metadata": {
      "needs_background": "light"
     },
     "output_type": "display_data"
    }
   ],
   "source": [
    "# load models\n",
    "PATH_CAL = os.path.join(os.getcwd(), \"model_cal_augmentation.pt\")\n",
    "\n",
    "model_physics_trained = torch.load(PATH_CAL, map_location='cpu')\n",
    "\n",
    "# get all testing data in torch format\n",
    "x_test_augmentation = split_augmentation.dataset.x_train[split_augmentation.test_sampler.indices]\n",
    "y_test_augmentation = split_augmentation.dataset.y_train[split_augmentation.test_sampler.indices]\n",
    "\n",
    "print(\"shape of x_test_augmentation =\", x_test_augmentation.shape)\n",
    "\n",
    "# predict\n",
    "pred_test_augmentation = model_physics_trained(x_test_augmentation)\n",
    "\n",
    "# set error margin to count as accurate\n",
    "error_list = torch.linspace(0.01, 0.05, steps=9)\n",
    "\n",
    "def score_cal(x, y, error):\n",
    "    diff = ~abs((x-y)/y).gt(error) \n",
    "    count = diff[:, 0]\n",
    "    return count.sum()/len(count)\n",
    "\n",
    "score_list_augmentation = []\n",
    "for i in range(len(error_list)):\n",
    "    score_list_augmentation.append(score_cal(pred_test_augmentation, y_test_augmentation, error_list[i]).item())\n",
    "\n",
    "print(\"Score of Augmented points prediction (two-model solution) =\", score_list_augmentation) \n",
    "plt.figure(figsize=(8, 6), dpi=80)\n",
    "plt.plot(error_list*100 , score_list_augmentation, 'or--', label='Augmented points prediction')\n",
    "plt.axis([0.9, 5.1, 0, 1.1])\n",
    "plt.xlabel('error margin(%)')\n",
    "plt.ylabel('accuracy')\n",
    "plt.title('Model accuracy comparison')\n",
    "plt.grid()\n",
    "plt.legend()"
   ]
  },
  {
   "cell_type": "markdown",
   "metadata": {},
   "source": [
    "# Squential testing"
   ]
  },
  {
   "cell_type": "markdown",
   "metadata": {},
   "source": [
    "## Reload dataset for the alignment"
   ]
  },
  {
   "cell_type": "code",
   "execution_count": 35,
   "metadata": {},
   "outputs": [
    {
     "name": "stdout",
     "output_type": "stream",
     "text": [
      "156 156 20 20 20 20\n"
     ]
    }
   ],
   "source": [
    "# converting the list to numpy array\n",
    "train_x_test = np.array(train_img)\n",
    "train_y_test = data_image_augmentation.iloc[0:,0:2].values\n",
    "\n",
    "train_x_test, train_y_test, val_x_test, val_y_test, test_x_test, test_y_test = \\\n",
    "    split_n_transfer(train_x_test, train_y_test)\n",
    "\n",
    "train_x_test, train_y_test, val_x_test, val_y_test, test_x_test, test_y_test = \\\n",
    "    batch_all(train_x_test, train_y_test, val_x_test, val_y_test, test_x_test, test_y_test)\n",
    "\n",
    "print(len(train_x_test), len(train_y_test), len(val_x_test), len(val_y_test), len(test_x_test), len(test_y_test))"
   ]
  },
  {
   "cell_type": "markdown",
   "metadata": {},
   "source": [
    "## Call PictureNet and get prediction for PhysicsNet"
   ]
  },
  {
   "cell_type": "code",
   "execution_count": 36,
   "metadata": {},
   "outputs": [
    {
     "name": "stdout",
     "output_type": "stream",
     "text": [
      "torch.Size([2000, 22])\n"
     ]
    }
   ],
   "source": [
    "# load model\n",
    "PATH_PIC = os.path.join(os.getcwd(), \"model_pic_augmentation.pt\")\n",
    "model_picture_trained = torch.load(PATH_PIC, map_location='cpu')\n",
    "\n",
    "# transfer from batches back into one\n",
    "for i in range(len(test_x_test)):\n",
    "    if i == 0:\n",
    "        x_test = test_x_test[i]\n",
    "        y_test = test_y_test[i]\n",
    "        counter = True\n",
    "    else:\n",
    "        x_test = torch.cat([x_test, test_x_test[i]], dim=0)\n",
    "        y_test = torch.cat([y_test, test_y_test[i]], dim=0)\n",
    "\n",
    "# cropping bc not enough memory\n",
    "x = x_test[0:2000, :, :, :]\n",
    "y = y_test[0:2000, :]\n",
    "\n",
    "# make prediction\n",
    "test1 = model_picture_trained(x)\n",
    "print(test1.shape)"
   ]
  },
  {
   "cell_type": "markdown",
   "metadata": {},
   "source": [
    "Spline Model Interpolation points"
   ]
  },
  {
   "cell_type": "code",
   "execution_count": 37,
   "metadata": {},
   "outputs": [],
   "source": [
    "#Number of interpolation points to use for PhysicsNet and plotting\n",
    "Num_points = 80\n",
    "\n",
    "# Load YC matrix for point values and s data for interpolation\n",
    "data_s = pd.read_csv(\"Data_uniform/s.csv\", header= None)\n",
    "\n",
    "s = data_s.values\n",
    "s = s.reshape(1,len(s))\n",
    "\n",
    "# Interpolate to 160 points using a linear vector for s\n",
    "ss = np.linspace(s[0][0],s[0][-1],Num_points)\n",
    "\n",
    "data_YC = pd.read_csv(\"Data_uniform/YC.csv\", header= None)\n",
    "YC = torch.Tensor(data_YC.values)\n"
   ]
  },
  {
   "cell_type": "markdown",
   "metadata": {},
   "source": [
    "Transfer the model 1 output from coef to points as model 2 input"
   ]
  },
  {
   "cell_type": "code",
   "execution_count": 38,
   "metadata": {},
   "outputs": [
    {
     "name": "stdout",
     "output_type": "stream",
     "text": [
      "torch.Size([2000, 160])\n"
     ]
    }
   ],
   "source": [
    "# transfer coef to 160 edge points for training\n",
    "x_1 = []\n",
    "x_2 = []\n",
    "for i in range(len(test1)):\n",
    "    x_1_temp = torch.matmul(YC, test1[i, 0:11]) \n",
    "    x_2_temp = torch.matmul(YC, test1[i, 11:22])\n",
    "    x_1.append(np.polyval(np.polyfit(s[0], x_1_temp.detach().numpy(), 15), ss))\n",
    "    x_2.append(np.polyval(np.polyfit(s[0], x_2_temp.detach().numpy(), 15), ss))\n",
    "test2 = torch.tensor(np.append(x_1, x_2, axis=1), dtype=torch.float32)\n",
    "\n",
    "print(test2.shape)"
   ]
  },
  {
   "cell_type": "markdown",
   "metadata": {},
   "source": [
    "## Call PhysicsNet and get prediction for tension"
   ]
  },
  {
   "cell_type": "code",
   "execution_count": 39,
   "metadata": {},
   "outputs": [
    {
     "name": "stdout",
     "output_type": "stream",
     "text": [
      "torch.Size([2000, 2])\n",
      "tensor([[38.0216, 11.7679],\n",
      "        [41.9262, 13.9862],\n",
      "        [18.1753,  6.4216],\n",
      "        [39.0001, 17.6851],\n",
      "        [70.2586, 27.4892],\n",
      "        [71.0322, 22.3391],\n",
      "        [61.8285, 22.8962],\n",
      "        [51.5291, 15.8393],\n",
      "        [81.1413, 38.4280]], grad_fn=<SliceBackward0>)\n",
      "tensor([[43.6000, 11.5870],\n",
      "        [39.9000, 14.5718],\n",
      "        [19.8000,  6.1635],\n",
      "        [37.1000, 16.9753],\n",
      "        [74.9000, 27.8041],\n",
      "        [72.1000, 22.0358],\n",
      "        [59.7000, 22.8882],\n",
      "        [52.0000, 16.3995],\n",
      "        [80.1000, 38.8035]], dtype=torch.float64)\n"
     ]
    }
   ],
   "source": [
    "# load model\n",
    "PATH_CAL = os.path.join(os.getcwd(), \"model_cal_augmentation.pt\")\n",
    "model_physics_trained = torch.load(PATH_CAL, map_location='cpu')\n",
    "\n",
    "# make prediction\n",
    "test3 = model_physics_trained(test2)\n",
    "\n",
    "# view the value directly\n",
    "print(test3.shape)\n",
    "print(test3[1:10])\n",
    "print(y[1:10])"
   ]
  },
  {
   "cell_type": "markdown",
   "metadata": {},
   "source": [
    "## View the value of model one"
   ]
  },
  {
   "cell_type": "code",
   "execution_count": 40,
   "metadata": {},
   "outputs": [
    {
     "name": "stdout",
     "output_type": "stream",
     "text": [
      "torch.Size([2000, 2])\n",
      "tensor([[42.6311, 11.6328],\n",
      "        [40.1041, 14.6573],\n",
      "        [19.5693,  6.4626],\n",
      "        [37.1792, 16.9034],\n",
      "        [73.7963, 27.8007],\n",
      "        [71.9441, 21.7400],\n",
      "        [60.0971, 23.0777],\n",
      "        [51.2885, 15.9129],\n",
      "        [80.1207, 38.0468]], grad_fn=<SliceBackward0>)\n",
      "tensor([[43.6000, 11.5870],\n",
      "        [39.9000, 14.5718],\n",
      "        [19.8000,  6.1635],\n",
      "        [37.1000, 16.9753],\n",
      "        [74.9000, 27.8041],\n",
      "        [72.1000, 22.0358],\n",
      "        [59.7000, 22.8882],\n",
      "        [52.0000, 16.3995],\n",
      "        [80.1000, 38.8035]], dtype=torch.float64)\n"
     ]
    }
   ],
   "source": [
    "# load model_one_augmentation for comparison\n",
    "PATH_ONE = os.path.join(os.getcwd(), \"model_one_augmentation.pt\")\n",
    "model_one_trained = torch.load(PATH_ONE, map_location='cpu')\n",
    "\n",
    "test_one = model_one_trained(x)\n",
    "\n",
    "# view the value directly\n",
    "print(test_one.shape)\n",
    "print(test_one[1:10])\n",
    "print(y[1:10])"
   ]
  },
  {
   "cell_type": "markdown",
   "metadata": {},
   "source": [
    "## Print results"
   ]
  },
  {
   "cell_type": "code",
   "execution_count": 42,
   "metadata": {},
   "outputs": [
    {
     "name": "stdout",
     "output_type": "stream",
     "text": [
      "Score of Augmented points prediction (two-model solution) = [0.14000000059604645, 0.2865000069141388, 0.42149999737739563, 0.5329999923706055, 0.6144999861717224, 0.6865000128746033, 0.7409999966621399, 0.7875000238418579, 0.824999988079071, 0.8600000143051147, 0.8960000276565552, 0.9294999837875366, 0.9465000033378601, 0.9629999995231628, 0.9750000238418579, 0.9854999780654907, 0.9904999732971191, 0.9934999942779541, 0.9944999814033508, 0.9965000152587891]\n",
      "Score of Augmented points prediction (one-model solution) = [0.6539999842643738, 0.8889999985694885, 0.9549999833106995, 0.9739999771118164, 0.9819999933242798, 0.987500011920929, 0.9904999732971191, 0.9919999837875366, 0.9955000281333923, 0.9980000257492065, 0.9984999895095825, 0.9990000128746033, 1.0, 1.0, 1.0, 1.0, 1.0, 1.0, 1.0, 1.0]\n"
     ]
    },
    {
     "data": {
      "text/plain": [
       "<matplotlib.legend.Legend at 0x294301c7460>"
      ]
     },
     "execution_count": 42,
     "metadata": {},
     "output_type": "execute_result"
    },
    {
     "data": {
      "image/png": "[encoded data removed]",
      "text/plain": [
       "<Figure size 640x480 with 1 Axes>"
      ]
     },
     "metadata": {
      "needs_background": "light"
     },
     "output_type": "display_data"
    }
   ],
   "source": [
    "# load model_one_augmentation for comparison\n",
    "PATH_ONE = os.path.join(os.getcwd(), \"model_one_augmentation.pt\")\n",
    "model_one_trained = torch.load(PATH_ONE, map_location='cpu')\n",
    "\n",
    "test_one = model_one_trained(x)\n",
    "\n",
    "# set error margin to count as accurate\n",
    "error_list = torch.linspace(0.01, 0.20, steps=20)\n",
    "\n",
    "def score_cal(x, y, error):\n",
    "    diff = ~abs((x-y)/y).gt(error) \n",
    "    count = diff[:, 0]\n",
    "    return count.sum()/len(count)\n",
    "\n",
    "score_list_test = []\n",
    "score_list_united = []\n",
    "for i in range(len(error_list)):\n",
    "    score_list_test.append(score_cal(test3, y, error_list[i]).item())\n",
    "    score_list_united.append(score_cal(test_one, y, error_list[i]).item())\n",
    "\n",
    "print(\"Score of Augmented points prediction (two-model solution) =\", score_list_test) \n",
    "print(\"Score of Augmented points prediction (one-model solution) =\", score_list_united) \n",
    "plt.figure(figsize=(8, 6), dpi=80)\n",
    "plt.plot(error_list*100 , score_list_test, 'or--', label='Augmented points prediction')\n",
    "plt.plot(error_list*100 ,score_list_united, '^b--', label='United prediction')\n",
    "plt.xlabel('error margin(%)')\n",
    "plt.ylabel('score')\n",
    "plt.title('Model score comparison')\n",
    "plt.grid()\n",
    "plt.legend()"
   ]
  },
  {
   "cell_type": "code",
   "execution_count": null,
   "metadata": {},
   "outputs": [],
   "source": []
  }
 ],
 "metadata": {
  "kernelspec": {
   "display_name": "Python 3.8.10 64-bit",
   "language": "python",
   "name": "python3"
  },
  "language_info": {
   "codemirror_mode": {
    "name": "ipython",
    "version": 3
   },
   "file_extension": ".py",
   "mimetype": "text/x-python",
   "name": "python",
   "nbconvert_exporter": "python",
   "pygments_lexer": "ipython3",
   "version": "3.8.10"
  },
  "orig_nbformat": 4,
  "vscode": {
   "interpreter": {
    "hash": "64def4006c78149665c79cf5850ee76c9e416630a0d9e75e41ff194dcaf5fb2b"
   }
  }
 },
 "nbformat": 4,
 "nbformat_minor": 2
}
