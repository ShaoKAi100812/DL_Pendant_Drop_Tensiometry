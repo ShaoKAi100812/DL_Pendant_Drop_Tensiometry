{
 "cells": [
  {
   "cell_type": "markdown",
   "metadata": {},
   "source": [
    "# For spline (two-model) method training only"
   ]
  },
  {
   "cell_type": "markdown",
   "metadata": {},
   "source": [
    "### Import necessary packages and self-defined classes"
   ]
  },
  {
   "cell_type": "code",
   "execution_count": 2,
   "metadata": {},
   "outputs": [],
   "source": [
    "# pyplot\n",
    "import matplotlib.pyplot as plt\n",
    "# pytorch\n",
    "import torch\n",
    "import torch.optim as optim\n",
    "import torch.nn.functional as F  # useful stateless functions\n",
    "# Test/Train data split\n",
    "from functools import lru_cache\n",
    "from torch.utils.data import DataLoader, Dataset\n",
    "from torch.utils.data.sampler import SubsetRandomSampler\n",
    "import numpy as np\n",
    "import logging\n",
    "# sklearn\n",
    "from sklearn import preprocessing\n",
    "# os\n",
    "import os\n",
    "# warnings\n",
    "import warnings\n",
    "warnings.filterwarnings('ignore')\n",
    "# random\n",
    "import random\n",
    "# math\n",
    "import math\n",
    "import scipy.interpolate\n",
    "# self-defined model\n",
    "from model_pic import *\n",
    "from model_cal import *\n",
    "from model_one import *\n",
    "import pandas as pd\n",
    "\n",
    "#PictureNet\n",
    "from PIL import Image\n",
    "from skimage.io import imread\n",
    "from sklearn.model_selection import train_test_split"
   ]
  },
  {
   "cell_type": "markdown",
   "metadata": {},
   "source": [
    "### Augamented dataset loading and preprocessing"
   ]
  },
  {
   "cell_type": "code",
   "execution_count": 3,
   "metadata": {},
   "outputs": [],
   "source": [
    "class DataSplit:\n",
    "\n",
    "    def __init__(self, dataset, test_train_split=0.9, val_train_split=0.1, shuffle=False):\n",
    "        self.dataset = dataset\n",
    "\n",
    "        dataset_size = len(dataset)\n",
    "        self.indices = list(range(dataset_size))\n",
    "        test_split = int(np.floor(test_train_split * dataset_size))\n",
    "\n",
    "        if shuffle:\n",
    "            np.random.shuffle(self.indices)\n",
    "\n",
    "        train_indices, self.test_indices = self.indices[:test_split], self.indices[test_split:]\n",
    "        train_size = len(train_indices)\n",
    "        validation_split = int(np.floor((1 - val_train_split) * train_size))\n",
    "\n",
    "        self.train_indices, self.val_indices = train_indices[:validation_split], train_indices[validation_split:]\n",
    "\n",
    "        self.train_sampler = SubsetRandomSampler(self.train_indices)\n",
    "        self.val_sampler = SubsetRandomSampler(self.val_indices)\n",
    "        self.test_sampler = SubsetRandomSampler(self.test_indices)\n",
    "    \n",
    "    def get_train_split_point(self):\n",
    "        return len(self.train_sampler) + len(self.val_indices)\n",
    "\n",
    "    def get_validation_split_point(self):\n",
    "        return len(self.train_sampler)\n",
    "\n",
    "    @lru_cache(maxsize=4)\n",
    "    def get_split(self, batch_size=64, num_workers=0):\n",
    "        logging.debug('Initializing train-validation-test dataloaders')\n",
    "        self.train_loader = self.get_train_loader(batch_size=batch_size, num_workers=num_workers)\n",
    "        self.val_loader = self.get_validation_loader(batch_size=batch_size, num_workers=num_workers)\n",
    "        self.test_loader = self.get_test_loader(batch_size=batch_size, num_workers=num_workers)\n",
    "        return self.train_loader, self.val_loader, self.test_loader\n",
    "\n",
    "    @lru_cache(maxsize=4)\n",
    "    def get_train_loader(self, batch_size=64, num_workers=0):\n",
    "        logging.debug('Initializing train dataloader')\n",
    "        self.train_loader = DataLoader(self.dataset, batch_size=batch_size, sampler=self.train_sampler, shuffle=False, num_workers=num_workers)\n",
    "        return self.train_loader\n",
    "\n",
    "    @lru_cache(maxsize=4)\n",
    "    def get_validation_loader(self, batch_size=64, num_workers=0):\n",
    "        logging.debug('Initializing validation dataloader')\n",
    "        self.val_loader = DataLoader(self.dataset, batch_size=batch_size, sampler=self.val_sampler, shuffle=False, num_workers=num_workers)\n",
    "        return self.val_loader\n",
    "\n",
    "    @lru_cache(maxsize=4)\n",
    "    def get_test_loader(self, batch_size=64, num_workers=0):\n",
    "        logging.debug('Initializing test dataloader')\n",
    "        self.test_loader = DataLoader(self.dataset, batch_size=batch_size, sampler=self.test_sampler, shuffle=False, num_workers=num_workers)\n",
    "        return self.test_loader"
   ]
  },
  {
   "cell_type": "markdown",
   "metadata": {},
   "source": [
    "### Load data for PhysicsNet"
   ]
  },
  {
   "cell_type": "code",
   "execution_count": 26,
   "metadata": {},
   "outputs": [
    {
     "name": "stdout",
     "output_type": "stream",
     "text": [
      "          0         1          2         3         4         5         6   \\\n",
      "0       15.1   5.10061  14.150364  1.343070  0.560755 -0.204328 -0.058190   \n",
      "1       15.1   5.10061  14.150364 -0.161344  0.560755 -0.204328 -0.058190   \n",
      "2       15.1   5.10061  14.150364  0.442829  0.560755 -0.204328 -0.058190   \n",
      "3       15.1   5.10061  14.150364  1.403207  0.560755 -0.204328 -0.058190   \n",
      "4       15.1   5.20122  13.846032  0.061767  0.560057 -0.206831 -0.056986   \n",
      "...      ...       ...        ...       ...       ...       ...       ...   \n",
      "109539  93.2  44.81438  42.599241  1.326978  0.438854 -0.652535  0.146285   \n",
      "109540  93.2  45.39140  43.012347  1.657659  0.451419 -0.664851  0.125092   \n",
      "109541  93.2  45.39140  43.012347  1.722307  0.451419 -0.664851  0.125092   \n",
      "109542  93.2  45.39140  43.012347  0.943215  0.451419 -0.664851  0.125092   \n",
      "109543  93.2  45.39140  43.012347  1.005774  0.451419 -0.664851  0.125092   \n",
      "\n",
      "              7         8         9   ...        15        16        17  \\\n",
      "0       0.073569 -0.004100 -0.013163  ...  1.121736  0.132903 -0.177839   \n",
      "1       0.073569 -0.004100 -0.013163  ...  1.121736  0.132903 -0.177839   \n",
      "2       0.073569 -0.004100 -0.013163  ...  1.121736  0.132903 -0.177839   \n",
      "3       0.073569 -0.004100 -0.013163  ...  1.121736  0.132903 -0.177839   \n",
      "4       0.074633 -0.004738 -0.013435  ...  1.137861  0.133661 -0.180555   \n",
      "...          ...       ...       ...  ...       ...       ...       ...   \n",
      "109539  0.277451 -0.102967 -0.070687  ...  3.506179  0.268065 -0.557008   \n",
      "109540  0.276532 -0.092678 -0.067252  ...  3.454294  0.268191 -0.550456   \n",
      "109541  0.276532 -0.092678 -0.067252  ...  3.454294  0.268191 -0.550456   \n",
      "109542  0.276532 -0.092678 -0.067252  ...  3.454294  0.268191 -0.550456   \n",
      "109543  0.276532 -0.092678 -0.067252  ...  3.454294  0.268191 -0.550456   \n",
      "\n",
      "              18        19        20        21        22        23        24  \n",
      "0      -0.036451  0.026592  0.000080 -0.004749  0.001136  0.000689 -0.000318  \n",
      "1      -0.036451  0.026592  0.000080 -0.004749  0.001136  0.000689 -0.000318  \n",
      "2      -0.036451  0.026592  0.000080 -0.004749  0.001136  0.000689 -0.000318  \n",
      "3      -0.036451  0.026592  0.000080 -0.004749  0.001136  0.000689 -0.000318  \n",
      "4      -0.036399  0.027049 -0.000124 -0.004824  0.001213  0.000696 -0.000337  \n",
      "...          ...       ...       ...       ...       ...       ...       ...  \n",
      "109539 -0.029782  0.079554 -0.036623 -0.012507  0.016276  0.002413 -0.003933  \n",
      "109540 -0.031602  0.080847 -0.034377 -0.013702  0.014857  0.002576 -0.003443  \n",
      "109541 -0.031602  0.080847 -0.034377 -0.013702  0.014857  0.002576 -0.003443  \n",
      "109542 -0.031602  0.080847 -0.034377 -0.013702  0.014857  0.002576 -0.003443  \n",
      "109543 -0.031602  0.080847 -0.034377 -0.013702  0.014857  0.002576 -0.003443  \n",
      "\n",
      "[109544 rows x 25 columns]\n"
     ]
    }
   ],
   "source": [
    "data_matrix_augmentation = pd.read_csv(\"Data_uniform/Data_aug/Spline_coef_aug.csv\", header= None)\n",
    "print(data_matrix_augmentation)\n",
    "\n",
    "# Make the droplet dataset class based on data_matrix\n",
    "class Droplet_data_set(Dataset):\n",
    "    def __init__(self,dataInput):\n",
    "        x = dataInput.iloc[0:,3:].values\n",
    "        y = dataInput.iloc[0:,0:2].values\n",
    "        # x = np.random.normal(x,0.01)\n",
    "        y0 = dataInput.iloc[:,0].values\n",
    "        y1 = dataInput.iloc[:,1].values\n",
    "        \n",
    "        # Plot surface tension histogram\n",
    "        n, bins, patches = plt.hist(x=y0, bins='auto', color='#0504aa',\n",
    "                                    alpha=0.7, rwidth=0.85)\n",
    "        plt.grid(axis='y', alpha=0.75)\n",
    "        plt.xlabel('Surface Tension[mN/m]')\n",
    "        plt.ylabel('Frequency')\n",
    "        plt.title('Occurence of data per Surface Tension')\\\n",
    "\n",
    "        # Plot volume histogram\n",
    "        # n, bins, patches = plt.hist(x=y1, bins='auto', color='#0504aa',\n",
    "        #                             alpha=0.7, rwidth=0.85)\n",
    "        # plt.grid(axis='y', alpha=0.75)\n",
    "        # plt.xlabel('Volume[mm^3]')\n",
    "        # plt.ylabel('Frequency')\n",
    "        # plt.title('Occurence of data per Volume')\n",
    "\n",
    "        self.x_train = torch.tensor(x,dtype=torch.float32)\n",
    "        print(self.x_train.shape)\n",
    "        self.y_train = torch.tensor(y,dtype=torch.float32)\n",
    "        \n",
    "    def __getitem__(self, idx):\n",
    "        return self.x_train[idx],self.y_train[idx]\n",
    "    \n",
    "    def __len__(self):\n",
    "         return len(self.y_train)\n",
    "        "
   ]
  },
  {
   "cell_type": "code",
   "execution_count": 27,
   "metadata": {},
   "outputs": [
    {
     "name": "stdout",
     "output_type": "stream",
     "text": [
      "torch.Size([109544, 22])\n"
     ]
    },
    {
     "data": {
      "image/png": "[encoded data removed]",
      "text/plain": [
       "<Figure size 432x288 with 1 Axes>"
      ]
     },
     "metadata": {
      "needs_background": "light"
     },
     "output_type": "display_data"
    }
   ],
   "source": [
    "my_data_set_augmentation = Droplet_data_set(data_matrix_augmentation)\n",
    "split_augmentation = DataSplit(my_data_set_augmentation, shuffle=True)  # Split the single dataset into 3 datasets for training, test and validation.\n",
    "train_loader_augmentation, val_loader_augmentation, test_loader_augmentation = split_augmentation.get_split(batch_size=512, num_workers=0)"
   ]
  },
  {
   "cell_type": "markdown",
   "metadata": {},
   "source": [
    "### Load data for PictureNet\n",
    "Read image from files"
   ]
  },
  {
   "cell_type": "code",
   "execution_count": 6,
   "metadata": {},
   "outputs": [
    {
     "name": "stdout",
     "output_type": "stream",
     "text": [
      "Now loading pic:  0\n",
      "Now loading pic:  1000\n",
      "Now loading pic:  2000\n",
      "Now loading pic:  3000\n",
      "Now loading pic:  4000\n",
      "Now loading pic:  5000\n",
      "Now loading pic:  6000\n",
      "Now loading pic:  7000\n",
      "Now loading pic:  8000\n",
      "Now loading pic:  9000\n",
      "Now loading pic:  10000\n",
      "Now loading pic:  11000\n",
      "Now loading pic:  12000\n",
      "Now loading pic:  13000\n",
      "Now loading pic:  14000\n",
      "Now loading pic:  15000\n",
      "Now loading pic:  16000\n",
      "Now loading pic:  17000\n",
      "Now loading pic:  18000\n",
      "Now loading pic:  19000\n",
      "Now loading pic:  20000\n",
      "Now loading pic:  21000\n",
      "Now loading pic:  22000\n",
      "Now loading pic:  23000\n",
      "Now loading pic:  24000\n",
      "Now loading pic:  25000\n",
      "Now loading pic:  26000\n",
      "Now loading pic:  27000\n",
      "Now loading pic:  28000\n",
      "Now loading pic:  29000\n",
      "Now loading pic:  30000\n",
      "Now loading pic:  31000\n",
      "Now loading pic:  32000\n",
      "Now loading pic:  33000\n",
      "Now loading pic:  34000\n",
      "Now loading pic:  35000\n",
      "Now loading pic:  36000\n",
      "Now loading pic:  37000\n",
      "Now loading pic:  38000\n",
      "Now loading pic:  39000\n",
      "Now loading pic:  40000\n",
      "Now loading pic:  41000\n",
      "Now loading pic:  42000\n",
      "Now loading pic:  43000\n",
      "Now loading pic:  44000\n",
      "Now loading pic:  45000\n",
      "Now loading pic:  46000\n",
      "Now loading pic:  47000\n",
      "Now loading pic:  48000\n",
      "Now loading pic:  49000\n",
      "Now loading pic:  50000\n",
      "Now loading pic:  51000\n",
      "Now loading pic:  52000\n",
      "Now loading pic:  53000\n",
      "Now loading pic:  54000\n",
      "Now loading pic:  55000\n",
      "Now loading pic:  56000\n",
      "Now loading pic:  57000\n",
      "Now loading pic:  58000\n",
      "Now loading pic:  59000\n",
      "Now loading pic:  60000\n",
      "Now loading pic:  61000\n",
      "Now loading pic:  62000\n",
      "Now loading pic:  63000\n",
      "Now loading pic:  64000\n",
      "Now loading pic:  65000\n",
      "Now loading pic:  66000\n",
      "Now loading pic:  67000\n",
      "Now loading pic:  68000\n",
      "Now loading pic:  69000\n",
      "Now loading pic:  70000\n",
      "Now loading pic:  71000\n",
      "Now loading pic:  72000\n",
      "Now loading pic:  73000\n",
      "Now loading pic:  74000\n",
      "Now loading pic:  75000\n",
      "Now loading pic:  76000\n",
      "Now loading pic:  77000\n",
      "Now loading pic:  78000\n",
      "Now loading pic:  79000\n",
      "Now loading pic:  80000\n",
      "Now loading pic:  81000\n",
      "Now loading pic:  82000\n",
      "Now loading pic:  83000\n",
      "Now loading pic:  84000\n",
      "Now loading pic:  85000\n",
      "Now loading pic:  86000\n",
      "Now loading pic:  87000\n",
      "Now loading pic:  88000\n",
      "Now loading pic:  89000\n",
      "Now loading pic:  90000\n",
      "Now loading pic:  91000\n",
      "Now loading pic:  92000\n",
      "Now loading pic:  93000\n",
      "Now loading pic:  94000\n",
      "Now loading pic:  95000\n",
      "Now loading pic:  96000\n",
      "Now loading pic:  97000\n",
      "Now loading pic:  98000\n",
      "Now loading pic:  99000\n",
      "Now loading pic:  100000\n",
      "Now loading pic:  101000\n",
      "Now loading pic:  102000\n",
      "Now loading pic:  103000\n",
      "Now loading pic:  104000\n",
      "Now loading pic:  105000\n",
      "Now loading pic:  106000\n",
      "Now loading pic:  107000\n",
      "Now loading pic:  108000\n",
      "Now loading pic:  109000\n"
     ]
    }
   ],
   "source": [
    "train_img = []\n",
    "data_matrix_augmentation = pd.read_csv(\"Data_uniform/Data_aug/Spline_coef_aug.csv\", header= None)\n",
    "data_image_augmentation = data_matrix_augmentation\n",
    "\n",
    "for img_name in data_image_augmentation.iloc[0:,3:].index:      # modify the number depends on size of dataset\n",
    "    # defining the image path\n",
    "    image_path = 'Data_uniform/Data_aug/' + str(img_name) + '.png'      # modify the path depends on which dataset\n",
    "    # reading the image\n",
    "    img = imread(image_path, as_gray=True)\n",
    "    img = img[4:-4, 4:-4]  #crop \n",
    "    # normalizing the pixel values\n",
    "    img /= 255.0\n",
    "    # converting the type of pixel to float 32\n",
    "    img = img.astype('float32')\n",
    "    if img_name % 1000 == 0:\n",
    "        print(\"Now loading pic: \", img_name)\n",
    "    img = np.array(img)\n",
    "    # appending the image into the list\n",
    "    train_img.append(img)"
   ]
  },
  {
   "cell_type": "code",
   "execution_count": 7,
   "metadata": {},
   "outputs": [
    {
     "name": "stdout",
     "output_type": "stream",
     "text": [
      "Total pic num = 109544\n"
     ]
    }
   ],
   "source": [
    "print(\"Total pic num =\", len(train_img))"
   ]
  },
  {
   "cell_type": "markdown",
   "metadata": {},
   "source": [
    "Plot a single image for viewing"
   ]
  },
  {
   "cell_type": "code",
   "execution_count": 8,
   "metadata": {},
   "outputs": [
    {
     "name": "stdout",
     "output_type": "stream",
     "text": [
      "Current image = 70716\n",
      "Picture size = (82, 77)\n"
     ]
    },
    {
     "data": {
      "text/plain": [
       "<matplotlib.image.AxesImage at 0x2103620d160>"
      ]
     },
     "execution_count": 8,
     "metadata": {},
     "output_type": "execute_result"
    },
    {
     "data": {
      "image/png": "[encoded data removed]",
      "text/plain": [
       "<Figure size 432x288 with 1 Axes>"
      ]
     },
     "metadata": {
      "needs_background": "light"
     },
     "output_type": "display_data"
    }
   ],
   "source": [
    "rand = random.randint(1, len(train_img))\n",
    "print(\"Current image =\", rand)\n",
    "print(\"Picture size =\", train_img[rand].shape)\n",
    "plt.imshow(train_img[rand], cmap='gray')"
   ]
  },
  {
   "cell_type": "markdown",
   "metadata": {},
   "source": [
    "Define the function"
   ]
  },
  {
   "cell_type": "code",
   "execution_count": 9,
   "metadata": {},
   "outputs": [],
   "source": [
    "# Split and transfer the data from list to torch format\n",
    "def split_n_transfer(x, y):\n",
    "    # Points data split\n",
    "    train_x_pic, rem_x_pic, train_y_pic, rem_y_pic = train_test_split(x, y, test_size = 0.2)    # default shuffle = True\n",
    "    val_x_pic, test_x_pic, val_y_pic, test_y_pic = train_test_split(rem_x_pic, rem_y_pic, test_size = 0.5)\n",
    "\n",
    "    # converting the train images of points and targets into torch format\n",
    "    train_x_pic = train_x_pic.reshape(len(train_x_pic), 1, 82, 77)\n",
    "    train_x_pic = torch.from_numpy(train_x_pic)\n",
    "    train_y_pic = torch.from_numpy(train_y_pic)\n",
    "\n",
    "    # converting the val images and target points into torch format\n",
    "    val_x_pic = val_x_pic.reshape(len(val_x_pic), 1, 82, 77)\n",
    "    val_x_pic = torch.from_numpy(val_x_pic)\n",
    "    val_y_pic = torch.from_numpy(val_y_pic)\n",
    "    # print(val_x_pic.shape, val_y_pic.shape)\n",
    "\n",
    "    # converting the test images and targets into torch format for points\n",
    "    test_x_pic = test_x_pic.reshape(len(test_x_pic), 1, 82, 77)\n",
    "    test_x_pic  = torch.from_numpy(test_x_pic)\n",
    "    test_y_pic = torch.from_numpy(test_y_pic)\n",
    "    # print(test_x_pic.shape, test_y_pic.shape)\n",
    "    \n",
    "    return train_x_pic, train_y_pic, val_x_pic, val_y_pic, test_x_pic, test_y_pic\n",
    "\n",
    "# converting the dataset into mini-batch dataset (input 4D -> 5D and 2D -> 3D)\n",
    "def batch_transform(dataset, batch_size=512):\n",
    "    batch = []\n",
    "    batch_num = math.ceil(len(dataset)/batch_size)\n",
    "    for i in range(batch_num):\n",
    "        if len(dataset) == 4:\n",
    "            if i < batch_num-1:\n",
    "                batch.append(dataset[i*batch_size:(i+1)*batch_size, :, :, :])\n",
    "            else:\n",
    "                batch.append(dataset[i*batch_size:, :, :, :])\n",
    "        else:\n",
    "            if i < batch_num-1:\n",
    "                batch.append(dataset[i*batch_size:(i+1)*batch_size, :])\n",
    "            else:\n",
    "                batch.append(dataset[i*batch_size:, :])\n",
    "    return batch\n",
    "\n",
    "# converting all raw datasets into batch datasets in the same time\n",
    "def batch_all(train_x, train_y, val_x, val_y, test_x, test_y):\n",
    "    train_x_pic = batch_transform(train_x)\n",
    "    train_y_pic = batch_transform(train_y)\n",
    "    val_x_pic = batch_transform(val_x)\n",
    "    val_y_pic = batch_transform(val_y)\n",
    "    test_x_pic = batch_transform(test_x)\n",
    "    test_y_pic = batch_transform(test_y)\n",
    "    return train_x_pic, train_y_pic, val_x_pic, val_y_pic, test_x_pic, test_y_pic"
   ]
  },
  {
   "cell_type": "markdown",
   "metadata": {},
   "source": [
    "Create and splite the dataset for edge point model"
   ]
  },
  {
   "cell_type": "code",
   "execution_count": 10,
   "metadata": {},
   "outputs": [
    {
     "name": "stdout",
     "output_type": "stream",
     "text": [
      "172 172 22 22 22 22\n"
     ]
    }
   ],
   "source": [
    "# converting the list to numpy array\n",
    "train_x_pic = np.array(train_img)\n",
    "train_y_pic_augmentation = data_image_augmentation.iloc[0:,3:].values\n",
    "\n",
    "train_x_pic_augmentation, train_y_pic_augmentation, val_x_pic_augmentation, val_y_pic_augmentation, test_x_pic_augmentation, test_y_pic_augmentation = \\\n",
    "    split_n_transfer(train_x_pic, train_y_pic_augmentation)\n",
    "\n",
    "train_x_pic_augmentation, train_y_pic_augmentation, val_x_pic_augmentation, val_y_pic_augmentation, test_x_pic_augmentation, test_y_pic_augmentation = \\\n",
    "    batch_all(train_x_pic_augmentation, train_y_pic_augmentation, val_x_pic_augmentation, val_y_pic_augmentation, test_x_pic_augmentation, test_y_pic_augmentation)\n",
    "    \n",
    "print(len(train_x_pic_augmentation), len(train_y_pic_augmentation), len(val_x_pic_augmentation), \\\n",
    "    len(val_y_pic_augmentation), len(test_x_pic_augmentation), len(test_y_pic_augmentation))\n"
   ]
  },
  {
   "cell_type": "markdown",
   "metadata": {},
   "source": [
    "### Deside to apply host or device\n"
   ]
  },
  {
   "cell_type": "code",
   "execution_count": 11,
   "metadata": {},
   "outputs": [
    {
     "name": "stdout",
     "output_type": "stream",
     "text": [
      "cuda\n"
     ]
    }
   ],
   "source": [
    "USE_GPU = True\n",
    "if USE_GPU and torch.cuda.is_available():\n",
    "    device = torch.device('cuda')\n",
    "else:\n",
    "    device = torch.device('cpu')\n",
    "print(device)\n"
   ]
  },
  {
   "cell_type": "markdown",
   "metadata": {},
   "source": [
    "## Define the functions for models"
   ]
  },
  {
   "cell_type": "code",
   "execution_count": 12,
   "metadata": {},
   "outputs": [],
   "source": [
    "def loss_cal_phiysics(loss_list, model, loader):\n",
    "    model.eval()  # set model to evaluation mode\n",
    "    with torch.no_grad():\n",
    "        loss_epoch = 0\n",
    "        for t, (x, y) in enumerate(loader):\n",
    "            x = x.to(device=device, dtype=torch.float32)  # move to device, e.g. GPU\n",
    "            y = y.to(device=device, dtype=torch.float32)\n",
    "            scores = model(x)\n",
    "            loss = F.mse_loss(scores, y)\n",
    "            loss_epoch += loss\n",
    "        loss_list.append(loss_epoch.cpu().data.numpy()/t)\n",
    "\n",
    "def loss_cal_picture(loss_list, model, x_dataset, y_dataset):\n",
    "    model.eval()  # set model to evaluation mode\n",
    "    with torch.no_grad():\n",
    "        loss_epoch = 0\n",
    "        for t in range(len(x_dataset)):\n",
    "            x = x_dataset[t]\n",
    "            y = y_dataset[t]\n",
    "            x = x.to(device=device, dtype=torch.float32)  # move to device, e.g. GPU\n",
    "            y = y.to(device=device, dtype=torch.float32)\n",
    "            scores = model(x)\n",
    "            loss = F.mse_loss(scores, y)\n",
    "            loss_epoch += loss\n",
    "        loss_list.append(loss_epoch.cpu().data.numpy()/t)\n",
    "\n",
    "def prediction(model, x):   # only a batch\n",
    "    model = model.to(device=device)\n",
    "    model.eval()  # set model to evaluation mode\n",
    "    with torch.no_grad():\n",
    "        x = x.to(device=device, dtype=torch.float32)\n",
    "        score = torch.Tensor.cpu(model(x))\n",
    "    return score\n",
    "\n",
    "def model_selection(model, path, loss, epoch_current, epoch_ref, loss_ref):\n",
    "    loss_best = loss_ref\n",
    "    epoch_best = epoch_ref\n",
    "    if epoch_current == 0 and ~(os.path.isdir(path)):\n",
    "            loss_current = loss[epoch_current]\n",
    "            loss_best = loss[epoch_current]\n",
    "            torch.save(model, path)\n",
    "    else:\n",
    "        loss_current = loss[epoch_current]\n",
    "        if loss_current <= (loss_best * 1.1):   # 10% margin to get better fitting but a bit more loss\n",
    "            loss_best = loss_current\n",
    "            epoch_best = epoch_current\n",
    "            torch.save(model, path)\n",
    "    return loss_best, epoch_best\n",
    "\n",
    "def train_physics(model, optimizer, epochs=1):\n",
    "    loss_train = []\n",
    "    loss_val = []\n",
    "    loss_best = 0\n",
    "    epoch_best = 0\n",
    "    \n",
    "    train_loader = train_loader_augmentation\n",
    "    val_loader = val_loader_augmentation\n",
    "    PATH_CAL = os.path.join(os.getcwd(), \"model_cal_augmentation.pt\")\n",
    "\n",
    "    model = model.to(device=device)  # move the model parameters to CPU/GPU\n",
    "    for e in range(epochs):\n",
    "        for _, (x, y) in enumerate(train_loader):\n",
    "            x = x.reshape(len(x), 1, 1, -1)     # reshape to 4D data for formal input of model\n",
    "            model.train()  # put model to training mode\n",
    "            x = x.to(device=device, dtype=torch.float32)  # move to device, e.g. GPU\n",
    "            y = y.to(device=device, dtype=torch.float32)\n",
    "            scores = model(x)\n",
    "            loss = F.mse_loss(scores, y)\n",
    "\n",
    "            optimizer.zero_grad()\n",
    "            loss.backward()\n",
    "            optimizer.step()\n",
    "        loss_cal_phiysics(loss_train, model, train_loader)\n",
    "        loss_cal_phiysics(loss_val, model, val_loader)\n",
    "        print('epoch %d: train_loss = %.4f, val_loss = %.4f' % (e+1, loss_train[e], loss_val[e]))\n",
    "\n",
    "        # selecting the best model to save\n",
    "        loss_best, epoch_best = model_selection(model, PATH_CAL, loss_train, e, epoch_best, loss_best)\n",
    "    \n",
    "    print(\"The model is saved at epoch =\", epoch_best+1, \"and the loss =\", loss_best.item())\n",
    "    \n",
    "    x = range(1, epochs+1)\n",
    "\n",
    "    plt.semilogy(x, loss_train, 'b-', label=\"training loss\")\n",
    "    plt.semilogy(x, loss_val, 'r--', label=\"validation loss\")\n",
    "    plt.xlabel(\"Epochs\")\n",
    "    plt.ylabel(\"MSE Loss\")\n",
    "    plt.title(\"Train/Validation Loss\")\n",
    "    plt.legend()\n",
    "    plt.show()\n",
    "\n",
    "def train_picture(model, optimizer, epochs=1):\n",
    "    loss_train = []\n",
    "    loss_val = []\n",
    "    loss_best = 0\n",
    "    epoch_best = 0\n",
    "\n",
    "    train_x_pic = train_x_pic_augmentation\n",
    "    train_y_pic = train_y_pic_augmentation\n",
    "    val_x_pic = val_x_pic_augmentation\n",
    "    val_y_pic = val_y_pic_augmentation\n",
    "    PATH_PIC = os.path.join(os.getcwd(), \"model_pic_augmentation.pt\")\n",
    "\n",
    "    model = model.to(device=device)  # move the model parameters to CPU/GPU\n",
    "    for e in range(epochs):\n",
    "        for t in range(len(train_x_pic)):\n",
    "            model.train()  # put model to training mode\n",
    "            x = train_x_pic[t]\n",
    "            y = train_y_pic[t]\n",
    "            x = x.to(device=device, dtype=torch.float32)  # move to device, e.g. GPU\n",
    "            y = y.to(device=device, dtype=torch.float32)\n",
    "\n",
    "            scores = model(x)\n",
    "            loss = F.mse_loss(scores, y)\n",
    "\n",
    "            optimizer.zero_grad()\n",
    "            loss.backward()\n",
    "            optimizer.step()\n",
    "        loss_cal_picture(loss_train, model, train_x_pic, train_y_pic)\n",
    "        loss_cal_picture(loss_val, model, val_x_pic, val_y_pic)\n",
    "        print('epoch %d: train_loss = %.4f, val_loss = %.4f' % (e+1, loss_train[e], loss_val[e]))\n",
    "        \n",
    "        # selecting the best model to save\n",
    "        loss_best, epoch_best = model_selection(model, PATH_PIC, loss_train, e, epoch_best, loss_best)\n",
    "    \n",
    "    print(\"The model is saved at epoch =\", epoch_best+1, \"and the loss =\", loss_best.item())\n",
    "\n",
    "    x = range(1, epochs+1)\n",
    "\n",
    "    plt.semilogy(x, loss_train, 'b-', label=\"training loss\")\n",
    "    plt.semilogy(x, loss_val, 'r--', label=\"validation loss\")\n",
    "    plt.xlabel(\"Epochs\")\n",
    "    plt.ylabel(\"MSE Loss\")\n",
    "    plt.title(\"Train/Validation Loss\")\n",
    "    plt.legend()\n",
    "    plt.show()\n"
   ]
  },
  {
   "cell_type": "markdown",
   "metadata": {},
   "source": [
    "## Train PictureNet for spline"
   ]
  },
  {
   "cell_type": "code",
   "execution_count": 27,
   "metadata": {},
   "outputs": [
    {
     "name": "stdout",
     "output_type": "stream",
     "text": [
      "epoch 1: train_loss = 0.0027, val_loss = 0.0028\n",
      "epoch 2: train_loss = 0.0010, val_loss = 0.0011\n",
      "epoch 3: train_loss = 0.0023, val_loss = 0.0024\n",
      "epoch 4: train_loss = 0.0030, val_loss = 0.0032\n",
      "epoch 5: train_loss = 0.0011, val_loss = 0.0012\n",
      "epoch 6: train_loss = 0.0047, val_loss = 0.0049\n",
      "epoch 7: train_loss = 0.0087, val_loss = 0.0091\n",
      "epoch 8: train_loss = 0.0057, val_loss = 0.0059\n",
      "epoch 9: train_loss = 0.0039, val_loss = 0.0040\n",
      "epoch 10: train_loss = 0.0067, val_loss = 0.0071\n",
      "epoch 11: train_loss = 0.0059, val_loss = 0.0061\n",
      "epoch 12: train_loss = 0.0042, val_loss = 0.0044\n",
      "epoch 13: train_loss = 0.0019, val_loss = 0.0020\n",
      "epoch 14: train_loss = 0.0012, val_loss = 0.0013\n",
      "epoch 15: train_loss = 0.0006, val_loss = 0.0007\n",
      "epoch 16: train_loss = 0.0006, val_loss = 0.0007\n",
      "epoch 17: train_loss = 0.0039, val_loss = 0.0041\n",
      "epoch 18: train_loss = 0.0007, val_loss = 0.0007\n",
      "epoch 19: train_loss = 0.0006, val_loss = 0.0006\n",
      "epoch 20: train_loss = 0.0006, val_loss = 0.0006\n",
      "epoch 21: train_loss = 0.0007, val_loss = 0.0007\n",
      "epoch 22: train_loss = 0.0006, val_loss = 0.0006\n",
      "epoch 23: train_loss = 0.0004, val_loss = 0.0005\n",
      "epoch 24: train_loss = 0.0008, val_loss = 0.0009\n",
      "epoch 25: train_loss = 0.0007, val_loss = 0.0008\n",
      "epoch 26: train_loss = 0.0011, val_loss = 0.0012\n",
      "epoch 27: train_loss = 0.0006, val_loss = 0.0007\n",
      "epoch 28: train_loss = 0.0011, val_loss = 0.0011\n",
      "epoch 29: train_loss = 0.0008, val_loss = 0.0009\n",
      "epoch 30: train_loss = 0.0006, val_loss = 0.0006\n",
      "The model is saved at epoch = 23 and the loss = 0.00042933582911017346\n"
     ]
    },
    {
     "data": {
      "image/png": "[encoded data removed]",
      "text/plain": [
       "<Figure size 432x288 with 1 Axes>"
      ]
     },
     "metadata": {
      "needs_background": "light"
     },
     "output_type": "display_data"
    }
   ],
   "source": [
    "in_channel = 1\n",
    "channel_1 = 16\n",
    "channel_2 = 32\n",
    "channel_3 = 64\n",
    "node_1 = 1024\n",
    "node_2 = 1024\n",
    "out_channel = 22\n",
    "\n",
    "learning_rate = 1e-3\n",
    "\n",
    "model_picture = PictureNet(in_channel, channel_1, channel_2, channel_3, node_1, node_2, out_channel)\n",
    "optimizer = optim.Adam(model_picture.parameters(), lr=learning_rate)\n",
    "epoch = 30\n",
    "\n",
    "train_picture(model_picture, optimizer, epoch)"
   ]
  },
  {
   "cell_type": "markdown",
   "metadata": {},
   "source": [
    "### Retrain with SGD"
   ]
  },
  {
   "cell_type": "code",
   "execution_count": 30,
   "metadata": {},
   "outputs": [
    {
     "name": "stdout",
     "output_type": "stream",
     "text": [
      "epoch 1: train_loss = 0.0002, val_loss = 0.0003\n",
      "epoch 2: train_loss = 0.0002, val_loss = 0.0003\n",
      "epoch 3: train_loss = 0.0002, val_loss = 0.0003\n",
      "epoch 4: train_loss = 0.0002, val_loss = 0.0003\n",
      "epoch 5: train_loss = 0.0002, val_loss = 0.0003\n",
      "epoch 6: train_loss = 0.0002, val_loss = 0.0003\n",
      "epoch 7: train_loss = 0.0002, val_loss = 0.0003\n",
      "epoch 8: train_loss = 0.0002, val_loss = 0.0003\n",
      "epoch 9: train_loss = 0.0002, val_loss = 0.0003\n",
      "epoch 10: train_loss = 0.0002, val_loss = 0.0003\n",
      "epoch 11: train_loss = 0.0002, val_loss = 0.0003\n",
      "epoch 12: train_loss = 0.0002, val_loss = 0.0003\n",
      "epoch 13: train_loss = 0.0002, val_loss = 0.0003\n",
      "epoch 14: train_loss = 0.0002, val_loss = 0.0003\n",
      "epoch 15: train_loss = 0.0002, val_loss = 0.0003\n",
      "epoch 16: train_loss = 0.0002, val_loss = 0.0003\n",
      "epoch 17: train_loss = 0.0002, val_loss = 0.0003\n",
      "epoch 18: train_loss = 0.0002, val_loss = 0.0003\n",
      "epoch 19: train_loss = 0.0002, val_loss = 0.0003\n",
      "epoch 20: train_loss = 0.0002, val_loss = 0.0003\n",
      "The model is saved at epoch = 20 and the loss = 0.00023731068648092927\n"
     ]
    },
    {
     "data": {
      "image/png": "[encoded data removed]",
      "text/plain": [
       "<Figure size 432x288 with 1 Axes>"
      ]
     },
     "metadata": {
      "needs_background": "light"
     },
     "output_type": "display_data"
    }
   ],
   "source": [
    "PATH_PIC = os.path.join(os.getcwd(), \"model_pic_augmentation.pt\")\n",
    "\n",
    "model_picture_trained = torch.load(PATH_PIC)\n",
    "\n",
    "learning_rate = 1e-4\n",
    "\n",
    "optimizer = optim.SGD(model_picture_trained.parameters(), lr=learning_rate)\n",
    "epoch = 20\n",
    "\n",
    "train_picture(model_picture_trained, optimizer, epoch)"
   ]
  },
  {
   "cell_type": "markdown",
   "metadata": {},
   "source": [
    "### Visualization of outcomes"
   ]
  },
  {
   "cell_type": "markdown",
   "metadata": {},
   "source": [
    "Spline Model Interpolation points"
   ]
  },
  {
   "cell_type": "code",
   "execution_count": 13,
   "metadata": {},
   "outputs": [
    {
     "name": "stdout",
     "output_type": "stream",
     "text": [
      "shape of YC = torch.Size([40, 11])\n"
     ]
    }
   ],
   "source": [
    "#Number of interpolation points to use for PhysicsNet and plotting\n",
    "Num_points = 80\n",
    "\n",
    "# Load YC matrix for point values and s data for interpolation\n",
    "data_s = pd.read_csv(\"Data_uniform/s.csv\", header= None)\n",
    "\n",
    "s = data_s.values\n",
    "s = s.reshape(1,len(s))\n",
    "\n",
    "# Interpolate to 160 points using a linear vector for s\n",
    "ss = np.linspace(s[0][0],s[0][-1],Num_points)\n",
    "\n",
    "data_YC = pd.read_csv(\"Data_uniform/YC.csv\", header= None)\n",
    "YC = torch.Tensor(data_YC.values)\n",
    "\n",
    "print(\"shape of YC =\", YC.shape)"
   ]
  },
  {
   "cell_type": "markdown",
   "metadata": {},
   "source": [
    "Plot difference Spline and ground truth"
   ]
  },
  {
   "cell_type": "code",
   "execution_count": 14,
   "metadata": {},
   "outputs": [
    {
     "name": "stdout",
     "output_type": "stream",
     "text": [
      "current testing batch = 2\n",
      "current testing image = 283\n",
      "shape of score_pic_pred[0, 0:11] = torch.Size([11])\n",
      "shape of test_y_pic_r = torch.Size([80])\n"
     ]
    }
   ],
   "source": [
    "PATH_PIC = os.path.join(os.getcwd(), \"model_pic_augmentation.pt\")\n",
    "\n",
    "model_picture_trained = torch.load(PATH_PIC)\n",
    "\n",
    "\n",
    "rand1 = random.randint(0, len(test_x_pic_augmentation)-1)\n",
    "rand2 = random.randint(0, len(test_x_pic_augmentation[rand1])-1)\n",
    "\n",
    "print(\"current testing batch =\", rand1)\n",
    "print(\"current testing image =\", rand2)\n",
    "\n",
    "score_pic_pred = prediction(model_picture_trained, test_x_pic_augmentation[rand1][rand2].reshape(1, 1, 82, 77))\n",
    "\n",
    "print(\"shape of score_pic_pred[0, 0:11] =\", score_pic_pred[0, 0:11].shape)\n",
    "\n",
    "## Prediction \n",
    "# Multiply the found Chebyshev coefficients with YC matrix to obtain edge points\n",
    "score_pic_r = torch.matmul(YC ,score_pic_pred[0, 0:11]) \n",
    "score_pic_z = torch.matmul(YC ,score_pic_pred[0, 11:22])\n",
    "\n",
    "# Do polynominal fitting through data to get more data points\n",
    "score_pic_r = np.polyval(np.polyfit(s[0],score_pic_r.numpy(),15), ss)\n",
    "score_pic_z = np.polyval(np.polyfit(s[0],score_pic_z.numpy(),15), ss)\n",
    "\n",
    "# Convert back to torch\n",
    "score_pic_r = torch.tensor(score_pic_r)\n",
    "score_pic_z = torch.tensor(score_pic_z)\n",
    "\n",
    "## Ground Truth\n",
    "# Multiply the found Chebyshev coefficients with YC matrix to obtain edge points\n",
    "test_y_pic_r = torch.matmul(YC ,test_y_pic_augmentation[rand1][rand2][0:11].float()) \n",
    "test_y_pic_z = torch.matmul(YC ,test_y_pic_augmentation[rand1][rand2][11:22].float()) \n",
    "\n",
    "# Do polynominal fitting through data to get more data points\n",
    "test_y_pic_r = np.polyval(np.polyfit(s[0],test_y_pic_r.numpy(),15), ss)\n",
    "test_y_pic_z = np.polyval(np.polyfit(s[0],test_y_pic_z.numpy(),15), ss)\n",
    "\n",
    "# Convert back to torch\n",
    "test_y_pic_r = torch.tensor(test_y_pic_r)\n",
    "test_y_pic_z = torch.tensor(test_y_pic_z)\n",
    "\n",
    "# Print all points out for viewing\n",
    "# for num in range(len(test_y_pic_r)):\n",
    "#    print(num+1, \": Ground Truths =\", test_y_pic_z[num].item(), \", Prediction =\", score_pic_z[num].item())\n",
    "\n",
    "print(\"shape of test_y_pic_r =\", test_y_pic_r.shape)"
   ]
  },
  {
   "cell_type": "code",
   "execution_count": 15,
   "metadata": {},
   "outputs": [
    {
     "data": {
      "image/png": "[encoded data removed]",
      "text/plain": [
       "<Figure size 504x504 with 1 Axes>"
      ]
     },
     "metadata": {},
     "output_type": "display_data"
    }
   ],
   "source": [
    "# scattering points for ground truth\n",
    "gt_r_pos = test_y_pic_r\n",
    "if gt_r_pos[-1] >= 0:\n",
    "    gt_r_neg = -torch.flip(test_y_pic_r, [0]) + 2*gt_r_pos[0]\n",
    "else:  \n",
    "    gt_r_neg = -torch.flip(test_y_pic_r, [0]) - gt_r_pos[0]\n",
    "gt_z_pos = test_y_pic_z\n",
    "gt_z_neg = torch.flip(test_y_pic_z, [0])\n",
    "gt_r = torch.cat((gt_r_neg, gt_r_pos))\n",
    "gt_z = torch.cat((gt_z_neg, gt_z_pos))\n",
    "\n",
    "# scattering points for prediction\n",
    "pred_r_pos = score_pic_r\n",
    "if pred_r_pos[-1] >= 0:\n",
    "    pred_r_neg = -torch.flip(score_pic_r, [0]) + 2*pred_r_pos[0]\n",
    "else:  \n",
    "    pred_r_neg = -torch.flip(score_pic_r, [0]) - pred_r_pos[0]\n",
    "pred_z_pos = score_pic_z\n",
    "pred_z_neg = torch.flip(score_pic_z, [0])\n",
    "pred_r = torch.cat((pred_r_neg, pred_r_pos))\n",
    "pred_z = torch.cat((pred_z_neg, pred_z_pos))\n",
    "\n",
    "# plotting\n",
    "fig, ax = plt.subplots(1,1,figsize=(7, 7),facecolor=(1, 1, 1))\n",
    "# a1 = fig.add_axes([0,0,1.5,1])\n",
    "# a1.set_xlim(0,3)\n",
    "# a1.set_title(\"Estimated drop edge versus ground truth\", fontsize = 15)\n",
    "ax.imshow(test_x_pic_augmentation[rand1][rand2][0],cmap='gray',aspect='auto', extent=(-3.5,3.5,-7,0.1), interpolation ='bilinear')\n",
    "plt.scatter(gt_r, gt_z, c=\"red\", label=\"ground truth\")\n",
    "plt.scatter(pred_r, pred_z, c=\"blue\", label=\"prediction\")\n",
    "\n",
    "plt.xlabel(\"rr\",fontsize = 15)\n",
    "plt.ylabel(\"zz\",fontsize = 15)\n",
    "plt.legend()\n",
    "plt.axis('equal')\n",
    "plt.show()"
   ]
  },
  {
   "cell_type": "markdown",
   "metadata": {},
   "source": [
    "## Train PhysicsNet for spline"
   ]
  },
  {
   "cell_type": "code",
   "execution_count": 20,
   "metadata": {},
   "outputs": [
    {
     "name": "stdout",
     "output_type": "stream",
     "text": [
      "epoch 1: train_loss = 1768.9754, val_loss = 1844.0981\n",
      "epoch 2: train_loss = 1366.9331, val_loss = 1419.8453\n",
      "epoch 3: train_loss = 1045.7162, val_loss = 1089.0650\n",
      "epoch 4: train_loss = 574.7630, val_loss = 598.2738\n",
      "epoch 5: train_loss = 374.3303, val_loss = 389.6936\n",
      "epoch 6: train_loss = 259.5365, val_loss = 271.1472\n",
      "epoch 7: train_loss = 100.3271, val_loss = 106.5467\n",
      "epoch 8: train_loss = 54.3326, val_loss = 57.6794\n",
      "epoch 9: train_loss = 18.3871, val_loss = 19.4066\n",
      "epoch 10: train_loss = 6.2968, val_loss = 6.5931\n",
      "epoch 11: train_loss = 3.5423, val_loss = 3.6780\n",
      "epoch 12: train_loss = 2.7326, val_loss = 2.8291\n",
      "epoch 13: train_loss = 1.8983, val_loss = 1.9574\n",
      "epoch 14: train_loss = 1.1939, val_loss = 1.2265\n",
      "epoch 15: train_loss = 1.3128, val_loss = 1.3714\n",
      "epoch 16: train_loss = 2.4067, val_loss = 2.5205\n",
      "epoch 17: train_loss = 0.8451, val_loss = 0.8840\n",
      "epoch 18: train_loss = 0.9245, val_loss = 0.9624\n",
      "epoch 19: train_loss = 1.8202, val_loss = 1.8785\n",
      "epoch 20: train_loss = 0.6953, val_loss = 0.7354\n",
      "epoch 21: train_loss = 0.6030, val_loss = 0.6204\n",
      "epoch 22: train_loss = 0.6103, val_loss = 0.6451\n",
      "epoch 23: train_loss = 1.0023, val_loss = 1.0251\n",
      "epoch 24: train_loss = 0.6756, val_loss = 0.7081\n",
      "epoch 25: train_loss = 0.9431, val_loss = 0.9833\n",
      "epoch 26: train_loss = 1.3293, val_loss = 1.3972\n",
      "epoch 27: train_loss = 0.5839, val_loss = 0.6215\n",
      "epoch 28: train_loss = 0.6562, val_loss = 0.6984\n",
      "epoch 29: train_loss = 0.3990, val_loss = 0.4162\n",
      "epoch 30: train_loss = 0.7866, val_loss = 0.8151\n",
      "epoch 31: train_loss = 0.8627, val_loss = 0.9093\n",
      "epoch 32: train_loss = 0.8323, val_loss = 0.8822\n",
      "epoch 33: train_loss = 1.6115, val_loss = 1.6930\n",
      "epoch 34: train_loss = 1.4335, val_loss = 1.5001\n",
      "epoch 35: train_loss = 0.7381, val_loss = 0.7779\n",
      "epoch 36: train_loss = 0.6407, val_loss = 0.6763\n",
      "epoch 37: train_loss = 0.4738, val_loss = 0.5004\n",
      "epoch 38: train_loss = 2.7746, val_loss = 2.8914\n",
      "epoch 39: train_loss = 0.4162, val_loss = 0.4407\n",
      "epoch 40: train_loss = 0.7650, val_loss = 0.8094\n",
      "epoch 41: train_loss = 0.5391, val_loss = 0.5727\n",
      "epoch 42: train_loss = 0.8962, val_loss = 0.9481\n",
      "epoch 43: train_loss = 0.5638, val_loss = 0.5987\n",
      "epoch 44: train_loss = 0.5545, val_loss = 0.5669\n",
      "epoch 45: train_loss = 1.6291, val_loss = 1.7316\n",
      "epoch 46: train_loss = 0.9238, val_loss = 0.9520\n",
      "epoch 47: train_loss = 0.5934, val_loss = 0.6376\n",
      "epoch 48: train_loss = 0.7573, val_loss = 0.8010\n",
      "epoch 49: train_loss = 0.4976, val_loss = 0.5166\n",
      "epoch 50: train_loss = 3.6019, val_loss = 3.8025\n",
      "epoch 51: train_loss = 0.3569, val_loss = 0.3780\n",
      "epoch 52: train_loss = 0.7642, val_loss = 0.8021\n",
      "epoch 53: train_loss = 1.0746, val_loss = 1.1110\n",
      "epoch 54: train_loss = 0.4178, val_loss = 0.4360\n",
      "epoch 55: train_loss = 1.0294, val_loss = 1.0667\n",
      "epoch 56: train_loss = 0.8990, val_loss = 0.9652\n",
      "epoch 57: train_loss = 0.6392, val_loss = 0.6532\n",
      "epoch 58: train_loss = 0.5168, val_loss = 0.5383\n",
      "epoch 59: train_loss = 0.6381, val_loss = 0.6682\n",
      "epoch 60: train_loss = 0.7183, val_loss = 0.7463\n",
      "epoch 61: train_loss = 1.0376, val_loss = 1.0832\n",
      "epoch 62: train_loss = 1.4173, val_loss = 1.4544\n",
      "epoch 63: train_loss = 0.6604, val_loss = 0.6822\n",
      "epoch 64: train_loss = 0.7216, val_loss = 0.7653\n",
      "epoch 65: train_loss = 1.8534, val_loss = 1.9418\n",
      "epoch 66: train_loss = 1.6393, val_loss = 1.6967\n",
      "epoch 67: train_loss = 0.5779, val_loss = 0.6119\n",
      "epoch 68: train_loss = 0.3999, val_loss = 0.4186\n",
      "epoch 69: train_loss = 0.3641, val_loss = 0.3782\n",
      "epoch 70: train_loss = 0.9805, val_loss = 1.0147\n",
      "epoch 71: train_loss = 2.0552, val_loss = 2.1495\n",
      "epoch 72: train_loss = 0.3379, val_loss = 0.3563\n",
      "epoch 73: train_loss = 0.3554, val_loss = 0.3753\n",
      "epoch 74: train_loss = 1.0385, val_loss = 1.0900\n",
      "epoch 75: train_loss = 0.2995, val_loss = 0.3139\n",
      "epoch 76: train_loss = 1.2125, val_loss = 1.2759\n",
      "epoch 77: train_loss = 0.6047, val_loss = 0.6366\n",
      "epoch 78: train_loss = 1.3912, val_loss = 1.4519\n",
      "epoch 79: train_loss = 0.3410, val_loss = 0.3568\n",
      "epoch 80: train_loss = 1.2183, val_loss = 1.2964\n",
      "epoch 81: train_loss = 0.4552, val_loss = 0.4679\n",
      "epoch 82: train_loss = 0.4166, val_loss = 0.4369\n",
      "epoch 83: train_loss = 0.3832, val_loss = 0.3958\n",
      "epoch 84: train_loss = 2.3731, val_loss = 2.5051\n",
      "epoch 85: train_loss = 0.3515, val_loss = 0.3665\n",
      "epoch 86: train_loss = 0.5690, val_loss = 0.5973\n",
      "epoch 87: train_loss = 0.8907, val_loss = 0.9514\n",
      "epoch 88: train_loss = 2.5234, val_loss = 2.6299\n",
      "epoch 89: train_loss = 1.5563, val_loss = 1.6130\n",
      "epoch 90: train_loss = 0.4867, val_loss = 0.5178\n",
      "epoch 91: train_loss = 0.6272, val_loss = 0.6614\n",
      "epoch 92: train_loss = 1.6754, val_loss = 1.7693\n",
      "epoch 93: train_loss = 1.1253, val_loss = 1.1829\n",
      "epoch 94: train_loss = 2.5030, val_loss = 2.6550\n",
      "epoch 95: train_loss = 0.7615, val_loss = 0.7940\n",
      "epoch 96: train_loss = 1.4954, val_loss = 1.5789\n",
      "epoch 97: train_loss = 5.0231, val_loss = 5.2434\n",
      "epoch 98: train_loss = 0.3668, val_loss = 0.3850\n",
      "epoch 99: train_loss = 1.0879, val_loss = 1.1293\n",
      "epoch 100: train_loss = 0.8981, val_loss = 0.9413\n",
      "The model is saved at epoch = 75 and the loss = 0.29947885061275065\n"
     ]
    },
    {
     "data": {
      "image/png": "[encoded data removed]",
      "text/plain": [
       "<Figure size 432x288 with 1 Axes>"
      ]
     },
     "metadata": {
      "needs_background": "light"
     },
     "output_type": "display_data"
    }
   ],
   "source": [
    "in_channel = 22\n",
    "node_1 = 512\n",
    "node_2 = 512\n",
    "node_3 = 256\n",
    "node_4 = 256\n",
    "node_5 = 64\n",
    "node_6 = 16\n",
    "out_channel = 2\n",
    "\n",
    "learning_rate = 1e-3\n",
    "\n",
    "model_physics = PhysicsNet(in_channel, node_1, node_2, node_3, node_4, node_5, node_6, out_channel)\n",
    "optimizer = optim.Adam(model_physics.parameters(), lr=learning_rate)\n",
    "epoch = 100\n",
    "\n",
    "train_physics(model_physics, optimizer, epoch)"
   ]
  },
  {
   "cell_type": "markdown",
   "metadata": {},
   "source": [
    "### Retrain with SGD"
   ]
  },
  {
   "cell_type": "code",
   "execution_count": 21,
   "metadata": {},
   "outputs": [
    {
     "name": "stdout",
     "output_type": "stream",
     "text": [
      "epoch 1: train_loss = 0.1763, val_loss = 0.1861\n",
      "epoch 2: train_loss = 0.1507, val_loss = 0.1608\n",
      "epoch 3: train_loss = 0.1431, val_loss = 0.1493\n",
      "epoch 4: train_loss = 0.1616, val_loss = 0.1713\n",
      "epoch 5: train_loss = 0.1544, val_loss = 0.1622\n",
      "epoch 6: train_loss = 0.2194, val_loss = 0.2309\n",
      "epoch 7: train_loss = 0.1740, val_loss = 0.1826\n",
      "epoch 8: train_loss = 0.1951, val_loss = 0.2060\n",
      "epoch 9: train_loss = 0.1591, val_loss = 0.1652\n",
      "epoch 10: train_loss = 0.1483, val_loss = 0.1553\n",
      "epoch 11: train_loss = 0.1807, val_loss = 0.1913\n",
      "epoch 12: train_loss = 0.2795, val_loss = 0.2935\n",
      "epoch 13: train_loss = 0.1677, val_loss = 0.1761\n",
      "epoch 14: train_loss = 0.1858, val_loss = 0.1941\n",
      "epoch 15: train_loss = 0.2316, val_loss = 0.2413\n",
      "epoch 16: train_loss = 0.2208, val_loss = 0.2316\n",
      "epoch 17: train_loss = 0.1592, val_loss = 0.1677\n",
      "epoch 18: train_loss = 0.1368, val_loss = 0.1439\n",
      "epoch 19: train_loss = 0.1462, val_loss = 0.1542\n",
      "epoch 20: train_loss = 0.1571, val_loss = 0.1636\n",
      "epoch 21: train_loss = 0.1307, val_loss = 0.1375\n",
      "epoch 22: train_loss = 0.1787, val_loss = 0.1880\n",
      "epoch 23: train_loss = 0.1679, val_loss = 0.1750\n",
      "epoch 24: train_loss = 0.1683, val_loss = 0.1783\n",
      "epoch 25: train_loss = 0.1293, val_loss = 0.1360\n",
      "epoch 26: train_loss = 0.1657, val_loss = 0.1743\n",
      "epoch 27: train_loss = 0.1867, val_loss = 0.1973\n",
      "epoch 28: train_loss = 0.1643, val_loss = 0.1711\n",
      "epoch 29: train_loss = 0.1514, val_loss = 0.1583\n",
      "epoch 30: train_loss = 0.2061, val_loss = 0.2137\n",
      "epoch 31: train_loss = 0.1424, val_loss = 0.1517\n",
      "epoch 32: train_loss = 0.1338, val_loss = 0.1394\n",
      "epoch 33: train_loss = 0.1877, val_loss = 0.1977\n",
      "epoch 34: train_loss = 0.1965, val_loss = 0.2047\n",
      "epoch 35: train_loss = 0.1822, val_loss = 0.1910\n",
      "epoch 36: train_loss = 0.1603, val_loss = 0.1686\n",
      "epoch 37: train_loss = 0.1812, val_loss = 0.1921\n",
      "epoch 38: train_loss = 0.1606, val_loss = 0.1667\n",
      "epoch 39: train_loss = 0.1641, val_loss = 0.1726\n",
      "epoch 40: train_loss = 0.1631, val_loss = 0.1731\n",
      "epoch 41: train_loss = 0.2091, val_loss = 0.2157\n",
      "epoch 42: train_loss = 0.1545, val_loss = 0.1605\n",
      "epoch 43: train_loss = 0.1418, val_loss = 0.1492\n",
      "epoch 44: train_loss = 0.1522, val_loss = 0.1616\n",
      "epoch 45: train_loss = 0.2986, val_loss = 0.3111\n",
      "epoch 46: train_loss = 0.1472, val_loss = 0.1534\n",
      "epoch 47: train_loss = 0.1796, val_loss = 0.1869\n",
      "epoch 48: train_loss = 0.1903, val_loss = 0.2007\n",
      "epoch 49: train_loss = 0.1711, val_loss = 0.1797\n",
      "epoch 50: train_loss = 0.1321, val_loss = 0.1382\n",
      "The model is saved at epoch = 50 and the loss = 0.1320847968834673\n"
     ]
    },
    {
     "data": {
      "image/png": "[encoded data removed]",
      "text/plain": [
       "<Figure size 432x288 with 1 Axes>"
      ]
     },
     "metadata": {
      "needs_background": "light"
     },
     "output_type": "display_data"
    }
   ],
   "source": [
    "PATH_CAL = os.path.join(os.getcwd(), \"model_cal_augmentation.pt\")\n",
    "\n",
    "model_physics_trained = torch.load(PATH_CAL)\n",
    "\n",
    "learning_rate = 1e-4\n",
    "\n",
    "optimizer = optim.SGD(model_physics_trained.parameters(), lr=learning_rate)\n",
    "epoch = 50\n",
    "\n",
    "train_physics(model_physics_trained, optimizer, epoch)"
   ]
  },
  {
   "cell_type": "code",
   "execution_count": 21,
   "metadata": {},
   "outputs": [
    {
     "name": "stdout",
     "output_type": "stream",
     "text": [
      "shape of x_test_augmentation = torch.Size([10955, 22])\n",
      "Score of Augmented points prediction (two-model solution) = [0.7478776574134827, 0.8541305065155029, 0.9107257127761841, 0.9416704773902893, 0.9594705700874329, 0.9694203734397888, 0.9777270555496216, 0.9834778904914856, 0.9866727590560913, 0.989319920539856]\n"
     ]
    },
    {
     "data": {
      "text/plain": [
       "<matplotlib.legend.Legend at 0x210397d3fd0>"
      ]
     },
     "execution_count": 21,
     "metadata": {},
     "output_type": "execute_result"
    },
    {
     "data": {
      "image/png": "[encoded data removed]",
      "text/plain": [
       "<Figure size 640x480 with 1 Axes>"
      ]
     },
     "metadata": {
      "needs_background": "light"
     },
     "output_type": "display_data"
    }
   ],
   "source": [
    "# load models\n",
    "PATH_CAL = os.path.join(os.getcwd(), \"model_cal_augmentation.pt\")\n",
    "\n",
    "model_physics_trained = torch.load(PATH_CAL, map_location='cpu')\n",
    "\n",
    "# get all testing data in torch format\n",
    "x_test_augmentation = split_augmentation.dataset.x_train[split_augmentation.test_sampler.indices]\n",
    "y_test_augmentation = split_augmentation.dataset.y_train[split_augmentation.test_sampler.indices]\n",
    "\n",
    "print(\"shape of x_test_augmentation =\", x_test_augmentation.shape)\n",
    "\n",
    "# predict\n",
    "pred_test_augmentation = model_physics_trained(x_test_augmentation)\n",
    "\n",
    "# set error margin to count as accurate\n",
    "error_list = torch.linspace(0.01, 0.05, steps=10)\n",
    "\n",
    "def score_cal(x, y, error):\n",
    "    diff = ~abs((x-y)/y).gt(error) \n",
    "    count = diff[:, 0]\n",
    "    return count.sum()/len(count)\n",
    "\n",
    "score_list_augmentation = []\n",
    "for i in range(len(error_list)):\n",
    "    score_list_augmentation.append(score_cal(pred_test_augmentation, y_test_augmentation, error_list[i]).item())\n",
    "\n",
    "print(\"Score of Augmented points prediction (two-model solution) =\", score_list_augmentation) \n",
    "plt.figure(figsize=(8, 6), dpi=80)\n",
    "plt.plot(error_list*100 , score_list_augmentation, 'or--', label='Augmented points prediction')\n",
    "plt.axis([0.9, 5.1, 0, 1.1])\n",
    "plt.xlabel('error')\n",
    "plt.ylabel('accuracy')\n",
    "plt.title('Model accuracy comparison')\n",
    "plt.grid()\n",
    "plt.legend()"
   ]
  },
  {
   "cell_type": "markdown",
   "metadata": {},
   "source": [
    "# Squential testing"
   ]
  },
  {
   "cell_type": "markdown",
   "metadata": {},
   "source": [
    "## Reload dataset for the alignment"
   ]
  },
  {
   "cell_type": "code",
   "execution_count": 61,
   "metadata": {},
   "outputs": [
    {
     "name": "stdout",
     "output_type": "stream",
     "text": [
      "172 172 22 22 22 22\n"
     ]
    }
   ],
   "source": [
    "# converting the list to numpy array\n",
    "train_x_test = np.array(train_img)\n",
    "train_y_test = data_image_augmentation.iloc[0:,0:2].values\n",
    "\n",
    "train_x_test, train_y_test, val_x_test, val_y_test, test_x_test, test_y_test = \\\n",
    "    split_n_transfer(train_x_test, train_y_test)\n",
    "\n",
    "train_x_test, train_y_test, val_x_test, val_y_test, test_x_test, test_y_test = \\\n",
    "    batch_all(train_x_test, train_y_test, val_x_test, val_y_test, test_x_test, test_y_test)\n",
    "\n",
    "print(len(train_x_test), len(train_y_test), len(val_x_test), len(val_y_test), len(test_x_test), len(test_y_test))"
   ]
  },
  {
   "cell_type": "markdown",
   "metadata": {},
   "source": [
    "## Call PictureNet and get prediction for PhysicsNet"
   ]
  },
  {
   "cell_type": "code",
   "execution_count": 65,
   "metadata": {},
   "outputs": [
    {
     "name": "stdout",
     "output_type": "stream",
     "text": [
      "torch.Size([100, 22])\n",
      "tensor([[ 7.1262e-01,  5.5597e-01, -5.1170e-01,  ...,  1.3914e-03,\n",
      "          3.7124e-03,  3.5944e-04],\n",
      "        [ 4.3498e-01,  5.4894e-01, -5.2296e-01,  ...,  2.2177e-03,\n",
      "          4.2562e-03, -1.1320e-03],\n",
      "        [ 8.3004e-01,  5.4100e-01, -5.8945e-01,  ...,  4.5023e-03,\n",
      "          2.4967e-03, -1.1116e-03],\n",
      "        ...,\n",
      "        [-7.8190e-02,  5.4496e-01, -2.5189e-01,  ..., -2.8271e-03,\n",
      "          3.0743e-04,  4.3775e-03],\n",
      "        [ 4.8444e-01,  5.4172e-01, -5.4876e-01,  ...,  4.4038e-03,\n",
      "          2.0653e-03, -3.8731e-03],\n",
      "        [-1.5540e-01,  5.5500e-01, -4.2133e-01,  ..., -1.3773e-03,\n",
      "         -1.5484e-03, -2.4918e-03]], grad_fn=<AddmmBackward0>)\n"
     ]
    }
   ],
   "source": [
    "# load model\n",
    "PATH_PIC = os.path.join(os.getcwd(), \"model_pic_augmentation.pt\")\n",
    "model_picture_trained = torch.load(PATH_PIC, map_location='cpu')\n",
    "\n",
    "# transfer from batches back into one\n",
    "for i in range(len(test_x_test)):\n",
    "    if i == 0:\n",
    "        x_test = test_x_test[i]\n",
    "        y_test = test_y_test[i]\n",
    "        counter = True\n",
    "    else:\n",
    "        x_test = torch.cat([x_test, test_x_test[i]], dim=0)\n",
    "        y_test = torch.cat([y_test, test_y_test[i]], dim=0)\n",
    "\n",
    "# cropping bc not enough memory\n",
    "x = x_test[0:100, :, :, :]\n",
    "y = y_test[0:100, :]\n",
    "\n",
    "# make prediction\n",
    "test1 = model_picture_trained(x)\n",
    "print(test1.shape)"
   ]
  },
  {
   "cell_type": "markdown",
   "metadata": {},
   "source": [
    "## Call PhysicsNet and get prediction for tension"
   ]
  },
  {
   "cell_type": "code",
   "execution_count": 67,
   "metadata": {},
   "outputs": [
    {
     "name": "stdout",
     "output_type": "stream",
     "text": [
      "torch.Size([100, 2])\n",
      "tensor([[63.3459, 22.5625],\n",
      "        [76.0346, 28.2848],\n",
      "        [55.2859, 20.8903],\n",
      "        [45.8458, 16.4484],\n",
      "        [52.2656, 18.6733],\n",
      "        [80.3591, 28.7617],\n",
      "        [43.8337, 18.1436],\n",
      "        [26.1845,  7.4311],\n",
      "        [48.8951, 18.3786]], grad_fn=<SliceBackward0>)\n",
      "tensor([[80.2000, 23.4156],\n",
      "        [81.4000, 30.2520],\n",
      "        [55.2000, 21.5706],\n",
      "        [48.2000, 17.1008],\n",
      "        [51.8000, 19.2771],\n",
      "        [87.3000, 29.3464],\n",
      "        [41.2000, 17.9910],\n",
      "        [24.4000,  7.2028],\n",
      "        [47.2000, 18.6353]], dtype=torch.float64)\n"
     ]
    }
   ],
   "source": [
    "# load model\n",
    "PATH_CAL = os.path.join(os.getcwd(), \"model_cal_augmentation.pt\")\n",
    "model_physics_trained = torch.load(PATH_CAL, map_location='cpu')\n",
    "\n",
    "# make prediction\n",
    "test2 = model_physics_trained(test1)\n",
    "print(test2.shape)\n",
    "print(test2[1:10])\n",
    "print(y[1:10])"
   ]
  },
  {
   "cell_type": "markdown",
   "metadata": {},
   "source": [
    "## Print results"
   ]
  },
  {
   "cell_type": "code",
   "execution_count": 75,
   "metadata": {},
   "outputs": [
    {
     "name": "stdout",
     "output_type": "stream",
     "text": [
      "Score of Augmented points prediction (two-model solution) = [0.12999999523162842, 0.3100000023841858, 0.4300000071525574, 0.5600000023841858, 0.6899999976158142, 0.7599999904632568, 0.800000011920929, 0.8199999928474426, 0.8799999952316284, 0.8999999761581421]\n"
     ]
    },
    {
     "data": {
      "text/plain": [
       "<matplotlib.legend.Legend at 0x21358de4b50>"
      ]
     },
     "execution_count": 75,
     "metadata": {},
     "output_type": "execute_result"
    },
    {
     "data": {
      "image/png": "[encoded data removed]",
      "text/plain": [
       "<Figure size 640x480 with 1 Axes>"
      ]
     },
     "metadata": {
      "needs_background": "light"
     },
     "output_type": "display_data"
    }
   ],
   "source": [
    "# set error margin to count as accurate\n",
    "error_list = torch.linspace(0.01, 0.20, steps=10)\n",
    "\n",
    "def score_cal(x, y, error):\n",
    "    diff = ~abs((x-y)/y).gt(error) \n",
    "    count = diff[:, 0]\n",
    "    return count.sum()/len(count)\n",
    "\n",
    "score_list_test = []\n",
    "for i in range(len(error_list)):\n",
    "    score_list_test.append(score_cal(test2, y, error_list[i]).item())\n",
    "\n",
    "print(\"Score of Augmented points prediction (two-model solution) =\", score_list_test) \n",
    "plt.figure(figsize=(8, 6), dpi=80)\n",
    "plt.plot(error_list*100 , score_list_test, 'or--', label='Augmented points prediction')\n",
    "plt.xlabel('error(%)')\n",
    "plt.ylabel('score')\n",
    "plt.title('Model score comparison')\n",
    "plt.grid()\n",
    "plt.legend()"
   ]
  },
  {
   "cell_type": "code",
   "execution_count": null,
   "metadata": {},
   "outputs": [],
   "source": []
  }
 ],
 "metadata": {
  "kernelspec": {
   "display_name": "Python 3.8.10 64-bit",
   "language": "python",
   "name": "python3"
  },
  "language_info": {
   "codemirror_mode": {
    "name": "ipython",
    "version": 3
   },
   "file_extension": ".py",
   "mimetype": "text/x-python",
   "name": "python",
   "nbconvert_exporter": "python",
   "pygments_lexer": "ipython3",
   "version": "3.8.10"
  },
  "orig_nbformat": 4,
  "vscode": {
   "interpreter": {
    "hash": "64def4006c78149665c79cf5850ee76c9e416630a0d9e75e41ff194dcaf5fb2b"
   }
  }
 },
 "nbformat": 4,
 "nbformat_minor": 2
}
