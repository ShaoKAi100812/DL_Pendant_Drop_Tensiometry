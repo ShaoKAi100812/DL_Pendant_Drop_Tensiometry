{
 "cells": [
  {
   "cell_type": "markdown",
   "metadata": {},
   "source": [
    "# For spline (two-model) method training only"
   ]
  },
  {
   "cell_type": "markdown",
   "metadata": {},
   "source": [
    "### Import necessary packages and self-defined classes"
   ]
  },
  {
   "cell_type": "code",
   "execution_count": 24,
   "metadata": {},
   "outputs": [],
   "source": [
    "# pyplot\n",
    "import matplotlib.pyplot as plt\n",
    "# pytorch\n",
    "import torch\n",
    "import torch.optim as optim\n",
    "import torch.nn.functional as F  # useful stateless functions\n",
    "# Test/Train data split\n",
    "from functools import lru_cache\n",
    "from torch.utils.data import DataLoader, Dataset\n",
    "from torch.utils.data.sampler import SubsetRandomSampler\n",
    "import numpy as np\n",
    "import logging\n",
    "# sklearn\n",
    "from sklearn import preprocessing\n",
    "# os\n",
    "import os\n",
    "# warnings\n",
    "import warnings\n",
    "warnings.filterwarnings('ignore')\n",
    "# random\n",
    "import random\n",
    "# math\n",
    "import math\n",
    "import scipy.interpolate\n",
    "# self-defined model\n",
    "from model_pic import *\n",
    "from model_cal import *\n",
    "from model_one import *\n",
    "import pandas as pd\n",
    "\n",
    "#PictureNet\n",
    "from PIL import Image\n",
    "from skimage.io import imread\n",
    "from sklearn.model_selection import train_test_split"
   ]
  },
  {
   "cell_type": "markdown",
   "metadata": {},
   "source": [
    "### Augamented dataset loading and preprocessing"
   ]
  },
  {
   "cell_type": "code",
   "execution_count": 25,
   "metadata": {},
   "outputs": [],
   "source": [
    "class DataSplit:\n",
    "\n",
    "    def __init__(self, dataset, test_train_split=0.9, val_train_split=0.1, shuffle=False):\n",
    "        self.dataset = dataset\n",
    "\n",
    "        dataset_size = len(dataset)\n",
    "        self.indices = list(range(dataset_size))\n",
    "        test_split = int(np.floor(test_train_split * dataset_size))\n",
    "\n",
    "        if shuffle:\n",
    "            np.random.shuffle(self.indices)\n",
    "\n",
    "        train_indices, self.test_indices = self.indices[:test_split], self.indices[test_split:]\n",
    "        train_size = len(train_indices)\n",
    "        validation_split = int(np.floor((1 - val_train_split) * train_size))\n",
    "\n",
    "        self.train_indices, self.val_indices = train_indices[:validation_split], train_indices[validation_split:]\n",
    "\n",
    "        self.train_sampler = SubsetRandomSampler(self.train_indices)\n",
    "        self.val_sampler = SubsetRandomSampler(self.val_indices)\n",
    "        self.test_sampler = SubsetRandomSampler(self.test_indices)\n",
    "    \n",
    "    def get_train_split_point(self):\n",
    "        return len(self.train_sampler) + len(self.val_indices)\n",
    "\n",
    "    def get_validation_split_point(self):\n",
    "        return len(self.train_sampler)\n",
    "\n",
    "    @lru_cache(maxsize=4)\n",
    "    def get_split(self, batch_size=64, num_workers=0):\n",
    "        logging.debug('Initializing train-validation-test dataloaders')\n",
    "        self.train_loader = self.get_train_loader(batch_size=batch_size, num_workers=num_workers)\n",
    "        self.val_loader = self.get_validation_loader(batch_size=batch_size, num_workers=num_workers)\n",
    "        self.test_loader = self.get_test_loader(batch_size=batch_size, num_workers=num_workers)\n",
    "        return self.train_loader, self.val_loader, self.test_loader\n",
    "\n",
    "    @lru_cache(maxsize=4)\n",
    "    def get_train_loader(self, batch_size=64, num_workers=0):\n",
    "        logging.debug('Initializing train dataloader')\n",
    "        self.train_loader = DataLoader(self.dataset, batch_size=batch_size, sampler=self.train_sampler, shuffle=False, num_workers=num_workers)\n",
    "        return self.train_loader\n",
    "\n",
    "    @lru_cache(maxsize=4)\n",
    "    def get_validation_loader(self, batch_size=64, num_workers=0):\n",
    "        logging.debug('Initializing validation dataloader')\n",
    "        self.val_loader = DataLoader(self.dataset, batch_size=batch_size, sampler=self.val_sampler, shuffle=False, num_workers=num_workers)\n",
    "        return self.val_loader\n",
    "\n",
    "    @lru_cache(maxsize=4)\n",
    "    def get_test_loader(self, batch_size=64, num_workers=0):\n",
    "        logging.debug('Initializing test dataloader')\n",
    "        self.test_loader = DataLoader(self.dataset, batch_size=batch_size, sampler=self.test_sampler, shuffle=False, num_workers=num_workers)\n",
    "        return self.test_loader"
   ]
  },
  {
   "cell_type": "markdown",
   "metadata": {},
   "source": [
    "### Load data for PhysicsNet"
   ]
  },
  {
   "cell_type": "code",
   "execution_count": 26,
   "metadata": {},
   "outputs": [
    {
     "name": "stdout",
     "output_type": "stream",
     "text": [
      "         0         1          2         3         4         5         6   \\\n",
      "0      15.1   5.10061  14.150364  0.641996  0.560755 -0.204328 -0.058190   \n",
      "1      15.1   5.20122  13.846032  0.643660  0.560057 -0.206831 -0.056986   \n",
      "2      15.1   5.30183  13.542532  0.645277  0.559330 -0.209271 -0.055732   \n",
      "3      15.1   5.40244  13.239690  0.646846  0.558572 -0.211646 -0.054425   \n",
      "4      15.1   5.50305  12.937316  0.648367  0.557781 -0.213957 -0.053062   \n",
      "...     ...       ...        ...       ...       ...       ...       ...   \n",
      "24742  86.1  25.28098  68.539411  0.889489  0.557742 -0.559551 -0.052669   \n",
      "24743  86.1  25.81469  67.593048  0.892798  0.556636 -0.564524 -0.050794   \n",
      "24744  86.1  26.34840  66.662881  0.896025  0.555496 -0.569388 -0.048861   \n",
      "24745  86.1  26.88211  65.747951  0.899170  0.554318 -0.574146 -0.046868   \n",
      "24746  86.1  27.41582  64.847338  0.902236  0.553103 -0.578799 -0.044812   \n",
      "\n",
      "             7         8         9   ...        15        16        17  \\\n",
      "0      0.073569 -0.004100 -0.013163  ...  1.121736  0.132903 -0.177839   \n",
      "1      0.074633 -0.004738 -0.013435  ...  1.137861  0.133661 -0.180555   \n",
      "2      0.075681 -0.005403 -0.013707  ...  1.154047  0.134405 -0.183274   \n",
      "3      0.076712 -0.006095 -0.013980  ...  1.170311  0.135135 -0.185999   \n",
      "4      0.077728 -0.006815 -0.014253  ...  1.186667  0.135851 -0.188732   \n",
      "...         ...       ...       ...  ...       ...       ...       ...   \n",
      "24742  0.199905 -0.007579 -0.034699  ...  2.243991  0.203612 -0.379882   \n",
      "24743  0.202004 -0.008527 -0.035211  ...  2.269844  0.205086 -0.383941   \n",
      "24744  0.204077 -0.009501 -0.035725  ...  2.295674  0.206566 -0.387971   \n",
      "24745  0.206125 -0.010503 -0.036240  ...  2.321496  0.208054 -0.391974   \n",
      "24746  0.208150 -0.011534 -0.036757  ...  2.347329  0.209550 -0.395954   \n",
      "\n",
      "             18        19        20        21        22        23        24  \n",
      "0     -0.036451  0.026592  0.000080 -0.004749  0.001136  0.000689 -0.000318  \n",
      "1     -0.036399  0.027049 -0.000124 -0.004824  0.001213  0.000696 -0.000337  \n",
      "2     -0.036334  0.027502 -0.000335 -0.004896  0.001293  0.000702 -0.000357  \n",
      "3     -0.036256  0.027950 -0.000554 -0.004965  0.001375  0.000707 -0.000377  \n",
      "4     -0.036166  0.028394 -0.000780 -0.005030  0.001460  0.000711 -0.000399  \n",
      "...         ...       ...       ...       ...       ...       ...       ...  \n",
      "24742 -0.049489  0.067531 -0.004278 -0.013421  0.002814  0.002137 -0.000635  \n",
      "24743 -0.049304  0.068179 -0.004714 -0.013574  0.002956  0.002166 -0.000664  \n",
      "24744 -0.049110  0.068811 -0.005159 -0.013724  0.003101  0.002194 -0.000693  \n",
      "24745 -0.048905  0.069428 -0.005614 -0.013869  0.003250  0.002221 -0.000723  \n",
      "24746 -0.048690  0.070031 -0.006079 -0.014011  0.003402  0.002249 -0.000754  \n",
      "\n",
      "[24747 rows x 25 columns]\n"
     ]
    }
   ],
   "source": [
    "data_matrix_augmentation = pd.read_csv(\"pendant_drop/Data_Hole/Spline_Hole.csv\", header= None)\n",
    "print(data_matrix_augmentation)\n",
    "\n",
    "# Make the droplet dataset class based on data_matrix\n",
    "class Droplet_data_set(Dataset):\n",
    "    def __init__(self,dataInput):\n",
    "        x = dataInput.iloc[0:,3:].values\n",
    "        y = dataInput.iloc[0:,0:2].values\n",
    "        # x = np.random.normal(x,0.01)\n",
    "        y0 = dataInput.iloc[:,0].values\n",
    "        y1 = dataInput.iloc[:,1].values\n",
    "        \n",
    "        # Plot surface tension histogram\n",
    "        n, bins, patches = plt.hist(x=y0, bins='auto', color='#0504aa',\n",
    "                                    alpha=0.7, rwidth=0.85)\n",
    "        plt.grid(axis='y', alpha=0.75)\n",
    "        plt.xlabel('Surface Tension[mN/m]')\n",
    "        plt.ylabel('Frequency')\n",
    "        plt.title('Occurence of data per Surface Tension')\\\n",
    "\n",
    "        # Plot volume histogram\n",
    "        # n, bins, patches = plt.hist(x=y1, bins='auto', color='#0504aa',\n",
    "        #                             alpha=0.7, rwidth=0.85)\n",
    "        # plt.grid(axis='y', alpha=0.75)\n",
    "        # plt.xlabel('Volume[mm^3]')\n",
    "        # plt.ylabel('Frequency')\n",
    "        # plt.title('Occurence of data per Volume')\n",
    "\n",
    "        self.x_train = torch.tensor(x,dtype=torch.float32)\n",
    "        self.y_train = torch.tensor(y,dtype=torch.float32)\n",
    "        \n",
    "    def __getitem__(self, idx):\n",
    "        return self.x_train[idx],self.y_train[idx]\n",
    "    \n",
    "    def __len__(self):\n",
    "         return len(self.y_train)\n",
    "        "
   ]
  },
  {
   "cell_type": "code",
   "execution_count": 35,
   "metadata": {},
   "outputs": [
    {
     "data": {
      "image/png": "[encoded data removed]",
      "text/plain": [
       "<Figure size 432x288 with 1 Axes>"
      ]
     },
     "metadata": {
      "needs_background": "light"
     },
     "output_type": "display_data"
    }
   ],
   "source": [
    "my_data_set_augmentation = Droplet_data_set(data_matrix_augmentation)\n",
    "split_augmentation = DataSplit(my_data_set_augmentation, shuffle=True)  # Split the single dataset into 3 datasets for training, test and validation.\n",
    "train_loader_augmentation, val_loader_augmentation, test_loader_augmentation = split_augmentation.get_split(batch_size=512, num_workers=0)"
   ]
  },
  {
   "cell_type": "markdown",
   "metadata": {},
   "source": [
    "### Load data for PictureNet\n",
    "Read image from files"
   ]
  },
  {
   "cell_type": "code",
   "execution_count": 29,
   "metadata": {},
   "outputs": [],
   "source": [
    "train_img = []\n",
    "data_matrix_augmentation = pd.read_csv(\"pendant_drop/Data_Hole/Spline_Hole.csv\", header= None)\n",
    "data_image_augmentation = data_matrix_augmentation\n",
    "\n",
    "for img_name in data_image_augmentation.iloc[0:,3:].index + 1:      # modify the number depends on size of dataset\n",
    "    # defining the image path\n",
    "    image_path = 'pendant_drop/Data_Hole/' + str(img_name) + '.png'      # modify the path depends on which dataset\n",
    "    # reading the image\n",
    "    img = imread(image_path, as_gray=True)\n",
    "    img = img[4:-4, 4:-4]  #crop \n",
    "    # normalizing the pixel values\n",
    "    img /= 255.0\n",
    "    # converting the type of pixel to float 32\n",
    "    img = img.astype('float32')\n",
    "    # appending the image into the list\n",
    "    train_img.append(img)"
   ]
  },
  {
   "cell_type": "markdown",
   "metadata": {},
   "source": [
    "<font color=red> Wrong sample size between picture and csv file!!!"
   ]
  },
  {
   "cell_type": "code",
   "execution_count": 43,
   "metadata": {},
   "outputs": [
    {
     "name": "stdout",
     "output_type": "stream",
     "text": [
      "24747\n"
     ]
    }
   ],
   "source": [
    "print(len(train_img))"
   ]
  },
  {
   "cell_type": "markdown",
   "metadata": {},
   "source": [
    "Plot a single image for viewing"
   ]
  },
  {
   "cell_type": "code",
   "execution_count": 44,
   "metadata": {},
   "outputs": [
    {
     "name": "stdout",
     "output_type": "stream",
     "text": [
      "Current image = 18811\n",
      "Picture size = (82, 77)\n"
     ]
    },
    {
     "data": {
      "text/plain": [
       "<matplotlib.image.AxesImage at 0x1de6133cd30>"
      ]
     },
     "execution_count": 44,
     "metadata": {},
     "output_type": "execute_result"
    },
    {
     "data": {
      "image/png": "[encoded data removed]",
      "text/plain": [
       "<Figure size 432x288 with 1 Axes>"
      ]
     },
     "metadata": {
      "needs_background": "light"
     },
     "output_type": "display_data"
    }
   ],
   "source": [
    "rand = random.randint(1, len(train_img))\n",
    "print(\"Current image =\", rand)\n",
    "print(\"Picture size =\", train_img[rand].shape)\n",
    "plt.imshow(train_img[rand], cmap='gray')\n"
   ]
  },
  {
   "cell_type": "markdown",
   "metadata": {},
   "source": [
    "Define the function"
   ]
  },
  {
   "cell_type": "code",
   "execution_count": 31,
   "metadata": {},
   "outputs": [],
   "source": [
    "# Split and transfer the data from list to torch format\n",
    "def split_n_transfer(x, y):\n",
    "    # Points data split\n",
    "    train_x_pic, rem_x_pic, train_y_pic, rem_y_pic = train_test_split(x, y, test_size = 0.2)    # default shuffle = True\n",
    "    val_x_pic, test_x_pic, val_y_pic, test_y_pic = train_test_split(rem_x_pic, rem_y_pic, test_size = 0.5)\n",
    "\n",
    "    # converting the train images of points and targets into torch format\n",
    "    train_x_pic = train_x_pic.reshape(len(train_x_pic), 1, 82, 77)\n",
    "    train_x_pic = torch.from_numpy(train_x_pic)\n",
    "    train_y_pic = torch.from_numpy(train_y_pic)\n",
    "\n",
    "    # converting the val images and target points into torch format\n",
    "    val_x_pic = val_x_pic.reshape(len(val_x_pic), 1, 82, 77)\n",
    "    val_x_pic = torch.from_numpy(val_x_pic)\n",
    "    val_y_pic = torch.from_numpy(val_y_pic)\n",
    "    # print(val_x_pic.shape, val_y_pic.shape)\n",
    "\n",
    "    # converting the test images and targets into torch format for points\n",
    "    test_x_pic = test_x_pic.reshape(len(test_x_pic), 1, 82, 77)\n",
    "    test_x_pic  = torch.from_numpy(test_x_pic)\n",
    "    test_y_pic = torch.from_numpy(test_y_pic)\n",
    "    # print(test_x_pic.shape, test_y_pic.shape)\n",
    "    \n",
    "    return train_x_pic, train_y_pic, val_x_pic, val_y_pic, test_x_pic, test_y_pic\n",
    "\n",
    "# converting the dataset into mini-batch dataset (input 4D -> 5D and 2D -> 3D)\n",
    "def batch_transform(dataset, batch_size=512):\n",
    "    batch = []\n",
    "    batch_num = math.ceil(len(dataset)/batch_size)\n",
    "    for i in range(batch_num):\n",
    "        if len(dataset) == 4:\n",
    "            if i < batch_num-1:\n",
    "                batch.append(dataset[i*batch_size:(i+1)*batch_size, :, :, :])\n",
    "            else:\n",
    "                batch.append(dataset[i*batch_size:, :, :, :])\n",
    "        else:\n",
    "            if i < batch_num-1:\n",
    "                batch.append(dataset[i*batch_size:(i+1)*batch_size, :])\n",
    "            else:\n",
    "                batch.append(dataset[i*batch_size:, :])\n",
    "    return batch\n",
    "\n",
    "# converting all raw datasets into batch datasets in the same time\n",
    "def batch_all(train_x, train_y, val_x, val_y, test_x, test_y):\n",
    "    train_x_pic = batch_transform(train_x)\n",
    "    train_y_pic = batch_transform(train_y)\n",
    "    val_x_pic = batch_transform(val_x)\n",
    "    val_y_pic = batch_transform(val_y)\n",
    "    test_x_pic = batch_transform(test_x)\n",
    "    test_y_pic = batch_transform(test_y)\n",
    "    return train_x_pic, train_y_pic, val_x_pic, val_y_pic, test_x_pic, test_y_pic"
   ]
  },
  {
   "cell_type": "markdown",
   "metadata": {},
   "source": [
    "Create and splite the dataset for edge point model"
   ]
  },
  {
   "cell_type": "code",
   "execution_count": 33,
   "metadata": {},
   "outputs": [
    {
     "name": "stdout",
     "output_type": "stream",
     "text": [
      "39 39 5 5 5 5\n"
     ]
    }
   ],
   "source": [
    "# converting the list to numpy array\n",
    "train_x_pic = np.array(train_img)\n",
    "train_y_pic_augmentation = data_image_augmentation.iloc[0:,3:].values\n",
    "\n",
    "train_x_pic_augmentation, train_y_pic_augmentation, val_x_pic_augmentation, val_y_pic_augmentation, test_x_pic_augmentation, test_y_pic_augmentation = \\\n",
    "    split_n_transfer(train_x_pic, train_y_pic_augmentation)\n",
    "\n",
    "train_x_pic_augmentation, train_y_pic_augmentation, val_x_pic_augmentation, val_y_pic_augmentation, test_x_pic_augmentation, test_y_pic_augmentation = \\\n",
    "    batch_all(train_x_pic_augmentation, train_y_pic_augmentation, val_x_pic_augmentation, val_y_pic_augmentation, test_x_pic_augmentation, test_y_pic_augmentation)\n",
    "    \n",
    "print(len(train_x_pic_augmentation), len(train_y_pic_augmentation), len(val_x_pic_augmentation), \\\n",
    "    len(val_y_pic_augmentation), len(test_x_pic_augmentation), len(test_y_pic_augmentation))\n"
   ]
  },
  {
   "cell_type": "markdown",
   "metadata": {},
   "source": [
    "### Deside to apply host or device\n"
   ]
  },
  {
   "cell_type": "code",
   "execution_count": 34,
   "metadata": {},
   "outputs": [
    {
     "name": "stdout",
     "output_type": "stream",
     "text": [
      "cuda\n"
     ]
    }
   ],
   "source": [
    "USE_GPU = True\n",
    "if USE_GPU and torch.cuda.is_available():\n",
    "    device = torch.device('cuda')\n",
    "else:\n",
    "    device = torch.device('cpu')\n",
    "print(device)"
   ]
  },
  {
   "cell_type": "markdown",
   "metadata": {},
   "source": [
    "## Define the functions for models"
   ]
  },
  {
   "cell_type": "code",
   "execution_count": 38,
   "metadata": {},
   "outputs": [],
   "source": [
    "def loss_cal_phiysics(loss_list, model, loader):\n",
    "    model.eval()  # set model to evaluation mode\n",
    "    with torch.no_grad():\n",
    "        loss_epoch = 0\n",
    "        for t, (x, y) in enumerate(loader):\n",
    "            x = x.to(device=device, dtype=torch.float32)  # move to device, e.g. GPU\n",
    "            y = y.to(device=device, dtype=torch.float32)\n",
    "            scores = model(x)\n",
    "            loss = F.mse_loss(scores, y)\n",
    "            loss_epoch += loss\n",
    "        loss_list.append(loss_epoch.cpu().data.numpy()/t)\n",
    "\n",
    "def loss_cal_picture(loss_list, model, x_dataset, y_dataset):\n",
    "    model.eval()  # set model to evaluation mode\n",
    "    with torch.no_grad():\n",
    "        loss_epoch = 0\n",
    "        for t in range(len(x_dataset)):\n",
    "            x = x_dataset[t]\n",
    "            y = y_dataset[t]\n",
    "            x = x.to(device=device, dtype=torch.float32)  # move to device, e.g. GPU\n",
    "            y = y.to(device=device, dtype=torch.float32)\n",
    "            scores = model(x)\n",
    "            loss = F.mse_loss(scores, y)\n",
    "            loss_epoch += loss\n",
    "        loss_list.append(loss_epoch.cpu().data.numpy()/t)\n",
    "\n",
    "def prediction(model, x):   # only a batch\n",
    "    model = model.to(device=device)\n",
    "    model.eval()  # set model to evaluation mode\n",
    "    with torch.no_grad():\n",
    "        x = x.to(device=device, dtype=torch.float32)\n",
    "        score = torch.Tensor.cpu(model(x))\n",
    "    return score\n",
    "\n",
    "def model_selection(model, path, loss, epoch_current, epoch_ref, loss_ref):\n",
    "    loss_best = loss_ref\n",
    "    epoch_best = epoch_ref\n",
    "    if epoch_current == 0 and ~(os.path.isdir(path)):\n",
    "            loss_current = loss[epoch_current]\n",
    "            loss_best = loss[epoch_current]\n",
    "            torch.save(model, path)\n",
    "    else:\n",
    "        loss_current = loss[epoch_current]\n",
    "        if loss_current <= (loss_best * 1.1):   # 10% margin to get better fitting but a bit more loss\n",
    "            loss_best = loss_current\n",
    "            epoch_best = epoch_current\n",
    "            torch.save(model, path)\n",
    "    return loss_best, epoch_best\n",
    "\n",
    "def train_physics(model, optimizer, epochs=1):\n",
    "    loss_train = []\n",
    "    loss_val = []\n",
    "    loss_best = 0\n",
    "    epoch_best = 0\n",
    "    \n",
    "    train_loader = train_loader_augmentation\n",
    "    val_loader = val_loader_augmentation\n",
    "    PATH_CAL = os.path.join(os.getcwd(), \"model_cal_augmentation.pt\")\n",
    "\n",
    "    model = model.to(device=device)  # move the model parameters to CPU/GPU\n",
    "    for e in range(epochs):\n",
    "        for _, (x, y) in enumerate(train_loader):\n",
    "            x = x.reshape(len(x), 1, 1, -1)     # reshape to 4D data for formal input of model\n",
    "            model.train()  # put model to training mode\n",
    "            x = x.to(device=device, dtype=torch.float32)  # move to device, e.g. GPU\n",
    "            y = y.to(device=device, dtype=torch.float32)\n",
    "            scores = model(x)\n",
    "            loss = F.mse_loss(scores, y)\n",
    "\n",
    "            optimizer.zero_grad()\n",
    "            loss.backward()\n",
    "            optimizer.step()\n",
    "        loss_cal_phiysics(loss_train, model, train_loader)\n",
    "        loss_cal_phiysics(loss_val, model, val_loader)\n",
    "        print('epoch %d: train_loss = %.4f, val_loss = %.4f' % (e+1, loss_train[e], loss_val[e]))\n",
    "\n",
    "        # selecting the best model to save\n",
    "        loss_best, epoch_best = model_selection(model, PATH_CAL, loss_train, e, epoch_best, loss_best)\n",
    "    \n",
    "    print(\"The model is saved at epoch =\", epoch_best+1, \"and the loss =\", loss_best.item())\n",
    "    \n",
    "    x = range(1, epochs+1)\n",
    "\n",
    "    plt.semilogy(x, loss_train, 'b-', label=\"training loss\")\n",
    "    plt.semilogy(x, loss_val, 'r--', label=\"validation loss\")\n",
    "    plt.xlabel(\"Epochs\")\n",
    "    plt.ylabel(\"MSE Loss\")\n",
    "    plt.title(\"Train/Validation Loss\")\n",
    "    plt.legend()\n",
    "    plt.show()\n",
    "\n",
    "def train_picture(model, optimizer, epochs=1):\n",
    "    loss_train = []\n",
    "    loss_val = []\n",
    "    loss_best = 0\n",
    "    epoch_best = 0\n",
    "\n",
    "    train_x_pic = train_x_pic_augmentation\n",
    "    train_y_pic = train_y_pic_augmentation\n",
    "    val_x_pic = val_x_pic_augmentation\n",
    "    val_y_pic = val_y_pic_augmentation\n",
    "    PATH_PIC = os.path.join(os.getcwd(), \"model_pic_augmentation.pt\")\n",
    "\n",
    "    model = model.to(device=device)  # move the model parameters to CPU/GPU\n",
    "    for e in range(epochs):\n",
    "        for t in range(len(train_x_pic)):\n",
    "            model.train()  # put model to training mode\n",
    "            x = train_x_pic[t]\n",
    "            y = train_y_pic[t]\n",
    "            x = x.to(device=device, dtype=torch.float32)  # move to device, e.g. GPU\n",
    "            y = y.to(device=device, dtype=torch.float32)\n",
    "\n",
    "            scores = model(x)\n",
    "            loss = F.mse_loss(scores, y)\n",
    "\n",
    "            optimizer.zero_grad()\n",
    "            loss.backward()\n",
    "            optimizer.step()\n",
    "        loss_cal_picture(loss_train, model, train_x_pic, train_y_pic)\n",
    "        loss_cal_picture(loss_val, model, val_x_pic, val_y_pic)\n",
    "        print('epoch %d: train_loss = %.4f, val_loss = %.4f' % (e+1, loss_train[e], loss_val[e]))\n",
    "        \n",
    "        # selecting the best model to save\n",
    "        loss_best, epoch_best = model_selection(model, PATH_PIC, loss_train, e, epoch_best, loss_best)\n",
    "    \n",
    "    print(\"The model is saved at epoch =\", epoch_best+1, \"and the loss =\", loss_best.item())\n",
    "\n",
    "    x = range(1, epochs+1)\n",
    "\n",
    "    plt.semilogy(x, loss_train, 'b-', label=\"training loss\")\n",
    "    plt.semilogy(x, loss_val, 'r--', label=\"validation loss\")\n",
    "    plt.xlabel(\"Epochs\")\n",
    "    plt.ylabel(\"MSE Loss\")\n",
    "    plt.title(\"Train/Validation Loss\")\n",
    "    plt.legend()\n",
    "    plt.show()\n"
   ]
  },
  {
   "cell_type": "markdown",
   "metadata": {},
   "source": [
    "## Train PhysicsNet spline"
   ]
  },
  {
   "cell_type": "code",
   "execution_count": 39,
   "metadata": {},
   "outputs": [
    {
     "name": "stdout",
     "output_type": "stream",
     "text": [
      "epoch 1: train_loss = 1760.3171, val_loss = 2154.4180\n",
      "epoch 2: train_loss = 1704.5302, val_loss = 2058.5723\n",
      "epoch 3: train_loss = 1665.2080, val_loss = 2026.0052\n",
      "epoch 4: train_loss = 1620.7804, val_loss = 1993.0792\n",
      "epoch 5: train_loss = 1546.6223, val_loss = 1901.3069\n",
      "epoch 6: train_loss = 1576.0842, val_loss = 1919.8511\n",
      "epoch 7: train_loss = 1369.1710, val_loss = 1677.7760\n",
      "epoch 8: train_loss = 1270.0367, val_loss = 1543.5068\n",
      "epoch 9: train_loss = 1198.2369, val_loss = 1448.1907\n",
      "epoch 10: train_loss = 1140.0234, val_loss = 1382.8118\n",
      "epoch 11: train_loss = 1070.9464, val_loss = 1306.1504\n",
      "epoch 12: train_loss = 1032.3307, val_loss = 1254.9113\n",
      "epoch 13: train_loss = 917.4771, val_loss = 1114.9963\n",
      "epoch 14: train_loss = 911.8471, val_loss = 1114.8210\n",
      "epoch 15: train_loss = 772.0345, val_loss = 937.5206\n",
      "epoch 16: train_loss = 675.3640, val_loss = 819.1924\n",
      "epoch 17: train_loss = 606.2525, val_loss = 731.0862\n",
      "epoch 18: train_loss = 538.5109, val_loss = 653.7117\n",
      "epoch 19: train_loss = 475.3629, val_loss = 569.4449\n",
      "epoch 20: train_loss = 467.8132, val_loss = 562.6740\n",
      "epoch 21: train_loss = 349.9590, val_loss = 424.1488\n",
      "epoch 22: train_loss = 274.3476, val_loss = 332.6240\n",
      "epoch 23: train_loss = 210.6930, val_loss = 253.7641\n",
      "epoch 24: train_loss = 260.4822, val_loss = 317.3219\n",
      "epoch 25: train_loss = 187.4934, val_loss = 228.4268\n",
      "epoch 26: train_loss = 177.5973, val_loss = 216.3600\n",
      "epoch 27: train_loss = 133.2774, val_loss = 161.7675\n",
      "epoch 28: train_loss = 119.0706, val_loss = 143.3115\n",
      "epoch 29: train_loss = 97.4458, val_loss = 119.6704\n",
      "epoch 30: train_loss = 46.1851, val_loss = 55.7061\n",
      "epoch 31: train_loss = 60.6452, val_loss = 73.8076\n",
      "epoch 32: train_loss = 48.9176, val_loss = 58.2998\n",
      "epoch 33: train_loss = 26.1595, val_loss = 31.2792\n",
      "epoch 34: train_loss = 28.0539, val_loss = 33.3499\n",
      "epoch 35: train_loss = 41.3775, val_loss = 49.1473\n",
      "epoch 36: train_loss = 18.2512, val_loss = 21.7248\n",
      "epoch 37: train_loss = 26.3701, val_loss = 31.6824\n",
      "epoch 38: train_loss = 31.4401, val_loss = 38.2856\n",
      "epoch 39: train_loss = 9.9915, val_loss = 11.9626\n",
      "epoch 40: train_loss = 19.7046, val_loss = 23.1471\n",
      "epoch 41: train_loss = 5.2608, val_loss = 6.4817\n",
      "epoch 42: train_loss = 12.0258, val_loss = 14.3430\n",
      "epoch 43: train_loss = 7.6677, val_loss = 9.2298\n",
      "epoch 44: train_loss = 5.4341, val_loss = 6.8017\n",
      "epoch 45: train_loss = 4.8380, val_loss = 5.7768\n",
      "epoch 46: train_loss = 6.1497, val_loss = 7.3747\n",
      "epoch 47: train_loss = 3.8302, val_loss = 4.6527\n",
      "epoch 48: train_loss = 3.1282, val_loss = 3.9178\n",
      "epoch 49: train_loss = 2.5015, val_loss = 3.2016\n",
      "epoch 50: train_loss = 2.3996, val_loss = 2.8990\n",
      "epoch 51: train_loss = 1.8341, val_loss = 2.2014\n",
      "epoch 52: train_loss = 1.6395, val_loss = 2.0912\n",
      "epoch 53: train_loss = 5.8798, val_loss = 7.1851\n",
      "epoch 54: train_loss = 6.1974, val_loss = 7.8599\n",
      "epoch 55: train_loss = 1.3548, val_loss = 1.6570\n",
      "epoch 56: train_loss = 2.4758, val_loss = 3.0085\n",
      "epoch 57: train_loss = 1.9552, val_loss = 2.3423\n",
      "epoch 58: train_loss = 4.3713, val_loss = 5.2690\n",
      "epoch 59: train_loss = 2.1428, val_loss = 2.5565\n",
      "epoch 60: train_loss = 1.8899, val_loss = 2.2404\n",
      "epoch 61: train_loss = 1.1238, val_loss = 1.3903\n",
      "epoch 62: train_loss = 0.9996, val_loss = 1.2028\n",
      "epoch 63: train_loss = 1.0281, val_loss = 1.2311\n",
      "epoch 64: train_loss = 0.6080, val_loss = 0.7781\n",
      "epoch 65: train_loss = 2.4618, val_loss = 3.0380\n",
      "epoch 66: train_loss = 7.0908, val_loss = 8.5811\n",
      "epoch 67: train_loss = 6.0021, val_loss = 7.3275\n",
      "epoch 68: train_loss = 0.7301, val_loss = 0.8813\n",
      "epoch 69: train_loss = 1.2556, val_loss = 1.5084\n",
      "epoch 70: train_loss = 5.0262, val_loss = 6.1058\n",
      "epoch 71: train_loss = 1.0764, val_loss = 1.2882\n",
      "epoch 72: train_loss = 0.9332, val_loss = 1.0937\n",
      "epoch 73: train_loss = 1.2546, val_loss = 1.5507\n",
      "epoch 74: train_loss = 4.4331, val_loss = 5.3384\n",
      "epoch 75: train_loss = 2.2176, val_loss = 2.7303\n",
      "epoch 76: train_loss = 1.1984, val_loss = 1.4379\n",
      "epoch 77: train_loss = 1.4181, val_loss = 1.7080\n",
      "epoch 78: train_loss = 1.6890, val_loss = 2.0509\n",
      "epoch 79: train_loss = 1.1580, val_loss = 1.4298\n",
      "epoch 80: train_loss = 1.1043, val_loss = 1.3469\n",
      "epoch 81: train_loss = 1.6916, val_loss = 2.1677\n",
      "epoch 82: train_loss = 5.3838, val_loss = 6.5952\n",
      "epoch 83: train_loss = 1.3478, val_loss = 1.6032\n",
      "epoch 84: train_loss = 1.8650, val_loss = 2.2352\n",
      "epoch 85: train_loss = 3.8657, val_loss = 4.5957\n",
      "epoch 86: train_loss = 2.5601, val_loss = 3.1628\n",
      "epoch 87: train_loss = 1.1664, val_loss = 1.4594\n",
      "epoch 88: train_loss = 7.7473, val_loss = 9.4712\n",
      "epoch 89: train_loss = 4.3758, val_loss = 5.3277\n",
      "epoch 90: train_loss = 1.6231, val_loss = 1.9159\n",
      "epoch 91: train_loss = 0.8967, val_loss = 1.0681\n",
      "epoch 92: train_loss = 7.5641, val_loss = 9.0531\n",
      "epoch 93: train_loss = 1.0893, val_loss = 1.2764\n",
      "epoch 94: train_loss = 2.0182, val_loss = 2.4503\n",
      "epoch 95: train_loss = 1.1713, val_loss = 1.4081\n",
      "epoch 96: train_loss = 1.1657, val_loss = 1.4314\n",
      "epoch 97: train_loss = 0.7709, val_loss = 0.9197\n",
      "epoch 98: train_loss = 2.9908, val_loss = 3.5585\n",
      "epoch 99: train_loss = 1.0065, val_loss = 1.2413\n",
      "epoch 100: train_loss = 3.1779, val_loss = 3.8210\n",
      "epoch 101: train_loss = 1.5006, val_loss = 1.8053\n",
      "epoch 102: train_loss = 1.5847, val_loss = 1.9393\n",
      "epoch 103: train_loss = 1.8347, val_loss = 2.2650\n",
      "epoch 104: train_loss = 9.7544, val_loss = 11.8505\n",
      "epoch 105: train_loss = 0.7045, val_loss = 0.8553\n",
      "epoch 106: train_loss = 5.7551, val_loss = 6.9543\n",
      "epoch 107: train_loss = 1.9529, val_loss = 2.4040\n",
      "epoch 108: train_loss = 0.8295, val_loss = 0.9919\n",
      "epoch 109: train_loss = 3.1390, val_loss = 3.6877\n",
      "epoch 110: train_loss = 4.5703, val_loss = 5.6362\n",
      "epoch 111: train_loss = 1.5025, val_loss = 1.8534\n",
      "epoch 112: train_loss = 1.9716, val_loss = 2.4091\n",
      "epoch 113: train_loss = 2.1798, val_loss = 2.5872\n",
      "epoch 114: train_loss = 1.1169, val_loss = 1.3678\n",
      "epoch 115: train_loss = 5.7049, val_loss = 6.8754\n",
      "epoch 116: train_loss = 3.1177, val_loss = 3.8815\n",
      "epoch 117: train_loss = 2.2222, val_loss = 2.6543\n",
      "epoch 118: train_loss = 5.3297, val_loss = 6.4379\n",
      "epoch 119: train_loss = 0.9137, val_loss = 1.1332\n",
      "epoch 120: train_loss = 25.0181, val_loss = 30.4248\n",
      "epoch 121: train_loss = 5.1074, val_loss = 6.0042\n",
      "epoch 122: train_loss = 5.7983, val_loss = 6.9723\n",
      "epoch 123: train_loss = 2.7592, val_loss = 3.3025\n",
      "epoch 124: train_loss = 2.4129, val_loss = 2.9825\n",
      "epoch 125: train_loss = 1.8929, val_loss = 2.2880\n",
      "epoch 126: train_loss = 0.6758, val_loss = 0.8051\n",
      "epoch 127: train_loss = 1.8920, val_loss = 2.3092\n",
      "epoch 128: train_loss = 1.0162, val_loss = 1.2400\n",
      "epoch 129: train_loss = 0.7569, val_loss = 0.9570\n",
      "epoch 130: train_loss = 5.0494, val_loss = 6.2072\n",
      "epoch 131: train_loss = 2.2626, val_loss = 2.9224\n",
      "epoch 132: train_loss = 0.5778, val_loss = 0.7169\n",
      "epoch 133: train_loss = 13.8876, val_loss = 17.6496\n",
      "epoch 134: train_loss = 0.9905, val_loss = 1.2198\n",
      "epoch 135: train_loss = 2.0403, val_loss = 2.5199\n",
      "epoch 136: train_loss = 4.7289, val_loss = 5.5471\n",
      "epoch 137: train_loss = 4.1578, val_loss = 5.0500\n",
      "epoch 138: train_loss = 0.6094, val_loss = 0.7217\n",
      "epoch 139: train_loss = 2.4195, val_loss = 3.0759\n",
      "epoch 140: train_loss = 1.4010, val_loss = 1.7393\n",
      "epoch 141: train_loss = 1.3194, val_loss = 1.5899\n",
      "epoch 142: train_loss = 9.9713, val_loss = 11.9219\n",
      "epoch 143: train_loss = 2.0358, val_loss = 2.6374\n",
      "epoch 144: train_loss = 6.1174, val_loss = 7.6255\n",
      "epoch 145: train_loss = 1.4010, val_loss = 1.6533\n",
      "epoch 146: train_loss = 14.0039, val_loss = 16.9856\n",
      "epoch 147: train_loss = 0.7475, val_loss = 0.9277\n",
      "epoch 148: train_loss = 0.9245, val_loss = 1.1596\n",
      "epoch 149: train_loss = 6.9344, val_loss = 8.6069\n",
      "epoch 150: train_loss = 1.1358, val_loss = 1.3885\n",
      "epoch 151: train_loss = 8.9633, val_loss = 10.8289\n",
      "epoch 152: train_loss = 3.2723, val_loss = 3.9853\n",
      "epoch 153: train_loss = 6.8215, val_loss = 8.4622\n",
      "epoch 154: train_loss = 3.6562, val_loss = 4.4619\n",
      "epoch 155: train_loss = 0.6994, val_loss = 0.8281\n",
      "epoch 156: train_loss = 5.1450, val_loss = 6.1996\n",
      "epoch 157: train_loss = 4.6168, val_loss = 5.7046\n",
      "epoch 158: train_loss = 6.9488, val_loss = 8.5917\n",
      "epoch 159: train_loss = 12.5626, val_loss = 15.5687\n",
      "epoch 160: train_loss = 1.9146, val_loss = 2.4189\n",
      "epoch 161: train_loss = 3.8898, val_loss = 4.8711\n",
      "epoch 162: train_loss = 2.3444, val_loss = 2.8643\n",
      "epoch 163: train_loss = 2.8555, val_loss = 3.5160\n",
      "epoch 164: train_loss = 0.7475, val_loss = 0.9693\n",
      "epoch 165: train_loss = 4.3562, val_loss = 5.2581\n",
      "epoch 166: train_loss = 1.5210, val_loss = 1.9230\n",
      "epoch 167: train_loss = 7.5695, val_loss = 9.3564\n",
      "epoch 168: train_loss = 1.8727, val_loss = 2.3038\n",
      "epoch 169: train_loss = 2.0995, val_loss = 2.6626\n",
      "epoch 170: train_loss = 3.7935, val_loss = 4.7443\n",
      "epoch 171: train_loss = 1.3858, val_loss = 1.6944\n",
      "epoch 172: train_loss = 0.5514, val_loss = 0.6653\n",
      "epoch 173: train_loss = 2.9563, val_loss = 3.7120\n",
      "epoch 174: train_loss = 3.2705, val_loss = 3.9071\n",
      "epoch 175: train_loss = 0.5819, val_loss = 0.7420\n",
      "epoch 176: train_loss = 1.5893, val_loss = 2.0115\n",
      "epoch 177: train_loss = 1.4908, val_loss = 1.9116\n",
      "epoch 178: train_loss = 2.2309, val_loss = 2.7767\n",
      "epoch 179: train_loss = 2.3086, val_loss = 2.8681\n",
      "epoch 180: train_loss = 1.2639, val_loss = 1.5637\n",
      "epoch 181: train_loss = 1.7377, val_loss = 2.1666\n",
      "epoch 182: train_loss = 2.7729, val_loss = 3.5861\n",
      "epoch 183: train_loss = 2.2133, val_loss = 2.6948\n",
      "epoch 184: train_loss = 2.3465, val_loss = 2.8323\n",
      "epoch 185: train_loss = 2.9081, val_loss = 3.6171\n",
      "epoch 186: train_loss = 4.2616, val_loss = 5.3128\n",
      "epoch 187: train_loss = 6.7948, val_loss = 8.4674\n",
      "epoch 188: train_loss = 2.4633, val_loss = 3.0776\n",
      "epoch 189: train_loss = 1.2797, val_loss = 1.5694\n",
      "epoch 190: train_loss = 2.0570, val_loss = 2.5641\n",
      "epoch 191: train_loss = 1.1249, val_loss = 1.4273\n",
      "epoch 192: train_loss = 0.8362, val_loss = 1.0041\n",
      "epoch 193: train_loss = 4.2520, val_loss = 5.3932\n",
      "epoch 194: train_loss = 5.4106, val_loss = 6.6264\n",
      "epoch 195: train_loss = 8.6151, val_loss = 10.4471\n",
      "epoch 196: train_loss = 3.3206, val_loss = 4.0699\n",
      "epoch 197: train_loss = 1.3099, val_loss = 1.6138\n",
      "epoch 198: train_loss = 7.2234, val_loss = 8.9170\n",
      "epoch 199: train_loss = 6.0263, val_loss = 7.1232\n",
      "epoch 200: train_loss = 4.2327, val_loss = 5.4721\n",
      "The model is saved at epoch = 175 and the loss = 0.5818546979855268\n"
     ]
    },
    {
     "data": {
      "image/png": "[encoded data removed]",
      "text/plain": [
       "<Figure size 432x288 with 1 Axes>"
      ]
     },
     "metadata": {
      "needs_background": "light"
     },
     "output_type": "display_data"
    }
   ],
   "source": [
    "in_channel = 22\n",
    "node_1 = 512\n",
    "node_2 = 512\n",
    "node_3 = 256\n",
    "node_4 = 256\n",
    "node_5 = 64\n",
    "node_6 = 16\n",
    "out_channel = 2\n",
    "\n",
    "learning_rate = 1e-3\n",
    "\n",
    "model_physics = PhysicsNet(in_channel, node_1, node_2, node_3, node_4, node_5, node_6, out_channel)\n",
    "optimizer = optim.Adam(model_physics.parameters(), lr=learning_rate)\n",
    "epoch = 200\n",
    "\n",
    "train_physics(model_physics, optimizer, epoch)"
   ]
  },
  {
   "cell_type": "markdown",
   "metadata": {},
   "source": [
    "### Retrain with SGD"
   ]
  },
  {
   "cell_type": "code",
   "execution_count": 41,
   "metadata": {},
   "outputs": [
    {
     "name": "stdout",
     "output_type": "stream",
     "text": [
      "epoch 1: train_loss = 0.2006, val_loss = 0.2469\n",
      "epoch 2: train_loss = 0.2550, val_loss = 0.3130\n",
      "epoch 3: train_loss = 0.1976, val_loss = 0.2481\n",
      "epoch 4: train_loss = 0.2135, val_loss = 0.2640\n",
      "epoch 5: train_loss = 0.1895, val_loss = 0.2408\n",
      "epoch 6: train_loss = 0.1808, val_loss = 0.2220\n",
      "epoch 7: train_loss = 0.4113, val_loss = 0.4958\n",
      "epoch 8: train_loss = 2.2080, val_loss = 2.8275\n",
      "epoch 9: train_loss = 0.7129, val_loss = 0.8808\n",
      "epoch 10: train_loss = 0.1959, val_loss = 0.2461\n",
      "epoch 11: train_loss = 0.5703, val_loss = 0.7025\n",
      "epoch 12: train_loss = 0.1825, val_loss = 0.2332\n",
      "epoch 13: train_loss = 0.6679, val_loss = 0.8003\n",
      "epoch 14: train_loss = 0.1917, val_loss = 0.2366\n",
      "epoch 15: train_loss = 1.9373, val_loss = 2.4107\n",
      "epoch 16: train_loss = 0.5256, val_loss = 0.6574\n",
      "epoch 17: train_loss = 0.5923, val_loss = 0.7199\n",
      "epoch 18: train_loss = 0.2401, val_loss = 0.2938\n",
      "epoch 19: train_loss = 0.4571, val_loss = 0.5741\n",
      "epoch 20: train_loss = 2.6222, val_loss = 3.3861\n",
      "epoch 21: train_loss = 0.3226, val_loss = 0.3918\n",
      "epoch 22: train_loss = 0.2767, val_loss = 0.3370\n",
      "epoch 23: train_loss = 0.1946, val_loss = 0.2491\n",
      "epoch 24: train_loss = 0.4636, val_loss = 0.5759\n",
      "epoch 25: train_loss = 0.3915, val_loss = 0.4863\n",
      "epoch 26: train_loss = 0.4735, val_loss = 0.5887\n",
      "epoch 27: train_loss = 0.4491, val_loss = 0.5545\n",
      "epoch 28: train_loss = 0.2650, val_loss = 0.3372\n",
      "epoch 29: train_loss = 0.5392, val_loss = 0.6551\n",
      "epoch 30: train_loss = 0.3616, val_loss = 0.4568\n",
      "epoch 31: train_loss = 0.1872, val_loss = 0.2342\n",
      "epoch 32: train_loss = 3.3868, val_loss = 4.3213\n",
      "epoch 33: train_loss = 0.4980, val_loss = 0.6153\n",
      "epoch 34: train_loss = 0.2037, val_loss = 0.2513\n",
      "epoch 35: train_loss = 0.2315, val_loss = 0.2810\n",
      "epoch 36: train_loss = 0.9861, val_loss = 1.2382\n",
      "epoch 37: train_loss = 0.6015, val_loss = 0.7397\n",
      "epoch 38: train_loss = 0.6004, val_loss = 0.7501\n",
      "epoch 39: train_loss = 1.0093, val_loss = 1.2379\n",
      "epoch 40: train_loss = 0.5176, val_loss = 0.6374\n",
      "epoch 41: train_loss = 0.4634, val_loss = 0.5642\n",
      "epoch 42: train_loss = 0.1832, val_loss = 0.2251\n",
      "epoch 43: train_loss = 0.8893, val_loss = 1.0970\n",
      "epoch 44: train_loss = 0.2253, val_loss = 0.2812\n",
      "epoch 45: train_loss = 1.6621, val_loss = 2.1060\n",
      "epoch 46: train_loss = 0.4287, val_loss = 0.5339\n",
      "epoch 47: train_loss = 0.4366, val_loss = 0.5313\n",
      "epoch 48: train_loss = 0.2505, val_loss = 0.3133\n",
      "epoch 49: train_loss = 1.0239, val_loss = 1.2153\n",
      "epoch 50: train_loss = 0.4670, val_loss = 0.5682\n",
      "epoch 51: train_loss = 0.3300, val_loss = 0.4088\n",
      "epoch 52: train_loss = 0.2044, val_loss = 0.2503\n",
      "epoch 53: train_loss = 0.3722, val_loss = 0.4575\n",
      "epoch 54: train_loss = 0.2571, val_loss = 0.3193\n",
      "epoch 55: train_loss = 0.3031, val_loss = 0.3726\n",
      "epoch 56: train_loss = 0.4828, val_loss = 0.5983\n",
      "epoch 57: train_loss = 0.5075, val_loss = 0.6073\n",
      "epoch 58: train_loss = 0.4850, val_loss = 0.6101\n",
      "epoch 59: train_loss = 0.7723, val_loss = 0.9873\n",
      "epoch 60: train_loss = 0.2312, val_loss = 0.2852\n",
      "epoch 61: train_loss = 0.3998, val_loss = 0.5072\n",
      "epoch 62: train_loss = 0.3636, val_loss = 0.4543\n",
      "epoch 63: train_loss = 0.2385, val_loss = 0.2947\n",
      "epoch 64: train_loss = 0.2596, val_loss = 0.3183\n",
      "epoch 65: train_loss = 1.7114, val_loss = 2.1767\n",
      "epoch 66: train_loss = 0.3745, val_loss = 0.4574\n",
      "epoch 67: train_loss = 0.5329, val_loss = 0.6622\n",
      "epoch 68: train_loss = 0.3054, val_loss = 0.3851\n",
      "epoch 69: train_loss = 0.1814, val_loss = 0.2260\n",
      "epoch 70: train_loss = 0.5793, val_loss = 0.7112\n",
      "epoch 71: train_loss = 0.2954, val_loss = 0.3649\n",
      "epoch 72: train_loss = 0.3784, val_loss = 0.4507\n",
      "epoch 73: train_loss = 0.3526, val_loss = 0.4388\n",
      "epoch 74: train_loss = 0.3066, val_loss = 0.3761\n",
      "epoch 75: train_loss = 0.8383, val_loss = 1.0282\n",
      "epoch 76: train_loss = 0.1996, val_loss = 0.2492\n",
      "epoch 77: train_loss = 0.5021, val_loss = 0.6112\n",
      "epoch 78: train_loss = 0.3942, val_loss = 0.4881\n",
      "epoch 79: train_loss = 0.4488, val_loss = 0.5568\n",
      "epoch 80: train_loss = 1.2151, val_loss = 1.4976\n",
      "epoch 81: train_loss = 0.7402, val_loss = 0.9339\n",
      "epoch 82: train_loss = 0.3626, val_loss = 0.4556\n",
      "epoch 83: train_loss = 0.9627, val_loss = 1.1459\n",
      "epoch 84: train_loss = 0.2212, val_loss = 0.2842\n",
      "epoch 85: train_loss = 0.1743, val_loss = 0.2106\n",
      "epoch 86: train_loss = 0.1923, val_loss = 0.2372\n",
      "epoch 87: train_loss = 0.2172, val_loss = 0.2705\n",
      "epoch 88: train_loss = 0.8739, val_loss = 1.0725\n",
      "epoch 89: train_loss = 1.4233, val_loss = 1.7892\n",
      "epoch 90: train_loss = 0.2481, val_loss = 0.3026\n",
      "epoch 91: train_loss = 0.4401, val_loss = 0.5447\n",
      "epoch 92: train_loss = 0.1914, val_loss = 0.2502\n",
      "epoch 93: train_loss = 0.7729, val_loss = 0.9828\n",
      "epoch 94: train_loss = 0.2271, val_loss = 0.2767\n",
      "epoch 95: train_loss = 0.1922, val_loss = 0.2327\n",
      "epoch 96: train_loss = 0.3036, val_loss = 0.3709\n",
      "epoch 97: train_loss = 0.2289, val_loss = 0.2889\n",
      "epoch 98: train_loss = 0.3638, val_loss = 0.4439\n",
      "epoch 99: train_loss = 0.3919, val_loss = 0.4833\n",
      "epoch 100: train_loss = 0.2238, val_loss = 0.2734\n",
      "The model is saved at epoch = 95 and the loss = 0.19220942717332107\n"
     ]
    },
    {
     "data": {
      "image/png": "[encoded data removed]",
      "text/plain": [
       "<Figure size 432x288 with 1 Axes>"
      ]
     },
     "metadata": {
      "needs_background": "light"
     },
     "output_type": "display_data"
    }
   ],
   "source": [
    "PATH_CAL = os.path.join(os.getcwd(), \"model_cal_augmentation.pt\")\n",
    "\n",
    "model_physics_trained = torch.load(PATH_CAL)\n",
    "\n",
    "learning_rate = 1e-4\n",
    "\n",
    "optimizer = optim.SGD(model_physics_trained.parameters(), lr=learning_rate)\n",
    "epoch = 100\n",
    "\n",
    "train_physics(model_physics_trained, optimizer, epoch)"
   ]
  },
  {
   "cell_type": "code",
   "execution_count": 45,
   "metadata": {},
   "outputs": [],
   "source": [
    "# get all testing data in torch format\n",
    "x_test_augmentation = split_augmentation.dataset.x_train[split_augmentation.test_sampler.indices]\n",
    "y_test_augmentation = split_augmentation.dataset.y_train[split_augmentation.test_sampler.indices]\n",
    "\n",
    "# print(x_test_augmentation.shape)\n",
    "# print(y_test_augmentation.shape)"
   ]
  },
  {
   "cell_type": "code",
   "execution_count": 48,
   "metadata": {},
   "outputs": [
    {
     "name": "stdout",
     "output_type": "stream",
     "text": [
      "Score of Augmented points prediction (two-model solution) = [0.7066666483879089, 0.9127272963523865, 0.9454545378684998, 0.966464638710022, 0.9781818389892578]\n"
     ]
    },
    {
     "data": {
      "text/plain": [
       "<matplotlib.legend.Legend at 0x1df414dc970>"
      ]
     },
     "execution_count": 48,
     "metadata": {},
     "output_type": "execute_result"
    },
    {
     "data": {
      "image/png": "[encoded data removed]",
      "text/plain": [
       "<Figure size 640x480 with 1 Axes>"
      ]
     },
     "metadata": {
      "needs_background": "light"
     },
     "output_type": "display_data"
    }
   ],
   "source": [
    "# load models\n",
    "PATH_CAL = os.path.join(os.getcwd(), \"model_cal_augmentation.pt\")\n",
    "\n",
    "model_physics_trained = torch.load(PATH_CAL, map_location='cpu')\n",
    "\n",
    "# predict\n",
    "pred_test_augmentation = model_physics_trained(x_test_augmentation)\n",
    "\n",
    "# set error margin to count as accurate\n",
    "error_list = torch.linspace(0.01, 0.05, steps=5)\n",
    "\n",
    "def score_cal(x, y, error):\n",
    "    diff = ~abs((x-y)/y).gt(error) \n",
    "    count = diff[:, 0]\n",
    "    return count.sum()/len(count)\n",
    "\n",
    "score_list_augmentation = []\n",
    "for i in range(5):\n",
    "    score_list_augmentation.append(score_cal(pred_test_augmentation, y_test_augmentation, error_list[i]).item())\n",
    "\n",
    "print(\"Score of Augmented points prediction (two-model solution) =\", score_list_augmentation) \n",
    "plt.figure(figsize=(8, 6), dpi=80)\n",
    "plt.plot(error_list*100 , score_list_augmentation, 'or--', label='Augmented points prediction')\n",
    "plt.axis([0.9, 5.1, 0, 1.1])\n",
    "plt.xlabel('error')\n",
    "plt.ylabel('accuracy')\n",
    "plt.title('Model accuracy comparison')\n",
    "plt.legend()"
   ]
  }
 ],
 "metadata": {
  "interpreter": {
   "hash": "64def4006c78149665c79cf5850ee76c9e416630a0d9e75e41ff194dcaf5fb2b"
  },
  "kernelspec": {
   "display_name": "Python 3.8.10 64-bit",
   "language": "python",
   "name": "python3"
  },
  "language_info": {
   "codemirror_mode": {
    "name": "ipython",
    "version": 3
   },
   "file_extension": ".py",
   "mimetype": "text/x-python",
   "name": "python",
   "nbconvert_exporter": "python",
   "pygments_lexer": "ipython3",
   "version": "3.8.10"
  },
  "orig_nbformat": 4
 },
 "nbformat": 4,
 "nbformat_minor": 2
}
