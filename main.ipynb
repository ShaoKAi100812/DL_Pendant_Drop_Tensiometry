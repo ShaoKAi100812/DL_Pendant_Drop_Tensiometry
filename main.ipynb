{
 "cells": [
  {
   "cell_type": "markdown",
   "metadata": {},
   "source": [
    "# Deep Learning for tensiometry of pendant drop"
   ]
  },
  {
   "cell_type": "markdown",
   "metadata": {},
   "source": [
    "### Import necessary packages and self-defined classes"
   ]
  },
  {
   "cell_type": "code",
   "execution_count": 1,
   "metadata": {},
   "outputs": [],
   "source": [
    "# pyplot\n",
    "import matplotlib.pyplot as plt\n",
    "# pytorch\n",
    "import torch\n",
    "import torch.optim as optim\n",
    "import torch.nn.functional as F  # useful stateless functions\n",
    "#Test/Train data split\n",
    "from functools import lru_cache\n",
    "from torch.utils.data import DataLoader, Dataset\n",
    "from torch.utils.data.sampler import SubsetRandomSampler\n",
    "import numpy as np\n",
    "import logging\n",
    "# sklearn\n",
    "from sklearn import preprocessing\n",
    "# os\n",
    "import os\n",
    "# warnings\n",
    "import warnings\n",
    "warnings.filterwarnings('ignore')\n",
    "# self-defined model\n",
    "from model_pic import *\n",
    "from model_cal import *\n",
    "import pandas as pd\n",
    "\n",
    "#PictureNet\n",
    "from PIL import Image\n",
    "from skimage.io import imread\n",
    "from sklearn.model_selection import train_test_split"
   ]
  },
  {
   "cell_type": "markdown",
   "metadata": {},
   "source": [
    "### Dataset loading and preprocessing"
   ]
  },
  {
   "cell_type": "code",
   "execution_count": 2,
   "metadata": {},
   "outputs": [],
   "source": [
    "class DataSplit:\n",
    "\n",
    "    def __init__(self, dataset, test_train_split=0.8, val_train_split=0.1, shuffle=False):\n",
    "        self.dataset = dataset\n",
    "\n",
    "        dataset_size = len(dataset)\n",
    "        self.indices = list(range(dataset_size))\n",
    "        test_split = int(np.floor(test_train_split * dataset_size))\n",
    "\n",
    "        if shuffle:\n",
    "            np.random.shuffle(self.indices)\n",
    "\n",
    "        train_indices, self.test_indices = self.indices[:test_split], self.indices[test_split:]\n",
    "        train_size = len(train_indices)\n",
    "        validation_split = int(np.floor((1 - val_train_split) * train_size))\n",
    "\n",
    "        self.train_indices, self.val_indices = train_indices[:validation_split], train_indices[validation_split:]\n",
    "\n",
    "        self.train_sampler = SubsetRandomSampler(self.train_indices)\n",
    "        self.val_sampler = SubsetRandomSampler(self.val_indices)\n",
    "        self.test_sampler = SubsetRandomSampler(self.test_indices)\n",
    "    \n",
    "    def get_train_split_point(self):\n",
    "        return len(self.train_sampler) + len(self.val_indices)\n",
    "\n",
    "    def get_validation_split_point(self):\n",
    "        return len(self.train_sampler)\n",
    "\n",
    "    @lru_cache(maxsize=4)\n",
    "    def get_split(self, batch_size=50, num_workers=0):\n",
    "        logging.debug('Initializing train-validation-test dataloaders')\n",
    "        self.train_loader = self.get_train_loader(batch_size=batch_size, num_workers=num_workers)\n",
    "        self.val_loader = self.get_validation_loader(batch_size=batch_size, num_workers=num_workers)\n",
    "        self.test_loader = self.get_test_loader(batch_size=batch_size, num_workers=num_workers)\n",
    "        return self.train_loader, self.val_loader, self.test_loader\n",
    "\n",
    "    @lru_cache(maxsize=4)\n",
    "    def get_train_loader(self, batch_size=50, num_workers=0):\n",
    "        logging.debug('Initializing train dataloader')\n",
    "        self.train_loader = DataLoader(self.dataset, batch_size=batch_size, sampler=self.train_sampler, shuffle=False, num_workers=num_workers)\n",
    "        return self.train_loader\n",
    "\n",
    "    @lru_cache(maxsize=4)\n",
    "    def get_validation_loader(self, batch_size=50, num_workers=0):\n",
    "        logging.debug('Initializing validation dataloader')\n",
    "        self.val_loader = DataLoader(self.dataset, batch_size=batch_size, sampler=self.val_sampler, shuffle=False, num_workers=num_workers)\n",
    "        return self.val_loader\n",
    "\n",
    "    @lru_cache(maxsize=4)\n",
    "    def get_test_loader(self, batch_size=50, num_workers=0):\n",
    "        logging.debug('Initializing test dataloader')\n",
    "        self.test_loader = DataLoader(self.dataset, batch_size=batch_size, sampler=self.test_sampler, shuffle=False, num_workers=num_workers)\n",
    "        return self.test_loader"
   ]
  },
  {
   "cell_type": "markdown",
   "metadata": {},
   "source": [
    "### Load data for PhysicsNet"
   ]
  },
  {
   "cell_type": "code",
   "execution_count": 3,
   "metadata": {},
   "outputs": [],
   "source": [
    "data_matrix = df = pd.DataFrame()\n",
    "\n",
    "data_matrix = pd.read_csv(\"Data_folder/Picture.csv\", header= None)\n",
    "\n",
    "#print(data_matrix)\n",
    "\n",
    "\n",
    "# Make the droplet dataset class based on data_matrix\n",
    "class Droplet_data_set(Dataset):\n",
    "    def __init__(self):\n",
    "        x = data_matrix.iloc[0:,3:].values\n",
    "        y = data_matrix.iloc[0:,0:2].values\n",
    "        #x = np.random.normal(x,0.01)\n",
    "        y0 = data_matrix.iloc[:,0].values\n",
    "        y1 = data_matrix.iloc[:,1].values\n",
    "        \n",
    "        # Add normalization for x\n",
    "        #x = preprocessing.normalize(x)\n",
    "        #y = preprocessing.normalize(y, axis = 0,norm='l2')\n",
    "\n",
    "\n",
    "        self.x_train = torch.tensor(x,dtype=torch.float32)\n",
    "        self.y_train = torch.tensor(y,dtype=torch.float32)\n",
    "        \n",
    "    def __getitem__(self, idx):\n",
    "        return self.x_train[idx],self.y_train[idx]\n",
    "    \n",
    "    def __len__(self):\n",
    "         return len(self.y_train)\n",
    "        \n",
    "my_data_set = Droplet_data_set()\n",
    "\n",
    "# Split the single dataset into 3 datasets for training, test and validation.\n",
    "split = DataSplit(my_data_set, shuffle=True)\n",
    "train_loader, val_loader, test_loader = split.get_split(batch_size=64, num_workers=0)\n"
   ]
  },
  {
   "cell_type": "markdown",
   "metadata": {},
   "source": [
    "### Load data for PictureNet"
   ]
  },
  {
   "cell_type": "code",
   "execution_count": 11,
   "metadata": {},
   "outputs": [
    {
     "data": {
      "text/plain": [
       "(((25, 82, 77), (25, 160)), ((3, 82, 77), (3, 160)), ((4, 82, 77), (4, 160)))"
      ]
     },
     "execution_count": 11,
     "metadata": {},
     "output_type": "execute_result"
    },
    {
     "data": {
      "image/png": "[encoded data removed]",
      "text/plain": [
       "<Figure size 432x288 with 1 Axes>"
      ]
     },
     "metadata": {
      "needs_background": "light"
     },
     "output_type": "display_data"
    }
   ],
   "source": [
    "train_img = []\n",
    "\n",
    "data_image = pd.read_csv(\"Data_folder/Picture.csv\", header= None)\n",
    "for img_name in data_image.iloc[0:32,3:].index + 1:\n",
    "    # defining the image path\n",
    "    image_path = 'Data_folder/' + str(img_name) + '.png'\n",
    "    # reading the image\n",
    "    img = imread(image_path, as_gray=True)\n",
    "    img = img[4:-4, 4:-4]  #crop \n",
    "    # normalizing the pixel values\n",
    "    img /= 255.0\n",
    "    # converting the type of pixel to float 32\n",
    "    img = img.astype('float32')\n",
    "    # appending the image into the list\n",
    "    train_img.append(img)\n",
    "    \n",
    "plt.imshow(train_img[0], cmap='gray')\n",
    "# converting the list to numpy array\n",
    "train_x_pic = np.array(train_img)\n",
    "train_y_pic = data_image.iloc[0:32,3:].values\n",
    "train_x_pic, rem_x_pic, train_y_pic, rem_y_pic = train_test_split(train_x_pic, train_y_pic, test_size = 0.2)\n",
    "val_x_pic, test_x_pic, val_y_pic, test_y_pic = train_test_split(rem_x_pic, rem_y_pic, test_size = 0.5)\n",
    "\n",
    "(train_x_pic.shape, train_y_pic.shape), (val_x_pic.shape, val_y_pic.shape), (test_x_pic.shape, test_y_pic.shape)\n",
    "\n"
   ]
  },
  {
   "cell_type": "code",
   "execution_count": 12,
   "metadata": {},
   "outputs": [
    {
     "data": {
      "text/plain": [
       "(torch.Size([3, 1, 82, 77]), torch.Size([3, 160]))"
      ]
     },
     "execution_count": 12,
     "metadata": {},
     "output_type": "execute_result"
    }
   ],
   "source": [
    "# converting the target into torch format\n",
    "train_y_pic = train_y_pic.astype(int)\n",
    "train_y_pic = torch.from_numpy(train_y_pic)\n",
    "\n",
    "train_x_pic = train_x_pic.reshape(25, 1,82, 77)\n",
    "train_x_pic  = torch.from_numpy(train_x_pic)\n",
    "\n",
    "train_y_pic.shape, train_x_pic.shape\n",
    "\n",
    "# converting validation images into torch format\n",
    "val_x_pic = val_x_pic.reshape(3, 1,82, 77)\n",
    "val_x_pic  = torch.from_numpy(val_x_pic)\n",
    "\n",
    "# converting the target into torch format\n",
    "val_y_pic = val_y_pic.astype(int)\n",
    "val_y_pic = torch.from_numpy(val_y_pic)\n",
    "\n",
    "# shape of validation data\n",
    "val_x_pic.shape, val_y_pic.shape"
   ]
  },
  {
   "cell_type": "markdown",
   "metadata": {},
   "source": [
    "### Deside to apply host or device\n"
   ]
  },
  {
   "cell_type": "code",
   "execution_count": 14,
   "metadata": {},
   "outputs": [
    {
     "name": "stdout",
     "output_type": "stream",
     "text": [
      "cuda\n"
     ]
    }
   ],
   "source": [
    "USE_GPU = True\n",
    "if USE_GPU and torch.cuda.is_available():\n",
    "    device = torch.device('cuda')\n",
    "else:\n",
    "    device = torch.device('cpu')\n",
    "#device = torch.device('cpu')\n",
    "print(device)"
   ]
  },
  {
   "cell_type": "markdown",
   "metadata": {},
   "source": [
    "### Define the functions we need"
   ]
  },
  {
   "cell_type": "code",
   "execution_count": 7,
   "metadata": {},
   "outputs": [],
   "source": [
    "def loss_cal_per_epoch(loss_list, model, loader):\n",
    "    model.eval()  # set model to evaluation mode\n",
    "    with torch.no_grad():\n",
    "        loss_epoch = 0\n",
    "        for t, (x, y) in enumerate(loader):\n",
    "            x = x.to(device=device, dtype=torch.float32)  # move to device, e.g. GPU\n",
    "            y = y.to(device=device, dtype=torch.float32)\n",
    "            scores = model(x)\n",
    "            loss = F.mse_loss(scores, y)\n",
    "            loss_epoch += loss\n",
    "        loss_list.append(loss_epoch/t)\n",
    "\n",
    "def train(model, optimizer, epochs=1):\n",
    "    loss_train = []\n",
    "    loss_val = []\n",
    "    model = model.to(device=device)  # move the model parameters to CPU/GPU\n",
    "    for e in range(epochs):\n",
    "        for _, (x, y) in enumerate(train_loader):\n",
    "            x = x.reshape(len(x), 1, 1, -1)     # reshape to 4D data for formal input of model\n",
    "            model.train()  # put model to training mode\n",
    "            x = x.to(device=device, dtype=torch.float32)  # move to device, e.g. GPU\n",
    "            y = y.to(device=device, dtype=torch.float32)\n",
    "            scores = model(x)\n",
    "            loss = F.mse_loss(scores, y)\n",
    "\n",
    "            optimizer.zero_grad()\n",
    "            loss.backward()\n",
    "            optimizer.step()\n",
    "        loss_cal_per_epoch(loss_train, model, train_loader)\n",
    "        loss_cal_per_epoch(loss_val, model, val_loader)\n",
    "        print('epoch %d: train_loss = %.4f, val_loss = %.4f' % (e+1, loss_train[e], loss_val[e]))\n",
    "    \n",
    "    x = range(1, epochs+1)\n",
    "\n",
    "    plt.semilogy(x, loss_train, 'b-', label=\"training loss\")\n",
    "    plt.semilogy(x, loss_val, 'r--', label=\"validation loss\")\n",
    "    plt.xlabel(\"Epochs\")\n",
    "    plt.ylabel(\"MSE Loss\")\n",
    "    plt.title(\"Train/Validation Loss\")\n",
    "    plt.legend()\n",
    "    plt.show()\n",
    "\n",
    "def prediction(model, x):   # only a batch\n",
    "    model = model.to(device=device)\n",
    "    model.eval()  # set model to evaluation mode\n",
    "    with torch.no_grad():\n",
    "        x = x.to(device=device, dtype=torch.float32)\n",
    "        score = torch.Tensor.cpu(model(x))\n",
    "    return score\n"
   ]
  },
  {
   "cell_type": "markdown",
   "metadata": {},
   "source": [
    "### Train PhysicsNet"
   ]
  },
  {
   "cell_type": "code",
   "execution_count": 10,
   "metadata": {},
   "outputs": [
    {
     "name": "stdout",
     "output_type": "stream",
     "text": [
      "epoch 1: train_loss = 8.3073, val_loss = 8.9662\n",
      "epoch 2: train_loss = 3.9507, val_loss = 4.5876\n",
      "epoch 3: train_loss = 10.4152, val_loss = 11.3902\n",
      "epoch 4: train_loss = 5.0287, val_loss = 5.4269\n",
      "epoch 5: train_loss = 7.3969, val_loss = 7.2027\n",
      "epoch 6: train_loss = 3.2018, val_loss = 3.7344\n",
      "epoch 7: train_loss = 4.3757, val_loss = 4.3905\n",
      "epoch 8: train_loss = 5.1581, val_loss = 5.2579\n",
      "epoch 9: train_loss = 8.4967, val_loss = 9.7186\n",
      "epoch 10: train_loss = 6.4341, val_loss = 7.1569\n",
      "epoch 11: train_loss = 4.5117, val_loss = 4.7896\n",
      "epoch 12: train_loss = 1.9038, val_loss = 2.0832\n",
      "epoch 13: train_loss = 2.2932, val_loss = 2.4248\n",
      "epoch 14: train_loss = 1.2271, val_loss = 1.3155\n",
      "epoch 15: train_loss = 1.9547, val_loss = 2.1067\n",
      "epoch 16: train_loss = 3.2228, val_loss = 3.7184\n",
      "epoch 17: train_loss = 1.5562, val_loss = 1.5863\n",
      "epoch 18: train_loss = 1.5817, val_loss = 1.6438\n",
      "epoch 19: train_loss = 1.2584, val_loss = 1.3549\n",
      "epoch 20: train_loss = 1.8140, val_loss = 2.1253\n",
      "epoch 21: train_loss = 1.0722, val_loss = 1.1536\n",
      "epoch 22: train_loss = 2.8731, val_loss = 3.1619\n",
      "epoch 23: train_loss = 2.3640, val_loss = 2.8578\n",
      "epoch 24: train_loss = 1.8065, val_loss = 2.0109\n",
      "epoch 25: train_loss = 1.7744, val_loss = 2.1921\n",
      "epoch 26: train_loss = 2.3034, val_loss = 2.5278\n",
      "epoch 27: train_loss = 0.6441, val_loss = 0.7161\n",
      "epoch 28: train_loss = 2.8122, val_loss = 3.0297\n",
      "epoch 29: train_loss = 1.1929, val_loss = 1.2884\n",
      "epoch 30: train_loss = 1.1469, val_loss = 1.4779\n",
      "epoch 31: train_loss = 1.0095, val_loss = 0.9959\n",
      "epoch 32: train_loss = 4.8118, val_loss = 5.2663\n",
      "epoch 33: train_loss = 1.1552, val_loss = 1.2436\n",
      "epoch 34: train_loss = 1.0315, val_loss = 1.1778\n",
      "epoch 35: train_loss = 2.2749, val_loss = 2.4289\n",
      "epoch 36: train_loss = 4.8712, val_loss = 5.3805\n",
      "epoch 37: train_loss = 1.9688, val_loss = 2.0153\n",
      "epoch 38: train_loss = 0.7882, val_loss = 0.8426\n",
      "epoch 39: train_loss = 0.5544, val_loss = 0.6135\n",
      "epoch 40: train_loss = 0.9167, val_loss = 0.9547\n",
      "epoch 41: train_loss = 0.9132, val_loss = 1.0678\n",
      "epoch 42: train_loss = 1.4877, val_loss = 1.5428\n",
      "epoch 43: train_loss = 2.3345, val_loss = 2.3654\n",
      "epoch 44: train_loss = 0.6436, val_loss = 0.7214\n",
      "epoch 45: train_loss = 0.6976, val_loss = 0.7583\n",
      "epoch 46: train_loss = 0.9941, val_loss = 1.0620\n",
      "epoch 47: train_loss = 0.6102, val_loss = 0.6237\n",
      "epoch 48: train_loss = 0.6523, val_loss = 0.7308\n",
      "epoch 49: train_loss = 0.8985, val_loss = 0.9766\n",
      "epoch 50: train_loss = 0.6883, val_loss = 0.7056\n",
      "epoch 51: train_loss = 0.8046, val_loss = 0.8741\n",
      "epoch 52: train_loss = 0.5498, val_loss = 0.5915\n",
      "epoch 53: train_loss = 0.5205, val_loss = 0.5707\n",
      "epoch 54: train_loss = 0.4785, val_loss = 0.5178\n",
      "epoch 55: train_loss = 0.5143, val_loss = 0.6047\n",
      "epoch 56: train_loss = 0.8240, val_loss = 0.8874\n",
      "epoch 57: train_loss = 0.5777, val_loss = 0.6174\n",
      "epoch 58: train_loss = 0.9102, val_loss = 0.9630\n",
      "epoch 59: train_loss = 0.4925, val_loss = 0.5102\n",
      "epoch 60: train_loss = 0.2418, val_loss = 0.2717\n",
      "epoch 61: train_loss = 0.8758, val_loss = 0.9126\n",
      "epoch 62: train_loss = 0.4235, val_loss = 0.4471\n",
      "epoch 63: train_loss = 0.7069, val_loss = 0.7354\n",
      "epoch 64: train_loss = 0.7396, val_loss = 0.7808\n",
      "epoch 65: train_loss = 0.3938, val_loss = 0.4078\n",
      "epoch 66: train_loss = 1.0401, val_loss = 1.0936\n",
      "epoch 67: train_loss = 0.7554, val_loss = 0.8007\n",
      "epoch 68: train_loss = 1.0910, val_loss = 1.1549\n",
      "epoch 69: train_loss = 0.3177, val_loss = 0.3376\n",
      "epoch 70: train_loss = 0.8808, val_loss = 0.9398\n",
      "epoch 71: train_loss = 0.4231, val_loss = 0.4815\n",
      "epoch 72: train_loss = 2.2787, val_loss = 2.3863\n",
      "epoch 73: train_loss = 1.3647, val_loss = 1.5051\n",
      "epoch 74: train_loss = 2.1846, val_loss = 2.3594\n",
      "epoch 75: train_loss = 0.5868, val_loss = 0.6188\n",
      "epoch 76: train_loss = 0.6223, val_loss = 0.6455\n",
      "epoch 77: train_loss = 2.4039, val_loss = 2.6411\n",
      "epoch 78: train_loss = 0.7398, val_loss = 0.8124\n",
      "epoch 79: train_loss = 1.6030, val_loss = 1.6995\n",
      "epoch 80: train_loss = 0.5097, val_loss = 0.5784\n",
      "epoch 81: train_loss = 1.6126, val_loss = 1.7441\n",
      "epoch 82: train_loss = 2.0764, val_loss = 2.2697\n",
      "epoch 83: train_loss = 0.5370, val_loss = 0.5859\n",
      "epoch 84: train_loss = 0.7629, val_loss = 0.8172\n",
      "epoch 85: train_loss = 0.5527, val_loss = 0.6368\n",
      "epoch 86: train_loss = 2.1679, val_loss = 2.3401\n",
      "epoch 87: train_loss = 0.3373, val_loss = 0.3616\n",
      "epoch 88: train_loss = 0.2302, val_loss = 0.2615\n",
      "epoch 89: train_loss = 0.5504, val_loss = 0.6082\n",
      "epoch 90: train_loss = 1.7528, val_loss = 1.9343\n",
      "epoch 91: train_loss = 1.3928, val_loss = 1.5585\n",
      "epoch 92: train_loss = 1.0326, val_loss = 1.1168\n",
      "epoch 93: train_loss = 0.6108, val_loss = 0.6658\n",
      "epoch 94: train_loss = 0.5268, val_loss = 0.5762\n",
      "epoch 95: train_loss = 6.9135, val_loss = 7.8751\n",
      "epoch 96: train_loss = 1.0435, val_loss = 1.1468\n",
      "epoch 97: train_loss = 0.7355, val_loss = 0.8108\n",
      "epoch 98: train_loss = 4.1814, val_loss = 4.6680\n",
      "epoch 99: train_loss = 0.3426, val_loss = 0.3771\n",
      "epoch 100: train_loss = 1.8201, val_loss = 1.9996\n"
     ]
    },
    {
     "data": {
      "image/png": "[encoded data removed]",
      "text/plain": [
       "<Figure size 432x288 with 1 Axes>"
      ]
     },
     "metadata": {
      "needs_background": "light"
     },
     "output_type": "display_data"
    }
   ],
   "source": [
    "in_channel = 160\n",
    "node_1 = 512\n",
    "node_2 = 256\n",
    "node_3 = 128\n",
    "node_4 = 64\n",
    "out_channel = 2\n",
    "\n",
    "learning_rate = 1e-3\n",
    "\n",
    "model_physics = PhysicsNet(in_channel, node_1, node_2, node_3, node_4, out_channel)\n",
    "optimizer = optim.Adam(model_physics.parameters(), lr=learning_rate)\n",
    "epoch = 200\n",
    "\n",
    "train(model_physics, optimizer, epoch)\n",
    "PATH_CAL = os.path.join(os.getcwd(), \"model_cal\")\n",
    "torch.save(model_physics, PATH_CAL)"
   ]
  },
  {
   "cell_type": "markdown",
   "metadata": {},
   "source": [
    "### Visualization of outcomes"
   ]
  },
  {
   "cell_type": "code",
   "execution_count": 41,
   "metadata": {},
   "outputs": [
    {
     "name": "stdout",
     "output_type": "stream",
     "text": [
      "Ground Truths = tensor([[38.1000, 18.4000],\n",
      "        [41.7000, 15.8000],\n",
      "        [40.1000, 14.9000],\n",
      "        [41.2000, 18.5000],\n",
      "        [39.2000, 12.1000],\n",
      "        [30.1000, 11.1000],\n",
      "        [42.1000, 14.5000],\n",
      "        [30.6000, 14.8000],\n",
      "        [40.1000, 12.3000],\n",
      "        [35.9000, 13.0000],\n",
      "        [38.1000, 17.0000],\n",
      "        [34.0000, 10.4000],\n",
      "        [31.4000, 10.3000],\n",
      "        [36.4000, 16.8000],\n",
      "        [33.5000, 15.9000]])\n",
      "Prediction    = tensor([[38.7994, 18.5891],\n",
      "        [43.4580, 15.8786],\n",
      "        [42.2416, 15.1940],\n",
      "        [42.6802, 18.6937],\n",
      "        [41.5452, 12.5954],\n",
      "        [31.9755, 11.6098],\n",
      "        [43.6209, 14.7665],\n",
      "        [31.7748, 15.0337],\n",
      "        [42.2019, 12.9109],\n",
      "        [38.1844, 13.3158],\n",
      "        [39.6145, 17.2331],\n",
      "        [36.8738, 11.1757],\n",
      "        [33.9628, 11.1482],\n",
      "        [37.4778, 16.9988],\n",
      "        [33.1067, 16.0331]])\n"
     ]
    }
   ],
   "source": [
    "model_trained = torch.load(PATH_CAL)\n",
    "\n",
    "examples = enumerate(test_loader)\n",
    "_, (x_test_example, y_test_example) = next(examples)\n",
    "\n",
    "score_example = prediction(model_trained, x_test_example)\n",
    "y = data_matrix.iloc[0:,0:2].values\n",
    "#Revert normalized values back to real values\n",
    "# Print only 8 data samples for comparison\n",
    "print(\"Ground Truths =\", y_test_example[:15])\n",
    "print(\"Prediction    =\", score_example[:15].reshape(15, 2))"
   ]
  },
  {
   "cell_type": "markdown",
   "metadata": {},
   "source": [
    "### Train PictureNet"
   ]
  },
  {
   "cell_type": "code",
   "execution_count": null,
   "metadata": {},
   "outputs": [],
   "source": [
    "####To be done"
   ]
  }
 ],
 "metadata": {
  "interpreter": {
   "hash": "64def4006c78149665c79cf5850ee76c9e416630a0d9e75e41ff194dcaf5fb2b"
  },
  "kernelspec": {
   "display_name": "Python 3 (ipykernel)",
   "language": "python",
   "name": "python3"
  },
  "language_info": {
   "codemirror_mode": {
    "name": "ipython",
    "version": 3
   },
   "file_extension": ".py",
   "mimetype": "text/x-python",
   "name": "python",
   "nbconvert_exporter": "python",
   "pygments_lexer": "ipython3",
   "version": "3.8.10"
  }
 },
 "nbformat": 4,
 "nbformat_minor": 2
}
