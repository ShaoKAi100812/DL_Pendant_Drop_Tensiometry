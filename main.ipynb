{
 "cells": [
  {
   "cell_type": "markdown",
   "metadata": {},
   "source": [
    "# Deep Learning for tensiometry of pendant drop"
   ]
  },
  {
   "cell_type": "markdown",
   "metadata": {},
   "source": [
    "### Import necessary packages and self-defined classes"
   ]
  },
  {
   "cell_type": "code",
   "execution_count": 3,
   "metadata": {},
   "outputs": [],
   "source": [
    "# pyplot\n",
    "import matplotlib.pyplot as plt\n",
    "# pytorch\n",
    "import torch\n",
    "import torch.nn.functional as F  # useful stateless functions\n",
    "# os\n",
    "import os\n",
    "# self-defined model\n",
    "from model_pic import *\n",
    "from model_cal import *\n",
    "import pandas as pd"
   ]
  },
  {
   "cell_type": "markdown",
   "metadata": {},
   "source": [
    "### Dataset loading and preprocessing"
   ]
  },
  {
   "cell_type": "code",
   "execution_count": 77,
   "metadata": {},
   "outputs": [
    {
     "name": "stdout",
     "output_type": "stream",
     "text": [
      "     0    1    2             3         4         5         6         7    \\\n",
      "0    2.3  0.2    1  1.507010e-26  0.012809  0.025618  0.038426  0.051234   \n",
      "1    2.4  0.2    1 -1.908640e-26  0.012808  0.025616  0.038423  0.051230   \n",
      "2    2.5  0.2    1  1.076793e-27  0.012807  0.025614  0.038421  0.051226   \n",
      "3    2.6  0.2    1 -2.257969e-27  0.012806  0.025613  0.038418  0.051223   \n",
      "4    2.7  0.2    1 -2.748220e-26  0.012806  0.025611  0.038416  0.051220   \n",
      "..   ...  ...  ...           ...       ...       ...       ...       ...   \n",
      "222  6.1  0.8    1  3.218298e-26  0.014556  0.029109  0.043657  0.058197   \n",
      "223  6.1  0.9    1 -6.731090e-26  0.014972  0.029942  0.044904  0.059857   \n",
      "224  6.1  1.0    1 -1.194378e-25  0.015408  0.030812  0.046209  0.061594   \n",
      "225  6.1  1.1    1  8.917468e-26  0.015859  0.031713  0.047558  0.063389   \n",
      "226  6.1  1.2    1  1.298461e-25  0.016321  0.032637  0.048941  0.065229   \n",
      "\n",
      "          8         9    ...       155       156       157       158  \\\n",
      "0    0.064040  0.076845  ... -0.020753 -0.018140 -0.015530 -0.012924   \n",
      "1    0.064035  0.076839  ... -0.020919 -0.018292 -0.015667 -0.013043   \n",
      "2    0.064031  0.076834  ... -0.021070 -0.018431 -0.015791 -0.013152   \n",
      "3    0.064027  0.076830  ... -0.021208 -0.018558 -0.015905 -0.013251   \n",
      "4    0.064024  0.076826  ... -0.021334 -0.018674 -0.016009 -0.013342   \n",
      "..        ...       ...  ...       ...       ...       ...       ...   \n",
      "222  0.072726  0.087244  ... -0.082157 -0.072085 -0.061952 -0.051759   \n",
      "223  0.074797  0.089722  ... -0.090095 -0.079028 -0.067901 -0.056714   \n",
      "224  0.076962  0.092312  ... -0.097534 -0.085531 -0.073468 -0.061349   \n",
      "225  0.079200  0.094990  ... -0.104519 -0.091632 -0.078689 -0.065691   \n",
      "226  0.081495  0.097734  ... -0.111094 -0.097373 -0.083598 -0.069773   \n",
      "\n",
      "          159       160       161       162           163  164  \n",
      "0   -0.010324 -0.007730 -0.005144 -0.002567  0.000000e+00    0  \n",
      "1   -0.010423 -0.007808 -0.005198 -0.002595  0.000000e+00    0  \n",
      "2   -0.010514 -0.007878 -0.005247 -0.002620  0.000000e+00    0  \n",
      "3   -0.010597 -0.007943 -0.005292 -0.002644  0.000000e+00    0  \n",
      "4   -0.010672 -0.008003 -0.005333 -0.002665  0.000000e+00    0  \n",
      "..        ...       ...       ...       ...           ...  ...  \n",
      "222 -0.041512 -0.031210 -0.020856 -0.010452  0.000000e+00    0  \n",
      "223 -0.045474 -0.034179 -0.022834 -0.011440  0.000000e+00    0  \n",
      "224 -0.049177 -0.036953 -0.024681 -0.012362  2.168404e-19    0  \n",
      "225 -0.052644 -0.039549 -0.026408 -0.013224 -2.168404e-19    0  \n",
      "226 -0.055902 -0.041986 -0.028028 -0.014032  2.168404e-19    0  \n",
      "\n",
      "[227 rows x 165 columns]\n"
     ]
    }
   ],
   "source": [
    "# To be done\n",
    "data_matrix = df = pd.DataFrame()\n",
    "\n",
    "for Data_point in range(1,228):\n",
    "\n",
    "    d=pd.read_csv(\"Data_folder/\" + str(Data_point) + \".csv\", header= None)\n",
    "\n",
    "    st = d[0]\n",
    "    volume0 = d[1]\n",
    "    rneedle = d[2]\n",
    "    rr_zz = d.loc[0][3:]\n",
    "\n",
    "    data_matrix = data_matrix.append(d, ignore_index= True)\n",
    "\n",
    "    \n",
    "print(data_matrix)\n",
    "train_loader = []\n",
    "val_loader = []\n",
    "test_loader = []"
   ]
  },
  {
   "cell_type": "markdown",
   "metadata": {},
   "source": [
    "### Deside to apply host or device"
   ]
  },
  {
   "cell_type": "code",
   "execution_count": 18,
   "metadata": {},
   "outputs": [
    {
     "name": "stdout",
     "output_type": "stream",
     "text": [
      "cuda\n"
     ]
    }
   ],
   "source": [
    "USE_GPU = True\n",
    "if USE_GPU and torch.cuda.is_available():\n",
    "    device = torch.device('cuda')\n",
    "else:\n",
    "    device = torch.device('cpu')\n",
    "\n",
    "print(device)"
   ]
  },
  {
   "cell_type": "markdown",
   "metadata": {},
   "source": [
    "### Define the functions we need"
   ]
  },
  {
   "cell_type": "code",
   "execution_count": 4,
   "metadata": {},
   "outputs": [],
   "source": [
    "def loss_cal_per_epoch(loss_list, model, loader) -> list:\n",
    "    model.eval()  # set model to evaluation mode\n",
    "    with torch.no_grad():\n",
    "        loss_epoch = 0\n",
    "        for t, (x, y) in enumerate(loader):\n",
    "            x = x.to(device=device, dtype=torch.float32)  # move to device, e.g. GPU\n",
    "            y = y.to(device=device, dtype=torch.float32)\n",
    "            scores = model(x)\n",
    "            loss = F.mse_loss(scores, y)\n",
    "            loss_epoch += loss\n",
    "        loss_list.append(loss_epoch/t)\n",
    "\n",
    "def train(model, optimizer, epochs=1):\n",
    "    loss_train = []\n",
    "    loss_val = []\n",
    "    model = model.to(device=device)  # move the model parameters to CPU/GPU\n",
    "    for e in range(epochs):\n",
    "        for t, (x, y) in enumerate(train_loader):\n",
    "            model.train()  # put model to training mode\n",
    "            x_noisy = x_noisy.to(device=device, dtype=torch.float32)  # move to device, e.g. GPU\n",
    "            x_clean = x_clean.to(device=device, dtype=torch.float32)\n",
    "\n",
    "            scores = model(x)\n",
    "            loss = F.mse_loss(scores, y)\n",
    "\n",
    "            optimizer.zero_grad()\n",
    "            loss.backward()\n",
    "            optimizer.step()\n",
    "        \n",
    "        loss_cal_per_epoch(loss_train, model, train_loader)\n",
    "        loss_cal_per_epoch(loss_val, model, val_loader)\n",
    "        print('epoch %d: train_loss = %.4f, val_loss = %.4f' % (e+1, loss_train[e], loss_val[e]))\n",
    "    \n",
    "    x = range(1, epochs+1)\n",
    "    plt.plot(x, loss_train, 'b-', label=\"training loss\")\n",
    "    plt.plot(x, loss_val, 'r--', label=\"validation loss\")\n",
    "    plt.xlabel(\"Epochs\")\n",
    "    plt.ylabel(\"MSE Loss\")\n",
    "    plt.title(\"Train/Validation Loss\")\n",
    "    plt.legend()\n",
    "    plt.show()\n",
    "\n",
    "def prediction(model, x):   # only a batch\n",
    "    model = model.to(device=device)\n",
    "    model.eval()  # set model to evaluation mode\n",
    "    with torch.no_grad():\n",
    "        x = x.to(device=device, dtype=torch.float32)\n",
    "        score = torch.Tensor.cpu(model(x))\n",
    "    return score"
   ]
  },
  {
   "cell_type": "code",
   "execution_count": null,
   "metadata": {},
   "outputs": [],
   "source": []
  }
 ],
 "metadata": {
  "interpreter": {
   "hash": "eb0a657687ce65521e40e4aa1980fe5fea941929cde711c181ad31827edd2e4e"
  },
  "kernelspec": {
   "display_name": "Python 3 (ipykernel)",
   "language": "python",
   "name": "python3"
  },
  "language_info": {
   "codemirror_mode": {
    "name": "ipython",
    "version": 3
   },
   "file_extension": ".py",
   "mimetype": "text/x-python",
   "name": "python",
   "nbconvert_exporter": "python",
   "pygments_lexer": "ipython3",
   "version": "3.7.11"
  }
 },
 "nbformat": 4,
 "nbformat_minor": 2
}
