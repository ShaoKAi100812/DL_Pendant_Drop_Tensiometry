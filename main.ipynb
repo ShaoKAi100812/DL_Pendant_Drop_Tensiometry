{
 "cells": [
  {
   "cell_type": "markdown",
   "metadata": {},
   "source": [
    "# Deep Learning for tensiometry of pendant drop"
   ]
  },
  {
   "cell_type": "markdown",
   "metadata": {},
   "source": [
    "### Import necessary packages and self-defined classes"
   ]
  },
  {
   "cell_type": "code",
   "execution_count": 1,
   "metadata": {},
   "outputs": [],
   "source": [
    "# pyplot\n",
    "import matplotlib.pyplot as plt\n",
    "# pytorch\n",
    "import torch\n",
    "import torch.optim as optim\n",
    "import torch.nn.functional as F  # useful stateless functions\n",
    "#Test/Train data split\n",
    "from functools import lru_cache\n",
    "from torch.utils.data import DataLoader, Dataset\n",
    "from torch.utils.data.sampler import SubsetRandomSampler\n",
    "import numpy as np\n",
    "import logging\n",
    "# sklearn\n",
    "from sklearn import preprocessing\n",
    "# os\n",
    "import os\n",
    "# warnings\n",
    "import warnings\n",
    "warnings.filterwarnings('ignore')\n",
    "# self-defined model\n",
    "from model_pic import *\n",
    "from model_cal import *\n",
    "import pandas as pd"
   ]
  },
  {
   "cell_type": "markdown",
   "metadata": {},
   "source": [
    "### Dataset loading and preprocessing"
   ]
  },
  {
   "cell_type": "code",
   "execution_count": 2,
   "metadata": {},
   "outputs": [],
   "source": [
    "class DataSplit:\n",
    "\n",
    "    def __init__(self, dataset, test_train_split=0.8, val_train_split=0.1, shuffle=False):\n",
    "        self.dataset = dataset\n",
    "\n",
    "        dataset_size = len(dataset)\n",
    "        self.indices = list(range(dataset_size))\n",
    "        test_split = int(np.floor(test_train_split * dataset_size))\n",
    "\n",
    "        if shuffle:\n",
    "            np.random.shuffle(self.indices)\n",
    "\n",
    "        train_indices, self.test_indices = self.indices[:test_split], self.indices[test_split:]\n",
    "        train_size = len(train_indices)\n",
    "        validation_split = int(np.floor((1 - val_train_split) * train_size))\n",
    "\n",
    "        self.train_indices, self.val_indices = train_indices[:validation_split], train_indices[validation_split:]\n",
    "\n",
    "        self.train_sampler = SubsetRandomSampler(self.train_indices)\n",
    "        self.val_sampler = SubsetRandomSampler(self.val_indices)\n",
    "        self.test_sampler = SubsetRandomSampler(self.test_indices)\n",
    "    \n",
    "    def get_train_split_point(self):\n",
    "        return len(self.train_sampler) + len(self.val_indices)\n",
    "\n",
    "    def get_validation_split_point(self):\n",
    "        return len(self.train_sampler)\n",
    "\n",
    "    @lru_cache(maxsize=4)\n",
    "    def get_split(self, batch_size=50, num_workers=0):\n",
    "        logging.debug('Initializing train-validation-test dataloaders')\n",
    "        self.train_loader = self.get_train_loader(batch_size=batch_size, num_workers=num_workers)\n",
    "        self.val_loader = self.get_validation_loader(batch_size=batch_size, num_workers=num_workers)\n",
    "        self.test_loader = self.get_test_loader(batch_size=batch_size, num_workers=num_workers)\n",
    "        return self.train_loader, self.val_loader, self.test_loader\n",
    "\n",
    "    @lru_cache(maxsize=4)\n",
    "    def get_train_loader(self, batch_size=50, num_workers=0):\n",
    "        logging.debug('Initializing train dataloader')\n",
    "        self.train_loader = DataLoader(self.dataset, batch_size=batch_size, sampler=self.train_sampler, shuffle=False, num_workers=num_workers)\n",
    "        return self.train_loader\n",
    "\n",
    "    @lru_cache(maxsize=4)\n",
    "    def get_validation_loader(self, batch_size=50, num_workers=0):\n",
    "        logging.debug('Initializing validation dataloader')\n",
    "        self.val_loader = DataLoader(self.dataset, batch_size=batch_size, sampler=self.val_sampler, shuffle=False, num_workers=num_workers)\n",
    "        return self.val_loader\n",
    "\n",
    "    @lru_cache(maxsize=4)\n",
    "    def get_test_loader(self, batch_size=50, num_workers=0):\n",
    "        logging.debug('Initializing test dataloader')\n",
    "        self.test_loader = DataLoader(self.dataset, batch_size=batch_size, sampler=self.test_sampler, shuffle=False, num_workers=num_workers)\n",
    "        return self.test_loader"
   ]
  },
  {
   "cell_type": "code",
   "execution_count": 3,
   "metadata": {},
   "outputs": [
    {
     "name": "stdout",
     "output_type": "stream",
     "text": [
      "       0    1    2             3         4         5         6         7    \\\n",
      "0      2.3  0.2    1  1.507010e-26  0.012809  0.025618  0.038426  0.051234   \n",
      "1      2.4  0.2    1 -1.908640e-26  0.012808  0.025616  0.038423  0.051230   \n",
      "2      2.5  0.2    1  1.076793e-27  0.012807  0.025614  0.038421  0.051226   \n",
      "3      2.6  0.2    1 -2.257969e-27  0.012806  0.025613  0.038418  0.051223   \n",
      "4      2.7  0.2    1 -2.748220e-26  0.012806  0.025611  0.038416  0.051220   \n",
      "...    ...  ...  ...           ...       ...       ...       ...       ...   \n",
      "8215  35.3  2.1    1  3.612701e-25  0.019995  0.039982  0.059951  0.079893   \n",
      "8216  35.3  2.2    1  6.935291e-25  0.020404  0.040799  0.061176  0.081524   \n",
      "8217  35.3  2.3    1  5.082584e-25  0.020808  0.041606  0.062385  0.083133   \n",
      "8218  35.4  0.2    1  2.791266e-24  0.012794  0.025587  0.038381  0.051174   \n",
      "8219  35.4  0.3    1  1.262741e-23  0.012958  0.025916  0.038873  0.051830   \n",
      "\n",
      "           8         9    ...       155       156       157       158  \\\n",
      "0     0.064040  0.076845  ... -0.020753 -0.018140 -0.015530 -0.012924   \n",
      "1     0.064035  0.076839  ... -0.020919 -0.018292 -0.015667 -0.013043   \n",
      "2     0.064031  0.076834  ... -0.021070 -0.018431 -0.015791 -0.013152   \n",
      "3     0.064027  0.076830  ... -0.021208 -0.018558 -0.015905 -0.013251   \n",
      "4     0.064024  0.076826  ... -0.021334 -0.018674 -0.016009 -0.013342   \n",
      "...        ...       ...  ...       ...       ...       ...       ...   \n",
      "8215  0.099800  0.119665  ... -0.158858 -0.139152 -0.119391 -0.099580   \n",
      "8216  0.101834  0.122099  ... -0.162536 -0.142343 -0.122102 -0.101819   \n",
      "8217  0.103841  0.124502  ... -0.166052 -0.145392 -0.124692 -0.103957   \n",
      "8218  0.063966  0.076758  ... -0.024047 -0.021170 -0.018257 -0.015305   \n",
      "8219  0.064785  0.077739  ... -0.035654 -0.031385 -0.027061 -0.022684   \n",
      "\n",
      "           159       160       161       162  163  164  \n",
      "0    -0.010324 -0.007730 -0.005144 -0.002567  0.0    0  \n",
      "1    -0.010423 -0.007808 -0.005198 -0.002595  0.0    0  \n",
      "2    -0.010514 -0.007878 -0.005247 -0.002620  0.0    0  \n",
      "3    -0.010597 -0.007943 -0.005292 -0.002644  0.0    0  \n",
      "4    -0.010672 -0.008003 -0.005333 -0.002665  0.0    0  \n",
      "...        ...       ...       ...       ...  ...  ...  \n",
      "8215 -0.079727 -0.059837 -0.039915 -0.019968  0.0    0  \n",
      "8216 -0.081502 -0.061155 -0.040786 -0.020399  0.0    0  \n",
      "8217 -0.083196 -0.062413 -0.041616 -0.020809  0.0    0  \n",
      "8218 -0.012318 -0.009293 -0.006232 -0.003134  0.0    0  \n",
      "8219 -0.018253 -0.013769 -0.009232 -0.004642  0.0    0  \n",
      "\n",
      "[8220 rows x 165 columns]\n",
      "[[ 2.85920883e-27  2.43023526e-03  4.86041687e-03 ... -4.86974139e-04\n",
      "   0.00000000e+00  0.00000000e+00]\n",
      " [-3.62135000e-27  2.43014042e-03  4.86022896e-03 ... -4.92323335e-04\n",
      "   0.00000000e+00  0.00000000e+00]\n",
      " [ 2.04311945e-28  2.43005695e-03  4.86006357e-03 ... -4.97193669e-04\n",
      "   0.00000000e+00  0.00000000e+00]\n",
      " ...\n",
      " [-7.29184672e-26  2.23067491e-03  4.46059410e-03 ... -2.17354536e-03\n",
      "   0.00000000e+00  0.00000000e+00]\n",
      " [ 3.10750584e-26  2.22762573e-03  4.45444611e-03 ... -2.18897168e-03\n",
      "   0.00000000e+00  0.00000000e+00]\n",
      " [-1.75541993e-26  2.22546473e-03  4.45007590e-03 ... -2.20069627e-03\n",
      "   0.00000000e+00  0.00000000e+00]]\n"
     ]
    }
   ],
   "source": [
    "data_matrix = df = pd.DataFrame()\n",
    "\n",
    "data_matrix = pd.read_csv(\"Data_folder/Data.csv\", header= None)\n",
    "\n",
    "print(data_matrix)\n",
    "\n",
    "\n",
    "# Make the droplet dataset class based on data_matrix\n",
    "class Droplet_data_set(Dataset):\n",
    "    def __init__(self):\n",
    "        x = data_matrix.iloc[0:8191,3:].values\n",
    "        y = data_matrix.iloc[0:8191,0].values\n",
    "        \n",
    "        # Add normalization for x\n",
    "        x = preprocessing.normalize(x)\n",
    "        print(x)\n",
    "\n",
    "        self.x_train=torch.tensor(x,dtype=torch.float32)\n",
    "        self.y_train=torch.tensor(y,dtype=torch.float32)\n",
    "        \n",
    "    def __getitem__(self, idx):\n",
    "        return self.x_train[idx],self.y_train[idx]\n",
    "    \n",
    "    def __len__(self):\n",
    "         return len(self.y_train)\n",
    "        \n",
    "my_data_set = Droplet_data_set()\n",
    "\n",
    "# Split the single dataset into 3 datasets for training, test and validation.\n",
    "split = DataSplit(my_data_set, shuffle=True)\n",
    "train_loader, val_loader, test_loader = split.get_split(batch_size=64, num_workers=0)"
   ]
  },
  {
   "cell_type": "markdown",
   "metadata": {},
   "source": [
    "### Deside to apply host or device"
   ]
  },
  {
   "cell_type": "code",
   "execution_count": 4,
   "metadata": {},
   "outputs": [
    {
     "name": "stdout",
     "output_type": "stream",
     "text": [
      "cuda\n"
     ]
    }
   ],
   "source": [
    "USE_GPU = True\n",
    "if USE_GPU and torch.cuda.is_available():\n",
    "    device = torch.device('cuda')\n",
    "else:\n",
    "    device = torch.device('cpu')\n",
    "\n",
    "print(device)"
   ]
  },
  {
   "cell_type": "markdown",
   "metadata": {},
   "source": [
    "### Define the functions we need"
   ]
  },
  {
   "cell_type": "code",
   "execution_count": 5,
   "metadata": {},
   "outputs": [],
   "source": [
    "def loss_cal_per_epoch(loss_list, model, loader):\n",
    "    model.eval()  # set model to evaluation mode\n",
    "    with torch.no_grad():\n",
    "        loss_epoch = 0\n",
    "        for t, (x, y) in enumerate(loader):\n",
    "            x = x.to(device=device, dtype=torch.float32)  # move to device, e.g. GPU\n",
    "            y = y.to(device=device, dtype=torch.float32)\n",
    "            scores = model(x)\n",
    "            loss = F.mse_loss(scores, y)\n",
    "            loss_epoch += loss\n",
    "        loss_list.append(loss_epoch/t)\n",
    "\n",
    "def train(model, optimizer, epochs=1):\n",
    "    loss_train = []\n",
    "    loss_val = []\n",
    "    model = model.to(device=device)  # move the model parameters to CPU/GPU\n",
    "    for e in range(epochs):\n",
    "        for _, (x, y) in enumerate(train_loader):\n",
    "            x = x.reshape(len(x), 1, 1, -1)     # reshape to 4D data for formal input of model\n",
    "            model.train()  # put model to training mode\n",
    "            x = x.to(device=device, dtype=torch.float32)  # move to device, e.g. GPU\n",
    "            y = y.to(device=device, dtype=torch.float32)\n",
    "\n",
    "            scores = model(x)\n",
    "            loss = F.mse_loss(scores, y)\n",
    "\n",
    "            optimizer.zero_grad()\n",
    "            loss.backward()\n",
    "            optimizer.step()\n",
    "        \n",
    "        loss_cal_per_epoch(loss_train, model, train_loader)\n",
    "        loss_cal_per_epoch(loss_val, model, val_loader)\n",
    "        print('epoch %d: train_loss = %.4f, val_loss = %.4f' % (e+1, loss_train[e], loss_val[e]))\n",
    "    \n",
    "    x = range(1, epochs+1)\n",
    "    plt.plot(x, loss_train, 'b-', label=\"training loss\")\n",
    "    plt.plot(x, loss_val, 'r--', label=\"validation loss\")\n",
    "    plt.xlabel(\"Epochs\")\n",
    "    plt.ylabel(\"MSE Loss\")\n",
    "    plt.title(\"Train/Validation Loss\")\n",
    "    plt.legend()\n",
    "    plt.show()\n",
    "\n",
    "def prediction(model, x):   # only a batch\n",
    "    model = model.to(device=device)\n",
    "    model.eval()  # set model to evaluation mode\n",
    "    with torch.no_grad():\n",
    "        x = x.to(device=device, dtype=torch.float32)\n",
    "        score = torch.Tensor.cpu(model(x))\n",
    "    return score\n"
   ]
  },
  {
   "cell_type": "markdown",
   "metadata": {},
   "source": [
    "### Train PhysicsNet"
   ]
  },
  {
   "cell_type": "code",
   "execution_count": 8,
   "metadata": {},
   "outputs": [
    {
     "name": "stdout",
     "output_type": "stream",
     "text": [
      "epoch 1: train_loss = 384.3715, val_loss = 409.3900\n",
      "epoch 2: train_loss = 321.1073, val_loss = 336.8753\n",
      "epoch 3: train_loss = 243.2097, val_loss = 262.8041\n",
      "epoch 4: train_loss = 172.5598, val_loss = 185.0055\n",
      "epoch 5: train_loss = 131.0035, val_loss = 142.0968\n",
      "epoch 6: train_loss = 112.7700, val_loss = 124.4006\n",
      "epoch 7: train_loss = 105.5634, val_loss = 113.0780\n",
      "epoch 8: train_loss = 102.0210, val_loss = 109.6416\n",
      "epoch 9: train_loss = 101.1859, val_loss = 105.7625\n",
      "epoch 10: train_loss = 97.4724, val_loss = 100.4996\n",
      "epoch 11: train_loss = 97.3380, val_loss = 101.1969\n",
      "epoch 12: train_loss = 92.5065, val_loss = 97.4765\n",
      "epoch 13: train_loss = 93.4533, val_loss = 99.6852\n",
      "epoch 14: train_loss = 92.2551, val_loss = 95.6799\n",
      "epoch 15: train_loss = 90.3556, val_loss = 97.1709\n",
      "epoch 16: train_loss = 89.3725, val_loss = 95.9587\n",
      "epoch 17: train_loss = 90.6099, val_loss = 95.5221\n",
      "epoch 18: train_loss = 88.9788, val_loss = 93.9893\n",
      "epoch 19: train_loss = 87.9597, val_loss = 95.7988\n",
      "epoch 20: train_loss = 86.0381, val_loss = 90.5111\n",
      "epoch 21: train_loss = 85.9437, val_loss = 91.0463\n",
      "epoch 22: train_loss = 85.3411, val_loss = 88.9665\n",
      "epoch 23: train_loss = 84.1331, val_loss = 87.9960\n",
      "epoch 24: train_loss = 84.5304, val_loss = 92.0762\n",
      "epoch 25: train_loss = 85.3583, val_loss = 90.4599\n",
      "epoch 26: train_loss = 83.6983, val_loss = 86.6147\n",
      "epoch 27: train_loss = 83.5680, val_loss = 88.9892\n",
      "epoch 28: train_loss = 82.8016, val_loss = 90.8303\n",
      "epoch 29: train_loss = 82.6620, val_loss = 87.0173\n",
      "epoch 30: train_loss = 81.3663, val_loss = 86.0138\n",
      "epoch 31: train_loss = 82.0739, val_loss = 88.1157\n",
      "epoch 32: train_loss = 81.6351, val_loss = 87.0706\n",
      "epoch 33: train_loss = 82.0784, val_loss = 87.8957\n",
      "epoch 34: train_loss = 82.2503, val_loss = 88.9121\n",
      "epoch 35: train_loss = 81.7852, val_loss = 86.9840\n",
      "epoch 36: train_loss = 81.6279, val_loss = 83.8010\n",
      "epoch 37: train_loss = 80.5782, val_loss = 87.0471\n",
      "epoch 38: train_loss = 80.6210, val_loss = 86.6660\n",
      "epoch 39: train_loss = 79.8002, val_loss = 84.1458\n",
      "epoch 40: train_loss = 80.2674, val_loss = 85.4408\n",
      "epoch 41: train_loss = 80.1409, val_loss = 88.0059\n",
      "epoch 42: train_loss = 80.1515, val_loss = 90.1781\n",
      "epoch 43: train_loss = 79.8354, val_loss = 84.3518\n",
      "epoch 44: train_loss = 79.9143, val_loss = 86.8261\n",
      "epoch 45: train_loss = 79.4577, val_loss = 85.3599\n",
      "epoch 46: train_loss = 78.9364, val_loss = 84.2632\n",
      "epoch 47: train_loss = 79.4885, val_loss = 86.2052\n",
      "epoch 48: train_loss = 79.2096, val_loss = 85.4132\n",
      "epoch 49: train_loss = 79.3117, val_loss = 83.9520\n",
      "epoch 50: train_loss = 79.4386, val_loss = 84.6880\n",
      "epoch 51: train_loss = 78.3560, val_loss = 84.9935\n",
      "epoch 52: train_loss = 78.6156, val_loss = 80.9953\n",
      "epoch 53: train_loss = 78.3493, val_loss = 84.9938\n",
      "epoch 54: train_loss = 78.8747, val_loss = 83.4397\n",
      "epoch 55: train_loss = 78.6577, val_loss = 83.7141\n",
      "epoch 56: train_loss = 79.1151, val_loss = 84.2783\n",
      "epoch 57: train_loss = 78.4931, val_loss = 83.2272\n",
      "epoch 58: train_loss = 78.7009, val_loss = 82.0430\n",
      "epoch 59: train_loss = 78.2710, val_loss = 85.7652\n",
      "epoch 60: train_loss = 78.7344, val_loss = 85.3830\n",
      "epoch 61: train_loss = 77.9080, val_loss = 83.2840\n",
      "epoch 62: train_loss = 78.8901, val_loss = 83.1381\n",
      "epoch 63: train_loss = 78.7253, val_loss = 85.7753\n",
      "epoch 64: train_loss = 77.7493, val_loss = 82.7814\n",
      "epoch 65: train_loss = 78.1590, val_loss = 83.3102\n",
      "epoch 66: train_loss = 78.3146, val_loss = 84.0551\n",
      "epoch 67: train_loss = 77.6717, val_loss = 84.3482\n",
      "epoch 68: train_loss = 78.2599, val_loss = 86.1868\n",
      "epoch 69: train_loss = 77.8388, val_loss = 81.9071\n",
      "epoch 70: train_loss = 77.8260, val_loss = 82.9342\n",
      "epoch 71: train_loss = 77.7238, val_loss = 83.5990\n",
      "epoch 72: train_loss = 77.9054, val_loss = 82.3301\n",
      "epoch 73: train_loss = 77.8888, val_loss = 83.5317\n",
      "epoch 74: train_loss = 77.9820, val_loss = 86.7004\n",
      "epoch 75: train_loss = 77.9809, val_loss = 85.7509\n",
      "epoch 76: train_loss = 77.4388, val_loss = 84.1874\n",
      "epoch 77: train_loss = 77.1163, val_loss = 82.5485\n",
      "epoch 78: train_loss = 78.1924, val_loss = 83.3879\n",
      "epoch 79: train_loss = 78.3230, val_loss = 82.9519\n",
      "epoch 80: train_loss = 77.5880, val_loss = 81.5026\n",
      "epoch 81: train_loss = 77.4005, val_loss = 86.2395\n",
      "epoch 82: train_loss = 78.3265, val_loss = 83.0972\n",
      "epoch 83: train_loss = 77.5439, val_loss = 83.9617\n",
      "epoch 84: train_loss = 77.9490, val_loss = 85.0365\n",
      "epoch 85: train_loss = 77.6996, val_loss = 83.5482\n",
      "epoch 86: train_loss = 78.0277, val_loss = 85.3212\n",
      "epoch 87: train_loss = 77.6363, val_loss = 81.6902\n",
      "epoch 88: train_loss = 77.4081, val_loss = 83.9298\n",
      "epoch 89: train_loss = 77.5632, val_loss = 81.8499\n",
      "epoch 90: train_loss = 77.6695, val_loss = 83.4546\n",
      "epoch 91: train_loss = 77.4717, val_loss = 81.7838\n",
      "epoch 92: train_loss = 77.5405, val_loss = 81.7231\n",
      "epoch 93: train_loss = 77.2532, val_loss = 82.9762\n",
      "epoch 94: train_loss = 77.5583, val_loss = 83.5949\n",
      "epoch 95: train_loss = 77.1481, val_loss = 82.7013\n",
      "epoch 96: train_loss = 77.7897, val_loss = 83.8329\n",
      "epoch 97: train_loss = 78.1037, val_loss = 84.0180\n",
      "epoch 98: train_loss = 77.1646, val_loss = 82.5075\n",
      "epoch 99: train_loss = 78.3332, val_loss = 83.3004\n",
      "epoch 100: train_loss = 77.1224, val_loss = 83.0126\n"
     ]
    },
    {
     "data": {
      "image/png": "[encoded data removed]",
      "text/plain": [
       "<Figure size 432x288 with 1 Axes>"
      ]
     },
     "metadata": {
      "needs_background": "light"
     },
     "output_type": "display_data"
    }
   ],
   "source": [
    "in_channel = 162\n",
    "node_1 = 256\n",
    "node_2 = 256\n",
    "node_3 = 128\n",
    "node_4 = 64\n",
    "out_channel = 1\n",
    "\n",
    "learning_rate = 1e-3\n",
    "\n",
    "model_physics = PhysicsNet(in_channel, node_1, node_2, node_3, node_4, out_channel)\n",
    "optimizer = optim.Adam(model_physics.parameters(), lr=learning_rate)\n",
    "epoch = 100\n",
    "\n",
    "train(model_physics, optimizer, epoch)\n",
    "PATH_CAL = os.path.join(os.getcwd(), \"model_cal\")\n",
    "torch.save(model_physics, PATH_CAL)"
   ]
  },
  {
   "cell_type": "markdown",
   "metadata": {},
   "source": [
    "### Visualization of outcomes"
   ]
  },
  {
   "cell_type": "code",
   "execution_count": 13,
   "metadata": {},
   "outputs": [
    {
     "name": "stdout",
     "output_type": "stream",
     "text": [
      "Ground Truths = tensor([33.7000, 18.4000,  7.4000, 28.6000, 27.9000, 13.3000,  9.7000, 34.3000])\n",
      "Prediction    = tensor([[17.8167, 18.2857, 18.2144, 17.6725, 17.6725, 18.1907, 18.1782, 18.0335]])\n"
     ]
    }
   ],
   "source": [
    "model_trained = torch.load(PATH_CAL)\n",
    "\n",
    "examples = enumerate(test_loader)\n",
    "_, (x_test_example, y_test_example) = next(examples)\n",
    "\n",
    "score_example = prediction(model_trained, x_test_example)\n",
    "\n",
    "# Print only 8 data samples for comparison\n",
    "print(\"Ground Truths =\", y_test_example[:8])\n",
    "print(\"Prediction    =\", score_example[:8].reshape(1, 8))"
   ]
  },
  {
   "cell_type": "code",
   "execution_count": null,
   "metadata": {},
   "outputs": [],
   "source": []
  }
 ],
 "metadata": {
  "interpreter": {
   "hash": "64def4006c78149665c79cf5850ee76c9e416630a0d9e75e41ff194dcaf5fb2b"
  },
  "kernelspec": {
   "display_name": "Python 3.8.10 64-bit",
   "language": "python",
   "name": "python3"
  },
  "language_info": {
   "codemirror_mode": {
    "name": "ipython",
    "version": 3
   },
   "file_extension": ".py",
   "mimetype": "text/x-python",
   "name": "python",
   "nbconvert_exporter": "python",
   "pygments_lexer": "ipython3",
   "version": "3.8.10"
  }
 },
 "nbformat": 4,
 "nbformat_minor": 2
}
