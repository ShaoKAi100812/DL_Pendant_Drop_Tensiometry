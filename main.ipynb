{
 "cells": [
  {
   "cell_type": "markdown",
   "metadata": {},
   "source": [
    "# Deep Learning for tensiometry of pendant drop"
   ]
  },
  {
   "cell_type": "markdown",
   "metadata": {},
   "source": [
    "### Import necessary packages and self-defined classes"
   ]
  },
  {
   "cell_type": "code",
   "execution_count": 31,
   "metadata": {},
   "outputs": [],
   "source": [
    "# pyplot\n",
    "import matplotlib.pyplot as plt\n",
    "# pytorch\n",
    "import torch\n",
    "import torch.optim as optim\n",
    "import torch.nn.functional as F  # useful stateless functions\n",
    "#Test/Train data split\n",
    "from functools import lru_cache\n",
    "from torch.utils.data import DataLoader, Dataset\n",
    "from torch.utils.data.sampler import SubsetRandomSampler\n",
    "import numpy as np\n",
    "import logging\n",
    "# sklearn\n",
    "from sklearn import preprocessing\n",
    "# os\n",
    "import os\n",
    "# warnings\n",
    "import warnings\n",
    "warnings.filterwarnings('ignore')\n",
    "# self-defined model\n",
    "from model_pic import *\n",
    "from model_cal import *\n",
    "import pandas as pd\n",
    "\n",
    "#PictureNet\n",
    "from PIL import Image\n",
    "from skimage.io import imread\n",
    "from sklearn.model_selection import train_test_split"
   ]
  },
  {
   "cell_type": "markdown",
   "metadata": {},
   "source": [
    "### Dataset loading and preprocessing"
   ]
  },
  {
   "cell_type": "code",
   "execution_count": 32,
   "metadata": {},
   "outputs": [],
   "source": [
    "class DataSplit:\n",
    "\n",
    "    def __init__(self, dataset, test_train_split=0.8, val_train_split=0.1, shuffle=False):\n",
    "        self.dataset = dataset\n",
    "\n",
    "        dataset_size = len(dataset)\n",
    "        self.indices = list(range(dataset_size))\n",
    "        test_split = int(np.floor(test_train_split * dataset_size))\n",
    "\n",
    "        if shuffle:\n",
    "            np.random.shuffle(self.indices)\n",
    "\n",
    "        train_indices, self.test_indices = self.indices[:test_split], self.indices[test_split:]\n",
    "        train_size = len(train_indices)\n",
    "        validation_split = int(np.floor((1 - val_train_split) * train_size))\n",
    "\n",
    "        self.train_indices, self.val_indices = train_indices[:validation_split], train_indices[validation_split:]\n",
    "\n",
    "        self.train_sampler = SubsetRandomSampler(self.train_indices)\n",
    "        self.val_sampler = SubsetRandomSampler(self.val_indices)\n",
    "        self.test_sampler = SubsetRandomSampler(self.test_indices)\n",
    "    \n",
    "    def get_train_split_point(self):\n",
    "        return len(self.train_sampler) + len(self.val_indices)\n",
    "\n",
    "    def get_validation_split_point(self):\n",
    "        return len(self.train_sampler)\n",
    "\n",
    "    @lru_cache(maxsize=4)\n",
    "    def get_split(self, batch_size=50, num_workers=0):\n",
    "        logging.debug('Initializing train-validation-test dataloaders')\n",
    "        self.train_loader = self.get_train_loader(batch_size=batch_size, num_workers=num_workers)\n",
    "        self.val_loader = self.get_validation_loader(batch_size=batch_size, num_workers=num_workers)\n",
    "        self.test_loader = self.get_test_loader(batch_size=batch_size, num_workers=num_workers)\n",
    "        return self.train_loader, self.val_loader, self.test_loader\n",
    "\n",
    "    @lru_cache(maxsize=4)\n",
    "    def get_train_loader(self, batch_size=50, num_workers=0):\n",
    "        logging.debug('Initializing train dataloader')\n",
    "        self.train_loader = DataLoader(self.dataset, batch_size=batch_size, sampler=self.train_sampler, shuffle=False, num_workers=num_workers)\n",
    "        return self.train_loader\n",
    "\n",
    "    @lru_cache(maxsize=4)\n",
    "    def get_validation_loader(self, batch_size=50, num_workers=0):\n",
    "        logging.debug('Initializing validation dataloader')\n",
    "        self.val_loader = DataLoader(self.dataset, batch_size=batch_size, sampler=self.val_sampler, shuffle=False, num_workers=num_workers)\n",
    "        return self.val_loader\n",
    "\n",
    "    @lru_cache(maxsize=4)\n",
    "    def get_test_loader(self, batch_size=50, num_workers=0):\n",
    "        logging.debug('Initializing test dataloader')\n",
    "        self.test_loader = DataLoader(self.dataset, batch_size=batch_size, sampler=self.test_sampler, shuffle=False, num_workers=num_workers)\n",
    "        return self.test_loader"
   ]
  },
  {
   "cell_type": "markdown",
   "metadata": {},
   "source": [
    "### Load data for PhysicsNet"
   ]
  },
  {
   "cell_type": "code",
   "execution_count": 33,
   "metadata": {},
   "outputs": [],
   "source": [
    "data_matrix = df = pd.DataFrame()\n",
    "\n",
    "data_matrix = pd.read_csv(\"Data_folder/Picture.csv\", header= None)\n",
    "\n",
    "#print(data_matrix)\n",
    "\n",
    "\n",
    "# Make the droplet dataset class based on data_matrix\n",
    "class Droplet_data_set(Dataset):\n",
    "    def __init__(self):\n",
    "        x = data_matrix.iloc[0:,3:].values\n",
    "        y = data_matrix.iloc[0:,0:2].values\n",
    "        # x = np.random.normal(x,0.01)\n",
    "        y0 = data_matrix.iloc[:,0].values\n",
    "        y1 = data_matrix.iloc[:,1].values\n",
    "        \n",
    "        # Add normalization for x\n",
    "        # x = preprocessing.normalize(x)\n",
    "        # y = preprocessing.normalize(y, axis = 0,norm='l2')\n",
    "\n",
    "\n",
    "        self.x_train = torch.tensor(x,dtype=torch.float32)\n",
    "        self.y_train = torch.tensor(y,dtype=torch.float32)\n",
    "        \n",
    "    def __getitem__(self, idx):\n",
    "        return self.x_train[idx],self.y_train[idx]\n",
    "    \n",
    "    def __len__(self):\n",
    "         return len(self.y_train)\n",
    "        \n",
    "my_data_set = Droplet_data_set()\n",
    "\n",
    "# Split the single dataset into 3 datasets for training, test and validation.\n",
    "split = DataSplit(my_data_set, shuffle=True)\n",
    "train_loader, val_loader, test_loader = split.get_split(batch_size=64, num_workers=0)\n"
   ]
  },
  {
   "cell_type": "markdown",
   "metadata": {},
   "source": [
    "### Load data for PictureNet"
   ]
  },
  {
   "cell_type": "code",
   "execution_count": 36,
   "metadata": {},
   "outputs": [
    {
     "data": {
      "image/png": "[encoded data removed]",
      "text/plain": [
       "<Figure size 432x288 with 1 Axes>"
      ]
     },
     "metadata": {
      "needs_background": "light"
     },
     "output_type": "display_data"
    }
   ],
   "source": [
    "train_img = []\n",
    "\n",
    "data_image = pd.read_csv(\"Data_folder/Picture.csv\", header= None)\n",
    "for img_name in data_image.iloc[0:32,3:].index + 1:\n",
    "    # defining the image path\n",
    "    image_path = 'Data_folder/' + str(img_name) + '.png'\n",
    "    # reading the image\n",
    "    img = imread(image_path, as_gray=True)\n",
    "    img = img[4:-4, 4:-4]  #crop \n",
    "    # normalizing the pixel values\n",
    "    img /= 255.0\n",
    "    # converting the type of pixel to float 32\n",
    "    img = img.astype('float32')\n",
    "    # appending the image into the list\n",
    "    train_img.append(img)\n",
    "    \n",
    "plt.imshow(train_img[0], cmap='gray')\n",
    "\n",
    "# converting the list to numpy array\n",
    "train_x_pic = np.array(train_img)\n",
    "train_y_pic = data_image.iloc[0:32,3:].values\n",
    "train_x_pic, rem_x_pic, train_y_pic, rem_y_pic = train_test_split(train_x_pic, train_y_pic, test_size = 0.2)\n",
    "val_x_pic, test_x_pic, val_y_pic, test_y_pic = train_test_split(rem_x_pic, rem_y_pic, test_size = 0.5)\n",
    "# (train_x_pic.shape, train_y_pic.shape), (val_x_pic.shape, val_y_pic.shape), (test_x_pic.shape, test_y_pic.shape)\n",
    "\n",
    "# converting the trian images and targets into torch format\n",
    "train_x_pic = train_x_pic.reshape(len(train_x_pic), 1, 82, 77)\n",
    "train_x_pic  = torch.from_numpy(train_x_pic)\n",
    "train_y_pic = train_y_pic.astype(int)\n",
    "train_y_pic = torch.from_numpy(train_y_pic)\n",
    "# train_y_pic.shape, train_x_pic.shape\n",
    "\n",
    "# converting the val images and targets into torch format\n",
    "val_x_pic = val_x_pic.reshape(len(val_x_pic), 1, 82, 77)\n",
    "val_x_pic  = torch.from_numpy(val_x_pic)\n",
    "val_y_pic = val_y_pic.astype(int)\n",
    "val_y_pic = torch.from_numpy(val_y_pic)\n",
    "# val_x_pic.shape, val_y_pic.shape\n",
    "\n",
    "# converting the test images and targets into torch format\n",
    "test_x_pic = test_x_pic.reshape(len(test_x_pic), 1, 82, 77)\n",
    "test_x_pic  = torch.from_numpy(test_x_pic)\n",
    "test_y_pic = test_y_pic.astype(int)\n",
    "test_y_pic = torch.from_numpy(test_y_pic)\n",
    "# test_x_pic.shape, test_y_pic.shape\n",
    "\n",
    "# converting the torch into data "
   ]
  },
  {
   "cell_type": "markdown",
   "metadata": {},
   "source": [
    "### Deside to apply host or device\n"
   ]
  },
  {
   "cell_type": "code",
   "execution_count": 37,
   "metadata": {},
   "outputs": [
    {
     "name": "stdout",
     "output_type": "stream",
     "text": [
      "cuda\n"
     ]
    }
   ],
   "source": [
    "USE_GPU = True\n",
    "if USE_GPU and torch.cuda.is_available():\n",
    "    device = torch.device('cuda')\n",
    "else:\n",
    "    device = torch.device('cpu')\n",
    "#device = torch.device('cpu')\n",
    "print(device)"
   ]
  },
  {
   "cell_type": "markdown",
   "metadata": {},
   "source": [
    "### Define the functions we need"
   ]
  },
  {
   "cell_type": "code",
   "execution_count": 47,
   "metadata": {},
   "outputs": [],
   "source": [
    "def loss_cal_per_epoch(loss_list, model, loader):\n",
    "    model.eval()  # set model to evaluation mode\n",
    "    with torch.no_grad():\n",
    "        loss_epoch = 0\n",
    "        for t, (x, y) in enumerate(loader):\n",
    "            x = x.to(device=device, dtype=torch.float32)  # move to device, e.g. GPU\n",
    "            y = y.to(device=device, dtype=torch.float32)\n",
    "            scores = model(x)\n",
    "            loss = F.mse_loss(scores, y)\n",
    "            loss_epoch += loss\n",
    "        loss_list.append(loss_epoch/t)\n",
    "\n",
    "def prediction(model, x):   # only a batch\n",
    "    model = model.to(device=device)\n",
    "    model.eval()  # set model to evaluation mode\n",
    "    with torch.no_grad():\n",
    "        x = x.to(device=device, dtype=torch.float32)\n",
    "        score = torch.Tensor.cpu(model(x))\n",
    "    return score\n",
    "\n",
    "def train_physics(model, optimizer, epochs=1):\n",
    "    loss_train = []\n",
    "    loss_val = []\n",
    "    model = model.to(device=device)  # move the model parameters to CPU/GPU\n",
    "    for e in range(epochs):\n",
    "        for _, (x, y) in enumerate(train_loader):\n",
    "            x = x.reshape(len(x), 1, 1, -1)     # reshape to 4D data for formal input of model\n",
    "            model.train()  # put model to training mode\n",
    "            x = x.to(device=device, dtype=torch.float32)  # move to device, e.g. GPU\n",
    "            y = y.to(device=device, dtype=torch.float32)\n",
    "            scores = model(x)\n",
    "            loss = F.mse_loss(scores, y)\n",
    "\n",
    "            optimizer.zero_grad()\n",
    "            loss.backward()\n",
    "            optimizer.step()\n",
    "        loss_cal_per_epoch(loss_train, model, train_loader)\n",
    "        loss_cal_per_epoch(loss_val, model, val_loader)\n",
    "        print('epoch %d: train_loss = %.4f, val_loss = %.4f' % (e+1, loss_train[e], loss_val[e]))\n",
    "    \n",
    "    x = range(1, epochs+1)\n",
    "\n",
    "    plt.semilogy(x, loss_train, 'b-', label=\"training loss\")\n",
    "    plt.semilogy(x, loss_val, 'r--', label=\"validation loss\")\n",
    "    plt.xlabel(\"Epochs\")\n",
    "    plt.ylabel(\"MSE Loss\")\n",
    "    plt.title(\"Train/Validation Loss\")\n",
    "    plt.legend()\n",
    "    plt.show()\n",
    "\n",
    "def train_picture(model, optimizer, epochs=1):\n",
    "    loss_train = []\n",
    "    loss_val = []\n",
    "    model = model.to(device=device)  # move the model parameters to CPU/GPU\n",
    "    for e in range(epochs):\n",
    "        for (x, y) in (train_x_pic, train_y_pic):\n",
    "            model.train()  # put model to training mode\n",
    "            x = x.to(device=device, dtype=torch.float32)  # move to device, e.g. GPU\n",
    "            y = y.to(device=device, dtype=torch.float32)\n",
    "            # testing \n",
    "            print(x.shape, y.shape)\n",
    "            ####\n",
    "            scores = model(x)\n",
    "            loss = F.mse_loss(scores, y)\n",
    "\n",
    "            optimizer.zero_grad()\n",
    "            loss.backward()\n",
    "            optimizer.step()\n",
    "        # loss_cal_per_epoch(loss_train, model, train_loader)\n",
    "        # loss_cal_per_epoch(loss_val, model, val_loader)\n",
    "        # print('epoch %d: train_loss = %.4f, val_loss = %.4f' % (e+1, loss_train[e], loss_val[e]))\n",
    "    \n",
    "    # x = range(1, epochs+1)\n",
    "\n",
    "    # plt.semilogy(x, loss_train, 'b-', label=\"training loss\")\n",
    "    # plt.semilogy(x, loss_val, 'r--', label=\"validation loss\")\n",
    "    # plt.xlabel(\"Epochs\")\n",
    "    # plt.ylabel(\"MSE Loss\")\n",
    "    # plt.title(\"Train/Validation Loss\")\n",
    "    # plt.legend()\n",
    "    # plt.show()\n"
   ]
  },
  {
   "cell_type": "markdown",
   "metadata": {},
   "source": [
    "### Train PhysicsNet"
   ]
  },
  {
   "cell_type": "code",
   "execution_count": 42,
   "metadata": {},
   "outputs": [
    {
     "name": "stdout",
     "output_type": "stream",
     "text": [
      "epoch 1: train_loss = 13.1256, val_loss = 13.2607\n",
      "epoch 2: train_loss = 6.7906, val_loss = 6.6151\n",
      "epoch 3: train_loss = 11.0585, val_loss = 12.5253\n",
      "epoch 4: train_loss = 5.2082, val_loss = 6.0727\n",
      "epoch 5: train_loss = 1.4248, val_loss = 1.4897\n",
      "epoch 6: train_loss = 7.0046, val_loss = 7.5810\n"
     ]
    },
    {
     "ename": "KeyboardInterrupt",
     "evalue": "",
     "output_type": "error",
     "traceback": [
      "\u001b[1;31m---------------------------------------------------------------------------\u001b[0m",
      "\u001b[1;31mKeyboardInterrupt\u001b[0m                         Traceback (most recent call last)",
      "\u001b[1;32mc:\\Users\\jrimm\\Documents\\tue\\DL_Pendant_Drop_Tensiometry\\main.ipynb Cell 15'\u001b[0m in \u001b[0;36m<cell line: 14>\u001b[1;34m()\u001b[0m\n\u001b[0;32m     <a href='vscode-notebook-cell:/c%3A/Users/jrimm/Documents/tue/DL_Pendant_Drop_Tensiometry/main.ipynb#ch0000014?line=10'>11</a>\u001b[0m optimizer \u001b[39m=\u001b[39m optim\u001b[39m.\u001b[39mAdam(model_physics\u001b[39m.\u001b[39mparameters(), lr\u001b[39m=\u001b[39mlearning_rate)\n\u001b[0;32m     <a href='vscode-notebook-cell:/c%3A/Users/jrimm/Documents/tue/DL_Pendant_Drop_Tensiometry/main.ipynb#ch0000014?line=11'>12</a>\u001b[0m epoch \u001b[39m=\u001b[39m \u001b[39m200\u001b[39m\n\u001b[1;32m---> <a href='vscode-notebook-cell:/c%3A/Users/jrimm/Documents/tue/DL_Pendant_Drop_Tensiometry/main.ipynb#ch0000014?line=13'>14</a>\u001b[0m train_physics(model_physics, optimizer, epoch)\n\u001b[0;32m     <a href='vscode-notebook-cell:/c%3A/Users/jrimm/Documents/tue/DL_Pendant_Drop_Tensiometry/main.ipynb#ch0000014?line=14'>15</a>\u001b[0m PATH_CAL \u001b[39m=\u001b[39m os\u001b[39m.\u001b[39mpath\u001b[39m.\u001b[39mjoin(os\u001b[39m.\u001b[39mgetcwd(), \u001b[39m\"\u001b[39m\u001b[39mmodel_cal\u001b[39m\u001b[39m\"\u001b[39m)\n\u001b[0;32m     <a href='vscode-notebook-cell:/c%3A/Users/jrimm/Documents/tue/DL_Pendant_Drop_Tensiometry/main.ipynb#ch0000014?line=15'>16</a>\u001b[0m torch\u001b[39m.\u001b[39msave(model_physics, PATH_CAL)\n",
      "\u001b[1;32mc:\\Users\\jrimm\\Documents\\tue\\DL_Pendant_Drop_Tensiometry\\main.ipynb Cell 13'\u001b[0m in \u001b[0;36mtrain_physics\u001b[1;34m(model, optimizer, epochs)\u001b[0m\n\u001b[0;32m     <a href='vscode-notebook-cell:/c%3A/Users/jrimm/Documents/tue/DL_Pendant_Drop_Tensiometry/main.ipynb#ch0000012?line=26'>27</a>\u001b[0m x \u001b[39m=\u001b[39m x\u001b[39m.\u001b[39mreshape(\u001b[39mlen\u001b[39m(x), \u001b[39m1\u001b[39m, \u001b[39m1\u001b[39m, \u001b[39m-\u001b[39m\u001b[39m1\u001b[39m)     \u001b[39m# reshape to 4D data for formal input of model\u001b[39;00m\n\u001b[0;32m     <a href='vscode-notebook-cell:/c%3A/Users/jrimm/Documents/tue/DL_Pendant_Drop_Tensiometry/main.ipynb#ch0000012?line=27'>28</a>\u001b[0m model\u001b[39m.\u001b[39mtrain()  \u001b[39m# put model to training mode\u001b[39;00m\n\u001b[1;32m---> <a href='vscode-notebook-cell:/c%3A/Users/jrimm/Documents/tue/DL_Pendant_Drop_Tensiometry/main.ipynb#ch0000012?line=28'>29</a>\u001b[0m x \u001b[39m=\u001b[39m x\u001b[39m.\u001b[39;49mto(device\u001b[39m=\u001b[39;49mdevice, dtype\u001b[39m=\u001b[39;49mtorch\u001b[39m.\u001b[39;49mfloat32)  \u001b[39m# move to device, e.g. GPU\u001b[39;00m\n\u001b[0;32m     <a href='vscode-notebook-cell:/c%3A/Users/jrimm/Documents/tue/DL_Pendant_Drop_Tensiometry/main.ipynb#ch0000012?line=29'>30</a>\u001b[0m y \u001b[39m=\u001b[39m y\u001b[39m.\u001b[39mto(device\u001b[39m=\u001b[39mdevice, dtype\u001b[39m=\u001b[39mtorch\u001b[39m.\u001b[39mfloat32)\n\u001b[0;32m     <a href='vscode-notebook-cell:/c%3A/Users/jrimm/Documents/tue/DL_Pendant_Drop_Tensiometry/main.ipynb#ch0000012?line=30'>31</a>\u001b[0m scores \u001b[39m=\u001b[39m model(x)\n",
      "\u001b[1;31mKeyboardInterrupt\u001b[0m: "
     ]
    }
   ],
   "source": [
    "in_channel = 160\n",
    "node_1 = 4096\n",
    "node_2 = 4096\n",
    "node_3 = 1024\n",
    "node_4 = 512\n",
    "out_channel = 2\n",
    "\n",
    "learning_rate = 1e-3\n",
    "\n",
    "model_physics = PhysicsNet(in_channel, node_1, node_2, node_3, node_4, out_channel)\n",
    "optimizer = optim.Adam(model_physics.parameters(), lr=learning_rate)\n",
    "epoch = 200\n",
    "\n",
    "train_physics(model_physics, optimizer, epoch)\n",
    "PATH_CAL = os.path.join(os.getcwd(), \"model_cal\")\n",
    "torch.save(model_physics, PATH_CAL)"
   ]
  },
  {
   "cell_type": "markdown",
   "metadata": {},
   "source": [
    "### Visualization of outcomes"
   ]
  },
  {
   "cell_type": "code",
   "execution_count": 48,
   "metadata": {},
   "outputs": [
    {
     "name": "stdout",
     "output_type": "stream",
     "text": [
      "Ground Truths = tensor([[39.6000, 12.6000],\n",
      "        [39.0000, 12.2000],\n",
      "        [38.4000, 12.3000],\n",
      "        [35.3000, 13.7000],\n",
      "        [36.9000, 10.4000],\n",
      "        [40.7000, 19.0000],\n",
      "        [39.6000, 16.0000],\n",
      "        [31.7000, 12.1000],\n",
      "        [33.4000, 11.5000],\n",
      "        [36.1000, 12.2000],\n",
      "        [33.9000, 14.7000],\n",
      "        [41.1000, 19.5000],\n",
      "        [38.6000, 16.1000],\n",
      "        [32.5000, 10.8000],\n",
      "        [35.2000, 14.8000]])\n",
      "Prediction    = tensor([[41.9702, 13.0229],\n",
      "        [41.1339, 12.4790],\n",
      "        [40.6482, 12.6433],\n",
      "        [37.3277, 13.9196],\n",
      "        [39.0698, 10.6952],\n",
      "        [39.9571, 18.4248],\n",
      "        [41.6939, 16.0780],\n",
      "        [33.7561, 12.1455],\n",
      "        [35.3777, 11.4258],\n",
      "        [38.2097, 12.4473],\n",
      "        [35.1381, 14.7583],\n",
      "        [38.8045, 18.6697],\n",
      "        [40.3051, 16.1429],\n",
      "        [34.5094, 10.6821],\n",
      "        [36.6502, 14.7701]])\n"
     ]
    }
   ],
   "source": [
    "model_trained = torch.load(PATH_CAL)\n",
    "\n",
    "examples = enumerate(test_loader)\n",
    "_, (x_test_example, y_test_example) = next(examples)\n",
    "\n",
    "score_example = prediction(model_trained, x_test_example)\n",
    "y = data_matrix.iloc[0:,0:2].values\n",
    "#Revert normalized values back to real values\n",
    "# Print only 8 data samples for comparison\n",
    "print(\"Ground Truths =\", y_test_example[:15])\n",
    "print(\"Prediction    =\", score_example[:15].reshape(15, 2))"
   ]
  },
  {
   "cell_type": "markdown",
   "metadata": {},
   "source": [
    "### Train PictureNet"
   ]
  },
  {
   "cell_type": "code",
   "execution_count": 49,
   "metadata": {},
   "outputs": [
    {
     "ename": "ValueError",
     "evalue": "too many values to unpack (expected 2)",
     "output_type": "error",
     "traceback": [
      "\u001b[1;31m---------------------------------------------------------------------------\u001b[0m",
      "\u001b[1;31mValueError\u001b[0m                                Traceback (most recent call last)",
      "\u001b[1;32mc:\\Users\\jrimm\\Documents\\tue\\DL_Pendant_Drop_Tensiometry\\main.ipynb Cell 19'\u001b[0m in \u001b[0;36m<cell line: 15>\u001b[1;34m()\u001b[0m\n\u001b[0;32m     <a href='vscode-notebook-cell:/c%3A/Users/jrimm/Documents/tue/DL_Pendant_Drop_Tensiometry/main.ipynb#ch0000019?line=11'>12</a>\u001b[0m optimizer \u001b[39m=\u001b[39m optim\u001b[39m.\u001b[39mAdam(model_picture\u001b[39m.\u001b[39mparameters(), lr\u001b[39m=\u001b[39mlearning_rate)\n\u001b[0;32m     <a href='vscode-notebook-cell:/c%3A/Users/jrimm/Documents/tue/DL_Pendant_Drop_Tensiometry/main.ipynb#ch0000019?line=12'>13</a>\u001b[0m epoch \u001b[39m=\u001b[39m \u001b[39m1\u001b[39m\n\u001b[1;32m---> <a href='vscode-notebook-cell:/c%3A/Users/jrimm/Documents/tue/DL_Pendant_Drop_Tensiometry/main.ipynb#ch0000019?line=14'>15</a>\u001b[0m train_picture(model_picture, optimizer, epoch)\n\u001b[0;32m     <a href='vscode-notebook-cell:/c%3A/Users/jrimm/Documents/tue/DL_Pendant_Drop_Tensiometry/main.ipynb#ch0000019?line=15'>16</a>\u001b[0m PATH_CAL \u001b[39m=\u001b[39m os\u001b[39m.\u001b[39mpath\u001b[39m.\u001b[39mjoin(os\u001b[39m.\u001b[39mgetcwd(), \u001b[39m\"\u001b[39m\u001b[39mmodel_cal\u001b[39m\u001b[39m\"\u001b[39m)\n\u001b[0;32m     <a href='vscode-notebook-cell:/c%3A/Users/jrimm/Documents/tue/DL_Pendant_Drop_Tensiometry/main.ipynb#ch0000019?line=16'>17</a>\u001b[0m torch\u001b[39m.\u001b[39msave(model_picture, PATH_CAL)\n",
      "\u001b[1;32mc:\\Users\\jrimm\\Documents\\tue\\DL_Pendant_Drop_Tensiometry\\main.ipynb Cell 13'\u001b[0m in \u001b[0;36mtrain_picture\u001b[1;34m(model, optimizer, epochs)\u001b[0m\n\u001b[0;32m     <a href='vscode-notebook-cell:/c%3A/Users/jrimm/Documents/tue/DL_Pendant_Drop_Tensiometry/main.ipynb#ch0000012?line=53'>54</a>\u001b[0m model \u001b[39m=\u001b[39m model\u001b[39m.\u001b[39mto(device\u001b[39m=\u001b[39mdevice)  \u001b[39m# move the model parameters to CPU/GPU\u001b[39;00m\n\u001b[0;32m     <a href='vscode-notebook-cell:/c%3A/Users/jrimm/Documents/tue/DL_Pendant_Drop_Tensiometry/main.ipynb#ch0000012?line=54'>55</a>\u001b[0m \u001b[39mfor\u001b[39;00m e \u001b[39min\u001b[39;00m \u001b[39mrange\u001b[39m(epochs):\n\u001b[1;32m---> <a href='vscode-notebook-cell:/c%3A/Users/jrimm/Documents/tue/DL_Pendant_Drop_Tensiometry/main.ipynb#ch0000012?line=55'>56</a>\u001b[0m     \u001b[39mfor\u001b[39;00m (x, y) \u001b[39min\u001b[39;00m (train_x_pic, train_y_pic):\n\u001b[0;32m     <a href='vscode-notebook-cell:/c%3A/Users/jrimm/Documents/tue/DL_Pendant_Drop_Tensiometry/main.ipynb#ch0000012?line=56'>57</a>\u001b[0m         model\u001b[39m.\u001b[39mtrain()  \u001b[39m# put model to training mode\u001b[39;00m\n\u001b[0;32m     <a href='vscode-notebook-cell:/c%3A/Users/jrimm/Documents/tue/DL_Pendant_Drop_Tensiometry/main.ipynb#ch0000012?line=57'>58</a>\u001b[0m         x \u001b[39m=\u001b[39m x\u001b[39m.\u001b[39mto(device\u001b[39m=\u001b[39mdevice, dtype\u001b[39m=\u001b[39mtorch\u001b[39m.\u001b[39mfloat32)  \u001b[39m# move to device, e.g. GPU\u001b[39;00m\n",
      "\u001b[1;31mValueError\u001b[0m: too many values to unpack (expected 2)"
     ]
    }
   ],
   "source": [
    "in_channel = 1\n",
    "channel_1 = 4\n",
    "channel_2 = 8\n",
    "channel_3 = 16\n",
    "node_1 = 4096\n",
    "node_2 = 4096\n",
    "out_channel = 160\n",
    "\n",
    "learning_rate = 1e-3\n",
    "\n",
    "model_picture = PictureNet(in_channel, channel_1, channel_2, channel_3, node_1, node_2, out_channel)\n",
    "optimizer = optim.Adam(model_picture.parameters(), lr=learning_rate)\n",
    "epoch = 1\n",
    "\n",
    "train_picture(model_picture, optimizer, epoch)\n",
    "PATH_CAL = os.path.join(os.getcwd(), \"model_cal\")\n",
    "torch.save(model_picture, PATH_CAL)"
   ]
  },
  {
   "cell_type": "code",
   "execution_count": null,
   "metadata": {},
   "outputs": [],
   "source": []
  }
 ],
 "metadata": {
  "interpreter": {
   "hash": "64def4006c78149665c79cf5850ee76c9e416630a0d9e75e41ff194dcaf5fb2b"
  },
  "kernelspec": {
   "display_name": "Python 3 (ipykernel)",
   "language": "python",
   "name": "python3"
  },
  "language_info": {
   "codemirror_mode": {
    "name": "ipython",
    "version": 3
   },
   "file_extension": ".py",
   "mimetype": "text/x-python",
   "name": "python",
   "nbconvert_exporter": "python",
   "pygments_lexer": "ipython3",
   "version": "3.8.10"
  }
 },
 "nbformat": 4,
 "nbformat_minor": 2
}
