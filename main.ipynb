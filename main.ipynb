{
 "cells": [
  {
   "cell_type": "markdown",
   "metadata": {},
   "source": [
    "# Deep Learning for tensiometry of pendant drop"
   ]
  },
  {
   "cell_type": "markdown",
   "metadata": {},
   "source": [
    "### Import necessary packages and self-defined classes"
   ]
  },
  {
   "cell_type": "code",
   "execution_count": 1,
   "metadata": {},
   "outputs": [],
   "source": [
    "# pyplot\n",
    "import matplotlib.pyplot as plt\n",
    "# pytorch\n",
    "import torch\n",
    "import torch.optim as optim\n",
    "import torch.nn.functional as F  # useful stateless functions\n",
    "#Test/Train data split\n",
    "from functools import lru_cache\n",
    "from torch.utils.data import DataLoader, Dataset\n",
    "from torch.utils.data.sampler import SubsetRandomSampler\n",
    "import numpy as np\n",
    "import logging\n",
    "# sklearn\n",
    "from sklearn import preprocessing\n",
    "# os\n",
    "import os\n",
    "# warnings\n",
    "import warnings\n",
    "warnings.filterwarnings('ignore')\n",
    "# self-defined model\n",
    "from model_pic import *\n",
    "from model_cal import *\n",
    "import pandas as pd"
   ]
  },
  {
   "cell_type": "markdown",
   "metadata": {},
   "source": [
    "### Dataset loading and preprocessing"
   ]
  },
  {
   "cell_type": "code",
   "execution_count": 2,
   "metadata": {},
   "outputs": [],
   "source": [
    "class DataSplit:\n",
    "\n",
    "    def __init__(self, dataset, test_train_split=0.8, val_train_split=0.1, shuffle=False):\n",
    "        self.dataset = dataset\n",
    "\n",
    "        dataset_size = len(dataset)\n",
    "        self.indices = list(range(dataset_size))\n",
    "        test_split = int(np.floor(test_train_split * dataset_size))\n",
    "\n",
    "        if shuffle:\n",
    "            np.random.shuffle(self.indices)\n",
    "\n",
    "        train_indices, self.test_indices = self.indices[:test_split], self.indices[test_split:]\n",
    "        train_size = len(train_indices)\n",
    "        validation_split = int(np.floor((1 - val_train_split) * train_size))\n",
    "\n",
    "        self.train_indices, self.val_indices = train_indices[:validation_split], train_indices[validation_split:]\n",
    "\n",
    "        self.train_sampler = SubsetRandomSampler(self.train_indices)\n",
    "        self.val_sampler = SubsetRandomSampler(self.val_indices)\n",
    "        self.test_sampler = SubsetRandomSampler(self.test_indices)\n",
    "    \n",
    "    def get_train_split_point(self):\n",
    "        return len(self.train_sampler) + len(self.val_indices)\n",
    "\n",
    "    def get_validation_split_point(self):\n",
    "        return len(self.train_sampler)\n",
    "\n",
    "    @lru_cache(maxsize=4)\n",
    "    def get_split(self, batch_size=50, num_workers=0):\n",
    "        logging.debug('Initializing train-validation-test dataloaders')\n",
    "        self.train_loader = self.get_train_loader(batch_size=batch_size, num_workers=num_workers)\n",
    "        self.val_loader = self.get_validation_loader(batch_size=batch_size, num_workers=num_workers)\n",
    "        self.test_loader = self.get_test_loader(batch_size=batch_size, num_workers=num_workers)\n",
    "        return self.train_loader, self.val_loader, self.test_loader\n",
    "\n",
    "    @lru_cache(maxsize=4)\n",
    "    def get_train_loader(self, batch_size=50, num_workers=0):\n",
    "        logging.debug('Initializing train dataloader')\n",
    "        self.train_loader = DataLoader(self.dataset, batch_size=batch_size, sampler=self.train_sampler, shuffle=False, num_workers=num_workers)\n",
    "        return self.train_loader\n",
    "\n",
    "    @lru_cache(maxsize=4)\n",
    "    def get_validation_loader(self, batch_size=50, num_workers=0):\n",
    "        logging.debug('Initializing validation dataloader')\n",
    "        self.val_loader = DataLoader(self.dataset, batch_size=batch_size, sampler=self.val_sampler, shuffle=False, num_workers=num_workers)\n",
    "        return self.val_loader\n",
    "\n",
    "    @lru_cache(maxsize=4)\n",
    "    def get_test_loader(self, batch_size=50, num_workers=0):\n",
    "        logging.debug('Initializing test dataloader')\n",
    "        self.test_loader = DataLoader(self.dataset, batch_size=batch_size, sampler=self.test_sampler, shuffle=False, num_workers=num_workers)\n",
    "        return self.test_loader"
   ]
  },
  {
   "cell_type": "code",
   "execution_count": 3,
   "metadata": {},
   "outputs": [
    {
     "name": "stdout",
     "output_type": "stream",
     "text": [
      "[[-0.01039523  0.01833578  0.03306391 ... -0.0196759   0.00893284\n",
      "  -0.00865336]\n",
      " [-0.00441018  0.01385455  0.05162874 ... -0.0260862   0.00023438\n",
      "  -0.01077892]\n",
      " [ 0.00222165 -0.00298361  0.0368543  ... -0.01950658 -0.00219158\n",
      "   0.00126349]\n",
      " ...\n",
      " [ 0.01797081  0.03352165  0.03566254 ... -0.04066909 -0.02601361\n",
      "   0.00821152]\n",
      " [-0.01256324  0.0416592   0.04493981 ... -0.0344882  -0.03354072\n",
      "  -0.00688711]\n",
      " [-0.00413132  0.02743631  0.04307073 ... -0.05628762 -0.02525235\n",
      "  -0.00254695]]\n"
     ]
    }
   ],
   "source": [
    "data_matrix = df = pd.DataFrame()\n",
    "\n",
    "data_matrix = pd.read_csv(\"Data_folder/Data_big_drop.csv\", header= None)\n",
    "\n",
    "#print(data_matrix)\n",
    "\n",
    "\n",
    "# Make the droplet dataset class based on data_matrix\n",
    "class Droplet_data_set(Dataset):\n",
    "    def __init__(self):\n",
    "        x = data_matrix.iloc[0:,3:].values\n",
    "        y = data_matrix.iloc[0:,0:2].values\n",
    "        x = np.random.normal(x,0.01)\n",
    "        # Add normalization for x\n",
    "        #x = preprocessing.normalize(x)\n",
    "        print(x)\n",
    "\n",
    "        self.x_train=torch.tensor(x,dtype=torch.float32)\n",
    "        self.y_train=torch.tensor(y,dtype=torch.float32)\n",
    "        \n",
    "    def __getitem__(self, idx):\n",
    "        return self.x_train[idx],self.y_train[idx]\n",
    "    \n",
    "    def __len__(self):\n",
    "         return len(self.y_train)\n",
    "        \n",
    "my_data_set = Droplet_data_set()\n",
    "\n",
    "# Split the single dataset into 3 datasets for training, test and validation.\n",
    "split = DataSplit(my_data_set, shuffle=True)\n",
    "train_loader, val_loader, test_loader = split.get_split(batch_size=64, num_workers=0)\n"
   ]
  },
  {
   "cell_type": "markdown",
   "metadata": {},
   "source": [
    "### Deside to apply host or device"
   ]
  },
  {
   "cell_type": "code",
   "execution_count": 4,
   "metadata": {},
   "outputs": [
    {
     "name": "stdout",
     "output_type": "stream",
     "text": [
      "cpu\n"
     ]
    }
   ],
   "source": [
    "USE_GPU = True\n",
    "if USE_GPU and torch.cuda.is_available():\n",
    "    device = torch.device('cuda')\n",
    "else:\n",
    "    device = torch.device('cpu')\n",
    "device = torch.device('cpu')\n",
    "print(device)"
   ]
  },
  {
   "cell_type": "markdown",
   "metadata": {},
   "source": [
    "### Define the functions we need"
   ]
  },
  {
   "cell_type": "code",
   "execution_count": 5,
   "metadata": {},
   "outputs": [],
   "source": [
    "def loss_cal_per_epoch(loss_list, model, loader):\n",
    "    model.eval()  # set model to evaluation mode\n",
    "    with torch.no_grad():\n",
    "        loss_epoch = 0\n",
    "        for t, (x, y) in enumerate(loader):\n",
    "            x = x.to(device=device, dtype=torch.float32)  # move to device, e.g. GPU\n",
    "            y = y.to(device=device, dtype=torch.float32)\n",
    "            scores = model(x)\n",
    "            loss = F.mse_loss(scores, y)\n",
    "            loss_epoch += loss\n",
    "        loss_list.append(loss_epoch/t)\n",
    "\n",
    "def train(model, optimizer, epochs=1):\n",
    "    loss_train = []\n",
    "    loss_val = []\n",
    "    model = model.to(device=device)  # move the model parameters to CPU/GPU\n",
    "    for e in range(epochs):\n",
    "        for _, (x, y) in enumerate(train_loader):\n",
    "            x = x.reshape(len(x), 1, 1, -1)     # reshape to 4D data for formal input of model\n",
    "            model.train()  # put model to training mode\n",
    "            x = x.to(device=device, dtype=torch.float32)  # move to device, e.g. GPU\n",
    "            y = y.to(device=device, dtype=torch.float32)\n",
    "\n",
    "            scores = model(x)\n",
    "            loss = F.mse_loss(scores, y)\n",
    "\n",
    "            optimizer.zero_grad()\n",
    "            loss.backward()\n",
    "            optimizer.step()\n",
    "        loss_cal_per_epoch(loss_train, model, train_loader)\n",
    "        loss_cal_per_epoch(loss_val, model, val_loader)\n",
    "        print('epoch %d: train_loss = %.4f, val_loss = %.4f' % (e+1, loss_train[e], loss_val[e]))\n",
    "    \n",
    "    x = range(1, epochs+1)\n",
    "\n",
    "    plt.plot(x, loss_train, 'b-', label=\"training loss\")\n",
    "    plt.plot(x, loss_val, 'r--', label=\"validation loss\")\n",
    "    plt.xlabel(\"Epochs\")\n",
    "    plt.ylabel(\"MSE Loss\")\n",
    "    plt.title(\"Train/Validation Loss\")\n",
    "    plt.legend()\n",
    "    plt.show()\n",
    "\n",
    "def prediction(model, x):   # only a batch\n",
    "    model = model.to(device=device)\n",
    "    model.eval()  # set model to evaluation mode\n",
    "    with torch.no_grad():\n",
    "        x = x.to(device=device, dtype=torch.float32)\n",
    "        score = torch.Tensor.cpu(model(x))\n",
    "    return score\n"
   ]
  },
  {
   "cell_type": "markdown",
   "metadata": {},
   "source": [
    "### Train PhysicsNet"
   ]
  },
  {
   "cell_type": "code",
   "execution_count": 6,
   "metadata": {},
   "outputs": [
    {
     "name": "stdout",
     "output_type": "stream",
     "text": [
      "epoch 1: train_loss = 20.8359, val_loss = 29.0750\n",
      "epoch 2: train_loss = 2.5805, val_loss = 4.0781\n",
      "epoch 3: train_loss = 2.4988, val_loss = 2.6705\n",
      "epoch 4: train_loss = 6.9795, val_loss = 10.1864\n",
      "epoch 5: train_loss = 0.5116, val_loss = 0.7607\n",
      "epoch 6: train_loss = 0.6353, val_loss = 0.9516\n",
      "epoch 7: train_loss = 0.4368, val_loss = 0.7947\n",
      "epoch 8: train_loss = 0.3672, val_loss = 0.4893\n",
      "epoch 9: train_loss = 0.3822, val_loss = 0.4596\n",
      "epoch 10: train_loss = 0.4840, val_loss = 0.6525\n",
      "epoch 11: train_loss = 0.6709, val_loss = 0.8146\n",
      "epoch 12: train_loss = 0.5589, val_loss = 0.6968\n",
      "epoch 13: train_loss = 0.4791, val_loss = 0.6971\n",
      "epoch 14: train_loss = 1.5763, val_loss = 2.5989\n",
      "epoch 15: train_loss = 0.5630, val_loss = 0.7015\n",
      "epoch 16: train_loss = 0.6587, val_loss = 1.1175\n",
      "epoch 17: train_loss = 0.5482, val_loss = 0.7569\n",
      "epoch 18: train_loss = 0.4880, val_loss = 0.7490\n",
      "epoch 19: train_loss = 0.4941, val_loss = 0.6738\n",
      "epoch 20: train_loss = 0.3096, val_loss = 0.4987\n",
      "epoch 21: train_loss = 0.4167, val_loss = 0.6208\n",
      "epoch 22: train_loss = 0.5096, val_loss = 0.8731\n",
      "epoch 23: train_loss = 0.3676, val_loss = 0.5446\n",
      "epoch 24: train_loss = 0.4347, val_loss = 0.4622\n",
      "epoch 25: train_loss = 0.4543, val_loss = 0.8651\n",
      "epoch 26: train_loss = 0.7938, val_loss = 1.0855\n",
      "epoch 27: train_loss = 0.2810, val_loss = 0.3296\n",
      "epoch 28: train_loss = 0.5545, val_loss = 0.7394\n",
      "epoch 29: train_loss = 0.3766, val_loss = 0.6168\n",
      "epoch 30: train_loss = 0.2033, val_loss = 0.3313\n",
      "epoch 31: train_loss = 0.2565, val_loss = 0.3214\n",
      "epoch 32: train_loss = 0.5874, val_loss = 1.0098\n",
      "epoch 33: train_loss = 1.1135, val_loss = 2.1077\n",
      "epoch 34: train_loss = 0.3147, val_loss = 0.4098\n",
      "epoch 35: train_loss = 0.7974, val_loss = 1.1729\n",
      "epoch 36: train_loss = 0.6300, val_loss = 0.7564\n",
      "epoch 37: train_loss = 0.3254, val_loss = 0.5892\n",
      "epoch 38: train_loss = 0.3258, val_loss = 0.6277\n",
      "epoch 39: train_loss = 0.3610, val_loss = 0.4887\n",
      "epoch 40: train_loss = 0.1666, val_loss = 0.2515\n",
      "epoch 41: train_loss = 0.2862, val_loss = 0.3270\n",
      "epoch 42: train_loss = 0.5469, val_loss = 0.7399\n",
      "epoch 43: train_loss = 0.6073, val_loss = 0.9794\n",
      "epoch 44: train_loss = 0.1994, val_loss = 0.3108\n",
      "epoch 45: train_loss = 0.5783, val_loss = 0.8829\n",
      "epoch 46: train_loss = 0.5338, val_loss = 1.0236\n",
      "epoch 47: train_loss = 0.2956, val_loss = 0.3850\n",
      "epoch 48: train_loss = 0.2261, val_loss = 0.2696\n",
      "epoch 49: train_loss = 0.2169, val_loss = 0.4162\n",
      "epoch 50: train_loss = 0.1290, val_loss = 0.1920\n",
      "epoch 51: train_loss = 0.1398, val_loss = 0.2330\n",
      "epoch 52: train_loss = 0.2613, val_loss = 0.5099\n",
      "epoch 53: train_loss = 0.1165, val_loss = 0.1537\n",
      "epoch 54: train_loss = 0.1775, val_loss = 0.3693\n",
      "epoch 55: train_loss = 0.2828, val_loss = 0.3675\n",
      "epoch 56: train_loss = 0.3192, val_loss = 0.4661\n",
      "epoch 57: train_loss = 0.3275, val_loss = 0.5336\n",
      "epoch 58: train_loss = 0.1629, val_loss = 0.2526\n",
      "epoch 59: train_loss = 0.1396, val_loss = 0.1915\n",
      "epoch 60: train_loss = 0.3458, val_loss = 0.4267\n",
      "epoch 61: train_loss = 0.1648, val_loss = 0.2028\n",
      "epoch 62: train_loss = 0.1456, val_loss = 0.1952\n",
      "epoch 63: train_loss = 0.1959, val_loss = 0.2624\n",
      "epoch 64: train_loss = 0.1832, val_loss = 0.2253\n",
      "epoch 65: train_loss = 0.1751, val_loss = 0.2713\n",
      "epoch 66: train_loss = 0.2751, val_loss = 0.4215\n",
      "epoch 67: train_loss = 0.2588, val_loss = 0.3520\n",
      "epoch 68: train_loss = 0.5167, val_loss = 0.8803\n",
      "epoch 69: train_loss = 0.5076, val_loss = 0.9278\n",
      "epoch 70: train_loss = 0.1800, val_loss = 0.2467\n",
      "epoch 71: train_loss = 0.0920, val_loss = 0.1487\n",
      "epoch 72: train_loss = 0.0988, val_loss = 0.1635\n",
      "epoch 73: train_loss = 0.1659, val_loss = 0.1827\n",
      "epoch 74: train_loss = 0.1162, val_loss = 0.1198\n",
      "epoch 75: train_loss = 0.8731, val_loss = 1.3972\n",
      "epoch 76: train_loss = 0.3321, val_loss = 0.5055\n",
      "epoch 77: train_loss = 0.1376, val_loss = 0.1724\n",
      "epoch 78: train_loss = 0.1215, val_loss = 0.1828\n",
      "epoch 79: train_loss = 0.4507, val_loss = 0.6967\n",
      "epoch 80: train_loss = 0.0932, val_loss = 0.1239\n",
      "epoch 81: train_loss = 0.1290, val_loss = 0.1757\n",
      "epoch 82: train_loss = 0.0939, val_loss = 0.1452\n",
      "epoch 83: train_loss = 0.1992, val_loss = 0.3081\n",
      "epoch 84: train_loss = 0.1543, val_loss = 0.2350\n",
      "epoch 85: train_loss = 0.0786, val_loss = 0.1083\n",
      "epoch 86: train_loss = 0.2783, val_loss = 0.4893\n",
      "epoch 87: train_loss = 0.3044, val_loss = 0.3307\n",
      "epoch 88: train_loss = 0.1282, val_loss = 0.1988\n",
      "epoch 89: train_loss = 0.1324, val_loss = 0.1439\n",
      "epoch 90: train_loss = 0.1726, val_loss = 0.2583\n",
      "epoch 91: train_loss = 0.1053, val_loss = 0.1266\n",
      "epoch 92: train_loss = 0.2018, val_loss = 0.3299\n",
      "epoch 93: train_loss = 0.3979, val_loss = 0.4722\n",
      "epoch 94: train_loss = 0.2627, val_loss = 0.3691\n",
      "epoch 95: train_loss = 0.2929, val_loss = 0.3841\n",
      "epoch 96: train_loss = 0.2017, val_loss = 0.3520\n",
      "epoch 97: train_loss = 0.1418, val_loss = 0.2067\n",
      "epoch 98: train_loss = 0.2156, val_loss = 0.3854\n",
      "epoch 99: train_loss = 0.1045, val_loss = 0.1280\n",
      "epoch 100: train_loss = 0.2059, val_loss = 0.3705\n"
     ]
    },
    {
     "data": {
      "image/png": "[encoded data removed]",
      "text/plain": [
       "<Figure size 432x288 with 1 Axes>"
      ]
     },
     "metadata": {
      "needs_background": "light"
     },
     "output_type": "display_data"
    }
   ],
   "source": [
    "in_channel = 160\n",
    "node_1 = 512\n",
    "node_2 = 256\n",
    "node_3 = 128\n",
    "node_4 = 64\n",
    "out_channel = 2\n",
    "\n",
    "learning_rate = 1e-3\n",
    "\n",
    "model_physics = PhysicsNet(in_channel, node_1, node_2, node_3, node_4, out_channel)\n",
    "optimizer = optim.Adam(model_physics.parameters(), lr=learning_rate)\n",
    "epoch = 100\n",
    "\n",
    "train(model_physics, optimizer, epoch)\n",
    "PATH_CAL = os.path.join(os.getcwd(), \"model_cal\")\n",
    "torch.save(model_physics, PATH_CAL)"
   ]
  },
  {
   "cell_type": "markdown",
   "metadata": {},
   "source": [
    "### Visualization of outcomes"
   ]
  },
  {
   "cell_type": "code",
   "execution_count": 7,
   "metadata": {},
   "outputs": [
    {
     "name": "stdout",
     "output_type": "stream",
     "text": [
      "Ground Truths = tensor([[ 9.8000,  3.9000],\n",
      "        [ 5.7000,  1.7000],\n",
      "        [ 7.7000,  2.5000],\n",
      "        [11.6000,  3.7000],\n",
      "        [ 4.5000,  1.2000],\n",
      "        [ 9.8000,  3.4000],\n",
      "        [ 5.9000,  2.0000],\n",
      "        [11.4000,  3.1000]])\n",
      "Prediction    = tensor([[10.3801,  4.2324],\n",
      "        [ 5.0403,  1.7249],\n",
      "        [ 7.1923,  2.3698],\n",
      "        [11.5871,  4.0177],\n",
      "        [ 3.3756,  1.2351],\n",
      "        [10.6139,  3.6268],\n",
      "        [ 5.0317,  1.9173],\n",
      "        [11.0337,  3.4015]])\n"
     ]
    }
   ],
   "source": [
    "model_trained = torch.load(PATH_CAL)\n",
    "\n",
    "examples = enumerate(test_loader)\n",
    "_, (x_test_example, y_test_example) = next(examples)\n",
    "\n",
    "score_example = prediction(model_trained, x_test_example)\n",
    "\n",
    "# Print only 8 data samples for comparison\n",
    "print(\"Ground Truths =\", y_test_example[:8])\n",
    "print(\"Prediction    =\", score_example[:8].reshape(8, 2))"
   ]
  },
  {
   "cell_type": "code",
   "execution_count": null,
   "metadata": {},
   "outputs": [],
   "source": []
  },
  {
   "cell_type": "code",
   "execution_count": null,
   "metadata": {},
   "outputs": [],
   "source": []
  },
  {
   "cell_type": "code",
   "execution_count": null,
   "metadata": {},
   "outputs": [],
   "source": []
  }
 ],
 "metadata": {
  "interpreter": {
   "hash": "64def4006c78149665c79cf5850ee76c9e416630a0d9e75e41ff194dcaf5fb2b"
  },
  "kernelspec": {
   "display_name": "Python 3 (ipykernel)",
   "language": "python",
   "name": "python3"
  },
  "language_info": {
   "codemirror_mode": {
    "name": "ipython",
    "version": 3
   },
   "file_extension": ".py",
   "mimetype": "text/x-python",
   "name": "python",
   "nbconvert_exporter": "python",
   "pygments_lexer": "ipython3",
   "version": "3.7.11"
  }
 },
 "nbformat": 4,
 "nbformat_minor": 2
}
