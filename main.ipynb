{
 "cells": [
  {
   "cell_type": "markdown",
   "metadata": {},
   "source": [
    "# Deep Learning for tensiometry of pendant drop"
   ]
  },
  {
   "cell_type": "markdown",
   "metadata": {},
   "source": [
    "### Import necessary packages and self-defined classes"
   ]
  },
  {
   "cell_type": "code",
   "execution_count": 1,
   "metadata": {},
   "outputs": [],
   "source": [
    "# pyplot\n",
    "import matplotlib.pyplot as plt\n",
    "# pytorch\n",
    "import torch\n",
    "import torch.optim as optim\n",
    "import torch.nn.functional as F  # useful stateless functions\n",
    "#Test/Train data split\n",
    "from functools import lru_cache\n",
    "from torch.utils.data import DataLoader, Dataset\n",
    "from torch.utils.data.sampler import SubsetRandomSampler\n",
    "import numpy as np\n",
    "import logging\n",
    "# sklearn\n",
    "from sklearn import preprocessing\n",
    "# os\n",
    "import os\n",
    "# warnings\n",
    "import warnings\n",
    "warnings.filterwarnings('ignore')\n",
    "# random\n",
    "import random\n",
    "\n",
    "# self-defined model\n",
    "from model_pic import *\n",
    "from model_cal import *\n",
    "import pandas as pd\n",
    "\n",
    "#PictureNet\n",
    "from PIL import Image\n",
    "from skimage.io import imread\n",
    "from sklearn.model_selection import train_test_split"
   ]
  },
  {
   "cell_type": "markdown",
   "metadata": {},
   "source": [
    "## Dataset loading and preprocessing"
   ]
  },
  {
   "cell_type": "code",
   "execution_count": 2,
   "metadata": {},
   "outputs": [],
   "source": [
    "class DataSplit:\n",
    "\n",
    "    def __init__(self, dataset, test_train_split=0.8, val_train_split=0.1, shuffle=False):\n",
    "        self.dataset = dataset\n",
    "\n",
    "        dataset_size = len(dataset)\n",
    "        self.indices = list(range(dataset_size))\n",
    "        test_split = int(np.floor(test_train_split * dataset_size))\n",
    "\n",
    "        if shuffle:\n",
    "            np.random.shuffle(self.indices)\n",
    "\n",
    "        train_indices, self.test_indices = self.indices[:test_split], self.indices[test_split:]\n",
    "        train_size = len(train_indices)\n",
    "        validation_split = int(np.floor((1 - val_train_split) * train_size))\n",
    "\n",
    "        self.train_indices, self.val_indices = train_indices[:validation_split], train_indices[validation_split:]\n",
    "\n",
    "        self.train_sampler = SubsetRandomSampler(self.train_indices)\n",
    "        self.val_sampler = SubsetRandomSampler(self.val_indices)\n",
    "        self.test_sampler = SubsetRandomSampler(self.test_indices)\n",
    "    \n",
    "    def get_train_split_point(self):\n",
    "        return len(self.train_sampler) + len(self.val_indices)\n",
    "\n",
    "    def get_validation_split_point(self):\n",
    "        return len(self.train_sampler)\n",
    "\n",
    "    @lru_cache(maxsize=4)\n",
    "    def get_split(self, batch_size=64, num_workers=0):\n",
    "        logging.debug('Initializing train-validation-test dataloaders')\n",
    "        self.train_loader = self.get_train_loader(batch_size=batch_size, num_workers=num_workers)\n",
    "        self.val_loader = self.get_validation_loader(batch_size=batch_size, num_workers=num_workers)\n",
    "        self.test_loader = self.get_test_loader(batch_size=batch_size, num_workers=num_workers)\n",
    "        return self.train_loader, self.val_loader, self.test_loader\n",
    "\n",
    "    @lru_cache(maxsize=4)\n",
    "    def get_train_loader(self, batch_size=64, num_workers=0):\n",
    "        logging.debug('Initializing train dataloader')\n",
    "        self.train_loader = DataLoader(self.dataset, batch_size=batch_size, sampler=self.train_sampler, shuffle=False, num_workers=num_workers)\n",
    "        return self.train_loader\n",
    "\n",
    "    @lru_cache(maxsize=4)\n",
    "    def get_validation_loader(self, batch_size=64, num_workers=0):\n",
    "        logging.debug('Initializing validation dataloader')\n",
    "        self.val_loader = DataLoader(self.dataset, batch_size=batch_size, sampler=self.val_sampler, shuffle=False, num_workers=num_workers)\n",
    "        return self.val_loader\n",
    "\n",
    "    @lru_cache(maxsize=4)\n",
    "    def get_test_loader(self, batch_size=64, num_workers=0):\n",
    "        logging.debug('Initializing test dataloader')\n",
    "        self.test_loader = DataLoader(self.dataset, batch_size=batch_size, sampler=self.test_sampler, shuffle=False, num_workers=num_workers)\n",
    "        return self.test_loader"
   ]
  },
  {
   "cell_type": "markdown",
   "metadata": {},
   "source": [
    "### Load data for PhysicsNet"
   ]
  },
  {
   "cell_type": "code",
   "execution_count": 4,
   "metadata": {},
   "outputs": [],
   "source": [
    "data_matrix = df = pd.DataFrame()\n",
    "\n",
    "data_matrix = pd.read_csv(\"Big_Data1/Picture_Large.csv\", header= None)\n",
    "\n",
    "#print(data_matrix)\n",
    "\n",
    "\n",
    "# Make the droplet dataset class based on data_matrix\n",
    "class Droplet_data_set(Dataset):\n",
    "    def __init__(self):\n",
    "        x = data_matrix.iloc[0:,3:].values\n",
    "        y = data_matrix.iloc[0:,0:2].values\n",
    "        # x = np.random.normal(x,0.01)\n",
    "        y0 = data_matrix.iloc[:,0].values\n",
    "        y1 = data_matrix.iloc[:,1].values\n",
    "        \n",
    "        # Add normalization for x\n",
    "        # x = preprocessing.normalize(x)\n",
    "        # y = preprocessing.normalize(y, axis = 0,norm='l2')\n",
    "\n",
    "\n",
    "        self.x_train = torch.tensor(x,dtype=torch.float32)\n",
    "        self.y_train = torch.tensor(y,dtype=torch.float32)\n",
    "        \n",
    "    def __getitem__(self, idx):\n",
    "        return self.x_train[idx],self.y_train[idx]\n",
    "    \n",
    "    def __len__(self):\n",
    "         return len(self.y_train)\n",
    "        \n",
    "my_data_set = Droplet_data_set()\n",
    "\n",
    "# Split the single dataset into 3 datasets for training, test and validation.\n",
    "split = DataSplit(my_data_set, shuffle=True)\n",
    "train_loader, val_loader, test_loader = split.get_split(batch_size=64, num_workers=0)\n"
   ]
  },
  {
   "cell_type": "markdown",
   "metadata": {},
   "source": [
    "### Load data for PictureNet\n",
    "Read image from files"
   ]
  },
  {
   "cell_type": "code",
   "execution_count": 5,
   "metadata": {},
   "outputs": [],
   "source": [
    "train_img = []\n",
    "\n",
    "data_image = pd.read_csv(\"Big_Data1/Picture_Large.csv\", header= None)   # Large dataset\n",
    "for img_name in data_image.iloc[0:,3:].index + 1:      # modify the number depends on size of dataset\n",
    "    # defining the image path\n",
    "    image_path = 'Big_Data1/' + str(img_name) + '.png'      # modify the path depends on which dataset\n",
    "    # reading the image\n",
    "    img = imread(image_path, as_gray=True)\n",
    "    img = img[4:-4, 4:-4]  #crop \n",
    "    # normalizing the pixel values\n",
    "    img /= 255.0\n",
    "    # converting the type of pixel to float 32\n",
    "    img = img.astype('float32')\n",
    "    # appending the image into the list\n",
    "    train_img.append(img)"
   ]
  },
  {
   "cell_type": "markdown",
   "metadata": {},
   "source": [
    "Plot a single image for viewing"
   ]
  },
  {
   "cell_type": "code",
   "execution_count": 14,
   "metadata": {},
   "outputs": [
    {
     "name": "stdout",
     "output_type": "stream",
     "text": [
      "Current image = 26660\n",
      "Picture size = (82, 77)\n"
     ]
    },
    {
     "data": {
      "text/plain": [
       "<matplotlib.image.AxesImage at 0x22a38bc70a0>"
      ]
     },
     "execution_count": 14,
     "metadata": {},
     "output_type": "execute_result"
    },
    {
     "data": {
      "image/png": "[encoded data removed]",
      "text/plain": [
       "<Figure size 432x288 with 1 Axes>"
      ]
     },
     "metadata": {
      "needs_background": "light"
     },
     "output_type": "display_data"
    }
   ],
   "source": [
    "rand = random.randint(0, 53084)\n",
    "print(\"Current image =\", rand)\n",
    "print(\"Picture size =\", train_img[rand].shape)\n",
    "plt.imshow(train_img[rand], cmap='gray')"
   ]
  },
  {
   "cell_type": "code",
   "execution_count": 15,
   "metadata": {},
   "outputs": [],
   "source": [
    "# converting the list to numpy array\n",
    "train_x_pic = np.array(train_img)\n",
    "train_y_pic = data_image.iloc[0:,3:].values            # modify the number depends on size of dataset\n",
    "train_x_pic, rem_x_pic, train_y_pic, rem_y_pic = train_test_split(train_x_pic, train_y_pic, test_size = 0.2)    # default shuffle = True\n",
    "val_x_pic, test_x_pic, val_y_pic, test_y_pic = train_test_split(rem_x_pic, rem_y_pic, test_size = 0.5)\n",
    "\n",
    "# converting the trian images and targets into torch format\n",
    "train_x_pic = train_x_pic.reshape(len(train_x_pic), 1, 82, 77)\n",
    "train_x_pic  = torch.from_numpy(train_x_pic)\n",
    "train_y_pic = torch.from_numpy(train_y_pic)\n",
    "# print(train_x_pic.shape, train_y_pic.shape)\n",
    "\n",
    "# converting the val images and targets into torch format\n",
    "val_x_pic = val_x_pic.reshape(len(val_x_pic), 1, 82, 77)\n",
    "val_x_pic  = torch.from_numpy(val_x_pic)\n",
    "val_y_pic = torch.from_numpy(val_y_pic)\n",
    "# print(val_x_pic.shape, val_y_pic.shape)\n",
    "\n",
    "# converting the test images and targets into torch format\n",
    "test_x_pic = test_x_pic.reshape(len(test_x_pic), 1, 82, 77)\n",
    "test_x_pic  = torch.from_numpy(test_x_pic)\n",
    "test_y_pic = torch.from_numpy(test_y_pic)\n",
    "# print(test_x_pic.shape, test_y_pic.shape)\n",
    "\n",
    "# converting the dataset into mini-batch dataset (input 4D -> 5D and 2D -> 3D)\n",
    "def batch_transform(dataset, batch_size=64):\n",
    "    batch = []\n",
    "    batch_num = len(dataset) // batch_size\n",
    "    for i in range(batch_num+1):\n",
    "        if len(dataset) == 4:\n",
    "            if i < batch_num:\n",
    "                batch.append(dataset[i*batch_size:(i+1)*batch_size, :, :, :])\n",
    "            else:\n",
    "                batch.append(dataset[i*batch_size:, :, :, :])\n",
    "        else:\n",
    "            if i < batch_num:\n",
    "                batch.append(dataset[i*batch_size:(i+1)*batch_size, :])\n",
    "            else:\n",
    "                batch.append(dataset[i*batch_size:, :])\n",
    "    return batch\n",
    "\n",
    "train_x_pic = batch_transform(train_x_pic)\n",
    "train_y_pic = batch_transform(train_y_pic)\n",
    "val_x_pic = batch_transform(val_x_pic)\n",
    "val_y_pic = batch_transform(val_y_pic)\n",
    "test_x_pic = batch_transform(test_x_pic)\n",
    "test_y_pic = batch_transform(test_y_pic)\n",
    "# print(len(train_x_pic), len(train_y_pic), len(val_x_pic), len(val_y_pic), len(test_x_pic), len(test_y_pic))"
   ]
  },
  {
   "cell_type": "markdown",
   "metadata": {},
   "source": [
    "### Deside to apply host or device\n"
   ]
  },
  {
   "cell_type": "code",
   "execution_count": 16,
   "metadata": {},
   "outputs": [
    {
     "name": "stdout",
     "output_type": "stream",
     "text": [
      "cuda\n"
     ]
    }
   ],
   "source": [
    "USE_GPU = True\n",
    "if USE_GPU and torch.cuda.is_available():\n",
    "    device = torch.device('cuda')\n",
    "else:\n",
    "    device = torch.device('cpu')\n",
    "#device = torch.device('cpu')\n",
    "print(device)"
   ]
  },
  {
   "cell_type": "markdown",
   "metadata": {},
   "source": [
    "## Define the functions"
   ]
  },
  {
   "cell_type": "code",
   "execution_count": 17,
   "metadata": {},
   "outputs": [],
   "source": [
    "def loss_cal_phiysics(loss_list, model, loader):\n",
    "    model.eval()  # set model to evaluation mode\n",
    "    with torch.no_grad():\n",
    "        loss_epoch = 0\n",
    "        for t, (x, y) in enumerate(loader):\n",
    "            x = x.to(device=device, dtype=torch.float32)  # move to device, e.g. GPU\n",
    "            y = y.to(device=device, dtype=torch.float32)\n",
    "            scores = model(x)\n",
    "            loss = F.mse_loss(scores, y)\n",
    "            loss_epoch += loss\n",
    "        loss_list.append(loss_epoch/t)\n",
    "\n",
    "def loss_cal_picture(loss_list, model, x_dataset, y_dataset):\n",
    "    model.eval()  # set model to evaluation mode\n",
    "    with torch.no_grad():\n",
    "        loss_epoch = 0\n",
    "        for t in range(len(x_dataset)):\n",
    "            x = x_dataset[t]\n",
    "            y = y_dataset[t]\n",
    "            x = x.to(device=device, dtype=torch.float32)  # move to device, e.g. GPU\n",
    "            y = y.to(device=device, dtype=torch.float32)\n",
    "            scores = model(x)\n",
    "            loss = F.mse_loss(scores, y)\n",
    "            loss_epoch += loss\n",
    "        loss_list.append(loss_epoch/t)\n",
    "\n",
    "def prediction(model, x):   # only a batch\n",
    "    model = model.to(device=device)\n",
    "    model.eval()  # set model to evaluation mode\n",
    "    with torch.no_grad():\n",
    "        x = x.to(device=device, dtype=torch.float32)\n",
    "        score = torch.Tensor.cpu(model(x))\n",
    "    return score\n",
    "\n",
    "def train_physics(model, optimizer, epochs=1):\n",
    "    loss_train = []\n",
    "    loss_val = []\n",
    "    model = model.to(device=device)  # move the model parameters to CPU/GPU\n",
    "    for e in range(epochs):\n",
    "        for _, (x, y) in enumerate(train_loader):\n",
    "            x = x.reshape(len(x), 1, 1, -1)     # reshape to 4D data for formal input of model\n",
    "            model.train()  # put model to training mode\n",
    "            x = x.to(device=device, dtype=torch.float32)  # move to device, e.g. GPU\n",
    "            y = y.to(device=device, dtype=torch.float32)\n",
    "            scores = model(x)\n",
    "            loss = F.mse_loss(scores, y)\n",
    "\n",
    "            optimizer.zero_grad()\n",
    "            loss.backward()\n",
    "            optimizer.step()\n",
    "        loss_cal_phiysics(loss_train, model, train_loader)\n",
    "        loss_cal_phiysics(loss_val, model, val_loader)\n",
    "        print('epoch %d: train_loss = %.4f, val_loss = %.4f' % (e+1, loss_train[e], loss_val[e]))\n",
    "    \n",
    "    x = range(1, epochs+1)\n",
    "\n",
    "    plt.semilogy(x, loss_train, 'b-', label=\"training loss\")\n",
    "    plt.semilogy(x, loss_val, 'r--', label=\"validation loss\")\n",
    "    plt.xlabel(\"Epochs\")\n",
    "    plt.ylabel(\"MSE Loss\")\n",
    "    plt.title(\"Train/Validation Loss\")\n",
    "    plt.legend()\n",
    "    plt.show()\n",
    "\n",
    "def train_picture(model, optimizer, epochs=1):\n",
    "    loss_train = []\n",
    "    loss_val = []\n",
    "    model = model.to(device=device)  # move the model parameters to CPU/GPU\n",
    "    for e in range(epochs):\n",
    "        for t in range(len(train_x_pic)):\n",
    "            model.train()  # put model to training mode\n",
    "            x = train_x_pic[t]\n",
    "            y = train_y_pic[t]\n",
    "            x = x.to(device=device, dtype=torch.float32)  # move to device, e.g. GPU\n",
    "            y = y.to(device=device, dtype=torch.float32)\n",
    "\n",
    "            scores = model(x)\n",
    "            loss = F.mse_loss(scores, y)\n",
    "\n",
    "            optimizer.zero_grad()\n",
    "            loss.backward()\n",
    "            optimizer.step()\n",
    "        loss_cal_picture(loss_train, model, train_x_pic, train_y_pic)\n",
    "        loss_cal_picture(loss_val, model, val_x_pic, val_y_pic)\n",
    "        print('epoch %d: train_loss = %.4f, val_loss = %.4f' % (e+1, loss_train[e], loss_val[e]))\n",
    "    \n",
    "    x = range(1, epochs+1)\n",
    "\n",
    "    plt.semilogy(x, loss_train, 'b-', label=\"training loss\")\n",
    "    plt.semilogy(x, loss_val, 'r--', label=\"validation loss\")\n",
    "    plt.xlabel(\"Epochs\")\n",
    "    plt.ylabel(\"MSE Loss\")\n",
    "    plt.title(\"Train/Validation Loss\")\n",
    "    plt.legend()\n",
    "    plt.show()\n"
   ]
  },
  {
   "cell_type": "markdown",
   "metadata": {},
   "source": [
    "## Train PhysicsNet"
   ]
  },
  {
   "cell_type": "code",
   "execution_count": 19,
   "metadata": {},
   "outputs": [
    {
     "name": "stdout",
     "output_type": "stream",
     "text": [
      "epoch 1: train_loss = 738.0325, val_loss = 751.7316\n",
      "epoch 2: train_loss = 132.1671, val_loss = 135.0415\n",
      "epoch 3: train_loss = 6.0721, val_loss = 6.1555\n",
      "epoch 4: train_loss = 1.1812, val_loss = 1.1923\n",
      "epoch 5: train_loss = 1.7421, val_loss = 1.7519\n",
      "epoch 6: train_loss = 2.1198, val_loss = 2.1114\n",
      "epoch 7: train_loss = 1.4880, val_loss = 1.5532\n",
      "epoch 8: train_loss = 1.3829, val_loss = 1.3890\n",
      "epoch 9: train_loss = 2.9088, val_loss = 2.9140\n",
      "epoch 10: train_loss = 1.1227, val_loss = 1.1296\n",
      "epoch 11: train_loss = 3.1937, val_loss = 3.1432\n",
      "epoch 12: train_loss = 3.3811, val_loss = 3.5104\n",
      "epoch 13: train_loss = 5.5695, val_loss = 5.6288\n",
      "epoch 14: train_loss = 2.0557, val_loss = 2.0516\n",
      "epoch 15: train_loss = 1.1269, val_loss = 1.1555\n",
      "epoch 16: train_loss = 2.6472, val_loss = 2.6921\n",
      "epoch 17: train_loss = 1.3070, val_loss = 1.3116\n",
      "epoch 18: train_loss = 1.0684, val_loss = 1.0822\n",
      "epoch 19: train_loss = 1.5511, val_loss = 1.5528\n",
      "epoch 20: train_loss = 4.6662, val_loss = 4.8240\n",
      "epoch 21: train_loss = 1.1997, val_loss = 1.0981\n",
      "epoch 22: train_loss = 0.9890, val_loss = 1.0083\n",
      "epoch 23: train_loss = 1.7466, val_loss = 1.7219\n",
      "epoch 24: train_loss = 0.5490, val_loss = 0.5324\n",
      "epoch 25: train_loss = 2.2155, val_loss = 2.2164\n",
      "epoch 26: train_loss = 1.8707, val_loss = 1.7156\n",
      "epoch 27: train_loss = 4.3884, val_loss = 4.4047\n",
      "epoch 28: train_loss = 1.5103, val_loss = 1.4969\n",
      "epoch 29: train_loss = 1.7975, val_loss = 1.8039\n",
      "epoch 30: train_loss = 0.4673, val_loss = 0.4488\n",
      "epoch 31: train_loss = 1.2772, val_loss = 1.2922\n",
      "epoch 32: train_loss = 1.1792, val_loss = 1.1581\n",
      "epoch 33: train_loss = 1.7860, val_loss = 1.7759\n",
      "epoch 34: train_loss = 0.6536, val_loss = 0.6697\n",
      "epoch 35: train_loss = 1.3596, val_loss = 1.3554\n",
      "epoch 36: train_loss = 0.8428, val_loss = 0.8378\n",
      "epoch 37: train_loss = 4.5988, val_loss = 4.7510\n",
      "epoch 38: train_loss = 2.3332, val_loss = 2.2769\n",
      "epoch 39: train_loss = 0.5746, val_loss = 0.5741\n",
      "epoch 40: train_loss = 3.3833, val_loss = 3.5207\n",
      "epoch 41: train_loss = 1.1648, val_loss = 1.1805\n",
      "epoch 42: train_loss = 0.6065, val_loss = 0.6062\n",
      "epoch 43: train_loss = 0.7996, val_loss = 0.7940\n",
      "epoch 44: train_loss = 0.4861, val_loss = 0.4743\n",
      "epoch 45: train_loss = 0.5646, val_loss = 0.5776\n",
      "epoch 46: train_loss = 1.0290, val_loss = 1.0187\n",
      "epoch 47: train_loss = 1.5125, val_loss = 1.3677\n",
      "epoch 48: train_loss = 1.2093, val_loss = 1.2567\n",
      "epoch 49: train_loss = 0.5501, val_loss = 0.5600\n",
      "epoch 50: train_loss = 0.4442, val_loss = 0.3695\n",
      "epoch 51: train_loss = 1.5153, val_loss = 1.5518\n",
      "epoch 52: train_loss = 1.3678, val_loss = 1.3875\n",
      "epoch 53: train_loss = 0.5266, val_loss = 0.5405\n",
      "epoch 54: train_loss = 2.2063, val_loss = 2.1896\n",
      "epoch 55: train_loss = 1.7560, val_loss = 1.7958\n",
      "epoch 56: train_loss = 1.7707, val_loss = 1.7805\n",
      "epoch 57: train_loss = 1.5430, val_loss = 1.5826\n",
      "epoch 58: train_loss = 0.6964, val_loss = 0.7034\n",
      "epoch 59: train_loss = 0.6147, val_loss = 0.5774\n",
      "epoch 60: train_loss = 1.8960, val_loss = 1.9211\n",
      "epoch 61: train_loss = 1.0317, val_loss = 1.0506\n",
      "epoch 62: train_loss = 0.6801, val_loss = 0.6883\n",
      "epoch 63: train_loss = 0.8915, val_loss = 0.8884\n",
      "epoch 64: train_loss = 0.6875, val_loss = 0.6759\n",
      "epoch 65: train_loss = 1.4208, val_loss = 1.4316\n",
      "epoch 66: train_loss = 1.4022, val_loss = 1.4367\n",
      "epoch 67: train_loss = 2.6712, val_loss = 2.6361\n",
      "epoch 68: train_loss = 1.5540, val_loss = 1.5740\n",
      "epoch 69: train_loss = 1.6285, val_loss = 1.6368\n",
      "epoch 70: train_loss = 1.5019, val_loss = 1.5308\n",
      "epoch 71: train_loss = 0.7081, val_loss = 0.7334\n",
      "epoch 72: train_loss = 6.9735, val_loss = 6.9601\n",
      "epoch 73: train_loss = 1.3608, val_loss = 1.3765\n",
      "epoch 74: train_loss = 4.4152, val_loss = 4.4568\n",
      "epoch 75: train_loss = 3.9160, val_loss = 3.9861\n",
      "epoch 76: train_loss = 0.7542, val_loss = 0.7628\n",
      "epoch 77: train_loss = 1.5907, val_loss = 1.6281\n",
      "epoch 78: train_loss = 0.8659, val_loss = 0.8228\n",
      "epoch 79: train_loss = 2.4652, val_loss = 2.4660\n",
      "epoch 80: train_loss = 5.3483, val_loss = 5.5323\n",
      "epoch 81: train_loss = 1.2999, val_loss = 1.3202\n",
      "epoch 82: train_loss = 0.5973, val_loss = 0.5764\n",
      "epoch 83: train_loss = 1.9937, val_loss = 1.9500\n",
      "epoch 84: train_loss = 1.3485, val_loss = 1.3731\n",
      "epoch 85: train_loss = 0.6887, val_loss = 0.7064\n",
      "epoch 86: train_loss = 1.7857, val_loss = 1.8242\n",
      "epoch 87: train_loss = 1.5356, val_loss = 1.5751\n",
      "epoch 88: train_loss = 1.3683, val_loss = 1.4064\n",
      "epoch 89: train_loss = 1.8104, val_loss = 1.7883\n",
      "epoch 90: train_loss = 1.6498, val_loss = 1.6654\n",
      "epoch 91: train_loss = 2.7379, val_loss = 2.8469\n",
      "epoch 92: train_loss = 1.4266, val_loss = 1.4504\n",
      "epoch 93: train_loss = 3.3589, val_loss = 3.3755\n",
      "epoch 94: train_loss = 0.8749, val_loss = 0.8448\n",
      "epoch 95: train_loss = 0.8892, val_loss = 0.8769\n",
      "epoch 96: train_loss = 1.7530, val_loss = 1.7762\n",
      "epoch 97: train_loss = 5.6931, val_loss = 5.7613\n",
      "epoch 98: train_loss = 1.3979, val_loss = 1.3907\n",
      "epoch 99: train_loss = 1.8417, val_loss = 1.8809\n",
      "epoch 100: train_loss = 1.4818, val_loss = 1.4770\n"
     ]
    },
    {
     "data": {
      "image/png": "[encoded data removed]",
      "text/plain": [
       "<Figure size 432x288 with 1 Axes>"
      ]
     },
     "metadata": {
      "needs_background": "light"
     },
     "output_type": "display_data"
    }
   ],
   "source": [
    "in_channel = 160\n",
    "node_1 = 4096\n",
    "node_2 = 4096\n",
    "node_3 = 1024\n",
    "node_4 = 256\n",
    "node_5 = 64\n",
    "node_6 = 16\n",
    "out_channel = 2\n",
    "\n",
    "learning_rate = 1e-3\n",
    "\n",
    "model_physics = PhysicsNet(in_channel, node_1, node_2, node_3, node_4, node_5, node_6, out_channel)\n",
    "optimizer = optim.Adam(model_physics.parameters(), lr=learning_rate)\n",
    "epoch = 100\n",
    "\n",
    "train_physics(model_physics, optimizer, epoch)\n",
    "PATH_CAL = os.path.join(os.getcwd(), \"model_cal.pt\")\n",
    "torch.save(model_physics, PATH_CAL)"
   ]
  },
  {
   "cell_type": "markdown",
   "metadata": {},
   "source": [
    "### Visualization of outcomes"
   ]
  },
  {
   "cell_type": "code",
   "execution_count": 22,
   "metadata": {},
   "outputs": [
    {
     "name": "stdout",
     "output_type": "stream",
     "text": [
      "Ground Truths = tensor([[64.7000, 21.0000],\n",
      "        [79.8000, 31.4000],\n",
      "        [72.3000, 28.7000],\n",
      "        [69.3000, 33.4000],\n",
      "        [34.6000, 14.7000],\n",
      "        [29.4000,  9.8000],\n",
      "        [61.4000, 28.9000],\n",
      "        [54.1000, 23.0000],\n",
      "        [58.5000, 23.2000],\n",
      "        [50.6000, 23.9000],\n",
      "        [68.5000, 23.7000],\n",
      "        [65.7000, 29.4000],\n",
      "        [78.3000, 24.0000],\n",
      "        [57.9000, 18.1000],\n",
      "        [30.2000, 12.9000]])\n",
      "Prediction    = tensor([[64.9958, 20.9743],\n",
      "        [77.2000, 30.3273],\n",
      "        [71.5479, 28.2009],\n",
      "        [68.1772, 31.9634],\n",
      "        [36.3315, 15.0852],\n",
      "        [31.3580, 10.2897],\n",
      "        [61.1390, 28.1913],\n",
      "        [55.1647, 23.0784],\n",
      "        [59.4218, 23.4137],\n",
      "        [51.5728, 23.9044],\n",
      "        [68.7890, 23.6754],\n",
      "        [65.5297, 28.9767],\n",
      "        [76.2524, 23.4733],\n",
      "        [58.4733, 18.1995],\n",
      "        [32.2471, 13.8069]])\n"
     ]
    }
   ],
   "source": [
    "PATH_CAL = os.path.join(os.getcwd(), \"model_cal.pt\")\n",
    "model_physics_trained = torch.load(PATH_CAL)\n",
    "\n",
    "examples = enumerate(test_loader)\n",
    "_, (x_test_example, y_test_example) = next(examples)\n",
    "\n",
    "score_example = prediction(model_physics_trained, x_test_example)\n",
    "# y = data_matrix.iloc[0:,0:2].values\n",
    "#Revert normalized values back to real values\n",
    "# Print only 8 data samples for comparison\n",
    "print(\"Ground Truths =\", y_test_example[:15])\n",
    "print(\"Prediction    =\", score_example[:15].reshape(15, 2))"
   ]
  },
  {
   "cell_type": "markdown",
   "metadata": {},
   "source": [
    "## Train PictureNet"
   ]
  },
  {
   "cell_type": "markdown",
   "metadata": {},
   "source": [
    "<font color=red> The more we train (higher epoch), the more model learns to make points connect smoother. However, the loss becomes larger. </font>"
   ]
  },
  {
   "cell_type": "code",
   "execution_count": 59,
   "metadata": {},
   "outputs": [
    {
     "name": "stdout",
     "output_type": "stream",
     "text": [
      "epoch 1: train_loss = 0.0023, val_loss = 0.0023\n",
      "epoch 2: train_loss = 0.0344, val_loss = 0.0344\n",
      "epoch 3: train_loss = 0.2832, val_loss = 0.2862\n",
      "epoch 4: train_loss = 0.0560, val_loss = 0.0558\n",
      "epoch 5: train_loss = 1.2683, val_loss = 1.2742\n",
      "epoch 6: train_loss = 0.6538, val_loss = 0.6582\n",
      "epoch 7: train_loss = 0.2216, val_loss = 0.2228\n",
      "epoch 8: train_loss = 0.0911, val_loss = 0.0924\n",
      "epoch 9: train_loss = 0.1881, val_loss = 0.1916\n",
      "epoch 10: train_loss = 0.0032, val_loss = 0.0032\n"
     ]
    },
    {
     "data": {
      "image/png": "[encoded data removed]",
      "text/plain": [
       "<Figure size 432x288 with 1 Axes>"
      ]
     },
     "metadata": {
      "needs_background": "light"
     },
     "output_type": "display_data"
    }
   ],
   "source": [
    "in_channel = 1\n",
    "channel_1 = 16\n",
    "channel_2 = 32\n",
    "channel_3 = 64\n",
    "node_1 = 1024\n",
    "node_2 = 1024\n",
    "out_channel = 160\n",
    "\n",
    "learning_rate = 1e-3\n",
    "\n",
    "model_picture = PictureNet(in_channel, channel_1, channel_2, channel_3, node_1, node_2, out_channel)\n",
    "optimizer = optim.Adam(model_picture.parameters(), lr=learning_rate)\n",
    "epoch = 10\n",
    "\n",
    "train_picture(model_picture, optimizer, epoch)\n",
    "PATH_PIC = os.path.join(os.getcwd(), \"model_pic.pt\")\n",
    "torch.save(model_picture, PATH_PIC)"
   ]
  },
  {
   "cell_type": "markdown",
   "metadata": {},
   "source": [
    "### Visualization of outcomes"
   ]
  },
  {
   "cell_type": "code",
   "execution_count": 61,
   "metadata": {},
   "outputs": [
    {
     "name": "stdout",
     "output_type": "stream",
     "text": [
      "664\n",
      "torch.Size([64, 1, 82, 77])\n",
      "torch.Size([64, 160])\n"
     ]
    }
   ],
   "source": [
    "# testing cell for better viewing the length\n",
    "train_x_pic, train_y_pic\n",
    "\n",
    "print(len(train_x_pic))\n",
    "print(train_x_pic[0].shape)\n",
    "print(train_y_pic[0].shape)"
   ]
  },
  {
   "cell_type": "code",
   "execution_count": 82,
   "metadata": {},
   "outputs": [
    {
     "name": "stdout",
     "output_type": "stream",
     "text": [
      "current batch = 82\n",
      "current testing image = 6\n",
      "1 : Ground Truths = 2.65003264752041e-24 , Prediction = 0.021608294919133186\n",
      "2 : Ground Truths = 0.0626391416657659 , Prediction = 0.07581474632024765\n",
      "3 : Ground Truths = 0.125171130609193 , Prediction = 0.11657978594303131\n",
      "4 : Ground Truths = 0.187496053034515 , Prediction = 0.17906492948532104\n",
      "5 : Ground Truths = 0.249504002987817 , Prediction = 0.248157799243927\n",
      "6 : Ground Truths = 0.31107897930666 , Prediction = 0.3046989440917969\n",
      "7 : Ground Truths = 0.372158034387323 , Prediction = 0.3673272728919983\n",
      "8 : Ground Truths = 0.432599785056395 , Prediction = 0.41309279203414917\n",
      "9 : Ground Truths = 0.492315654037164 , Prediction = 0.5015782117843628\n",
      "10 : Ground Truths = 0.551242385704895 , Prediction = 0.5373601317405701\n",
      "11 : Ground Truths = 0.609230107232402 , Prediction = 0.5742705464363098\n",
      "12 : Ground Truths = 0.666246946379323 , Prediction = 0.658768355846405\n",
      "13 : Ground Truths = 0.722181264756206 , Prediction = 0.6608827114105225\n",
      "14 : Ground Truths = 0.776904079526098 , Prediction = 0.7564906477928162\n",
      "15 : Ground Truths = 0.830468635886363 , Prediction = 0.8246642351150513\n",
      "16 : Ground Truths = 0.882579202066767 , Prediction = 0.8621211647987366\n",
      "17 : Ground Truths = 0.933436667976211 , Prediction = 0.9305614829063416\n",
      "18 : Ground Truths = 0.98275696696977 , Prediction = 0.9563236236572266\n",
      "19 : Ground Truths = 1.03052967029719 , Prediction = 1.012621521949768\n",
      "20 : Ground Truths = 1.07684652237229 , Prediction = 1.0459719896316528\n",
      "21 : Ground Truths = 1.12134996209493 , Prediction = 1.0799832344055176\n",
      "22 : Ground Truths = 1.16429812504223 , Prediction = 1.1571481227874756\n",
      "23 : Ground Truths = 1.20556471613937 , Prediction = 1.1953898668289185\n",
      "24 : Ground Truths = 1.24485568841773 , Prediction = 1.2474393844604492\n",
      "25 : Ground Truths = 1.28254929593846 , Prediction = 1.256051778793335\n",
      "26 : Ground Truths = 1.3184106032227 , Prediction = 1.2811135053634644\n",
      "27 : Ground Truths = 1.35218660530422 , Prediction = 1.3614914417266846\n",
      "28 : Ground Truths = 1.38433624852277 , Prediction = 1.3433846235275269\n",
      "29 : Ground Truths = 1.41457590116593 , Prediction = 1.3757416009902954\n",
      "30 : Ground Truths = 1.44263949885849 , Prediction = 1.3956363201141357\n",
      "31 : Ground Truths = 1.46908263230088 , Prediction = 1.4494112730026245\n",
      "32 : Ground Truths = 1.49360895141502 , Prediction = 1.4826639890670776\n",
      "33 : Ground Truths = 1.5158749735443 , Prediction = 1.47971773147583\n",
      "34 : Ground Truths = 1.53656055454581 , Prediction = 1.4914854764938354\n",
      "35 : Ground Truths = 1.55539607114633 , Prediction = 1.522458791732788\n",
      "36 : Ground Truths = 1.57189085321529 , Prediction = 1.5300407409667969\n",
      "37 : Ground Truths = 1.58686491371711 , Prediction = 1.5508155822753906\n",
      "38 : Ground Truths = 1.60014712986472 , Prediction = 1.5607545375823975\n",
      "39 : Ground Truths = 1.61099818044445 , Prediction = 1.5577094554901123\n",
      "40 : Ground Truths = 1.62041654973657 , Prediction = 1.5456950664520264\n",
      "41 : Ground Truths = 1.62847713417348 , Prediction = 1.554978370666504\n",
      "42 : Ground Truths = 1.63385043986152 , Prediction = 1.5732635259628296\n",
      "43 : Ground Truths = 1.63694103820944 , Prediction = 1.609205961227417\n",
      "44 : Ground Truths = 1.63935255309802 , Prediction = 1.605108618736267\n",
      "45 : Ground Truths = 1.64058059439603 , Prediction = 1.5819120407104492\n",
      "46 : Ground Truths = 1.63987463525681 , Prediction = 1.6075341701507568\n",
      "47 : Ground Truths = 1.63692807342709 , Prediction = 1.5543367862701416\n",
      "48 : Ground Truths = 1.6327574004143 , Prediction = 1.587114691734314\n",
      "49 : Ground Truths = 1.62779621415701 , Prediction = 1.5794203281402588\n",
      "50 : Ground Truths = 1.62050848879566 , Prediction = 1.582979679107666\n",
      "51 : Ground Truths = 1.61167252407709 , Prediction = 1.6114802360534668\n",
      "52 : Ground Truths = 1.60203917775723 , Prediction = 1.5676002502441406\n",
      "53 : Ground Truths = 1.5907165951722 , Prediction = 1.5748841762542725\n",
      "54 : Ground Truths = 1.57805109615279 , Prediction = 1.5462998151779175\n",
      "55 : Ground Truths = 1.56448367123297 , Prediction = 1.5367299318313599\n",
      "56 : Ground Truths = 1.54950164189634 , Prediction = 1.514712929725647\n",
      "57 : Ground Truths = 1.5333737936531 , Prediction = 1.4823914766311646\n",
      "58 : Ground Truths = 1.51638361260223 , Prediction = 1.4936281442642212\n",
      "59 : Ground Truths = 1.49819589759096 , Prediction = 1.5106573104858398\n",
      "60 : Ground Truths = 1.47907718986292 , Prediction = 1.4695627689361572\n",
      "61 : Ground Truths = 1.45917047377382 , Prediction = 1.4494907855987549\n",
      "62 : Ground Truths = 1.43828430914709 , Prediction = 1.4207556247711182\n",
      "63 : Ground Truths = 1.41670356646462 , Prediction = 1.4185774326324463\n",
      "64 : Ground Truths = 1.39439399859676 , Prediction = 1.4063342809677124\n",
      "65 : Ground Truths = 1.37137480403822 , Prediction = 1.4177358150482178\n",
      "66 : Ground Truths = 1.34785970336848 , Prediction = 1.3223004341125488\n",
      "67 : Ground Truths = 1.32374166652373 , Prediction = 1.3224496841430664\n",
      "68 : Ground Truths = 1.29922751011861 , Prediction = 1.3243200778961182\n",
      "69 : Ground Truths = 1.27431143358903 , Prediction = 1.2868413925170898\n",
      "70 : Ground Truths = 1.24909530972459 , Prediction = 1.2767308950424194\n",
      "71 : Ground Truths = 1.22367453087218 , Prediction = 1.2495174407958984\n",
      "72 : Ground Truths = 1.1980968122938 , Prediction = 1.272687315940857\n",
      "73 : Ground Truths = 1.17248305438935 , Prediction = 1.2422959804534912\n",
      "74 : Ground Truths = 1.14690455465315 , Prediction = 1.2219904661178589\n",
      "75 : Ground Truths = 1.12145324761807 , Prediction = 1.2058781385421753\n",
      "76 : Ground Truths = 1.09625176568035 , Prediction = 1.1696943044662476\n",
      "77 : Ground Truths = 1.07138462580958 , Prediction = 1.1823710203170776\n",
      "78 : Ground Truths = 1.04697324261095 , Prediction = 1.1346423625946045\n",
      "79 : Ground Truths = 1.02313688526068 , Prediction = 1.1385741233825684\n",
      "80 : Ground Truths = 1.00000000020937 , Prediction = 1.122467279434204\n",
      "81 : Ground Truths = -3.93056671247932 , Prediction = -3.955549955368042\n",
      "82 : Ground Truths = -3.92926750415854 , Prediction = -3.9327430725097656\n",
      "83 : Ground Truths = -3.92541662449564 , Prediction = -3.929661989212036\n",
      "84 : Ground Truths = -3.91898229375864 , Prediction = -3.9126765727996826\n",
      "85 : Ground Truths = -3.91001858603009 , Prediction = -3.9286606311798096\n",
      "86 : Ground Truths = -3.89856376098362 , Prediction = -3.9006662368774414\n",
      "87 : Ground Truths = -3.88451350168086 , Prediction = -3.879408121109009\n",
      "88 : Ground Truths = -3.86805519463713 , Prediction = -3.868217706680298\n",
      "89 : Ground Truths = -3.84914651145748 , Prediction = -3.8644826412200928\n",
      "90 : Ground Truths = -3.82780293769919 , Prediction = -3.836529016494751\n",
      "91 : Ground Truths = -3.80414127388443 , Prediction = -3.8420724868774414\n",
      "92 : Ground Truths = -3.77814317928143 , Prediction = -3.8455419540405273\n",
      "93 : Ground Truths = -3.74986911048066 , Prediction = -3.75746488571167\n",
      "94 : Ground Truths = -3.71947420710088 , Prediction = -3.7539708614349365\n",
      "95 : Ground Truths = -3.6868109074423 , Prediction = -3.695751667022705\n",
      "96 : Ground Truths = -3.65223645104519 , Prediction = -3.645214557647705\n",
      "97 : Ground Truths = -3.61549516993697 , Prediction = -3.6427950859069824\n",
      "98 : Ground Truths = -3.57688480218941 , Prediction = -3.5956196784973145\n",
      "99 : Ground Truths = -3.53644437457148 , Prediction = -3.564952850341797\n",
      "100 : Ground Truths = -3.49408379624956 , Prediction = -3.5237412452697754\n",
      "101 : Ground Truths = -3.45015710268857 , Prediction = -3.465517520904541\n",
      "102 : Ground Truths = -3.40449476176925 , Prediction = -3.3921072483062744\n",
      "103 : Ground Truths = -3.35722331889397 , Prediction = -3.383399724960327\n",
      "104 : Ground Truths = -3.30861964559974 , Prediction = -3.3160147666931152\n",
      "105 : Ground Truths = -3.25848216750345 , Prediction = -3.2355971336364746\n",
      "106 : Ground Truths = -3.207009729004 , Prediction = -3.2105557918548584\n",
      "107 : Ground Truths = -3.15443099788836 , Prediction = -3.1462996006011963\n",
      "108 : Ground Truths = -3.10055874121412 , Prediction = -3.1259231567382812\n",
      "109 : Ground Truths = -3.04559755847992 , Prediction = -3.0321502685546875\n",
      "110 : Ground Truths = -2.98975976923634 , Prediction = -3.018585681915283\n",
      "111 : Ground Truths = -2.93287784884952 , Prediction = -2.921198606491089\n",
      "112 : Ground Truths = -2.8751304856772 , Prediction = -2.8910181522369385\n",
      "113 : Ground Truths = -2.81672953013882 , Prediction = -2.7853806018829346\n",
      "114 : Ground Truths = -2.75753354007316 , Prediction = -2.7625696659088135\n",
      "115 : Ground Truths = -2.6976759959524 , Prediction = -2.702214241027832\n",
      "116 : Ground Truths = -2.63736662461179 , Prediction = -2.6312077045440674\n",
      "117 : Ground Truths = -2.57650676284519 , Prediction = -2.600322961807251\n",
      "118 : Ground Truths = -2.51517121290135 , Prediction = -2.4833006858825684\n",
      "119 : Ground Truths = -2.45355519707995 , Prediction = -2.4532470703125\n",
      "120 : Ground Truths = -2.39162187467804 , Prediction = -2.3891549110412598\n",
      "121 : Ground Truths = -2.3293814752367 , Prediction = -2.3202638626098633\n",
      "122 : Ground Truths = -2.2670022210829 , Prediction = -2.300769805908203\n",
      "123 : Ground Truths = -2.20451348826636 , Prediction = -2.203507900238037\n",
      "124 : Ground Truths = -2.14187054199993 , Prediction = -2.1530776023864746\n",
      "125 : Ground Truths = -2.07921152247922 , Prediction = -2.079644203186035\n",
      "126 : Ground Truths = -2.01660216303566 , Prediction = -2.030277729034424\n",
      "127 : Ground Truths = -1.95398014442064 , Prediction = -1.9565646648406982\n",
      "128 : Ground Truths = -1.89144717848417 , Prediction = -1.888472318649292\n",
      "129 : Ground Truths = -1.82907709411418 , Prediction = -1.8477169275283813\n",
      "130 : Ground Truths = -1.76681641231059 , Prediction = -1.7651803493499756\n",
      "131 : Ground Truths = -1.70473104202404 , Prediction = -1.6948126554489136\n",
      "132 : Ground Truths = -1.64288426378152 , Prediction = -1.6536561250686646\n",
      "133 : Ground Truths = -1.58124109571231 , Prediction = -1.5658934116363525\n",
      "134 : Ground Truths = -1.51983837718259 , Prediction = -1.5278270244598389\n",
      "135 : Ground Truths = -1.45871910191326 , Prediction = -1.4804449081420898\n",
      "136 : Ground Truths = -1.39786609611745 , Prediction = -1.3832173347473145\n",
      "137 : Ground Truths = -1.33729400366235 , Prediction = -1.3453373908996582\n",
      "138 : Ground Truths = -1.27702310848419 , Prediction = -1.2848975658416748\n",
      "139 : Ground Truths = -1.21705021696941 , Prediction = -1.2174896001815796\n",
      "140 : Ground Truths = -1.15736904845408 , Prediction = -1.1507761478424072\n",
      "141 : Ground Truths = -1.09798357680659 , Prediction = -1.1165180206298828\n",
      "142 : Ground Truths = -1.03889685081594 , Prediction = -1.0515756607055664\n",
      "143 : Ground Truths = -0.980076983524523 , Prediction = -0.9744989275932312\n",
      "144 : Ground Truths = -0.921534082825743 , Prediction = -0.9255347847938538\n",
      "145 : Ground Truths = -0.863250407764522 , Prediction = -0.8621307015419006\n",
      "146 : Ground Truths = -0.805182284434185 , Prediction = -0.8191598653793335\n",
      "147 : Ground Truths = -0.747351253373523 , Prediction = -0.7718260288238525\n",
      "148 : Ground Truths = -0.689689908904549 , Prediction = -0.664459228515625\n",
      "149 : Ground Truths = -0.632202408081262 , Prediction = -0.6137672662734985\n",
      "150 : Ground Truths = -0.574843279885204 , Prediction = -0.5982968211174011\n",
      "151 : Ground Truths = -0.51757701989114 , Prediction = -0.5140427947044373\n",
      "152 : Ground Truths = -0.460379332458065 , Prediction = -0.45536214113235474\n",
      "153 : Ground Truths = -0.403198308597438 , Prediction = -0.3818550109863281\n",
      "154 : Ground Truths = -0.346001693847031 , Prediction = -0.3353223204612732\n",
      "155 : Ground Truths = -0.288747902634921 , Prediction = -0.27623724937438965\n",
      "156 : Ground Truths = -0.231384434023037 , Prediction = -0.2527492344379425\n",
      "157 : Ground Truths = -0.173875311549604 , Prediction = -0.1521804928779602\n",
      "158 : Ground Truths = -0.116170891280673 , Prediction = -0.10907964408397675\n",
      "159 : Ground Truths = -0.0582269103886314 , Prediction = -0.033052727580070496\n",
      "160 : Ground Truths = 0.0 , Prediction = -0.0011217445135116577\n"
     ]
    }
   ],
   "source": [
    "PATH_PIC = os.path.join(os.getcwd(), \"model_pic.pt\")\n",
    "model_picture_trained = torch.load(PATH_PIC)\n",
    "\n",
    "rand1 = random.randint(0, len(test_x_pic)-1)\n",
    "rand2 = random.randint(0, 64)\n",
    "\n",
    "print(\"current batch =\", rand1)\n",
    "print(\"current testing image =\", rand2)\n",
    "\n",
    "score_pic = prediction(model_picture_trained, test_x_pic[rand1][rand2].reshape(1, 1, 82, 77))\n",
    "for num in range(len(test_y_pic[rand1][rand2])):\n",
    "    print(num+1, \": Ground Truths =\", test_y_pic[rand1][rand2][num].item(), \", Prediction =\", score_pic[0, num].item())\n"
   ]
  },
  {
   "cell_type": "markdown",
   "metadata": {},
   "source": [
    "### Plot the ground truth and prediction to make a comparison"
   ]
  },
  {
   "cell_type": "code",
   "execution_count": 104,
   "metadata": {},
   "outputs": [
    {
     "data": {
      "image/png": "[encoded data removed]",
      "text/plain": [
       "<Figure size 432x288 with 1 Axes>"
      ]
     },
     "metadata": {
      "needs_background": "light"
     },
     "output_type": "display_data"
    }
   ],
   "source": [
    "# scattering points for ground truth\n",
    "x_gt_pos = test_y_pic[rand1][rand2][0:80]\n",
    "y_gt_pos = test_y_pic[rand1][rand2][80:160]\n",
    "x_gt_neg = -torch.flip(x_gt_pos, [0])\n",
    "y_gt_neg = torch.flip(y_gt_pos, [0])\n",
    "x_gt = torch.cat((x_gt_neg, x_gt_pos))\n",
    "y_gt = torch.cat((y_gt_neg, y_gt_pos))\n",
    "\n",
    "# scattering points for prediction\n",
    "x_pred_pos = score_pic[0, 0:80]\n",
    "y_pred_pos = score_pic[0, 80:160]\n",
    "x_pred_neg = -torch.flip(x_pred_pos, [0])\n",
    "y_pred_neg = torch.flip(y_pred_pos, [0])\n",
    "x_pred = torch.cat((x_pred_neg, x_pred_pos))\n",
    "y_pred = torch.cat((y_pred_neg, y_pred_pos))\n",
    "\n",
    "plt.scatter(x_gt, y_gt, c=\"red\", label=\"ground truth\")\n",
    "plt.scatter(x_pred, y_pred, c=\"blue\", label=\"prediction\")\n",
    "plt.xlabel(\"rr\")\n",
    "plt.ylabel(\"zz\")\n",
    "plt.legend()\n",
    "plt.axis('equal')\n",
    "plt.show()"
   ]
  },
  {
   "cell_type": "code",
   "execution_count": null,
   "metadata": {},
   "outputs": [],
   "source": []
  }
 ],
 "metadata": {
  "interpreter": {
   "hash": "64def4006c78149665c79cf5850ee76c9e416630a0d9e75e41ff194dcaf5fb2b"
  },
  "kernelspec": {
   "display_name": "Python 3 (ipykernel)",
   "language": "python",
   "name": "python3"
  },
  "language_info": {
   "codemirror_mode": {
    "name": "ipython",
    "version": 3
   },
   "file_extension": ".py",
   "mimetype": "text/x-python",
   "name": "python",
   "nbconvert_exporter": "python",
   "pygments_lexer": "ipython3",
   "version": "3.8.10"
  }
 },
 "nbformat": 4,
 "nbformat_minor": 2
}
