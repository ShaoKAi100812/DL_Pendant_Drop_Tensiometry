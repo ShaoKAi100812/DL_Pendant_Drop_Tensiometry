{
 "cells": [
  {
   "cell_type": "markdown",
   "metadata": {},
   "source": [
    "# Deep Learning for tensiometry of pendant drop"
   ]
  },
  {
   "cell_type": "markdown",
   "metadata": {},
   "source": [
    "### Import necessary packages and self-defined classes"
   ]
  },
  {
   "cell_type": "code",
   "execution_count": 15,
   "metadata": {},
   "outputs": [],
   "source": [
    "# pyplot\n",
    "import matplotlib.pyplot as plt\n",
    "# pytorch\n",
    "import torch\n",
    "import torch.optim as optim\n",
    "import torch.nn.functional as F  # useful stateless functions\n",
    "#Test/Train data split\n",
    "from functools import lru_cache\n",
    "from torch.utils.data import DataLoader, Dataset\n",
    "from torch.utils.data.sampler import SubsetRandomSampler\n",
    "import numpy as np\n",
    "import logging\n",
    "# sklearn\n",
    "from sklearn import preprocessing\n",
    "# os\n",
    "import os\n",
    "# warnings\n",
    "import warnings\n",
    "warnings.filterwarnings('ignore')\n",
    "# self-defined model\n",
    "from model_pic import *\n",
    "from model_cal import *\n",
    "import pandas as pd\n",
    "\n",
    "#PictureNet\n",
    "from PIL import Image\n",
    "from skimage.io import imread\n",
    "from sklearn.model_selection import train_test_split"
   ]
  },
  {
   "cell_type": "markdown",
   "metadata": {},
   "source": [
    "### Dataset loading and preprocessing"
   ]
  },
  {
   "cell_type": "code",
   "execution_count": 16,
   "metadata": {},
   "outputs": [],
   "source": [
    "class DataSplit:\n",
    "\n",
    "    def __init__(self, dataset, test_train_split=0.8, val_train_split=0.1, shuffle=False):\n",
    "        self.dataset = dataset\n",
    "\n",
    "        dataset_size = len(dataset)\n",
    "        self.indices = list(range(dataset_size))\n",
    "        test_split = int(np.floor(test_train_split * dataset_size))\n",
    "\n",
    "        if shuffle:\n",
    "            np.random.shuffle(self.indices)\n",
    "\n",
    "        train_indices, self.test_indices = self.indices[:test_split], self.indices[test_split:]\n",
    "        train_size = len(train_indices)\n",
    "        validation_split = int(np.floor((1 - val_train_split) * train_size))\n",
    "\n",
    "        self.train_indices, self.val_indices = train_indices[:validation_split], train_indices[validation_split:]\n",
    "\n",
    "        self.train_sampler = SubsetRandomSampler(self.train_indices)\n",
    "        self.val_sampler = SubsetRandomSampler(self.val_indices)\n",
    "        self.test_sampler = SubsetRandomSampler(self.test_indices)\n",
    "    \n",
    "    def get_train_split_point(self):\n",
    "        return len(self.train_sampler) + len(self.val_indices)\n",
    "\n",
    "    def get_validation_split_point(self):\n",
    "        return len(self.train_sampler)\n",
    "\n",
    "    @lru_cache(maxsize=4)\n",
    "    def get_split(self, batch_size=50, num_workers=0):\n",
    "        logging.debug('Initializing train-validation-test dataloaders')\n",
    "        self.train_loader = self.get_train_loader(batch_size=batch_size, num_workers=num_workers)\n",
    "        self.val_loader = self.get_validation_loader(batch_size=batch_size, num_workers=num_workers)\n",
    "        self.test_loader = self.get_test_loader(batch_size=batch_size, num_workers=num_workers)\n",
    "        return self.train_loader, self.val_loader, self.test_loader\n",
    "\n",
    "    @lru_cache(maxsize=4)\n",
    "    def get_train_loader(self, batch_size=50, num_workers=0):\n",
    "        logging.debug('Initializing train dataloader')\n",
    "        self.train_loader = DataLoader(self.dataset, batch_size=batch_size, sampler=self.train_sampler, shuffle=False, num_workers=num_workers)\n",
    "        return self.train_loader\n",
    "\n",
    "    @lru_cache(maxsize=4)\n",
    "    def get_validation_loader(self, batch_size=50, num_workers=0):\n",
    "        logging.debug('Initializing validation dataloader')\n",
    "        self.val_loader = DataLoader(self.dataset, batch_size=batch_size, sampler=self.val_sampler, shuffle=False, num_workers=num_workers)\n",
    "        return self.val_loader\n",
    "\n",
    "    @lru_cache(maxsize=4)\n",
    "    def get_test_loader(self, batch_size=50, num_workers=0):\n",
    "        logging.debug('Initializing test dataloader')\n",
    "        self.test_loader = DataLoader(self.dataset, batch_size=batch_size, sampler=self.test_sampler, shuffle=False, num_workers=num_workers)\n",
    "        return self.test_loader"
   ]
  },
  {
   "cell_type": "code",
   "execution_count": 36,
   "metadata": {},
   "outputs": [
    {
     "name": "stdout",
     "output_type": "stream",
     "text": [
      "       0    1    2             3         4         5         6         7    \\\n",
      "0      2.3  0.2    1  1.507010e-26  0.012809  0.025618  0.038426  0.051234   \n",
      "1      2.4  0.2    1 -1.908640e-26  0.012808  0.025616  0.038423  0.051230   \n",
      "2      2.5  0.2    1  1.076793e-27  0.012807  0.025614  0.038421  0.051226   \n",
      "3      2.6  0.2    1 -2.257969e-27  0.012806  0.025613  0.038418  0.051223   \n",
      "4      2.7  0.2    1 -2.748220e-26  0.012806  0.025611  0.038416  0.051220   \n",
      "...    ...  ...  ...           ...       ...       ...       ...       ...   \n",
      "9939  43.5  1.8    1 -7.287111e-26  0.018726  0.037444  0.056150  0.074834   \n",
      "9940  43.5  1.9    1 -4.066788e-25  0.019148  0.038288  0.057413  0.076516   \n",
      "9941  43.5  2.0    1 -2.686497e-25  0.019565  0.039121  0.058662  0.078179   \n",
      "9942  43.5  2.1    1 -2.609213e-25  0.019977  0.039945  0.059897  0.079822   \n",
      "9943  43.5  2.2    1  2.115247e-25  0.020384  0.040759  0.061116  0.081445   \n",
      "\n",
      "           8         9    ...       153       154       155       156  \\\n",
      "0     0.064040  0.076845  ... -0.023367 -0.020753 -0.018140 -0.015530   \n",
      "1     0.064035  0.076839  ... -0.023545 -0.020919 -0.018292 -0.015667   \n",
      "2     0.064031  0.076834  ... -0.023707 -0.021070 -0.018431 -0.015791   \n",
      "3     0.064027  0.076830  ... -0.023855 -0.021208 -0.018558 -0.015905   \n",
      "4     0.064024  0.076826  ... -0.023990 -0.021334 -0.018674 -0.016009   \n",
      "...        ...       ...  ...       ...       ...       ...       ...   \n",
      "9939  0.093489  0.112111  ... -0.164757 -0.146729 -0.128620 -0.110435   \n",
      "9940  0.095587  0.114623  ... -0.169564 -0.150972 -0.132306 -0.113570   \n",
      "9941  0.097662  0.117107  ... -0.174124 -0.154994 -0.135798 -0.116538   \n",
      "9942  0.099713  0.119562  ... -0.178460 -0.158817 -0.139114 -0.119356   \n",
      "9943  0.101737  0.121985  ... -0.182592 -0.162457 -0.142271 -0.122036   \n",
      "\n",
      "           157       158       159       160       161  162  \n",
      "0    -0.012924 -0.010324 -0.007730 -0.005144 -0.002567  0.0  \n",
      "1    -0.013043 -0.010423 -0.007808 -0.005198 -0.002595  0.0  \n",
      "2    -0.013152 -0.010514 -0.007878 -0.005247 -0.002620  0.0  \n",
      "3    -0.013251 -0.010597 -0.007943 -0.005292 -0.002644  0.0  \n",
      "4    -0.013342 -0.010672 -0.008003 -0.005333 -0.002665  0.0  \n",
      "...        ...       ...       ...       ...       ...  ...  \n",
      "9939 -0.092176 -0.073853 -0.055469 -0.037028 -0.018537  0.0  \n",
      "9940 -0.094768 -0.075910 -0.056999 -0.038039 -0.019038  0.0  \n",
      "9941 -0.097221 -0.077855 -0.058444 -0.038994 -0.019511  0.0  \n",
      "9942 -0.099548 -0.079699 -0.059814 -0.039898 -0.019958  0.0  \n",
      "9943 -0.101760 -0.081452 -0.061115 -0.040756 -0.020383  0.0  \n",
      "\n",
      "[9944 rows x 163 columns]\n"
     ]
    }
   ],
   "source": [
    "data_matrix = df = pd.DataFrame()\n",
    "\n",
    "data_matrix = pd.read_csv(\"Data_folder/Data_big_drop.csv\", header= None)\n",
    "\n",
    "#print(data_matrix)\n",
    "\n",
    "\n",
    "# Make the droplet dataset class based on data_matrix\n",
    "class Droplet_data_set(Dataset):\n",
    "    def __init__(self):\n",
    "        x = data_matrix.iloc[0:,3:].values\n",
    "        y = data_matrix.iloc[0:,0:2].values\n",
    "        x = np.random.normal(x,0.01)\n",
    "        # Add normalization for x\n",
    "        #x = preprocessing.normalize(x)\n",
    "        print(x)\n",
    "\n",
    "        self.x_train = torch.tensor(x,dtype=torch.float32)\n",
    "        self.y_train = torch.tensor(y,dtype=torch.float32)\n",
    "        \n",
    "    def __getitem__(self, idx):\n",
    "        return self.x_train[idx],self.y_train[idx]\n",
    "    \n",
    "    def __len__(self):\n",
    "         return len(self.y_train)\n",
    "        \n",
    "my_data_set = Droplet_data_set()\n",
    "\n",
    "# Split the single dataset into 3 datasets for training, test and validation.\n",
    "split = DataSplit(my_data_set, shuffle=True)\n",
    "train_loader, val_loader, test_loader = split.get_split(batch_size=64, num_workers=0)\n"
   ]
  },
  {
   "cell_type": "markdown",
   "metadata": {},
   "source": [
    "### Load data for ImageNet\n",
    "\n"
   ]
  },
  {
   "cell_type": "code",
   "execution_count": 16,
   "metadata": {},
   "outputs": [
    {
     "data": {
      "text/plain": [
       "(((25, 82, 77), (25, 160)), ((3, 82, 77), (3, 160)), ((4, 82, 77), (4, 160)))"
      ]
     },
     "execution_count": 16,
     "metadata": {},
     "output_type": "execute_result"
    },
    {
     "data": {
      "image/png": "[encoded data removed]",
      "text/plain": [
       "<Figure size 432x288 with 1 Axes>"
      ]
     },
     "metadata": {
      "needs_background": "light"
     },
     "output_type": "display_data"
    }
   ],
   "source": [
    "\n",
    "train_img = []\n",
    "\n",
    "data_image = pd.read_csv(\"Data_folder/Picture.csv\", header= None)\n",
    "for img_name in data_image.iloc[0:32,3:].index + 1:\n",
    "    # defining the image path\n",
    "    image_path = 'Data_folder/' + str(img_name) + '.png'\n",
    "    # reading the image\n",
    "    img = imread(image_path, as_gray=True)\n",
    "    img = img[4:-4, 4:-4]  #crop \n",
    "    # normalizing the pixel values\n",
    "    img /= 255.0\n",
    "    # converting the type of pixel to float 32\n",
    "    img = img.astype('float32')\n",
    "    # appending the image into the list\n",
    "    train_img.append(img)\n",
    "    \n",
    "plt.imshow(train_img[0], cmap='gray')\n",
    "# converting the list to numpy array\n",
    "train_x_pic = np.array(train_img)\n",
    "train_y_pic = data_image.iloc[0:32,3:].values\n",
    "train_x_pic, rem_x_pic, train_y_pic, rem_y_pic = train_test_split(train_x_pic, train_y_pic, test_size = 0.2)\n",
    "val_x_pic, test_x_pic, val_y_pic, test_y_pic = train_test_split(rem_x_pic, rem_y_pic, test_size = 0.5)\n",
    "\n",
    "(train_x_pic.shape, train_y_pic.shape), (val_x_pic.shape, val_y_pic.shape), (test_x_pic.shape, test_y_pic.shape)\n",
    "\n"
   ]
  },
  {
   "cell_type": "code",
   "execution_count": 8,
   "metadata": {},
   "outputs": [
    {
     "data": {
      "text/plain": [
       "(torch.Size([3, 1, 82, 77]), torch.Size([3, 160]))"
      ]
     },
     "execution_count": 8,
     "metadata": {},
     "output_type": "execute_result"
    }
   ],
   "source": [
    "# converting the target into torch format\n",
    "train_y_pic = train_y_pic.astype(int);\n",
    "train_y_pic = torch.from_numpy(train_y_pic)\n",
    "\n",
    "train_x_pic = train_x_pic.reshape(25, 1,82, 77)\n",
    "train_x_pic  = torch.from_numpy(train_x_pic)\n",
    "\n",
    "train_y_pic.shape, train_x_pic.shape\n",
    "\n",
    "# converting validation images into torch format\n",
    "val_x_pic = val_x_pic.reshape(3, 1,82, 77)\n",
    "val_x_pic  = torch.from_numpy(val_x_pic)\n",
    "\n",
    "# converting the target into torch format\n",
    "val_y_pic = val_y_pic.astype(int);\n",
    "val_y_pic = torch.from_numpy(val_y_pic)\n",
    "\n",
    "# shape of validation data\n",
    "val_x_pic.shape, val_y_pic.shape"
   ]
  },
  {
   "cell_type": "markdown",
   "metadata": {},
   "source": [
    "### Deside to apply host or device\n"
   ]
  },
  {
   "cell_type": "code",
   "execution_count": 9,
   "metadata": {},
   "outputs": [
    {
     "name": "stdout",
     "output_type": "stream",
     "text": [
      "cpu\n"
     ]
    }
   ],
   "source": [
    "USE_GPU = True\n",
    "if USE_GPU and torch.cuda.is_available():\n",
    "    device = torch.device('cuda')\n",
    "else:\n",
    "    device = torch.device('cpu')\n",
    "device = torch.device('cpu')\n",
    "print(device)"
   ]
  },
  {
   "cell_type": "markdown",
   "metadata": {},
   "source": [
    "### Define the functions we need"
   ]
  },
  {
   "cell_type": "code",
   "execution_count": 11,
   "metadata": {},
   "outputs": [],
   "source": [
    "def loss_cal_per_epoch(loss_list, model, loader):\n",
    "    model.eval()  # set model to evaluation mode\n",
    "    with torch.no_grad():\n",
    "        loss_epoch = 0\n",
    "        for t, (x, y) in enumerate(loader):\n",
    "            x = x.to(device=device, dtype=torch.float32)  # move to device, e.g. GPU\n",
    "            y = y.to(device=device, dtype=torch.float32)\n",
    "            scores = model(x)\n",
    "            loss = F.mse_loss(scores, y)\n",
    "            loss_epoch += loss\n",
    "        loss_list.append(loss_epoch/t)\n",
    "\n",
    "def train(model, optimizer, epochs=1):\n",
    "    loss_train = []\n",
    "    loss_val = []\n",
    "    model = model.to(device=device)  # move the model parameters to CPU/GPU\n",
    "    for e in range(epochs):\n",
    "        for _, (x, y) in enumerate(train_loader):\n",
    "            x = x.reshape(len(x), 1, 1, -1)     # reshape to 4D data for formal input of model\n",
    "            model.train()  # put model to training mode\n",
    "            x = x.to(device=device, dtype=torch.float32)  # move to device, e.g. GPU\n",
    "            y = y.to(device=device, dtype=torch.float32)\n",
    "\n",
    "            scores = model(x)\n",
    "            loss = F.mse_loss(scores, y)\n",
    "\n",
    "            optimizer.zero_grad()\n",
    "            loss.backward()\n",
    "            optimizer.step()\n",
    "        loss_cal_per_epoch(loss_train, model, train_loader)\n",
    "        loss_cal_per_epoch(loss_val, model, val_loader)\n",
    "        print('epoch %d: train_loss = %.4f, val_loss = %.4f' % (e+1, loss_train[e], loss_val[e]))\n",
    "    \n",
    "    x = range(1, epochs+1)\n",
    "\n",
    "    plt.plot(x, loss_train, 'b-', label=\"training loss\")\n",
    "    plt.plot(x, loss_val, 'r--', label=\"validation loss\")\n",
    "    plt.xlabel(\"Epochs\")\n",
    "    plt.ylabel(\"MSE Loss\")\n",
    "    plt.title(\"Train/Validation Loss\")\n",
    "    plt.legend()\n",
    "    plt.show()\n",
    "\n",
    "def prediction(model, x):   # only a batch\n",
    "    model = model.to(device=device)\n",
    "    model.eval()  # set model to evaluation mode\n",
    "    with torch.no_grad():\n",
    "        x = x.to(device=device, dtype=torch.float32)\n",
    "        score = torch.Tensor.cpu(model(x))\n",
    "    return score\n"
   ]
  },
  {
   "cell_type": "markdown",
   "metadata": {},
   "source": [
    "### Train PhysicsNet"
   ]
  },
  {
   "cell_type": "code",
   "execution_count": 12,
   "metadata": {},
   "outputs": [
    {
     "name": "stdout",
     "output_type": "stream",
     "text": [
      "epoch 1: train_loss = 17.9313, val_loss = 28.7169\n",
      "epoch 2: train_loss = 3.5304, val_loss = 4.7137\n",
      "epoch 3: train_loss = 1.8841, val_loss = 2.8285\n",
      "epoch 4: train_loss = 6.3391, val_loss = 8.6055\n",
      "epoch 5: train_loss = 1.5494, val_loss = 2.4004\n",
      "epoch 6: train_loss = 0.7196, val_loss = 0.9121\n",
      "epoch 7: train_loss = 0.3763, val_loss = 0.5355\n",
      "epoch 8: train_loss = 0.2829, val_loss = 0.4141\n",
      "epoch 9: train_loss = 0.3801, val_loss = 0.5658\n",
      "epoch 10: train_loss = 0.3207, val_loss = 0.4913\n",
      "epoch 11: train_loss = 0.4595, val_loss = 0.6471\n",
      "epoch 12: train_loss = 0.7018, val_loss = 1.0157\n",
      "epoch 13: train_loss = 0.6188, val_loss = 0.6937\n",
      "epoch 14: train_loss = 0.5342, val_loss = 0.8275\n",
      "epoch 15: train_loss = 0.8087, val_loss = 0.8042\n",
      "epoch 16: train_loss = 0.3814, val_loss = 0.5170\n",
      "epoch 17: train_loss = 1.2286, val_loss = 1.2795\n",
      "epoch 18: train_loss = 0.5023, val_loss = 0.5948\n",
      "epoch 19: train_loss = 0.5816, val_loss = 0.7445\n",
      "epoch 20: train_loss = 0.6406, val_loss = 1.1188\n",
      "epoch 21: train_loss = 0.2760, val_loss = 0.3817\n",
      "epoch 22: train_loss = 0.3965, val_loss = 0.6662\n",
      "epoch 23: train_loss = 0.7448, val_loss = 0.9264\n",
      "epoch 24: train_loss = 0.5535, val_loss = 0.6980\n",
      "epoch 25: train_loss = 0.2726, val_loss = 0.3819\n",
      "epoch 26: train_loss = 0.4142, val_loss = 1.0978\n",
      "epoch 27: train_loss = 0.3500, val_loss = 0.6509\n",
      "epoch 28: train_loss = 0.1678, val_loss = 0.2227\n",
      "epoch 29: train_loss = 0.4574, val_loss = 0.6784\n",
      "epoch 30: train_loss = 0.4656, val_loss = 0.5572\n",
      "epoch 31: train_loss = 0.4736, val_loss = 0.6543\n",
      "epoch 32: train_loss = 0.6284, val_loss = 0.8593\n",
      "epoch 33: train_loss = 0.2151, val_loss = 0.3133\n",
      "epoch 34: train_loss = 0.2035, val_loss = 0.3844\n",
      "epoch 35: train_loss = 0.3959, val_loss = 0.5804\n",
      "epoch 36: train_loss = 0.3286, val_loss = 0.4716\n",
      "epoch 37: train_loss = 0.4042, val_loss = 0.7019\n",
      "epoch 38: train_loss = 0.1677, val_loss = 0.2534\n",
      "epoch 39: train_loss = 0.5755, val_loss = 0.9465\n",
      "epoch 40: train_loss = 0.4676, val_loss = 0.8526\n",
      "epoch 41: train_loss = 0.2902, val_loss = 0.4790\n",
      "epoch 42: train_loss = 0.8176, val_loss = 1.2454\n",
      "epoch 43: train_loss = 0.2149, val_loss = 0.2626\n",
      "epoch 44: train_loss = 0.5021, val_loss = 0.7162\n",
      "epoch 45: train_loss = 1.3458, val_loss = 2.2631\n",
      "epoch 46: train_loss = 0.2259, val_loss = 0.2530\n",
      "epoch 47: train_loss = 0.2644, val_loss = 0.3746\n",
      "epoch 48: train_loss = 0.2081, val_loss = 0.2509\n",
      "epoch 49: train_loss = 0.3229, val_loss = 0.5516\n",
      "epoch 50: train_loss = 0.2070, val_loss = 0.2648\n",
      "epoch 51: train_loss = 0.3812, val_loss = 0.4408\n",
      "epoch 52: train_loss = 0.1676, val_loss = 0.2396\n",
      "epoch 53: train_loss = 0.1261, val_loss = 0.2229\n",
      "epoch 54: train_loss = 0.2866, val_loss = 0.3391\n",
      "epoch 55: train_loss = 0.1958, val_loss = 0.2871\n",
      "epoch 56: train_loss = 0.2817, val_loss = 0.3887\n",
      "epoch 57: train_loss = 0.3648, val_loss = 0.5361\n",
      "epoch 58: train_loss = 0.2601, val_loss = 0.4821\n",
      "epoch 59: train_loss = 0.3138, val_loss = 0.4455\n",
      "epoch 60: train_loss = 0.3325, val_loss = 0.7241\n",
      "epoch 61: train_loss = 0.4195, val_loss = 0.6919\n",
      "epoch 62: train_loss = 0.3216, val_loss = 0.5138\n",
      "epoch 63: train_loss = 0.1583, val_loss = 0.1983\n",
      "epoch 64: train_loss = 0.1279, val_loss = 0.1716\n",
      "epoch 65: train_loss = 0.3430, val_loss = 0.4754\n",
      "epoch 66: train_loss = 0.3051, val_loss = 0.4416\n",
      "epoch 67: train_loss = 0.3170, val_loss = 0.4856\n",
      "epoch 68: train_loss = 0.2822, val_loss = 0.4150\n",
      "epoch 69: train_loss = 0.3111, val_loss = 0.4470\n",
      "epoch 70: train_loss = 0.3027, val_loss = 0.4435\n",
      "epoch 71: train_loss = 0.1821, val_loss = 0.2269\n",
      "epoch 72: train_loss = 0.1886, val_loss = 0.2628\n",
      "epoch 73: train_loss = 0.1298, val_loss = 0.3275\n",
      "epoch 74: train_loss = 0.2705, val_loss = 0.4414\n",
      "epoch 75: train_loss = 0.6263, val_loss = 0.9077\n",
      "epoch 76: train_loss = 0.2146, val_loss = 0.3135\n",
      "epoch 77: train_loss = 0.1920, val_loss = 0.2381\n",
      "epoch 78: train_loss = 0.1259, val_loss = 0.2868\n",
      "epoch 79: train_loss = 0.1471, val_loss = 0.2043\n",
      "epoch 80: train_loss = 0.6755, val_loss = 1.3840\n",
      "epoch 81: train_loss = 0.1332, val_loss = 0.1760\n",
      "epoch 82: train_loss = 0.4870, val_loss = 0.7845\n",
      "epoch 83: train_loss = 0.1596, val_loss = 0.2165\n",
      "epoch 84: train_loss = 0.2854, val_loss = 0.4411\n",
      "epoch 85: train_loss = 0.2651, val_loss = 0.3484\n",
      "epoch 86: train_loss = 0.2546, val_loss = 0.4118\n",
      "epoch 87: train_loss = 0.1832, val_loss = 0.5850\n",
      "epoch 88: train_loss = 0.6280, val_loss = 1.3116\n",
      "epoch 89: train_loss = 0.3389, val_loss = 0.5675\n",
      "epoch 90: train_loss = 0.1859, val_loss = 0.3356\n",
      "epoch 91: train_loss = 0.2781, val_loss = 0.3790\n",
      "epoch 92: train_loss = 0.1532, val_loss = 0.2311\n",
      "epoch 93: train_loss = 0.0757, val_loss = 0.0845\n",
      "epoch 94: train_loss = 0.2654, val_loss = 0.4381\n",
      "epoch 95: train_loss = 0.2562, val_loss = 0.6015\n",
      "epoch 96: train_loss = 0.0881, val_loss = 0.1634\n",
      "epoch 97: train_loss = 0.2556, val_loss = 0.4629\n",
      "epoch 98: train_loss = 0.2322, val_loss = 0.7190\n",
      "epoch 99: train_loss = 0.1912, val_loss = 0.4150\n",
      "epoch 100: train_loss = 0.1124, val_loss = 0.2255\n"
     ]
    },
    {
     "data": {
      "image/png": "[encoded data removed]",
      "text/plain": [
       "<Figure size 432x288 with 1 Axes>"
      ]
     },
     "metadata": {
      "needs_background": "light"
     },
     "output_type": "display_data"
    }
   ],
   "source": [
    "in_channel = 160\n",
    "node_1 = 512\n",
    "node_2 = 256\n",
    "node_3 = 128\n",
    "node_4 = 64\n",
    "out_channel = 2\n",
    "\n",
    "learning_rate = 1e-3\n",
    "\n",
    "model_physics = PhysicsNet(in_channel, node_1, node_2, node_3, node_4, out_channel)\n",
    "optimizer = optim.Adam(model_physics.parameters(), lr=learning_rate)\n",
    "epoch = 200\n",
    "\n",
    "train(model_physics, optimizer, epoch)\n",
    "PATH_CAL = os.path.join(os.getcwd(), \"model_cal\")\n",
    "torch.save(model_physics, PATH_CAL)"
   ]
  },
  {
   "cell_type": "markdown",
   "metadata": {},
   "source": [
    "# Train PictureNet\n"
   ]
  },
  {
   "cell_type": "code",
   "execution_count": null,
   "metadata": {},
   "outputs": [],
   "source": [
    "####To be done"
   ]
  },
  {
   "cell_type": "markdown",
   "metadata": {},
   "source": [
    "### Visualization of outcomes"
   ]
  },
  {
   "cell_type": "code",
   "execution_count": 41,
   "metadata": {},
   "outputs": [
    {
     "name": "stdout",
     "output_type": "stream",
     "text": [
      "Ground Truths = tensor([[6.2000, 3.2000],\n",
      "        [9.9000, 3.1000],\n",
      "        [4.9000, 1.8000],\n",
      "        [5.2000, 2.6000],\n",
      "        [6.9000, 3.4000],\n",
      "        [6.2000, 2.0000],\n",
      "        [4.2000, 2.0000],\n",
      "        [7.8000, 3.3000]])\n",
      "Prediction    = tensor([[ 6.1016,  3.0712],\n",
      "        [10.4408,  3.0465],\n",
      "        [ 5.1119,  1.7429],\n",
      "        [ 4.8282,  2.3445],\n",
      "        [ 6.9854,  3.4585],\n",
      "        [ 6.3236,  1.8898],\n",
      "        [ 4.1584,  1.8395],\n",
      "        [ 8.4766,  3.4072]])\n"
     ]
    }
   ],
   "source": [
    "model_trained = torch.load(PATH_CAL)\n",
    "\n",
    "examples = enumerate(test_loader)\n",
    "_, (x_test_example, y_test_example) = next(examples)\n",
    "\n",
    "score_example = prediction(model_trained, x_test_example)\n",
    "\n",
    "# Print only 8 data samples for comparison\n",
    "print(\"Ground Truths =\", y_test_example[:8])\n",
    "print(\"Prediction    =\", score_example[:8].reshape(8, 2))"
   ]
  },
  {
   "cell_type": "code",
   "execution_count": null,
   "metadata": {},
   "outputs": [],
   "source": []
  },
  {
   "cell_type": "code",
   "execution_count": null,
   "metadata": {},
   "outputs": [],
   "source": []
  },
  {
   "cell_type": "code",
   "execution_count": null,
   "metadata": {},
   "outputs": [],
   "source": []
  }
 ],
 "metadata": {
  "interpreter": {
   "hash": "64def4006c78149665c79cf5850ee76c9e416630a0d9e75e41ff194dcaf5fb2b"
  },
  "kernelspec": {
   "display_name": "Python 3 (ipykernel)",
   "language": "python",
   "name": "python3"
  },
  "language_info": {
   "codemirror_mode": {
    "name": "ipython",
    "version": 3
   },
   "file_extension": ".py",
   "mimetype": "text/x-python",
   "name": "python",
   "nbconvert_exporter": "python",
   "pygments_lexer": "ipython3",
   "version": "3.7.11"
  }
 },
 "nbformat": 4,
 "nbformat_minor": 2
}
