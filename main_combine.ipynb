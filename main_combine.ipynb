{
 "cells": [
  {
   "cell_type": "markdown",
   "metadata": {},
   "source": [
    "# Deep Learning for tensiometry of pendant drop"
   ]
  },
  {
   "cell_type": "markdown",
   "metadata": {},
   "source": [
    "### Import necessary packages and self-defined classes"
   ]
  },
  {
   "cell_type": "code",
   "execution_count": 1,
   "metadata": {},
   "outputs": [],
   "source": [
    "# pyplot\n",
    "import matplotlib.pyplot as plt\n",
    "# pytorch\n",
    "import torch\n",
    "import torch.optim as optim\n",
    "import torch.nn.functional as F  # useful stateless functions\n",
    "#Test/Train data split\n",
    "from functools import lru_cache\n",
    "from torch.utils.data import DataLoader, Dataset\n",
    "from torch.utils.data.sampler import SubsetRandomSampler\n",
    "import numpy as np\n",
    "import logging\n",
    "# sklearn\n",
    "from sklearn import preprocessing\n",
    "# os\n",
    "import os\n",
    "# warnings\n",
    "import warnings\n",
    "warnings.filterwarnings('ignore')\n",
    "# random\n",
    "import random\n",
    "# math\n",
    "import math\n",
    "\n",
    "# self-defined model\n",
    "from model_pic import *\n",
    "from model_cal import *\n",
    "import pandas as pd\n",
    "\n",
    "#PictureNet\n",
    "from PIL import Image\n",
    "from skimage.io import imread\n",
    "from sklearn.model_selection import train_test_split"
   ]
  },
  {
   "cell_type": "markdown",
   "metadata": {},
   "source": [
    "## Dataset loading and preprocessing"
   ]
  },
  {
   "cell_type": "code",
   "execution_count": 2,
   "metadata": {},
   "outputs": [],
   "source": [
    "class DataSplit:\n",
    "\n",
    "    def __init__(self, dataset, test_train_split=0.8, val_train_split=0.1, shuffle=False):\n",
    "        self.dataset = dataset\n",
    "\n",
    "        dataset_size = len(dataset)\n",
    "        self.indices = list(range(dataset_size))\n",
    "        test_split = int(np.floor(test_train_split * dataset_size))\n",
    "\n",
    "        if shuffle:\n",
    "            np.random.shuffle(self.indices)\n",
    "\n",
    "        train_indices, self.test_indices = self.indices[:test_split], self.indices[test_split:]\n",
    "        train_size = len(train_indices)\n",
    "        validation_split = int(np.floor((1 - val_train_split) * train_size))\n",
    "\n",
    "        self.train_indices, self.val_indices = train_indices[:validation_split], train_indices[validation_split:]\n",
    "\n",
    "        self.train_sampler = SubsetRandomSampler(self.train_indices)\n",
    "        self.val_sampler = SubsetRandomSampler(self.val_indices)\n",
    "        self.test_sampler = SubsetRandomSampler(self.test_indices)\n",
    "    \n",
    "    def get_train_split_point(self):\n",
    "        return len(self.train_sampler) + len(self.val_indices)\n",
    "\n",
    "    def get_validation_split_point(self):\n",
    "        return len(self.train_sampler)\n",
    "\n",
    "    @lru_cache(maxsize=4)\n",
    "    def get_split(self, batch_size=64, num_workers=0):\n",
    "        logging.debug('Initializing train-validation-test dataloaders')\n",
    "        self.train_loader = self.get_train_loader(batch_size=batch_size, num_workers=num_workers)\n",
    "        self.val_loader = self.get_validation_loader(batch_size=batch_size, num_workers=num_workers)\n",
    "        self.test_loader = self.get_test_loader(batch_size=batch_size, num_workers=num_workers)\n",
    "        return self.train_loader, self.val_loader, self.test_loader\n",
    "\n",
    "    @lru_cache(maxsize=4)\n",
    "    def get_train_loader(self, batch_size=64, num_workers=0):\n",
    "        logging.debug('Initializing train dataloader')\n",
    "        self.train_loader = DataLoader(self.dataset, batch_size=batch_size, sampler=self.train_sampler, shuffle=False, num_workers=num_workers)\n",
    "        return self.train_loader\n",
    "\n",
    "    @lru_cache(maxsize=4)\n",
    "    def get_validation_loader(self, batch_size=64, num_workers=0):\n",
    "        logging.debug('Initializing validation dataloader')\n",
    "        self.val_loader = DataLoader(self.dataset, batch_size=batch_size, sampler=self.val_sampler, shuffle=False, num_workers=num_workers)\n",
    "        return self.val_loader\n",
    "\n",
    "    @lru_cache(maxsize=4)\n",
    "    def get_test_loader(self, batch_size=64, num_workers=0):\n",
    "        logging.debug('Initializing test dataloader')\n",
    "        self.test_loader = DataLoader(self.dataset, batch_size=batch_size, sampler=self.test_sampler, shuffle=False, num_workers=num_workers)\n",
    "        return self.test_loader"
   ]
  },
  {
   "cell_type": "markdown",
   "metadata": {},
   "source": [
    "### Load data for PhysicsNet"
   ]
  },
  {
   "cell_type": "code",
   "execution_count": 11,
   "metadata": {},
   "outputs": [
    {
     "name": "stdout",
     "output_type": "stream",
     "text": [
      "         0         1          2         3         4         5         6   \\\n",
      "0      15.1   5.10061  14.150364  0.641996  0.560755 -0.204328 -0.058190   \n",
      "1      15.1   5.20122  13.846032  0.643660  0.560057 -0.206831 -0.056986   \n",
      "2      15.1   5.30183  13.542532  0.645277  0.559330 -0.209271 -0.055732   \n",
      "3      15.1   5.40244  13.239690  0.646846  0.558572 -0.211646 -0.054425   \n",
      "4      15.1   5.50305  12.937316  0.648367  0.557781 -0.213957 -0.053062   \n",
      "...     ...       ...        ...       ...       ...       ...       ...   \n",
      "24742  86.1  25.28098  68.539411  0.889489  0.557742 -0.559551 -0.052669   \n",
      "24743  86.1  25.81469  67.593048  0.892798  0.556636 -0.564524 -0.050794   \n",
      "24744  86.1  26.34840  66.662881  0.896025  0.555496 -0.569388 -0.048861   \n",
      "24745  86.1  26.88211  65.747951  0.899170  0.554318 -0.574146 -0.046868   \n",
      "24746  86.1  27.41582  64.847338  0.902236  0.553103 -0.578799 -0.044812   \n",
      "\n",
      "             7         8         9   ...        15        16        17  \\\n",
      "0      0.073569 -0.004100 -0.013163  ...  1.121736  0.132903 -0.177839   \n",
      "1      0.074633 -0.004738 -0.013435  ...  1.137861  0.133661 -0.180555   \n",
      "2      0.075681 -0.005403 -0.013707  ...  1.154047  0.134405 -0.183274   \n",
      "3      0.076712 -0.006095 -0.013980  ...  1.170311  0.135135 -0.185999   \n",
      "4      0.077728 -0.006815 -0.014253  ...  1.186667  0.135851 -0.188732   \n",
      "...         ...       ...       ...  ...       ...       ...       ...   \n",
      "24742  0.199905 -0.007579 -0.034699  ...  2.243991  0.203612 -0.379882   \n",
      "24743  0.202004 -0.008527 -0.035211  ...  2.269844  0.205086 -0.383941   \n",
      "24744  0.204077 -0.009501 -0.035725  ...  2.295674  0.206566 -0.387971   \n",
      "24745  0.206125 -0.010503 -0.036240  ...  2.321496  0.208054 -0.391974   \n",
      "24746  0.208150 -0.011534 -0.036757  ...  2.347329  0.209550 -0.395954   \n",
      "\n",
      "             18        19        20        21        22        23        24  \n",
      "0     -0.036451  0.026592  0.000080 -0.004749  0.001136  0.000689 -0.000318  \n",
      "1     -0.036399  0.027049 -0.000124 -0.004824  0.001213  0.000696 -0.000337  \n",
      "2     -0.036334  0.027502 -0.000335 -0.004896  0.001293  0.000702 -0.000357  \n",
      "3     -0.036256  0.027950 -0.000554 -0.004965  0.001375  0.000707 -0.000377  \n",
      "4     -0.036166  0.028394 -0.000780 -0.005030  0.001460  0.000711 -0.000399  \n",
      "...         ...       ...       ...       ...       ...       ...       ...  \n",
      "24742 -0.049489  0.067531 -0.004278 -0.013421  0.002814  0.002137 -0.000635  \n",
      "24743 -0.049304  0.068179 -0.004714 -0.013574  0.002956  0.002166 -0.000664  \n",
      "24744 -0.049110  0.068811 -0.005159 -0.013724  0.003101  0.002194 -0.000693  \n",
      "24745 -0.048905  0.069428 -0.005614 -0.013869  0.003250  0.002221 -0.000723  \n",
      "24746 -0.048690  0.070031 -0.006079 -0.014011  0.003402  0.002249 -0.000754  \n",
      "\n",
      "[24747 rows x 25 columns]\n"
     ]
    },
    {
     "data": {
      "image/png": "[encoded data removed]",
      "text/plain": [
       "<Figure size 432x288 with 1 Axes>"
      ]
     },
     "metadata": {
      "needs_background": "light"
     },
     "output_type": "display_data"
    }
   ],
   "source": [
    "\n",
    "data_matrix_points = pd.read_csv(\"Data_folder/Data_Spline/Edge_points.csv\", header= None)\n",
    "data_matrix_spline = pd.read_csv(\"Data_folder/Data_Spline/Spline.csv\", header= None)\n",
    "#print(data_matrix_points)\n",
    "print(data_matrix_spline)\n",
    "\n",
    "# Make the droplet dataset class based on data_matrix\n",
    "class Droplet_data_set(Dataset):\n",
    "    def __init__(self,dataInput):\n",
    "        x = dataInput.iloc[0:,3:].values\n",
    "        y = dataInput.iloc[0:,0:2].values\n",
    "        # x = np.random.normal(x,0.01)\n",
    "        y0 = dataInput.iloc[:,0].values\n",
    "        y1 = dataInput.iloc[:,1].values\n",
    "        \n",
    "        #Plot surface tension histogram\n",
    "        n, bins, patches = plt.hist(x=y0, bins='auto', color='#0504aa',\n",
    "                                    alpha=0.7, rwidth=0.85)\n",
    "        plt.grid(axis='y', alpha=0.75)\n",
    "        plt.xlabel('Surface Tension[mN/m]')\n",
    "        # plt.xlabel('Volume[mm^3]')\n",
    "        plt.ylabel('Frequency')\n",
    "        plt.title('Occurence of data per Surface Tension')\\\n",
    "\n",
    "        #Plot volume histogram\n",
    "        # n, bins, patches = plt.hist(x=y1, bins='auto', color='#0504aa',\n",
    "        #                             alpha=0.7, rwidth=0.85)\n",
    "        # plt.grid(axis='y', alpha=0.75)\n",
    "        # plt.xlabel('Volume[mm^3]')\n",
    "        # plt.ylabel('Frequency')\n",
    "        # plt.title('Occurence of data per Volume')\n",
    "\n",
    "        self.x_train = torch.tensor(x,dtype=torch.float32)\n",
    "        self.y_train = torch.tensor(y,dtype=torch.float32)\n",
    "        \n",
    "    def __getitem__(self, idx):\n",
    "        return self.x_train[idx],self.y_train[idx]\n",
    "    \n",
    "    def __len__(self):\n",
    "         return len(self.y_train)\n",
    "        \n",
    "my_data_set_points = Droplet_data_set(data_matrix_points)\n",
    "my_data_set_spline = Droplet_data_set(data_matrix_spline)\n",
    "\n",
    "# Split the single dataset into 3 datasets for training, test and validation.\n",
    "split_points = DataSplit(my_data_set_points, shuffle=True)\n",
    "split_spline = DataSplit(my_data_set_spline, shuffle=True)\n",
    "\n",
    "train_loader_points, val_loader_points, test_loader_points = split_points.get_split(batch_size=64, num_workers=0)\n",
    "train_loader_spline, val_loader_spline, test_loader_spline = split_spline.get_split(batch_size=64, num_workers=0)\n"
   ]
  },
  {
   "cell_type": "markdown",
   "metadata": {},
   "source": [
    "### Load data for PictureNet\n",
    "Read image from files"
   ]
  },
  {
   "cell_type": "code",
   "execution_count": 12,
   "metadata": {},
   "outputs": [],
   "source": [
    "train_img = []\n",
    "data_matrix_points\n",
    "data_image_points = data_matrix_points   # Large dataset\n",
    "data_image_spline = data_matrix_spline\n",
    "\n",
    "for img_name in data_image_points.iloc[0:,3:].index + 1:      # modify the number depends on size of dataset\n",
    "    # defining the image path\n",
    "    image_path = 'Data_folder/Data_Spline/' + str(img_name) + '.png'      # modify the path depends on which dataset\n",
    "    # reading the image\n",
    "    img = imread(image_path, as_gray=True)\n",
    "    img = img[4:-4, 4:-4]  #crop \n",
    "    # normalizing the pixel values\n",
    "    img /= 255.0\n",
    "    # converting the type of pixel to float 32\n",
    "    img = img.astype('float32')\n",
    "    # appending the image into the list\n",
    "    train_img.append(img)"
   ]
  },
  {
   "cell_type": "markdown",
   "metadata": {},
   "source": [
    "Plot a single image for viewing"
   ]
  },
  {
   "cell_type": "code",
   "execution_count": 10,
   "metadata": {},
   "outputs": [
    {
     "name": "stdout",
     "output_type": "stream",
     "text": [
      "Current image = 4442\n",
      "Picture size = (82, 77)\n"
     ]
    },
    {
     "data": {
      "text/plain": [
       "<matplotlib.image.AxesImage at 0x29caff0fb20>"
      ]
     },
     "execution_count": 10,
     "metadata": {},
     "output_type": "execute_result"
    },
    {
     "data": {
      "image/png": "[encoded data removed]",
      "text/plain": [
       "<Figure size 432x288 with 1 Axes>"
      ]
     },
     "metadata": {
      "needs_background": "light"
     },
     "output_type": "display_data"
    }
   ],
   "source": [
    "rand = random.randint(0, 53084)\n",
    "print(\"Current image =\", rand)\n",
    "print(\"Picture size =\", train_img[rand].shape)\n",
    "plt.imshow(train_img[rand], cmap='gray')"
   ]
  },
  {
   "cell_type": "markdown",
   "metadata": {},
   "source": [
    "<font color=red>\n",
    "Rewrite the picture tensor generation into function.<br>\n",
    "For training process to resuffle the batches!!!!!\n",
    "</font>"
   ]
  },
  {
   "cell_type": "code",
   "execution_count": 16,
   "metadata": {},
   "outputs": [
    {
     "name": "stdout",
     "output_type": "stream",
     "text": [
      "310 310 39 39 39 39\n",
      "310 310 39 39 39 39\n"
     ]
    }
   ],
   "source": [
    "# converting the list to numpy array\n",
    "train_x_pic = np.array(train_img)\n",
    "train_y_pic_points = data_image_points.iloc[0:,3:].values            # modify the number depends on size of dataset\n",
    "train_y_pic_spline = data_image_spline.iloc[0:,3:].values            # modify the number depends on size of dataset\n",
    "\n",
    "#Points data split\n",
    "train_x_pic_points, rem_x_pic_points, train_y_pic_points, rem_y_pic_points = train_test_split(train_x_pic, train_y_pic_points, test_size = 0.2)    # default shuffle = True\n",
    "val_x_pic_points, test_x_pic_points, val_y_pic_points, test_y_pic_points = train_test_split(rem_x_pic_points, rem_y_pic_points, test_size = 0.5)\n",
    "\n",
    "#Spline data split\n",
    "train_x_pic_spline, rem_x_pic_spline, train_y_pic_spline, rem_y_pic_spline = train_test_split(train_x_pic, train_y_pic_spline, test_size = 0.2)    # default shuffle = True\n",
    "val_x_pic_spline, test_x_pic_spline, val_y_pic_spline, test_y_pic_spline = train_test_split(rem_x_pic_spline, rem_y_pic_spline, test_size = 0.5)\n",
    "\n",
    "# converting the train images of points and targets into torch format\n",
    "train_x_pic_points = train_x_pic_points.reshape(len(train_x_pic_points), 1, 82, 77)\n",
    "train_x_pic_points  = torch.from_numpy(train_x_pic_points)\n",
    "train_y_pic_points = torch.from_numpy(train_y_pic_points)\n",
    "\n",
    "# converting the train images of spline and targets into torch format\n",
    "train_x_pic_spline = train_x_pic_spline.reshape(len(train_x_pic_spline), 1, 82, 77)\n",
    "train_x_pic_spline  = torch.from_numpy(train_x_pic_spline)\n",
    "train_y_pic_spline = torch.from_numpy(train_y_pic_spline)\n",
    "\n",
    "\n",
    "# converting the val images and target points into torch format\n",
    "val_x_pic_points = val_x_pic_points.reshape(len(val_x_pic_points), 1, 82, 77)\n",
    "val_x_pic_points  = torch.from_numpy(val_x_pic_points)\n",
    "val_y_pic_points = torch.from_numpy(val_y_pic_points)\n",
    "# print(val_x_pic_points.shape, val_y_pic_points.shape)\n",
    "\n",
    "# converting the val images  and target spline into torch format\n",
    "val_x_pic_spline = val_x_pic_spline.reshape(len(val_x_pic_spline), 1, 82, 77)\n",
    "val_x_pic_spline  = torch.from_numpy(val_x_pic_spline)\n",
    "val_y_pic_spline = torch.from_numpy(val_y_pic_spline)\n",
    "# print(val_x_pic_spline.shape, val_y_pic_spline.shape)\n",
    "\n",
    "# converting the test images and targets into torch format for points\n",
    "test_x_pic_points = test_x_pic_points.reshape(len(test_x_pic_points), 1, 82, 77)\n",
    "test_x_pic_points  = torch.from_numpy(test_x_pic_points)\n",
    "test_y_pic_points = torch.from_numpy(test_y_pic_points)\n",
    "# print(test_x_pic.shape, test_y_pic.shape)\n",
    "\n",
    "# converting the test images and targets into torch format for spline\n",
    "test_x_pic_spline = test_x_pic_spline.reshape(len(test_x_pic_spline), 1, 82, 77)\n",
    "test_x_pic_spline  = torch.from_numpy(test_x_pic_spline)\n",
    "test_y_pic_spline = torch.from_numpy(test_y_pic_spline)\n",
    "# print(test_x_pic_spline.shape, test_y_pic_spline.shape)\n",
    "\n",
    "# converting the dataset into mini-batch dataset (input 4D -> 5D and 2D -> 3D)\n",
    "def batch_transform(dataset, batch_size=64):\n",
    "    batch = []\n",
    "    batch_num = math.ceil(len(dataset)/batch_size)\n",
    "    for i in range(batch_num):\n",
    "        if len(dataset) == 4:\n",
    "            if i < batch_num-1:\n",
    "                batch.append(dataset[i*batch_size:(i+1)*batch_size, :, :, :])\n",
    "            else:\n",
    "                batch.append(dataset[i*batch_size:, :, :, :])\n",
    "        else:\n",
    "            if i < batch_num-1:\n",
    "                batch.append(dataset[i*batch_size:(i+1)*batch_size, :])\n",
    "            else:\n",
    "                batch.append(dataset[i*batch_size:, :])\n",
    "    return batch\n",
    "\n",
    "train_x_pic_points = batch_transform(train_x_pic_points)\n",
    "train_y_pic_points = batch_transform(train_y_pic_points)\n",
    "val_x_pic_points = batch_transform(val_x_pic_points)\n",
    "val_y_pic_points = batch_transform(val_y_pic_points)\n",
    "test_x_pic_points = batch_transform(test_x_pic_points)\n",
    "test_y_pic_points = batch_transform(test_y_pic_points)\n",
    "print(len(train_x_pic_points), len(train_y_pic_points), len(val_x_pic_points), len(val_y_pic_points), len(test_x_pic_points), len(test_y_pic_points))\n",
    "\n",
    "train_x_pic_spline = batch_transform(train_x_pic_spline)\n",
    "train_y_pic_spline = batch_transform(train_y_pic_spline)\n",
    "val_x_pic_spline = batch_transform(val_x_pic_spline)\n",
    "val_y_pic_spline = batch_transform(val_y_pic_spline)\n",
    "test_x_pic_spline = batch_transform(test_x_pic_spline)\n",
    "test_y_pic_spline = batch_transform(test_y_pic_spline)\n",
    "print(len(train_x_pic_spline), len(train_y_pic_spline), len(val_x_pic_spline), len(val_y_pic_spline), len(test_x_pic_spline), len(test_y_pic_spline))\n",
    "\n"
   ]
  },
  {
   "cell_type": "markdown",
   "metadata": {},
   "source": [
    "### Deside to apply host or device\n"
   ]
  },
  {
   "cell_type": "code",
   "execution_count": 6,
   "metadata": {},
   "outputs": [
    {
     "name": "stdout",
     "output_type": "stream",
     "text": [
      "cuda\n"
     ]
    }
   ],
   "source": [
    "USE_GPU = True\n",
    "if USE_GPU and torch.cuda.is_available():\n",
    "    device = torch.device('cuda')\n",
    "else:\n",
    "    device = torch.device('cpu')\n",
    "#device = torch.device('cpu')\n",
    "print(device)"
   ]
  },
  {
   "cell_type": "markdown",
   "metadata": {},
   "source": [
    "## Define the functions"
   ]
  },
  {
   "cell_type": "code",
   "execution_count": 17,
   "metadata": {},
   "outputs": [],
   "source": [
    "def loss_cal_phiysics(loss_list, model, loader):\n",
    "    model.eval()  # set model to evaluation mode\n",
    "    with torch.no_grad():\n",
    "        loss_epoch = 0\n",
    "        for t, (x, y) in enumerate(loader):\n",
    "            x = x.to(device=device, dtype=torch.float32)  # move to device, e.g. GPU\n",
    "            y = y.to(device=device, dtype=torch.float32)\n",
    "            scores = model(x)\n",
    "            loss = F.mse_loss(scores, y)\n",
    "            loss_epoch += loss\n",
    "        loss_list.append(loss_epoch.cpu().data.numpy()/t)\n",
    "\n",
    "def loss_cal_picture(loss_list, model, x_dataset, y_dataset):\n",
    "    model.eval()  # set model to evaluation mode\n",
    "    with torch.no_grad():\n",
    "        loss_epoch = 0\n",
    "        for t in range(len(x_dataset)):\n",
    "            x = x_dataset[t]\n",
    "            y = y_dataset[t]\n",
    "            x = x.to(device=device, dtype=torch.float32)  # move to device, e.g. GPU\n",
    "            y = y.to(device=device, dtype=torch.float32)\n",
    "            scores = model(x)\n",
    "            loss = F.mse_loss(scores, y)\n",
    "            loss_epoch += loss\n",
    "        loss_list.append(loss_epoch.cpu().data.numpy()/t)\n",
    "\n",
    "def prediction(model, x):   # only a batch\n",
    "    model = model.to(device=device)\n",
    "    model.eval()  # set model to evaluation mode\n",
    "    with torch.no_grad():\n",
    "        x = x.to(device=device, dtype=torch.float32)\n",
    "        score = torch.Tensor.cpu(model(x))\n",
    "    return score\n",
    "\n",
    "def model_selection(model, path, loss, epoch_current, epoch_ref, loss_ref):\n",
    "    loss_best = loss_ref\n",
    "    epoch_best = epoch_ref\n",
    "    if epoch_current == 0:\n",
    "            loss_current = loss[epoch_current]\n",
    "            loss_best = loss[epoch_current]\n",
    "            torch.save(model, path)\n",
    "    else:\n",
    "        loss_current = loss[epoch_current]\n",
    "        if loss_current <= (loss_best * 1.1):   # 10% margin to get better fitting but a bit more loss\n",
    "            loss_best = loss_current\n",
    "            epoch_best = epoch_current\n",
    "            torch.save(model, path)\n",
    "    return loss_best, epoch_best\n",
    "\n",
    "def train_physics(model, optimizer, epochs=1, model_input=0):\n",
    "    loss_train = []\n",
    "    loss_val = []\n",
    "    loss_best = 0\n",
    "    epoch_best = 0\n",
    "    if model_input == 0:\n",
    "        train_loader = train_loader_points\n",
    "        val_loader = val_loader_points\n",
    "        PATH_CAL = os.path.join(os.getcwd(), \"model_cal_points.pt\")\n",
    "    elif model_input == 1:\n",
    "        train_loader = train_loader_spline\n",
    "        val_loader = val_loader_spline\n",
    "        PATH_CAL = os.path.join(os.getcwd(), \"model_cal_spline.pt\")\n",
    "    else:\n",
    "        ValueError(\"Incorrect input. 0 for edge point model, 1 for spline model\")\n",
    "\n",
    "\n",
    "    model = model.to(device=device)  # move the model parameters to CPU/GPU\n",
    "    for e in range(epochs):\n",
    "        for _, (x, y) in enumerate(train_loader):\n",
    "            x = x.reshape(len(x), 1, 1, -1)     # reshape to 4D data for formal input of model\n",
    "            model.train()  # put model to training mode\n",
    "            x = x.to(device=device, dtype=torch.float32)  # move to device, e.g. GPU\n",
    "            y = y.to(device=device, dtype=torch.float32)\n",
    "            scores = model(x)\n",
    "            loss = F.mse_loss(scores, y)\n",
    "\n",
    "            optimizer.zero_grad()\n",
    "            loss.backward()\n",
    "            optimizer.step()\n",
    "        loss_cal_phiysics(loss_train, model, train_loader)\n",
    "        loss_cal_phiysics(loss_val, model, val_loader)\n",
    "        print('epoch %d: train_loss = %.4f, val_loss = %.4f' % (e+1, loss_train[e], loss_val[e]))\n",
    "\n",
    "        # selecting the best model to save\n",
    "        loss_best, epoch_best = model_selection(model, PATH_CAL, loss_train, e, epoch_best, loss_best)\n",
    "    \n",
    "    print(\"The model is saved at epoch =\", epoch_best+1, \"and the loss =\", loss_best.item())\n",
    "    \n",
    "    x = range(1, epochs+1)\n",
    "\n",
    "    plt.semilogy(x, loss_train, 'b-', label=\"training loss\")\n",
    "    plt.semilogy(x, loss_val, 'r--', label=\"validation loss\")\n",
    "    plt.xlabel(\"Epochs\")\n",
    "    plt.ylabel(\"MSE Loss\")\n",
    "    plt.title(\"Train/Validation Loss\")\n",
    "    plt.legend()\n",
    "    plt.show()\n",
    "\n",
    "def train_picture(model, optimizer, epochs=1, model_input=0):\n",
    "    loss_train = []\n",
    "    loss_val = []\n",
    "    loss_best = 0\n",
    "    epoch_best = 0\n",
    "    if model_input == 0:\n",
    "        train_x_pic = train_x_pic_points\n",
    "        train_y_pic = train_y_pic_points\n",
    "        val_x_pic = val_x_pic_points\n",
    "        val_y_pic = val_y_pic_points\n",
    "        PATH_PIC = os.path.join(os.getcwd(), \"model_pic_points.pt\")\n",
    "    elif model_input == 1:\n",
    "        train_x_pic = train_x_pic_spline\n",
    "        train_y_pic = train_y_pic_spline\n",
    "        val_x_pic = val_x_pic_spline\n",
    "        val_y_pic = val_y_pic_spline\n",
    "        PATH_PIC = os.path.join(os.getcwd(), \"model_pic_spline.pt\")\n",
    "    else:\n",
    "        ValueError(\"Incorrect input. 0 for edge point model, 1 for spline model\")\n",
    "\n",
    "    model = model.to(device=device)  # move the model parameters to CPU/GPU\n",
    "    for e in range(epochs):\n",
    "        for t in range(len(train_x_pic)):\n",
    "            model.train()  # put model to training mode\n",
    "            x = train_x_pic[t]\n",
    "            y = train_y_pic[t]\n",
    "            x = x.to(device=device, dtype=torch.float32)  # move to device, e.g. GPU\n",
    "            y = y.to(device=device, dtype=torch.float32)\n",
    "\n",
    "            scores = model(x)\n",
    "            loss = F.mse_loss(scores, y)\n",
    "\n",
    "            optimizer.zero_grad()\n",
    "            loss.backward()\n",
    "            optimizer.step()\n",
    "        loss_cal_picture(loss_train, model, train_x_pic, train_y_pic)\n",
    "        loss_cal_picture(loss_val, model, val_x_pic, val_y_pic)\n",
    "        print('epoch %d: train_loss = %.4f, val_loss = %.4f' % (e+1, loss_train[e], loss_val[e]))\n",
    "        \n",
    "        # selecting the best model to save\n",
    "        loss_best, epoch_best = model_selection(model, PATH_PIC, loss_train, e, epoch_best, loss_best)\n",
    "    \n",
    "    print(\"The model is saved at epoch =\", epoch_best+1, \"and the loss =\", loss_best.item())\n",
    "\n",
    "    x = range(1, epochs+1)\n",
    "\n",
    "    plt.semilogy(x, loss_train, 'b-', label=\"training loss\")\n",
    "    plt.semilogy(x, loss_val, 'r--', label=\"validation loss\")\n",
    "    plt.xlabel(\"Epochs\")\n",
    "    plt.ylabel(\"MSE Loss\")\n",
    "    plt.title(\"Train/Validation Loss\")\n",
    "    plt.legend()\n",
    "    plt.show()\n"
   ]
  },
  {
   "cell_type": "markdown",
   "metadata": {},
   "source": [
    "## Train PhysicsNet Edge Points"
   ]
  },
  {
   "cell_type": "code",
   "execution_count": 8,
   "metadata": {},
   "outputs": [
    {
     "name": "stdout",
     "output_type": "stream",
     "text": [
      "epoch 1: train_loss = 1235.9663, val_loss = 1287.0857\n",
      "epoch 2: train_loss = 703.7902, val_loss = 732.2401\n",
      "epoch 3: train_loss = 293.0129, val_loss = 305.3996\n",
      "epoch 4: train_loss = 124.6735, val_loss = 132.3110\n",
      "epoch 5: train_loss = 25.2782, val_loss = 26.9356\n",
      "The model is saved at epoch = 5 and the loss = 25.278202633205936\n"
     ]
    },
    {
     "data": {
      "image/png": "[encoded data removed]",
      "text/plain": [
       "<Figure size 432x288 with 1 Axes>"
      ]
     },
     "metadata": {
      "needs_background": "light"
     },
     "output_type": "display_data"
    }
   ],
   "source": [
    "in_channel = 160\n",
    "node_1 = 1024\n",
    "node_2 = 1024\n",
    "node_3 = 512\n",
    "node_4 = 256\n",
    "node_5 = 64\n",
    "node_6 = 16\n",
    "out_channel = 2\n",
    "\n",
    "learning_rate = 1e-3\n",
    "\n",
    "model_physics = PhysicsNet(in_channel, node_1, node_2, node_3, node_4, node_5, node_6, out_channel)\n",
    "optimizer = optim.Adam(model_physics.parameters(), lr=learning_rate)\n",
    "epoch = 5\n",
    "# 0 indicates edge points 1 indicates spline\n",
    "train_physics(model_physics, optimizer, epoch, 0)"
   ]
  },
  {
   "cell_type": "markdown",
   "metadata": {},
   "source": [
    "# Train PhysicsNet spline"
   ]
  },
  {
   "cell_type": "code",
   "execution_count": 9,
   "metadata": {},
   "outputs": [
    {
     "name": "stdout",
     "output_type": "stream",
     "text": [
      "epoch 1: train_loss = 1412.6369, val_loss = 1455.6565\n",
      "epoch 2: train_loss = 723.9688, val_loss = 741.2359\n",
      "epoch 3: train_loss = 355.2187, val_loss = 361.7372\n",
      "epoch 4: train_loss = 110.9597, val_loss = 112.5811\n",
      "epoch 5: train_loss = 30.4710, val_loss = 31.0739\n",
      "The model is saved at epoch = 5 and the loss = 30.470984150179856\n"
     ]
    },
    {
     "data": {
      "image/png": "[encoded data removed]",
      "text/plain": [
       "<Figure size 432x288 with 1 Axes>"
      ]
     },
     "metadata": {
      "needs_background": "light"
     },
     "output_type": "display_data"
    }
   ],
   "source": [
    "\n",
    "in_channel = 22\n",
    "\n",
    "model_physics = PhysicsNet(in_channel, node_1, node_2, node_3, node_4, node_5, node_6, out_channel)\n",
    "optimizer = optim.Adam(model_physics.parameters(), lr=learning_rate)\n",
    "\n",
    "# 0 indicates edge points 1 indicates spline\n",
    "train_physics(model_physics, optimizer, epoch, 1)\n"
   ]
  },
  {
   "cell_type": "markdown",
   "metadata": {},
   "source": [
    "### Retrain with SGD\n",
    "<font color=red>\n",
    "To be verify the effect!!\n",
    "</font>"
   ]
  },
  {
   "cell_type": "code",
   "execution_count": 263,
   "metadata": {},
   "outputs": [
    {
     "name": "stdout",
     "output_type": "stream",
     "text": [
      "epoch 1: train_loss = 1.2516, val_loss = 1.1676\n",
      "epoch 2: train_loss = 2.0603, val_loss = 1.9840\n",
      "epoch 3: train_loss = 1.7456, val_loss = 1.6805\n",
      "epoch 4: train_loss = 1.3275, val_loss = 1.2742\n",
      "epoch 5: train_loss = 1.4718, val_loss = 1.3973\n",
      "epoch 6: train_loss = 1.8269, val_loss = 1.7414\n",
      "epoch 7: train_loss = 2.1763, val_loss = 2.1009\n",
      "epoch 8: train_loss = 2.0320, val_loss = 1.9694\n",
      "epoch 9: train_loss = 0.9214, val_loss = 0.8487\n",
      "epoch 10: train_loss = 1.0861, val_loss = 1.0143\n",
      "epoch 11: train_loss = 1.5902, val_loss = 1.5210\n",
      "epoch 12: train_loss = 1.3247, val_loss = 1.2586\n",
      "epoch 13: train_loss = 1.4773, val_loss = 1.4264\n",
      "epoch 14: train_loss = 1.8512, val_loss = 1.7720\n",
      "epoch 15: train_loss = 2.0613, val_loss = 1.9736\n",
      "epoch 16: train_loss = 1.5136, val_loss = 1.4429\n",
      "epoch 17: train_loss = 0.7093, val_loss = 0.6357\n",
      "epoch 18: train_loss = 1.6743, val_loss = 1.5795\n",
      "epoch 19: train_loss = 1.3101, val_loss = 1.2444\n",
      "epoch 20: train_loss = 1.4122, val_loss = 1.3634\n",
      "epoch 21: train_loss = 1.7474, val_loss = 1.6576\n",
      "epoch 22: train_loss = 2.2232, val_loss = 2.1196\n",
      "epoch 23: train_loss = 1.2461, val_loss = 1.1641\n",
      "epoch 24: train_loss = 1.6240, val_loss = 1.5479\n",
      "epoch 25: train_loss = 1.7010, val_loss = 1.6183\n",
      "epoch 26: train_loss = 0.8977, val_loss = 0.8238\n",
      "epoch 27: train_loss = 2.3404, val_loss = 2.2636\n",
      "epoch 28: train_loss = 2.1646, val_loss = 2.0835\n",
      "epoch 29: train_loss = 0.8700, val_loss = 0.7967\n",
      "epoch 30: train_loss = 1.7800, val_loss = 1.7129\n",
      "epoch 31: train_loss = 2.0258, val_loss = 1.9409\n",
      "epoch 32: train_loss = 2.4340, val_loss = 2.3344\n",
      "epoch 33: train_loss = 1.5084, val_loss = 1.4407\n",
      "epoch 34: train_loss = 1.4116, val_loss = 1.3248\n",
      "epoch 35: train_loss = 1.4088, val_loss = 1.3534\n",
      "epoch 36: train_loss = 2.8461, val_loss = 2.7827\n",
      "epoch 37: train_loss = 2.8824, val_loss = 2.8412\n",
      "epoch 38: train_loss = 1.3364, val_loss = 1.2387\n",
      "epoch 39: train_loss = 1.4603, val_loss = 1.3673\n",
      "epoch 40: train_loss = 0.9909, val_loss = 0.9260\n",
      "epoch 41: train_loss = 1.1303, val_loss = 1.0655\n",
      "epoch 42: train_loss = 1.5978, val_loss = 1.5222\n",
      "epoch 43: train_loss = 2.3409, val_loss = 2.2731\n",
      "epoch 44: train_loss = 1.0609, val_loss = 0.9964\n",
      "epoch 45: train_loss = 1.0601, val_loss = 0.9842\n",
      "epoch 46: train_loss = 1.1696, val_loss = 1.0914\n",
      "epoch 47: train_loss = 1.1116, val_loss = 1.0420\n",
      "epoch 48: train_loss = 1.4416, val_loss = 1.3653\n",
      "epoch 49: train_loss = 2.3556, val_loss = 2.2817\n",
      "epoch 50: train_loss = 2.2639, val_loss = 2.1968\n",
      "epoch 51: train_loss = 1.5606, val_loss = 1.4840\n",
      "epoch 52: train_loss = 0.7659, val_loss = 0.6857\n",
      "epoch 53: train_loss = 1.3550, val_loss = 1.2839\n",
      "epoch 54: train_loss = 1.5198, val_loss = 1.4385\n",
      "epoch 55: train_loss = 1.7133, val_loss = 1.6156\n",
      "epoch 56: train_loss = 2.8846, val_loss = 2.7704\n",
      "epoch 57: train_loss = 1.2522, val_loss = 1.1952\n",
      "epoch 58: train_loss = 0.7285, val_loss = 0.6519\n",
      "epoch 59: train_loss = 2.0763, val_loss = 2.0054\n",
      "epoch 60: train_loss = 1.7160, val_loss = 1.6527\n",
      "epoch 61: train_loss = 1.4406, val_loss = 1.3722\n",
      "epoch 62: train_loss = 1.5064, val_loss = 1.4620\n",
      "epoch 63: train_loss = 1.3988, val_loss = 1.3122\n",
      "epoch 64: train_loss = 1.3737, val_loss = 1.2837\n",
      "epoch 65: train_loss = 1.9196, val_loss = 1.8579\n",
      "epoch 66: train_loss = 1.6453, val_loss = 1.5918\n",
      "epoch 67: train_loss = 2.3267, val_loss = 2.2773\n",
      "epoch 68: train_loss = 1.7324, val_loss = 1.6602\n",
      "epoch 69: train_loss = 4.8759, val_loss = 4.7518\n",
      "epoch 70: train_loss = 2.0890, val_loss = 2.0224\n",
      "epoch 71: train_loss = 1.7452, val_loss = 1.6576\n",
      "epoch 72: train_loss = 1.1267, val_loss = 1.0357\n",
      "epoch 73: train_loss = 1.0862, val_loss = 1.0167\n",
      "epoch 74: train_loss = 0.7831, val_loss = 0.7085\n",
      "epoch 75: train_loss = 1.1371, val_loss = 1.0468\n",
      "epoch 76: train_loss = 0.8624, val_loss = 0.7682\n",
      "epoch 77: train_loss = 1.3200, val_loss = 1.2387\n",
      "epoch 78: train_loss = 1.8268, val_loss = 1.7316\n",
      "epoch 79: train_loss = 1.2766, val_loss = 1.1877\n",
      "epoch 80: train_loss = 1.1883, val_loss = 1.0941\n",
      "epoch 81: train_loss = 1.9242, val_loss = 1.8572\n",
      "epoch 82: train_loss = 0.7119, val_loss = 0.6277\n",
      "epoch 83: train_loss = 1.7987, val_loss = 1.7066\n",
      "epoch 84: train_loss = 1.3197, val_loss = 1.2074\n",
      "epoch 85: train_loss = 1.2219, val_loss = 1.1310\n",
      "epoch 86: train_loss = 1.1500, val_loss = 1.0627\n",
      "epoch 87: train_loss = 1.1590, val_loss = 1.0856\n",
      "epoch 88: train_loss = 2.0422, val_loss = 1.9561\n",
      "epoch 89: train_loss = 0.7012, val_loss = 0.6009\n",
      "epoch 90: train_loss = 2.2204, val_loss = 2.1191\n",
      "epoch 91: train_loss = 1.5489, val_loss = 1.4822\n",
      "epoch 92: train_loss = 1.0006, val_loss = 0.9183\n",
      "epoch 93: train_loss = 1.3908, val_loss = 1.3252\n",
      "epoch 94: train_loss = 1.6320, val_loss = 1.5644\n",
      "epoch 95: train_loss = 0.9277, val_loss = 0.8309\n",
      "epoch 96: train_loss = 1.2138, val_loss = 1.1328\n",
      "epoch 97: train_loss = 1.1544, val_loss = 1.0761\n",
      "epoch 98: train_loss = 1.1960, val_loss = 1.1280\n",
      "epoch 99: train_loss = 1.4262, val_loss = 1.3138\n",
      "epoch 100: train_loss = 0.8515, val_loss = 0.7726\n",
      "The model is saved at epoch = 89 and the loss = 0.701248824596405\n"
     ]
    },
    {
     "data": {
      "image/png": "[encoded data removed]",
      "text/plain": [
       "<Figure size 432x288 with 1 Axes>"
      ]
     },
     "metadata": {
      "needs_background": "light"
     },
     "output_type": "display_data"
    }
   ],
   "source": [
    "# PATH_CAL = os.path.join(os.getcwd(), \"model_cal.pt\")\n",
    "# model_physics_trained = torch.load(PATH_CAL)\n",
    "\n",
    "# learning_rate = 1e-4\n",
    "\n",
    "# optimizer = optim.SGD(model_physics_trained.parameters(), lr=learning_rate)\n",
    "# epoch = 100\n",
    "\n",
    "# train_physics(model_physics_trained, optimizer, epoch)"
   ]
  },
  {
   "cell_type": "markdown",
   "metadata": {},
   "source": [
    "### Visualization of outcomes"
   ]
  },
  {
   "cell_type": "code",
   "execution_count": 10,
   "metadata": {},
   "outputs": [
    {
     "name": "stdout",
     "output_type": "stream",
     "text": [
      "Ground Truths = tensor([[33.0000, 11.7136],\n",
      "        [52.3000, 21.3765],\n",
      "        [33.6000, 10.9769],\n",
      "        [55.0000, 17.7280],\n",
      "        [46.3000, 16.6372],\n",
      "        [52.4000, 13.8598],\n",
      "        [50.6000, 19.9065],\n",
      "        [65.3000, 23.3074]])\n",
      "Prediction Points    = tensor([[28.5014, 12.0431],\n",
      "        [49.7774, 21.0013],\n",
      "        [28.6100, 12.0789],\n",
      "        [49.3420, 19.7906],\n",
      "        [41.4418, 16.2146],\n",
      "        [43.2902, 16.7355],\n",
      "        [47.0750, 19.3389],\n",
      "        [59.1301, 24.3378]])\n"
     ]
    }
   ],
   "source": [
    "PATH_CAL_POINTS = os.path.join(os.getcwd(), \"model_cal_points.pt\")\n",
    "PATH_CAL_SPLINE = os.path.join(os.getcwd(), \"model_cal_spline.pt\")\n",
    "\n",
    "model_physics_trained_points = torch.load(PATH_CAL_POINTS)\n",
    "model_physics_trained_spline = torch.load(PATH_CAL_SPLINE)\n",
    "\n",
    "examples = enumerate(test_loader_points)\n",
    "_, (x_test_points, y_test_points) = next(examples)\n",
    "\n",
    "\n",
    "score_example_points = prediction(model_physics_trained_points, x_test_points)\n",
    "\n",
    "#Not working\n",
    "#score_example_spline = prediction(model_physics_trained_spline, x_test_points)\n",
    "\n",
    "# y = data_matrix.iloc[0:,0:2].values\n",
    "#Revert normalized values back to real values\n",
    "# Print only 8 data samples for comparison\n",
    "print(\"Ground Truths =\", y_test_points[:8])\n",
    "print(\"Prediction Points    =\", score_example_points[:8].reshape(8, 2))\n",
    "#print(\"Prediction Spline    =\", score_example_spline[:8].reshape(8, 2))"
   ]
  },
  {
   "cell_type": "markdown",
   "metadata": {},
   "source": [
    "## Train PictureNet edge points"
   ]
  },
  {
   "cell_type": "markdown",
   "metadata": {},
   "source": [
    "<font color=red> \n",
    "The more we train (higher epoch), the more model learns to make points connect smoother. However, the loss becomes larger.<br>\n",
    "Apply early stopping and save the best model? \n",
    "</font>"
   ]
  },
  {
   "cell_type": "code",
   "execution_count": 18,
   "metadata": {},
   "outputs": [
    {
     "name": "stdout",
     "output_type": "stream",
     "text": [
      "epoch 1: train_loss = 0.5629, val_loss = 0.5780\n",
      "epoch 2: train_loss = 1.0127, val_loss = 1.0494\n",
      "epoch 3: train_loss = 0.5458, val_loss = 0.5669\n",
      "epoch 4: train_loss = 0.0144, val_loss = 0.0151\n",
      "epoch 5: train_loss = 0.2435, val_loss = 0.2533\n",
      "The model is saved at epoch = 4 and the loss = 0.014411466407158614\n"
     ]
    },
    {
     "data": {
      "image/png": "[encoded data removed]",
      "text/plain": [
       "<Figure size 432x288 with 1 Axes>"
      ]
     },
     "metadata": {
      "needs_background": "light"
     },
     "output_type": "display_data"
    }
   ],
   "source": [
    "in_channel = 1\n",
    "channel_1 = 16\n",
    "channel_2 = 32\n",
    "channel_3 = 64\n",
    "node_1 = 1024\n",
    "node_2 = 1024\n",
    "out_channel = 160\n",
    "\n",
    "learning_rate = 1e-3\n",
    "\n",
    "model_picture = PictureNet(in_channel, channel_1, channel_2, channel_3, node_1, node_2, out_channel)\n",
    "optimizer = optim.Adam(model_picture.parameters(), lr=learning_rate)\n",
    "epoch = 5\n",
    "\n",
    "train_picture(model_picture, optimizer, epoch,0)\n"
   ]
  },
  {
   "cell_type": "markdown",
   "metadata": {},
   "source": [
    "# Train PictureNet for spline\n"
   ]
  },
  {
   "cell_type": "code",
   "execution_count": 19,
   "metadata": {},
   "outputs": [
    {
     "name": "stdout",
     "output_type": "stream",
     "text": [
      "epoch 1: train_loss = 0.0065, val_loss = 0.0066\n",
      "epoch 2: train_loss = 0.0053, val_loss = 0.0054\n",
      "epoch 3: train_loss = 0.0027, val_loss = 0.0028\n",
      "epoch 4: train_loss = 0.0008, val_loss = 0.0008\n",
      "epoch 5: train_loss = 0.0016, val_loss = 0.0017\n",
      "The model is saved at epoch = 4 and the loss = 0.0007912110067108302\n"
     ]
    },
    {
     "data": {
      "image/png": "[encoded data removed]",
      "text/plain": [
       "<Figure size 432x288 with 1 Axes>"
      ]
     },
     "metadata": {
      "needs_background": "light"
     },
     "output_type": "display_data"
    }
   ],
   "source": [
    "out_channel = 22\n",
    "\n",
    "learning_rate = 1e-3\n",
    "\n",
    "model_picture = PictureNet(in_channel, channel_1, channel_2, channel_3, node_1, node_2, out_channel)\n",
    "optimizer = optim.Adam(model_picture.parameters(), lr=learning_rate)\n",
    "\n",
    "train_picture(model_picture, optimizer, epoch,1)\n"
   ]
  },
  {
   "cell_type": "markdown",
   "metadata": {},
   "source": [
    "### Visualization of outcomes"
   ]
  },
  {
   "cell_type": "code",
   "execution_count": 22,
   "metadata": {},
   "outputs": [
    {
     "name": "stdout",
     "output_type": "stream",
     "text": [
      "310\n",
      "torch.Size([64, 1, 82, 77])\n",
      "torch.Size([64, 160])\n"
     ]
    }
   ],
   "source": [
    "# testing cell for better viewing the length\n",
    "train_x_pic_points, train_y_pic_points\n",
    "\n",
    "print(len(train_x_pic_points))\n",
    "print(train_x_pic_points[0].shape)\n",
    "print(train_y_pic_points[0].shape)"
   ]
  },
  {
   "cell_type": "code",
   "execution_count": 24,
   "metadata": {},
   "outputs": [
    {
     "name": "stdout",
     "output_type": "stream",
     "text": [
      "current batch = 27\n",
      "current testing image = 19\n",
      "1 : Ground Truths = 4.7191250138593697e-26 , Prediction = 0.000960836187005043\n",
      "2 : Ground Truths = 0.0610082206539101 , Prediction = 0.028527306392788887\n",
      "3 : Ground Truths = 0.121925899087155 , Prediction = 0.11822250485420227\n",
      "4 : Ground Truths = 0.182668545540749 , Prediction = 0.188765749335289\n",
      "5 : Ground Truths = 0.243143099171707 , Prediction = 0.24506305158138275\n",
      "6 : Ground Truths = 0.303251127430726 , Prediction = 0.262248694896698\n",
      "7 : Ground Truths = 0.362938824901877 , Prediction = 0.3187839388847351\n",
      "8 : Ground Truths = 0.422085771387957 , Prediction = 0.37602415680885315\n",
      "9 : Ground Truths = 0.480615676587018 , Prediction = 0.46110162138938904\n",
      "10 : Ground Truths = 0.538473627559553 , Prediction = 0.4633999466896057\n",
      "11 : Ground Truths = 0.595530340040294 , Prediction = 0.5488470792770386\n",
      "12 : Ground Truths = 0.651756729975795 , Prediction = 0.6472170948982239\n",
      "13 : Ground Truths = 0.707054753155366 , Prediction = 0.6670929193496704\n",
      "14 : Ground Truths = 0.761311718840911 , Prediction = 0.6967689394950867\n",
      "15 : Ground Truths = 0.814568844709472 , Prediction = 0.755486249923706\n",
      "16 : Ground Truths = 0.866569648952146 , Prediction = 0.8306946754455566\n",
      "17 : Ground Truths = 0.917480896549783 , Prediction = 0.8420183658599854\n",
      "18 : Ground Truths = 0.967053818466935 , Prediction = 0.9090070128440857\n",
      "19 : Ground Truths = 1.01527399951074 , Prediction = 0.909284770488739\n",
      "20 : Ground Truths = 1.06221294781268 , Prediction = 1.005187749862671\n",
      "21 : Ground Truths = 1.10755672284078 , Prediction = 1.053846836090088\n",
      "22 : Ground Truths = 1.15151964663175 , Prediction = 1.0877751111984253\n",
      "23 : Ground Truths = 1.19398436342205 , Prediction = 1.1404355764389038\n",
      "24 : Ground Truths = 1.23468934846734 , Prediction = 1.182784080505371\n",
      "25 : Ground Truths = 1.27395090832944 , Prediction = 1.198855996131897\n",
      "26 : Ground Truths = 1.31155678826428 , Prediction = 1.2901800870895386\n",
      "27 : Ground Truths = 1.34727906756974 , Prediction = 1.2583914995193481\n",
      "28 : Ground Truths = 1.3815020609105 , Prediction = 1.3525193929672241\n",
      "29 : Ground Truths = 1.41397115805996 , Prediction = 1.3061543703079224\n",
      "30 : Ground Truths = 1.44444626282648 , Prediction = 1.3727325201034546\n",
      "31 : Ground Truths = 1.47339189919688 , Prediction = 1.4536316394805908\n",
      "32 : Ground Truths = 1.50054431687031 , Prediction = 1.4428845643997192\n",
      "33 : Ground Truths = 1.5255981100526 , Prediction = 1.5348948240280151\n",
      "34 : Ground Truths = 1.54911613808485 , Prediction = 1.4833343029022217\n",
      "35 : Ground Truths = 1.57086374423459 , Prediction = 1.5649211406707764\n",
      "36 : Ground Truths = 1.59041794052198 , Prediction = 1.5540292263031006\n",
      "37 : Ground Truths = 1.60843566503871 , Prediction = 1.5342094898223877\n",
      "38 : Ground Truths = 1.62478100986509 , Prediction = 1.570375680923462\n",
      "39 : Ground Truths = 1.63885465504955 , Prediction = 1.5160623788833618\n",
      "40 : Ground Truths = 1.65136525812302 , Prediction = 1.551747441291809\n",
      "41 : Ground Truths = 1.6624244377405 , Prediction = 1.571546196937561\n",
      "42 : Ground Truths = 1.67112479360963 , Prediction = 1.6095572710037231\n",
      "43 : Ground Truths = 1.67820018321578 , Prediction = 1.6780980825424194\n",
      "44 : Ground Truths = 1.68440770549047 , Prediction = 1.6532069444656372\n",
      "45 : Ground Truths = 1.68779413395891 , Prediction = 1.5970072746276855\n",
      "46 : Ground Truths = 1.68792271374482 , Prediction = 1.5927194356918335\n",
      "47 : Ground Truths = 1.68771784850195 , Prediction = 1.6250958442687988\n",
      "48 : Ground Truths = 1.68736191392271 , Prediction = 1.6247106790542603\n",
      "49 : Ground Truths = 1.68603528915103 , Prediction = 1.6733964681625366\n",
      "50 : Ground Truths = 1.68116260351903 , Prediction = 1.5595827102661133\n",
      "51 : Ground Truths = 1.67431980218604 , Prediction = 1.5935537815093994\n",
      "52 : Ground Truths = 1.66698106483246 , Prediction = 1.6591240167617798\n",
      "53 : Ground Truths = 1.65766554791409 , Prediction = 1.6280686855316162\n",
      "54 : Ground Truths = 1.64677446240011 , Prediction = 1.596307396888733\n",
      "55 : Ground Truths = 1.63491067855513 , Prediction = 1.598870873451233\n",
      "56 : Ground Truths = 1.62134145872639 , Prediction = 1.5939744710922241\n",
      "57 : Ground Truths = 1.6063853026193 , Prediction = 1.5716160535812378\n",
      "58 : Ground Truths = 1.59039022407653 , Prediction = 1.5973217487335205\n",
      "59 : Ground Truths = 1.57288705083786 , Prediction = 1.5367717742919922\n",
      "60 : Ground Truths = 1.55418734330455 , Prediction = 1.5569031238555908\n",
      "61 : Ground Truths = 1.5344466108804 , Prediction = 1.5627309083938599\n",
      "62 : Ground Truths = 1.51338785263082 , Prediction = 1.5156389474868774\n",
      "63 : Ground Truths = 1.49134058673999 , Prediction = 1.4710807800292969\n",
      "64 : Ground Truths = 1.468231766142 , Prediction = 1.492171049118042\n",
      "65 : Ground Truths = 1.44405098590246 , Prediction = 1.4677685499191284\n",
      "66 : Ground Truths = 1.41903283696761 , Prediction = 1.4121599197387695\n",
      "67 : Ground Truths = 1.39301074849446 , Prediction = 1.409017562866211\n",
      "68 : Ground Truths = 1.36620384663904 , Prediction = 1.417229175567627\n",
      "69 : Ground Truths = 1.33857084958465 , Prediction = 1.3580154180526733\n",
      "70 : Ground Truths = 1.31019731495987 , Prediction = 1.3266634941101074\n",
      "71 : Ground Truths = 1.28116148551772 , Prediction = 1.3116271495819092\n",
      "72 : Ground Truths = 1.25148051448608 , Prediction = 1.2727265357971191\n",
      "73 : Ground Truths = 1.22125787936201 , Prediction = 1.2043416500091553\n",
      "74 : Ground Truths = 1.1905367060935 , Prediction = 1.23192298412323\n",
      "75 : Ground Truths = 1.15937839366289 , Prediction = 1.1730297803878784\n",
      "76 : Ground Truths = 1.12788659419815 , Prediction = 1.1931703090667725\n",
      "77 : Ground Truths = 1.09611043940666 , Prediction = 1.1419150829315186\n",
      "78 : Ground Truths = 1.06414185346747 , Prediction = 1.143235206604004\n",
      "79 : Ground Truths = 1.03207425414737 , Prediction = 1.1184355020523071\n",
      "80 : Ground Truths = 1.0000000002202 , Prediction = 1.0558593273162842\n",
      "81 : Ground Truths = -3.72974957851276 , Prediction = -3.5578067302703857\n",
      "82 : Ground Truths = -3.7285710519866 , Prediction = -3.485823154449463\n",
      "83 : Ground Truths = -3.72507746271718 , Prediction = -3.4992477893829346\n",
      "84 : Ground Truths = -3.71923875537171 , Prediction = -3.4958889484405518\n",
      "85 : Ground Truths = -3.71110194935843 , Prediction = -3.523118495941162\n",
      "86 : Ground Truths = -3.70069893625612 , Prediction = -3.4884862899780273\n",
      "87 : Ground Truths = -3.68793150447666 , Prediction = -3.4774856567382812\n",
      "88 : Ground Truths = -3.67296539052698 , Prediction = -3.4979772567749023\n",
      "89 : Ground Truths = -3.65575724692917 , Prediction = -3.471071720123291\n",
      "90 : Ground Truths = -3.63631551578996 , Prediction = -3.5113942623138428\n",
      "91 : Ground Truths = -3.61474017296224 , Prediction = -3.4202277660369873\n",
      "92 : Ground Truths = -3.59100780951326 , Prediction = -3.391406536102295\n",
      "93 : Ground Truths = -3.56516641630405 , Prediction = -3.3649513721466064\n",
      "94 : Ground Truths = -3.53734943949517 , Prediction = -3.392822027206421\n",
      "95 : Ground Truths = -3.50741498214752 , Prediction = -3.2962818145751953\n",
      "96 : Ground Truths = -3.47568038877197 , Prediction = -3.2813918590545654\n",
      "97 : Ground Truths = -3.44190417207418 , Prediction = -3.247256278991699\n",
      "98 : Ground Truths = -3.40635025641639 , Prediction = -3.2246522903442383\n",
      "99 : Ground Truths = -3.36904538699698 , Prediction = -3.128833532333374\n",
      "100 : Ground Truths = -3.32989921228705 , Prediction = -3.1700057983398438\n",
      "101 : Ground Truths = -3.28922845629085 , Prediction = -3.100987434387207\n",
      "102 : Ground Truths = -3.24686828415929 , Prediction = -3.0937390327453613\n",
      "103 : Ground Truths = -3.20292834086512 , Prediction = -3.0272185802459717\n",
      "104 : Ground Truths = -3.1576565103921 , Prediction = -3.005661725997925\n",
      "105 : Ground Truths = -3.1108578233676 , Prediction = -2.9729249477386475\n",
      "106 : Ground Truths = -3.0627112580199 , Prediction = -2.920691967010498\n",
      "107 : Ground Truths = -3.01342282745368 , Prediction = -2.8492565155029297\n",
      "108 : Ground Truths = -2.962810047031 , Prediction = -2.9024641513824463\n",
      "109 : Ground Truths = -2.91106088563162 , Prediction = -2.80194091796875\n",
      "110 : Ground Truths = -2.85836975279814 , Prediction = -2.7401418685913086\n",
      "111 : Ground Truths = -2.80457133885791 , Prediction = -2.670818328857422\n",
      "112 : Ground Truths = -2.74983349952756 , Prediction = -2.557893753051758\n",
      "113 : Ground Truths = -2.69435510676316 , Prediction = -2.53985857963562\n",
      "114 : Ground Truths = -2.63799375237718 , Prediction = -2.5747013092041016\n",
      "115 : Ground Truths = -2.58087843824396 , Prediction = -2.495181083679199\n",
      "116 : Ground Truths = -2.52321227480168 , Prediction = -2.4029905796051025\n",
      "117 : Ground Truths = -2.46489224372201 , Prediction = -2.3102424144744873\n",
      "118 : Ground Truths = -2.40599367465032 , Prediction = -2.290738105773926\n",
      "119 : Ground Truths = -2.34671288304085 , Prediction = -2.2100634574890137\n",
      "120 : Ground Truths = -2.28700727562226 , Prediction = -2.1917202472686768\n",
      "121 : Ground Truths = -2.22688901024321 , Prediction = -2.1012518405914307\n",
      "122 : Ground Truths = -2.16653533605067 , Prediction = -2.049299716949463\n",
      "123 : Ground Truths = -2.10597344320756 , Prediction = -1.9830900430679321\n",
      "124 : Ground Truths = -2.04515658148532 , Prediction = -1.9581340551376343\n",
      "125 : Ground Truths = -1.98423960377203 , Prediction = -1.86282479763031\n",
      "126 : Ground Truths = -1.92329354784558 , Prediction = -1.8670270442962646\n",
      "127 : Ground Truths = -1.86224747573025 , Prediction = -1.8079125881195068\n",
      "128 : Ground Truths = -1.80122599369011 , Prediction = -1.7311646938323975\n",
      "129 : Ground Truths = -1.74031717433789 , Prediction = -1.6511564254760742\n",
      "130 : Ground Truths = -1.67945303245017 , Prediction = -1.639108419418335\n",
      "131 : Ground Truths = -1.61872634526472 , Prediction = -1.5847363471984863\n",
      "132 : Ground Truths = -1.55822292254767 , Prediction = -1.5227768421173096\n",
      "133 : Ground Truths = -1.49788956086364 , Prediction = -1.4767580032348633\n",
      "134 : Ground Truths = -1.43779269068105 , Prediction = -1.3978359699249268\n",
      "135 : Ground Truths = -1.37800373881739 , Prediction = -1.2784318923950195\n",
      "136 : Ground Truths = -1.31848547965296 , Prediction = -1.2807631492614746\n",
      "137 : Ground Truths = -1.25928586900639 , Prediction = -1.184093952178955\n",
      "138 : Ground Truths = -1.20045501171519 , Prediction = -1.1162046194076538\n",
      "139 : Ground Truths = -1.14196998493196 , Prediction = -1.0440480709075928\n",
      "140 : Ground Truths = -1.0838643176825 , Prediction = -1.045040249824524\n",
      "141 : Ground Truths = -1.02616481492475 , Prediction = -1.0073730945587158\n",
      "142 : Ground Truths = -0.968861867635346 , Prediction = -0.9519252777099609\n",
      "143 : Ground Truths = -0.911970963783154 , Prediction = -0.8984984755516052\n",
      "144 : Ground Truths = -0.855504202023484 , Prediction = -0.827167272567749\n",
      "145 : Ground Truths = -0.799455450572071 , Prediction = -0.776300311088562\n",
      "146 : Ground Truths = -0.743820484210399 , Prediction = -0.7125812768936157\n",
      "147 : Ground Truths = -0.688611967861686 , Prediction = -0.6748906373977661\n",
      "148 : Ground Truths = -0.633798134073839 , Prediction = -0.5770857930183411\n",
      "149 : Ground Truths = -0.57939171013397 , Prediction = -0.5954903960227966\n",
      "150 : Ground Truths = -0.52536260854641 , Prediction = -0.42163288593292236\n",
      "151 : Ground Truths = -0.471696268417438 , Prediction = -0.4626639187335968\n",
      "152 : Ground Truths = -0.418375013869328 , Prediction = -0.40276721119880676\n",
      "153 : Ground Truths = -0.365365521783501 , Prediction = -0.35542789101600647\n",
      "154 : Ground Truths = -0.312639806011227 , Prediction = -0.32352614402770996\n",
      "155 : Ground Truths = -0.26017181221698 , Prediction = -0.28062379360198975\n",
      "156 : Ground Truths = -0.207904017973991 , Prediction = -0.220015287399292\n",
      "157 : Ground Truths = -0.155807845227677 , Prediction = -0.13670986890792847\n",
      "158 : Ground Truths = -0.103829791807422 , Prediction = -0.10928064584732056\n",
      "159 : Ground Truths = -0.0519128386072443 , Prediction = -0.07376254349946976\n",
      "160 : Ground Truths = 0.0 , Prediction = 0.02671511285007\n"
     ]
    }
   ],
   "source": [
    "PATH_PIC = os.path.join(os.getcwd(), \"model_pic_points.pt\")\n",
    "model_picture_trained = torch.load(PATH_PIC)\n",
    "\n",
    "rand1 = random.randint(0, len(test_x_pic_points)-1)\n",
    "rand2 = random.randint(0, 63)\n",
    "\n",
    "print(\"current batch =\", rand1)\n",
    "print(\"current testing image =\", rand2)\n",
    "\n",
    "score_pic = prediction(model_picture_trained, test_x_pic_points[rand1][rand2].reshape(1, 1, 82, 77))\n",
    "for num in range(len(test_y_pic_points[rand1][rand2])):\n",
    "    print(num+1, \": Ground Truths =\", test_y_pic_points[rand1][rand2][num].item(), \", Prediction =\", score_pic[0, num].item())\n"
   ]
  },
  {
   "cell_type": "markdown",
   "metadata": {},
   "source": [
    "### Plot the ground truth and prediction to make a comparison"
   ]
  },
  {
   "cell_type": "code",
   "execution_count": 25,
   "metadata": {},
   "outputs": [
    {
     "data": {
      "image/png": "[encoded data removed]",
      "text/plain": [
       "<Figure size 432x288 with 1 Axes>"
      ]
     },
     "metadata": {
      "needs_background": "light"
     },
     "output_type": "display_data"
    }
   ],
   "source": [
    "# scattering points for ground truth\n",
    "x_gt_pos = test_y_pic_points[rand1][rand2][0:80]\n",
    "y_gt_pos = test_y_pic_points[rand1][rand2][80:160]\n",
    "x_gt_neg = -torch.flip(x_gt_pos, [0])\n",
    "y_gt_neg = torch.flip(y_gt_pos, [0])\n",
    "x_gt = torch.cat((x_gt_neg, x_gt_pos))\n",
    "y_gt = torch.cat((y_gt_neg, y_gt_pos))\n",
    "\n",
    "# scattering points for prediction\n",
    "x_pred_pos = score_pic[0, 0:80]\n",
    "y_pred_pos = score_pic[0, 80:160]\n",
    "x_pred_neg = -torch.flip(x_pred_pos, [0])\n",
    "y_pred_neg = torch.flip(y_pred_pos, [0])\n",
    "x_pred = torch.cat((x_pred_neg, x_pred_pos))\n",
    "y_pred = torch.cat((y_pred_neg, y_pred_pos))\n",
    "\n",
    "plt.scatter(x_gt, y_gt, c=\"red\", label=\"ground truth\")\n",
    "plt.scatter(x_pred, y_pred, c=\"blue\", label=\"prediction\")\n",
    "plt.xlabel(\"rr\")\n",
    "plt.ylabel(\"zz\")\n",
    "plt.legend()\n",
    "plt.axis('equal')\n",
    "plt.show()"
   ]
  },
  {
   "cell_type": "code",
   "execution_count": null,
   "metadata": {},
   "outputs": [],
   "source": []
  }
 ],
 "metadata": {
  "interpreter": {
   "hash": "d02908a6a4020c0dee71330d10741c85add751c2d2978c27222bad6a32175214"
  },
  "kernelspec": {
   "display_name": "Python 3.7.11",
   "language": "python",
   "name": "python3"
  },
  "language_info": {
   "codemirror_mode": {
    "name": "ipython",
    "version": 3
   },
   "file_extension": ".py",
   "mimetype": "text/x-python",
   "name": "python",
   "nbconvert_exporter": "python",
   "pygments_lexer": "ipython3",
   "version": "3.7.11"
  }
 },
 "nbformat": 4,
 "nbformat_minor": 2
}
