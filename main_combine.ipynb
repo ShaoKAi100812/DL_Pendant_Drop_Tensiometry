{
 "cells": [
  {
   "cell_type": "markdown",
   "metadata": {},
   "source": [
    "# Deep Learning for tensiometry of pendant drop"
   ]
  },
  {
   "cell_type": "markdown",
   "metadata": {},
   "source": [
    "### Import necessary packages and self-defined classes"
   ]
  },
  {
   "cell_type": "code",
   "execution_count": 1,
   "metadata": {},
   "outputs": [],
   "source": [
    "# pyplot\n",
    "import matplotlib.pyplot as plt\n",
    "# pytorch\n",
    "import torch\n",
    "import torch.optim as optim\n",
    "import torch.nn.functional as F  # useful stateless functions\n",
    "# Test/Train data split\n",
    "from functools import lru_cache\n",
    "from torch.utils.data import DataLoader, Dataset\n",
    "from torch.utils.data.sampler import SubsetRandomSampler\n",
    "import numpy as np\n",
    "import logging\n",
    "# sklearn\n",
    "from sklearn import preprocessing\n",
    "# os\n",
    "import os\n",
    "# warnings\n",
    "import warnings\n",
    "warnings.filterwarnings('ignore')\n",
    "# random\n",
    "import random\n",
    "# math\n",
    "import math\n",
    "import scipy.interpolate\n",
    "# self-defined model\n",
    "from model_pic import *\n",
    "from model_cal import *\n",
    "import pandas as pd\n",
    "\n",
    "#PictureNet\n",
    "from PIL import Image\n",
    "from skimage.io import imread\n",
    "from sklearn.model_selection import train_test_split"
   ]
  },
  {
   "cell_type": "markdown",
   "metadata": {},
   "source": [
    "## Dataset loading and preprocessing"
   ]
  },
  {
   "cell_type": "code",
   "execution_count": 2,
   "metadata": {},
   "outputs": [],
   "source": [
    "class DataSplit:\n",
    "\n",
    "    def __init__(self, dataset, test_train_split=0.8, val_train_split=0.1, shuffle=False):\n",
    "        self.dataset = dataset\n",
    "\n",
    "        dataset_size = len(dataset)\n",
    "        self.indices = list(range(dataset_size))\n",
    "        test_split = int(np.floor(test_train_split * dataset_size))\n",
    "\n",
    "        if shuffle:\n",
    "            np.random.shuffle(self.indices)\n",
    "\n",
    "        train_indices, self.test_indices = self.indices[:test_split], self.indices[test_split:]\n",
    "        train_size = len(train_indices)\n",
    "        validation_split = int(np.floor((1 - val_train_split) * train_size))\n",
    "\n",
    "        self.train_indices, self.val_indices = train_indices[:validation_split], train_indices[validation_split:]\n",
    "\n",
    "        self.train_sampler = SubsetRandomSampler(self.train_indices)\n",
    "        self.val_sampler = SubsetRandomSampler(self.val_indices)\n",
    "        self.test_sampler = SubsetRandomSampler(self.test_indices)\n",
    "    \n",
    "    def get_train_split_point(self):\n",
    "        return len(self.train_sampler) + len(self.val_indices)\n",
    "\n",
    "    def get_validation_split_point(self):\n",
    "        return len(self.train_sampler)\n",
    "\n",
    "    @lru_cache(maxsize=4)\n",
    "    def get_split(self, batch_size=64, num_workers=0):\n",
    "        logging.debug('Initializing train-validation-test dataloaders')\n",
    "        self.train_loader = self.get_train_loader(batch_size=batch_size, num_workers=num_workers)\n",
    "        self.val_loader = self.get_validation_loader(batch_size=batch_size, num_workers=num_workers)\n",
    "        self.test_loader = self.get_test_loader(batch_size=batch_size, num_workers=num_workers)\n",
    "        return self.train_loader, self.val_loader, self.test_loader\n",
    "\n",
    "    @lru_cache(maxsize=4)\n",
    "    def get_train_loader(self, batch_size=64, num_workers=0):\n",
    "        logging.debug('Initializing train dataloader')\n",
    "        self.train_loader = DataLoader(self.dataset, batch_size=batch_size, sampler=self.train_sampler, shuffle=False, num_workers=num_workers)\n",
    "        return self.train_loader\n",
    "\n",
    "    @lru_cache(maxsize=4)\n",
    "    def get_validation_loader(self, batch_size=64, num_workers=0):\n",
    "        logging.debug('Initializing validation dataloader')\n",
    "        self.val_loader = DataLoader(self.dataset, batch_size=batch_size, sampler=self.val_sampler, shuffle=False, num_workers=num_workers)\n",
    "        return self.val_loader\n",
    "\n",
    "    @lru_cache(maxsize=4)\n",
    "    def get_test_loader(self, batch_size=64, num_workers=0):\n",
    "        logging.debug('Initializing test dataloader')\n",
    "        self.test_loader = DataLoader(self.dataset, batch_size=batch_size, sampler=self.test_sampler, shuffle=False, num_workers=num_workers)\n",
    "        return self.test_loader"
   ]
  },
  {
   "cell_type": "markdown",
   "metadata": {},
   "source": [
    "==================================="
   ]
  },
  {
   "cell_type": "markdown",
   "metadata": {},
   "source": [
    "### Load data for PhysicsNet"
   ]
  },
  {
   "cell_type": "code",
   "execution_count": 3,
   "metadata": {},
   "outputs": [],
   "source": [
    "data_matrix_points = pd.read_csv(\"Data_uniform/Edge_points.csv\", header= None)\n",
    "data_matrix_spline = pd.read_csv(\"Data_uniform/Spline.csv\", header= None)\n",
    "# print(data_matrix_points)\n",
    "# print(data_matrix_spline)\n",
    "\n",
    "# Make the droplet dataset class based on data_matrix\n",
    "class Droplet_data_set(Dataset):\n",
    "    def __init__(self,dataInput):\n",
    "        x = dataInput.iloc[0:,3:].values\n",
    "        y = dataInput.iloc[0:,0:2].values\n",
    "        # x = np.random.normal(x,0.01)\n",
    "        y0 = dataInput.iloc[:,0].values\n",
    "        y1 = dataInput.iloc[:,1].values\n",
    "        \n",
    "        # Plot surface tension histogram\n",
    "        n, bins, patches = plt.hist(x=y0, bins='auto', color='#0504aa',\n",
    "                                    alpha=0.7, rwidth=0.85)\n",
    "        plt.grid(axis='y', alpha=0.75)\n",
    "        plt.xlabel('Surface Tension[mN/m]')\n",
    "        plt.ylabel('Frequency')\n",
    "        plt.title('Occurence of data per Surface Tension')\\\n",
    "\n",
    "        # Plot volume histogram\n",
    "        # n, bins, patches = plt.hist(x=y1, bins='auto', color='#0504aa',\n",
    "        #                             alpha=0.7, rwidth=0.85)\n",
    "        # plt.grid(axis='y', alpha=0.75)\n",
    "        # plt.xlabel('Volume[mm^3]')\n",
    "        # plt.ylabel('Frequency')\n",
    "        # plt.title('Occurence of data per Volume')\n",
    "\n",
    "        self.x_train = torch.tensor(x,dtype=torch.float32)\n",
    "        self.y_train = torch.tensor(y,dtype=torch.float32)\n",
    "        \n",
    "    def __getitem__(self, idx):\n",
    "        return self.x_train[idx],self.y_train[idx]\n",
    "    \n",
    "    def __len__(self):\n",
    "         return len(self.y_train)\n",
    "        "
   ]
  },
  {
   "cell_type": "markdown",
   "metadata": {},
   "source": [
    "Create and splite the dataset for edge point model"
   ]
  },
  {
   "cell_type": "code",
   "execution_count": 4,
   "metadata": {},
   "outputs": [
    {
     "data": {
      "image/png": "[encoded data removed]",
      "text/plain": [
       "<Figure size 432x288 with 1 Axes>"
      ]
     },
     "metadata": {
      "needs_background": "light"
     },
     "output_type": "display_data"
    }
   ],
   "source": [
    "my_data_set_points = Droplet_data_set(data_matrix_points)\n",
    "split_points = DataSplit(my_data_set_points, shuffle=True)  # Split the single dataset into 3 datasets for training, test and validation.\n",
    "train_loader_points, val_loader_points, test_loader_points = split_points.get_split(batch_size=512, num_workers=0)"
   ]
  },
  {
   "cell_type": "markdown",
   "metadata": {},
   "source": [
    "Create and splite the dataset for spline model"
   ]
  },
  {
   "cell_type": "code",
   "execution_count": 5,
   "metadata": {},
   "outputs": [
    {
     "data": {
      "image/png": "[encoded data removed]",
      "text/plain": [
       "<Figure size 432x288 with 1 Axes>"
      ]
     },
     "metadata": {
      "needs_background": "light"
     },
     "output_type": "display_data"
    }
   ],
   "source": [
    "my_data_set_spline = Droplet_data_set(data_matrix_spline)\n",
    "split_spline = DataSplit(my_data_set_spline, shuffle=True)  # Split the single dataset into 3 datasets for training, test and validation.\n",
    "train_loader_spline, val_loader_spline, test_loader_spline = split_spline.get_split(batch_size=512, num_workers=0)"
   ]
  },
  {
   "cell_type": "markdown",
   "metadata": {},
   "source": [
    "==========================================="
   ]
  },
  {
   "cell_type": "markdown",
   "metadata": {},
   "source": [
    "### Load data for PictureNet\n",
    "Read image from files"
   ]
  },
  {
   "cell_type": "code",
   "execution_count": 7,
   "metadata": {},
   "outputs": [],
   "source": [
    "train_img = []\n",
    "data_matrix_points = pd.read_csv(\"Data_uniform/Edge_points.csv\", header= None)\n",
    "data_matrix_spline = pd.read_csv(\"Data_uniform/Spline.csv\", header= None)\n",
    "data_image_points = data_matrix_points  \n",
    "data_image_spline = data_matrix_spline\n",
    "\n",
    "for img_name in data_image_points.iloc[0:,3:].index + 1:      # modify the number depends on size of dataset\n",
    "    # defining the image path\n",
    "    image_path = 'Data_uniform/' + str(img_name) + '.png'      # modify the path depends on which dataset\n",
    "    # reading the image\n",
    "    img = imread(image_path, as_gray=True)\n",
    "    img = img[4:-4, 4:-4]  #crop \n",
    "    # normalizing the pixel values\n",
    "    img /= 255.0\n",
    "    # converting the type of pixel to float 32\n",
    "    img = img.astype('float32')\n",
    "    # appending the image into the list\n",
    "    train_img.append(img)"
   ]
  },
  {
   "cell_type": "markdown",
   "metadata": {},
   "source": [
    "Plot a single image for viewing"
   ]
  },
  {
   "cell_type": "code",
   "execution_count": 8,
   "metadata": {},
   "outputs": [
    {
     "name": "stdout",
     "output_type": "stream",
     "text": [
      "Current image = 3155\n",
      "Picture size = (82, 77)\n"
     ]
    },
    {
     "data": {
      "text/plain": [
       "<matplotlib.image.AxesImage at 0x2a6343c5160>"
      ]
     },
     "execution_count": 8,
     "metadata": {},
     "output_type": "execute_result"
    },
    {
     "data": {
      "image/png": "[encoded data removed]",
      "text/plain": [
       "<Figure size 432x288 with 1 Axes>"
      ]
     },
     "metadata": {
      "needs_background": "light"
     },
     "output_type": "display_data"
    }
   ],
   "source": [
    "rand = random.randint(1, 24747)\n",
    "print(\"Current image =\", rand)\n",
    "print(\"Picture size =\", train_img[rand].shape)\n",
    "plt.imshow(train_img[rand], cmap='gray')"
   ]
  },
  {
   "cell_type": "markdown",
   "metadata": {},
   "source": [
    "Define the function"
   ]
  },
  {
   "cell_type": "code",
   "execution_count": 9,
   "metadata": {},
   "outputs": [],
   "source": [
    "# Split and transfer the data from list to torch format\n",
    "def split_n_transfer(x, y):\n",
    "    # Points data split\n",
    "    train_x_pic, rem_x_pic, train_y_pic, rem_y_pic = train_test_split(x, y, test_size = 0.2)    # default shuffle = True\n",
    "    val_x_pic, test_x_pic, val_y_pic, test_y_pic = train_test_split(rem_x_pic, rem_y_pic, test_size = 0.5)\n",
    "\n",
    "    # converting the train images of points and targets into torch format\n",
    "    train_x_pic = train_x_pic.reshape(len(train_x_pic), 1, 82, 77)\n",
    "    train_x_pic = torch.from_numpy(train_x_pic)\n",
    "    train_y_pic = torch.from_numpy(train_y_pic)\n",
    "\n",
    "    # converting the val images and target points into torch format\n",
    "    val_x_pic = val_x_pic.reshape(len(val_x_pic), 1, 82, 77)\n",
    "    val_x_pic = torch.from_numpy(val_x_pic)\n",
    "    val_y_pic = torch.from_numpy(val_y_pic)\n",
    "    # print(val_x_pic.shape, val_y_pic.shape)\n",
    "\n",
    "    # converting the test images and targets into torch format for points\n",
    "    test_x_pic = test_x_pic.reshape(len(test_x_pic), 1, 82, 77)\n",
    "    test_x_pic  = torch.from_numpy(test_x_pic)\n",
    "    test_y_pic = torch.from_numpy(test_y_pic)\n",
    "    # print(test_x_pic.shape, test_y_pic.shape)\n",
    "    \n",
    "    return train_x_pic, train_y_pic, val_x_pic, val_y_pic, test_x_pic, test_y_pic\n",
    "\n",
    "# converting the dataset into mini-batch dataset (input 4D -> 5D and 2D -> 3D)\n",
    "def batch_transform(dataset, batch_size=512):\n",
    "    batch = []\n",
    "    batch_num = math.ceil(len(dataset)/batch_size)\n",
    "    for i in range(batch_num):\n",
    "        if len(dataset) == 4:\n",
    "            if i < batch_num-1:\n",
    "                batch.append(dataset[i*batch_size:(i+1)*batch_size, :, :, :])\n",
    "            else:\n",
    "                batch.append(dataset[i*batch_size:, :, :, :])\n",
    "        else:\n",
    "            if i < batch_num-1:\n",
    "                batch.append(dataset[i*batch_size:(i+1)*batch_size, :])\n",
    "            else:\n",
    "                batch.append(dataset[i*batch_size:, :])\n",
    "    return batch\n",
    "\n",
    "# converting all raw datasets into batch datasets in the same time\n",
    "def batch_all(train_x, train_y, val_x, val_y, test_x, test_y):\n",
    "    train_x_pic = batch_transform(train_x)\n",
    "    train_y_pic = batch_transform(train_y)\n",
    "    val_x_pic = batch_transform(val_x)\n",
    "    val_y_pic = batch_transform(val_y)\n",
    "    test_x_pic = batch_transform(test_x)\n",
    "    test_y_pic = batch_transform(test_y)\n",
    "    return train_x_pic, train_y_pic, val_x_pic, val_y_pic, test_x_pic, test_y_pic"
   ]
  },
  {
   "cell_type": "markdown",
   "metadata": {},
   "source": [
    "Create and splite the dataset for edge point model"
   ]
  },
  {
   "cell_type": "code",
   "execution_count": 10,
   "metadata": {},
   "outputs": [
    {
     "name": "stdout",
     "output_type": "stream",
     "text": [
      "39 39 5 5 5 5\n"
     ]
    }
   ],
   "source": [
    "# converting the list to numpy array\n",
    "train_x_pic = np.array(train_img)\n",
    "train_y_pic_points = data_image_points.iloc[0:,3:].values\n",
    "\n",
    "train_x_pic_points, train_y_pic_points, val_x_pic_points, val_y_pic_points, test_x_pic_points, test_y_pic_points = \\\n",
    "    split_n_transfer(train_x_pic, train_y_pic_points)\n",
    "\n",
    "train_x_pic_points, train_y_pic_points, val_x_pic_points, val_y_pic_points, test_x_pic_points, test_y_pic_points = \\\n",
    "    batch_all(train_x_pic_points, train_y_pic_points, val_x_pic_points, val_y_pic_points, test_x_pic_points, test_y_pic_points)\n",
    "    \n",
    "print(len(train_x_pic_points), len(train_y_pic_points), len(val_x_pic_points), len(val_y_pic_points), len(test_x_pic_points), len(test_y_pic_points))\n"
   ]
  },
  {
   "cell_type": "markdown",
   "metadata": {},
   "source": [
    "Create and splite the dataset for spline model"
   ]
  },
  {
   "cell_type": "code",
   "execution_count": 11,
   "metadata": {},
   "outputs": [
    {
     "name": "stdout",
     "output_type": "stream",
     "text": [
      "39 39 5 5 5 5\n"
     ]
    }
   ],
   "source": [
    "# converting the list to numpy array\n",
    "train_x_pic = np.array(train_img)\n",
    "train_y_pic_spline = data_image_spline.iloc[0:,3:].values\n",
    "\n",
    "train_x_pic_spline, train_y_pic_spline, val_x_pic_spline, val_y_pic_spline, test_x_pic_spline, test_y_pic_spline = \\\n",
    "    split_n_transfer(train_x_pic, train_y_pic_spline)\n",
    "\n",
    "train_x_pic_spline, train_y_pic_spline, val_x_pic_spline, val_y_pic_spline, test_x_pic_spline, test_y_pic_spline = \\\n",
    "    batch_all(train_x_pic_spline, train_y_pic_spline, val_x_pic_spline, val_y_pic_spline, test_x_pic_spline, test_y_pic_spline)\n",
    "\n",
    "print(len(train_x_pic_spline), len(train_y_pic_spline), len(val_x_pic_spline), len(val_y_pic_spline), len(test_x_pic_spline), len(test_y_pic_spline))"
   ]
  },
  {
   "cell_type": "markdown",
   "metadata": {},
   "source": [
    "=============================="
   ]
  },
  {
   "cell_type": "markdown",
   "metadata": {},
   "source": [
    "### Deside to apply host or device\n"
   ]
  },
  {
   "cell_type": "code",
   "execution_count": 12,
   "metadata": {},
   "outputs": [
    {
     "name": "stdout",
     "output_type": "stream",
     "text": [
      "cuda\n"
     ]
    }
   ],
   "source": [
    "USE_GPU = True\n",
    "if USE_GPU and torch.cuda.is_available():\n",
    "    device = torch.device('cuda')\n",
    "else:\n",
    "    device = torch.device('cpu')\n",
    "print(device)"
   ]
  },
  {
   "cell_type": "markdown",
   "metadata": {},
   "source": [
    "## Define the functions for models"
   ]
  },
  {
   "cell_type": "code",
   "execution_count": 13,
   "metadata": {},
   "outputs": [],
   "source": [
    "def loss_cal_phiysics(loss_list, model, loader):\n",
    "    model.eval()  # set model to evaluation mode\n",
    "    with torch.no_grad():\n",
    "        loss_epoch = 0\n",
    "        for t, (x, y) in enumerate(loader):\n",
    "            x = x.to(device=device, dtype=torch.float32)  # move to device, e.g. GPU\n",
    "            y = y.to(device=device, dtype=torch.float32)\n",
    "            scores = model(x)\n",
    "            loss = F.mse_loss(scores, y)\n",
    "            loss_epoch += loss\n",
    "        loss_list.append(loss_epoch.cpu().data.numpy()/t)\n",
    "\n",
    "def loss_cal_picture(loss_list, model, x_dataset, y_dataset):\n",
    "    model.eval()  # set model to evaluation mode\n",
    "    with torch.no_grad():\n",
    "        loss_epoch = 0\n",
    "        for t in range(len(x_dataset)):\n",
    "            x = x_dataset[t]\n",
    "            y = y_dataset[t]\n",
    "            x = x.to(device=device, dtype=torch.float32)  # move to device, e.g. GPU\n",
    "            y = y.to(device=device, dtype=torch.float32)\n",
    "            scores = model(x)\n",
    "            loss = F.mse_loss(scores, y)\n",
    "            loss_epoch += loss\n",
    "        loss_list.append(loss_epoch.cpu().data.numpy()/t)\n",
    "\n",
    "def prediction(model, x):   # only a batch\n",
    "    model = model.to(device=device)\n",
    "    model.eval()  # set model to evaluation mode\n",
    "    with torch.no_grad():\n",
    "        x = x.to(device=device, dtype=torch.float32)\n",
    "        score = torch.Tensor.cpu(model(x))\n",
    "    return score\n",
    "\n",
    "def model_selection(model, path, loss, epoch_current, epoch_ref, loss_ref):\n",
    "    loss_best = loss_ref\n",
    "    epoch_best = epoch_ref\n",
    "    if epoch_current == 0 and ~(os.path.isdir(path)):\n",
    "            loss_current = loss[epoch_current]\n",
    "            loss_best = loss[epoch_current]\n",
    "            torch.save(model, path)\n",
    "    else:\n",
    "        loss_current = loss[epoch_current]\n",
    "        if loss_current <= (loss_best * 1.1):   # 10% margin to get better fitting but a bit more loss\n",
    "            loss_best = loss_current\n",
    "            epoch_best = epoch_current\n",
    "            torch.save(model, path)\n",
    "    return loss_best, epoch_best\n",
    "\n",
    "def train_physics(model, optimizer, epochs=1, model_input=0):\n",
    "    loss_train = []\n",
    "    loss_val = []\n",
    "    loss_best = 0\n",
    "    epoch_best = 0\n",
    "    \n",
    "    # model selection depends on data type\n",
    "    if model_input == 0:\n",
    "        train_loader = train_loader_points\n",
    "        val_loader = val_loader_points\n",
    "        PATH_CAL = os.path.join(os.getcwd(), \"model_cal_points.pt\")\n",
    "    elif model_input == 1:\n",
    "        train_loader = train_loader_spline\n",
    "        val_loader = val_loader_spline\n",
    "        PATH_CAL = os.path.join(os.getcwd(), \"model_cal_spline.pt\")\n",
    "    else:\n",
    "        ValueError(\"Incorrect input: 0 for edge point model, 1 for spline model\")\n",
    "\n",
    "    model = model.to(device=device)  # move the model parameters to CPU/GPU\n",
    "    for e in range(epochs):\n",
    "        for _, (x, y) in enumerate(train_loader):\n",
    "            x = x.reshape(len(x), 1, 1, -1)     # reshape to 4D data for formal input of model\n",
    "            model.train()  # put model to training mode\n",
    "            x = x.to(device=device, dtype=torch.float32)  # move to device, e.g. GPU\n",
    "            y = y.to(device=device, dtype=torch.float32)\n",
    "            scores = model(x)\n",
    "            loss = F.mse_loss(scores, y)\n",
    "\n",
    "            optimizer.zero_grad()\n",
    "            loss.backward()\n",
    "            optimizer.step()\n",
    "        loss_cal_phiysics(loss_train, model, train_loader)\n",
    "        loss_cal_phiysics(loss_val, model, val_loader)\n",
    "        print('epoch %d: train_loss = %.4f, val_loss = %.4f' % (e+1, loss_train[e], loss_val[e]))\n",
    "\n",
    "        # selecting the best model to save\n",
    "        loss_best, epoch_best = model_selection(model, PATH_CAL, loss_train, e, epoch_best, loss_best)\n",
    "    \n",
    "    print(\"The model is saved at epoch =\", epoch_best+1, \"and the loss =\", loss_best.item())\n",
    "    \n",
    "    x = range(1, epochs+1)\n",
    "\n",
    "    plt.semilogy(x, loss_train, 'b-', label=\"training loss\")\n",
    "    plt.semilogy(x, loss_val, 'r--', label=\"validation loss\")\n",
    "    plt.xlabel(\"Epochs\")\n",
    "    plt.ylabel(\"MSE Loss\")\n",
    "    plt.title(\"Train/Validation Loss\")\n",
    "    plt.legend()\n",
    "    plt.show()\n",
    "\n",
    "def train_picture(model, optimizer, epochs=1, model_input=0):\n",
    "    loss_train = []\n",
    "    loss_val = []\n",
    "    loss_best = 0\n",
    "    epoch_best = 0\n",
    "\n",
    "    # model selection depends on data type\n",
    "    if model_input == 0:\n",
    "        train_x_pic = train_x_pic_points\n",
    "        train_y_pic = train_y_pic_points\n",
    "        val_x_pic = val_x_pic_points\n",
    "        val_y_pic = val_y_pic_points\n",
    "        PATH_PIC = os.path.join(os.getcwd(), \"model_pic_points.pt\")\n",
    "    elif model_input == 1:\n",
    "        train_x_pic = train_x_pic_spline\n",
    "        train_y_pic = train_y_pic_spline\n",
    "        val_x_pic = val_x_pic_spline\n",
    "        val_y_pic = val_y_pic_spline\n",
    "        PATH_PIC = os.path.join(os.getcwd(), \"model_pic_spline.pt\")\n",
    "    else:\n",
    "        ValueError(\"Incorrect input: 0 for edge point model, 1 for spline model\")\n",
    "\n",
    "    model = model.to(device=device)  # move the model parameters to CPU/GPU\n",
    "    for e in range(epochs):\n",
    "        for t in range(len(train_x_pic)):\n",
    "            model.train()  # put model to training mode\n",
    "            x = train_x_pic[t]\n",
    "            y = train_y_pic[t]\n",
    "            x = x.to(device=device, dtype=torch.float32)  # move to device, e.g. GPU\n",
    "            y = y.to(device=device, dtype=torch.float32)\n",
    "\n",
    "            scores = model(x)\n",
    "            loss = F.mse_loss(scores, y)\n",
    "\n",
    "            optimizer.zero_grad()\n",
    "            loss.backward()\n",
    "            optimizer.step()\n",
    "        loss_cal_picture(loss_train, model, train_x_pic, train_y_pic)\n",
    "        loss_cal_picture(loss_val, model, val_x_pic, val_y_pic)\n",
    "        print('epoch %d: train_loss = %.4f, val_loss = %.4f' % (e+1, loss_train[e], loss_val[e]))\n",
    "        \n",
    "        # selecting the best model to save\n",
    "        loss_best, epoch_best = model_selection(model, PATH_PIC, loss_train, e, epoch_best, loss_best)\n",
    "    \n",
    "    print(\"The model is saved at epoch =\", epoch_best+1, \"and the loss =\", loss_best.item())\n",
    "\n",
    "    x = range(1, epochs+1)\n",
    "\n",
    "    plt.semilogy(x, loss_train, 'b-', label=\"training loss\")\n",
    "    plt.semilogy(x, loss_val, 'r--', label=\"validation loss\")\n",
    "    plt.xlabel(\"Epochs\")\n",
    "    plt.ylabel(\"MSE Loss\")\n",
    "    plt.title(\"Train/Validation Loss\")\n",
    "    plt.legend()\n",
    "    plt.show()\n"
   ]
  },
  {
   "cell_type": "markdown",
   "metadata": {},
   "source": [
    "## Train PhysicsNet Edge Points"
   ]
  },
  {
   "cell_type": "code",
   "execution_count": 13,
   "metadata": {},
   "outputs": [
    {
     "name": "stdout",
     "output_type": "stream",
     "text": [
      "epoch 1: train_loss = 1756.4790, val_loss = 2243.4463\n",
      "epoch 2: train_loss = 1675.4700, val_loss = 2140.3005\n",
      "epoch 3: train_loss = 1675.5399, val_loss = 2135.0859\n",
      "epoch 4: train_loss = 1599.3284, val_loss = 2039.1221\n",
      "epoch 5: train_loss = 1518.1457, val_loss = 1936.9183\n",
      "epoch 6: train_loss = 1425.2309, val_loss = 1816.8428\n",
      "epoch 7: train_loss = 1500.0094, val_loss = 1915.8862\n",
      "epoch 8: train_loss = 1417.8532, val_loss = 1806.8035\n",
      "epoch 9: train_loss = 1369.4207, val_loss = 1748.2638\n",
      "epoch 10: train_loss = 1261.1827, val_loss = 1608.0155\n",
      "epoch 11: train_loss = 1202.9126, val_loss = 1533.3734\n",
      "epoch 12: train_loss = 1209.3827, val_loss = 1539.1413\n",
      "epoch 13: train_loss = 1022.8225, val_loss = 1303.5728\n",
      "epoch 14: train_loss = 1123.7019, val_loss = 1430.2806\n",
      "epoch 15: train_loss = 874.8691, val_loss = 1111.9181\n",
      "epoch 16: train_loss = 916.9521, val_loss = 1168.9044\n",
      "epoch 17: train_loss = 782.3069, val_loss = 992.4996\n",
      "epoch 18: train_loss = 741.8175, val_loss = 944.6746\n",
      "epoch 19: train_loss = 644.8566, val_loss = 816.6868\n",
      "epoch 20: train_loss = 528.1703, val_loss = 672.1619\n",
      "epoch 21: train_loss = 582.9689, val_loss = 739.1692\n",
      "epoch 22: train_loss = 568.1216, val_loss = 724.4535\n",
      "epoch 23: train_loss = 397.1443, val_loss = 507.8395\n",
      "epoch 24: train_loss = 297.0738, val_loss = 380.8182\n",
      "epoch 25: train_loss = 315.7158, val_loss = 402.6862\n",
      "epoch 26: train_loss = 313.3978, val_loss = 400.8289\n",
      "epoch 27: train_loss = 251.4292, val_loss = 320.8316\n",
      "epoch 28: train_loss = 174.2357, val_loss = 221.5807\n",
      "epoch 29: train_loss = 151.1067, val_loss = 191.8013\n",
      "epoch 30: train_loss = 96.2532, val_loss = 123.9059\n",
      "epoch 31: train_loss = 77.2801, val_loss = 98.3162\n",
      "epoch 32: train_loss = 125.6416, val_loss = 160.2358\n",
      "epoch 33: train_loss = 86.1098, val_loss = 109.3596\n",
      "epoch 34: train_loss = 71.2878, val_loss = 90.8205\n",
      "epoch 35: train_loss = 66.7584, val_loss = 86.1499\n",
      "epoch 36: train_loss = 85.6118, val_loss = 109.8680\n",
      "epoch 37: train_loss = 43.0969, val_loss = 54.3898\n",
      "epoch 38: train_loss = 31.4927, val_loss = 40.1280\n",
      "epoch 39: train_loss = 23.5053, val_loss = 30.0479\n",
      "epoch 40: train_loss = 61.1489, val_loss = 78.1210\n",
      "epoch 41: train_loss = 17.8677, val_loss = 23.0190\n",
      "epoch 42: train_loss = 30.3887, val_loss = 38.7286\n",
      "epoch 43: train_loss = 11.6538, val_loss = 14.7665\n",
      "epoch 44: train_loss = 16.3553, val_loss = 21.3378\n",
      "epoch 45: train_loss = 16.4555, val_loss = 21.6185\n",
      "epoch 46: train_loss = 13.3979, val_loss = 17.1620\n",
      "epoch 47: train_loss = 8.0280, val_loss = 10.2112\n",
      "epoch 48: train_loss = 6.5404, val_loss = 8.7037\n",
      "epoch 49: train_loss = 6.0609, val_loss = 7.5706\n",
      "epoch 50: train_loss = 7.4944, val_loss = 9.5067\n",
      "epoch 51: train_loss = 2.4126, val_loss = 2.9944\n",
      "epoch 52: train_loss = 3.7941, val_loss = 4.7063\n",
      "epoch 53: train_loss = 2.5828, val_loss = 3.3044\n",
      "epoch 54: train_loss = 2.4158, val_loss = 2.9787\n",
      "epoch 55: train_loss = 1.5156, val_loss = 1.9161\n",
      "epoch 56: train_loss = 1.7855, val_loss = 2.3212\n",
      "epoch 57: train_loss = 1.2246, val_loss = 1.5784\n",
      "epoch 58: train_loss = 1.2546, val_loss = 1.6023\n",
      "epoch 59: train_loss = 1.7304, val_loss = 2.2746\n",
      "epoch 60: train_loss = 2.9696, val_loss = 3.9463\n",
      "epoch 61: train_loss = 2.2773, val_loss = 3.0398\n",
      "epoch 62: train_loss = 1.5436, val_loss = 2.0380\n",
      "epoch 63: train_loss = 5.4855, val_loss = 7.1423\n",
      "epoch 64: train_loss = 0.9235, val_loss = 1.1841\n",
      "epoch 65: train_loss = 1.0036, val_loss = 1.2880\n",
      "epoch 66: train_loss = 0.7976, val_loss = 1.0143\n",
      "epoch 67: train_loss = 1.4757, val_loss = 1.8241\n",
      "epoch 68: train_loss = 1.5579, val_loss = 2.0261\n",
      "epoch 69: train_loss = 0.7566, val_loss = 0.9837\n",
      "epoch 70: train_loss = 0.7327, val_loss = 0.9389\n",
      "epoch 71: train_loss = 0.7300, val_loss = 0.9177\n",
      "epoch 72: train_loss = 1.0604, val_loss = 1.3516\n",
      "epoch 73: train_loss = 0.6353, val_loss = 0.8046\n",
      "epoch 74: train_loss = 1.1696, val_loss = 1.5513\n",
      "epoch 75: train_loss = 2.0320, val_loss = 2.6592\n",
      "epoch 76: train_loss = 1.0450, val_loss = 1.3945\n",
      "epoch 77: train_loss = 2.5973, val_loss = 3.4255\n",
      "epoch 78: train_loss = 1.7967, val_loss = 2.1923\n",
      "epoch 79: train_loss = 0.8004, val_loss = 1.0637\n",
      "epoch 80: train_loss = 5.7554, val_loss = 7.4135\n",
      "epoch 81: train_loss = 0.7217, val_loss = 0.9371\n",
      "epoch 82: train_loss = 0.6272, val_loss = 0.8035\n",
      "epoch 83: train_loss = 6.3359, val_loss = 8.2181\n",
      "epoch 84: train_loss = 1.1102, val_loss = 1.4855\n",
      "epoch 85: train_loss = 1.3311, val_loss = 1.7108\n",
      "epoch 86: train_loss = 1.7756, val_loss = 2.1927\n",
      "epoch 87: train_loss = 1.1044, val_loss = 1.4496\n",
      "epoch 88: train_loss = 2.1678, val_loss = 2.8775\n",
      "epoch 89: train_loss = 0.9436, val_loss = 1.2180\n",
      "epoch 90: train_loss = 0.9660, val_loss = 1.2717\n",
      "epoch 91: train_loss = 1.1168, val_loss = 1.4340\n",
      "epoch 92: train_loss = 0.8830, val_loss = 1.2015\n",
      "epoch 93: train_loss = 2.5541, val_loss = 3.3931\n",
      "epoch 94: train_loss = 0.5813, val_loss = 0.7616\n",
      "epoch 95: train_loss = 1.7161, val_loss = 2.2244\n",
      "epoch 96: train_loss = 3.1476, val_loss = 3.8998\n",
      "epoch 97: train_loss = 0.6665, val_loss = 0.8607\n",
      "epoch 98: train_loss = 1.0525, val_loss = 1.3681\n",
      "epoch 99: train_loss = 1.6926, val_loss = 2.1060\n",
      "epoch 100: train_loss = 2.3371, val_loss = 3.1503\n",
      "epoch 101: train_loss = 0.4693, val_loss = 0.6145\n",
      "epoch 102: train_loss = 1.2499, val_loss = 1.6497\n",
      "epoch 103: train_loss = 1.1621, val_loss = 1.4257\n",
      "epoch 104: train_loss = 0.6122, val_loss = 0.7963\n",
      "epoch 105: train_loss = 2.1709, val_loss = 2.7722\n",
      "epoch 106: train_loss = 1.0005, val_loss = 1.2389\n",
      "epoch 107: train_loss = 0.7498, val_loss = 0.9511\n",
      "epoch 108: train_loss = 0.7335, val_loss = 0.9404\n",
      "epoch 109: train_loss = 3.1301, val_loss = 4.0967\n",
      "epoch 110: train_loss = 0.7039, val_loss = 0.9337\n",
      "epoch 111: train_loss = 2.4368, val_loss = 3.1549\n",
      "epoch 112: train_loss = 0.6097, val_loss = 0.7417\n",
      "epoch 113: train_loss = 6.4309, val_loss = 8.1407\n",
      "epoch 114: train_loss = 0.7353, val_loss = 0.9538\n",
      "epoch 115: train_loss = 2.3356, val_loss = 2.9736\n",
      "epoch 116: train_loss = 0.8844, val_loss = 1.1731\n",
      "epoch 117: train_loss = 0.4489, val_loss = 0.5772\n",
      "epoch 118: train_loss = 1.4896, val_loss = 1.9740\n",
      "epoch 119: train_loss = 1.9982, val_loss = 2.5310\n",
      "epoch 120: train_loss = 0.7659, val_loss = 0.9660\n",
      "epoch 121: train_loss = 1.2297, val_loss = 1.4856\n",
      "epoch 122: train_loss = 1.4438, val_loss = 1.8999\n",
      "epoch 123: train_loss = 0.7802, val_loss = 0.9971\n",
      "epoch 124: train_loss = 0.7163, val_loss = 0.9137\n",
      "epoch 125: train_loss = 1.5244, val_loss = 1.9011\n",
      "epoch 126: train_loss = 4.3475, val_loss = 5.6262\n",
      "epoch 127: train_loss = 2.5372, val_loss = 3.3113\n",
      "epoch 128: train_loss = 4.6721, val_loss = 6.2390\n",
      "epoch 129: train_loss = 0.6298, val_loss = 0.8307\n",
      "epoch 130: train_loss = 0.5614, val_loss = 0.7437\n",
      "epoch 131: train_loss = 1.2749, val_loss = 1.6566\n",
      "epoch 132: train_loss = 1.4757, val_loss = 1.8463\n",
      "epoch 133: train_loss = 1.8124, val_loss = 2.3019\n",
      "epoch 134: train_loss = 4.6744, val_loss = 6.1562\n",
      "epoch 135: train_loss = 3.6500, val_loss = 4.7388\n",
      "epoch 136: train_loss = 0.5780, val_loss = 0.7530\n",
      "epoch 137: train_loss = 0.9483, val_loss = 1.2547\n",
      "epoch 138: train_loss = 2.0878, val_loss = 2.6944\n",
      "epoch 139: train_loss = 2.1320, val_loss = 2.7763\n",
      "epoch 140: train_loss = 1.6651, val_loss = 2.1260\n",
      "epoch 141: train_loss = 1.5866, val_loss = 2.0161\n",
      "epoch 142: train_loss = 2.7847, val_loss = 3.5647\n",
      "epoch 143: train_loss = 3.3067, val_loss = 4.1753\n",
      "epoch 144: train_loss = 1.9663, val_loss = 2.3858\n",
      "epoch 145: train_loss = 1.5419, val_loss = 1.8776\n",
      "epoch 146: train_loss = 0.6899, val_loss = 0.8569\n",
      "epoch 147: train_loss = 0.7442, val_loss = 0.9594\n",
      "epoch 148: train_loss = 1.2910, val_loss = 1.6796\n",
      "epoch 149: train_loss = 1.5624, val_loss = 1.9557\n",
      "epoch 150: train_loss = 2.6348, val_loss = 3.5073\n",
      "epoch 151: train_loss = 6.9224, val_loss = 8.9955\n",
      "epoch 152: train_loss = 1.5708, val_loss = 1.9473\n",
      "epoch 153: train_loss = 1.1097, val_loss = 1.4565\n",
      "epoch 154: train_loss = 1.6373, val_loss = 2.0569\n",
      "epoch 155: train_loss = 2.0542, val_loss = 2.7019\n",
      "epoch 156: train_loss = 1.0295, val_loss = 1.2689\n",
      "epoch 157: train_loss = 0.7153, val_loss = 0.9085\n",
      "epoch 158: train_loss = 2.0700, val_loss = 2.5767\n",
      "epoch 159: train_loss = 2.5316, val_loss = 3.2638\n",
      "epoch 160: train_loss = 0.9970, val_loss = 1.3046\n",
      "epoch 161: train_loss = 0.6371, val_loss = 0.8376\n",
      "epoch 162: train_loss = 1.7403, val_loss = 2.0928\n",
      "epoch 163: train_loss = 1.5472, val_loss = 1.9757\n",
      "epoch 164: train_loss = 3.7679, val_loss = 4.7386\n",
      "epoch 165: train_loss = 2.4347, val_loss = 3.2775\n",
      "epoch 166: train_loss = 6.2701, val_loss = 7.9614\n",
      "epoch 167: train_loss = 0.8353, val_loss = 1.0897\n",
      "epoch 168: train_loss = 2.1037, val_loss = 2.6940\n",
      "epoch 169: train_loss = 0.9084, val_loss = 1.2301\n",
      "epoch 170: train_loss = 9.6352, val_loss = 12.2370\n",
      "epoch 171: train_loss = 0.8228, val_loss = 1.1029\n",
      "epoch 172: train_loss = 1.0278, val_loss = 1.3291\n",
      "epoch 173: train_loss = 2.5959, val_loss = 3.1822\n",
      "epoch 174: train_loss = 4.1024, val_loss = 5.1150\n",
      "epoch 175: train_loss = 1.1909, val_loss = 1.4912\n",
      "epoch 176: train_loss = 0.9510, val_loss = 1.1754\n",
      "epoch 177: train_loss = 0.9951, val_loss = 1.3102\n",
      "epoch 178: train_loss = 7.5541, val_loss = 9.6931\n",
      "epoch 179: train_loss = 1.2194, val_loss = 1.4999\n",
      "epoch 180: train_loss = 1.0687, val_loss = 1.3685\n",
      "epoch 181: train_loss = 0.7440, val_loss = 0.9310\n",
      "epoch 182: train_loss = 1.4825, val_loss = 1.8067\n",
      "epoch 183: train_loss = 7.0020, val_loss = 9.2813\n",
      "epoch 184: train_loss = 2.2698, val_loss = 3.0060\n",
      "epoch 185: train_loss = 1.1806, val_loss = 1.5008\n",
      "epoch 186: train_loss = 0.9658, val_loss = 1.2340\n",
      "epoch 187: train_loss = 1.2740, val_loss = 1.7055\n",
      "epoch 188: train_loss = 1.0633, val_loss = 1.3300\n",
      "epoch 189: train_loss = 4.9697, val_loss = 6.2710\n",
      "epoch 190: train_loss = 1.1217, val_loss = 1.4434\n",
      "epoch 191: train_loss = 1.1489, val_loss = 1.4161\n",
      "epoch 192: train_loss = 1.3025, val_loss = 1.5475\n",
      "epoch 193: train_loss = 1.6850, val_loss = 2.1450\n",
      "epoch 194: train_loss = 3.5481, val_loss = 4.4558\n",
      "epoch 195: train_loss = 4.7131, val_loss = 6.2243\n",
      "epoch 196: train_loss = 3.4236, val_loss = 4.5070\n",
      "epoch 197: train_loss = 1.6431, val_loss = 2.0563\n",
      "epoch 198: train_loss = 1.4509, val_loss = 1.7756\n",
      "epoch 199: train_loss = 2.5095, val_loss = 3.0228\n",
      "epoch 200: train_loss = 1.4826, val_loss = 1.7879\n",
      "The model is saved at epoch = 117 and the loss = 0.4488801675684312\n"
     ]
    },
    {
     "data": {
      "image/png": "[encoded data removed]",
      "text/plain": [
       "<Figure size 432x288 with 1 Axes>"
      ]
     },
     "metadata": {
      "needs_background": "light"
     },
     "output_type": "display_data"
    }
   ],
   "source": [
    "in_channel = 160\n",
    "node_1 = 512\n",
    "node_2 = 512\n",
    "node_3 = 256\n",
    "node_4 = 256\n",
    "node_5 = 64\n",
    "node_6 = 16\n",
    "out_channel = 2\n",
    "\n",
    "learning_rate = 1e-3\n",
    "\n",
    "model_physics = PhysicsNet(in_channel, node_1, node_2, node_3, node_4, node_5, node_6, out_channel)\n",
    "optimizer = optim.Adam(model_physics.parameters(), lr=learning_rate)\n",
    "epoch = 200\n",
    "\n",
    "# 0 indicates edge points 1 indicates spline\n",
    "train_physics(model_physics, optimizer, epoch, 0)"
   ]
  },
  {
   "cell_type": "markdown",
   "metadata": {},
   "source": [
    "## Train PhysicsNet spline"
   ]
  },
  {
   "cell_type": "code",
   "execution_count": 14,
   "metadata": {},
   "outputs": [
    {
     "name": "stdout",
     "output_type": "stream",
     "text": [
      "epoch 1: train_loss = 1798.8305, val_loss = 2305.5142\n",
      "epoch 2: train_loss = 1752.4977, val_loss = 2242.7549\n",
      "epoch 3: train_loss = 1681.7762, val_loss = 2151.7607\n",
      "epoch 4: train_loss = 1639.8874, val_loss = 2097.3151\n",
      "epoch 5: train_loss = 1632.4991, val_loss = 2090.2035\n",
      "epoch 6: train_loss = 1580.9339, val_loss = 2021.5833\n",
      "epoch 7: train_loss = 1517.9661, val_loss = 1941.6079\n",
      "epoch 8: train_loss = 1467.7565, val_loss = 1875.4199\n",
      "epoch 9: train_loss = 1371.7022, val_loss = 1752.6564\n",
      "epoch 10: train_loss = 1296.8405, val_loss = 1659.8714\n",
      "epoch 11: train_loss = 1085.5496, val_loss = 1388.5195\n",
      "epoch 12: train_loss = 1197.3317, val_loss = 1531.1659\n",
      "epoch 13: train_loss = 1074.8750, val_loss = 1374.3761\n",
      "epoch 14: train_loss = 1010.4200, val_loss = 1294.2620\n",
      "epoch 15: train_loss = 943.4420, val_loss = 1205.5658\n",
      "epoch 16: train_loss = 842.7726, val_loss = 1077.5487\n",
      "epoch 17: train_loss = 753.2667, val_loss = 962.1426\n",
      "epoch 18: train_loss = 723.1134, val_loss = 924.8169\n",
      "epoch 19: train_loss = 693.4638, val_loss = 887.4215\n",
      "epoch 20: train_loss = 584.6347, val_loss = 747.4476\n",
      "epoch 21: train_loss = 514.1822, val_loss = 658.1182\n",
      "epoch 22: train_loss = 463.3746, val_loss = 589.7469\n",
      "epoch 23: train_loss = 332.2985, val_loss = 426.9565\n",
      "epoch 24: train_loss = 322.6344, val_loss = 414.4083\n",
      "epoch 25: train_loss = 303.0303, val_loss = 388.7280\n",
      "epoch 26: train_loss = 232.9797, val_loss = 301.1696\n",
      "epoch 27: train_loss = 291.1344, val_loss = 372.7126\n",
      "epoch 28: train_loss = 196.4167, val_loss = 252.3875\n",
      "epoch 29: train_loss = 106.2454, val_loss = 137.5690\n",
      "epoch 30: train_loss = 149.9005, val_loss = 193.7834\n",
      "epoch 31: train_loss = 144.7438, val_loss = 187.4496\n",
      "epoch 32: train_loss = 66.5543, val_loss = 85.3179\n",
      "epoch 33: train_loss = 100.7679, val_loss = 129.7375\n",
      "epoch 34: train_loss = 82.9469, val_loss = 108.5189\n",
      "epoch 35: train_loss = 92.5138, val_loss = 120.7102\n",
      "epoch 36: train_loss = 54.0566, val_loss = 70.5335\n",
      "epoch 37: train_loss = 53.8470, val_loss = 69.6919\n",
      "epoch 38: train_loss = 34.2513, val_loss = 44.6573\n",
      "epoch 39: train_loss = 34.6213, val_loss = 44.9642\n",
      "epoch 40: train_loss = 29.9080, val_loss = 38.5175\n",
      "epoch 41: train_loss = 19.3608, val_loss = 25.1295\n",
      "epoch 42: train_loss = 16.4498, val_loss = 21.2355\n",
      "epoch 43: train_loss = 15.0826, val_loss = 19.3786\n",
      "epoch 44: train_loss = 11.6905, val_loss = 15.2046\n",
      "epoch 45: train_loss = 12.0990, val_loss = 15.7814\n",
      "epoch 46: train_loss = 14.0736, val_loss = 17.8992\n",
      "epoch 47: train_loss = 12.3601, val_loss = 15.9114\n",
      "epoch 48: train_loss = 10.0089, val_loss = 12.7861\n",
      "epoch 49: train_loss = 4.7367, val_loss = 6.1712\n",
      "epoch 50: train_loss = 4.3541, val_loss = 5.6064\n",
      "epoch 51: train_loss = 3.6751, val_loss = 4.6765\n",
      "epoch 52: train_loss = 3.5620, val_loss = 4.6444\n",
      "epoch 53: train_loss = 6.1972, val_loss = 7.9311\n",
      "epoch 54: train_loss = 4.7531, val_loss = 6.0935\n",
      "epoch 55: train_loss = 4.1062, val_loss = 5.2798\n",
      "epoch 56: train_loss = 6.4579, val_loss = 8.2874\n",
      "epoch 57: train_loss = 2.7424, val_loss = 3.5804\n",
      "epoch 58: train_loss = 3.4588, val_loss = 4.6086\n",
      "epoch 59: train_loss = 3.1321, val_loss = 4.0605\n",
      "epoch 60: train_loss = 3.1966, val_loss = 4.0857\n",
      "epoch 61: train_loss = 2.4417, val_loss = 3.1852\n",
      "epoch 62: train_loss = 1.7577, val_loss = 2.2266\n",
      "epoch 63: train_loss = 1.9073, val_loss = 2.4994\n",
      "epoch 64: train_loss = 1.5122, val_loss = 1.9292\n",
      "epoch 65: train_loss = 2.0734, val_loss = 2.6581\n",
      "epoch 66: train_loss = 1.3191, val_loss = 1.6465\n",
      "epoch 67: train_loss = 9.1204, val_loss = 11.6992\n",
      "epoch 68: train_loss = 1.3176, val_loss = 1.6673\n",
      "epoch 69: train_loss = 1.3459, val_loss = 1.6727\n",
      "epoch 70: train_loss = 2.3586, val_loss = 3.0429\n",
      "epoch 71: train_loss = 1.8649, val_loss = 2.3931\n",
      "epoch 72: train_loss = 1.0409, val_loss = 1.3032\n",
      "epoch 73: train_loss = 2.7526, val_loss = 3.5264\n",
      "epoch 74: train_loss = 1.1548, val_loss = 1.3984\n",
      "epoch 75: train_loss = 1.0732, val_loss = 1.3214\n",
      "epoch 76: train_loss = 4.2484, val_loss = 5.4707\n",
      "epoch 77: train_loss = 1.3755, val_loss = 1.6874\n",
      "epoch 78: train_loss = 0.7149, val_loss = 0.8623\n",
      "epoch 79: train_loss = 1.2441, val_loss = 1.5480\n",
      "epoch 80: train_loss = 2.5440, val_loss = 3.2540\n",
      "epoch 81: train_loss = 0.6978, val_loss = 0.8696\n",
      "epoch 82: train_loss = 0.7864, val_loss = 0.9290\n",
      "epoch 83: train_loss = 1.3669, val_loss = 1.7087\n",
      "epoch 84: train_loss = 0.9665, val_loss = 1.2056\n",
      "epoch 85: train_loss = 1.5177, val_loss = 1.9098\n",
      "epoch 86: train_loss = 3.1660, val_loss = 4.0940\n",
      "epoch 87: train_loss = 1.5413, val_loss = 1.9216\n",
      "epoch 88: train_loss = 0.9541, val_loss = 1.1800\n",
      "epoch 89: train_loss = 1.4409, val_loss = 1.8632\n",
      "epoch 90: train_loss = 1.0614, val_loss = 1.3482\n",
      "epoch 91: train_loss = 10.2118, val_loss = 13.1729\n",
      "epoch 92: train_loss = 3.3718, val_loss = 4.3621\n",
      "epoch 93: train_loss = 1.1198, val_loss = 1.4363\n",
      "epoch 94: train_loss = 0.8806, val_loss = 1.0762\n",
      "epoch 95: train_loss = 0.5687, val_loss = 0.7119\n",
      "epoch 96: train_loss = 0.9540, val_loss = 1.1848\n",
      "epoch 97: train_loss = 7.9323, val_loss = 10.1904\n",
      "epoch 98: train_loss = 1.3018, val_loss = 1.5504\n",
      "epoch 99: train_loss = 0.5207, val_loss = 0.6076\n",
      "epoch 100: train_loss = 4.7771, val_loss = 6.1075\n",
      "epoch 101: train_loss = 1.6337, val_loss = 2.1332\n",
      "epoch 102: train_loss = 4.8669, val_loss = 6.2844\n",
      "epoch 103: train_loss = 3.5882, val_loss = 4.5202\n",
      "epoch 104: train_loss = 0.4755, val_loss = 0.5913\n",
      "epoch 105: train_loss = 0.9929, val_loss = 1.2645\n",
      "epoch 106: train_loss = 1.1644, val_loss = 1.4488\n",
      "epoch 107: train_loss = 1.6958, val_loss = 2.1972\n",
      "epoch 108: train_loss = 3.8213, val_loss = 5.0344\n",
      "epoch 109: train_loss = 3.7260, val_loss = 4.8280\n",
      "epoch 110: train_loss = 1.0437, val_loss = 1.2831\n",
      "epoch 111: train_loss = 0.8513, val_loss = 1.0559\n",
      "epoch 112: train_loss = 1.8772, val_loss = 2.3839\n",
      "epoch 113: train_loss = 2.3269, val_loss = 3.0032\n",
      "epoch 114: train_loss = 2.0122, val_loss = 2.6269\n",
      "epoch 115: train_loss = 0.6577, val_loss = 0.8409\n",
      "epoch 116: train_loss = 2.2926, val_loss = 2.9738\n",
      "epoch 117: train_loss = 1.7248, val_loss = 2.1993\n",
      "epoch 118: train_loss = 0.8537, val_loss = 1.0857\n",
      "epoch 119: train_loss = 11.2785, val_loss = 14.5349\n",
      "epoch 120: train_loss = 2.0908, val_loss = 2.7137\n",
      "epoch 121: train_loss = 1.4154, val_loss = 1.7841\n",
      "epoch 122: train_loss = 7.8404, val_loss = 10.0485\n",
      "epoch 123: train_loss = 0.6898, val_loss = 0.8298\n",
      "epoch 124: train_loss = 0.6893, val_loss = 0.8414\n",
      "epoch 125: train_loss = 0.4316, val_loss = 0.5099\n",
      "epoch 126: train_loss = 0.7406, val_loss = 0.9316\n",
      "epoch 127: train_loss = 1.3965, val_loss = 1.7745\n",
      "epoch 128: train_loss = 2.3062, val_loss = 2.9724\n",
      "epoch 129: train_loss = 0.8420, val_loss = 1.0771\n",
      "epoch 130: train_loss = 1.9810, val_loss = 2.5845\n",
      "epoch 131: train_loss = 1.5036, val_loss = 1.9002\n",
      "epoch 132: train_loss = 1.6749, val_loss = 2.1679\n",
      "epoch 133: train_loss = 0.8556, val_loss = 1.0859\n",
      "epoch 134: train_loss = 1.5674, val_loss = 2.0144\n",
      "epoch 135: train_loss = 1.2714, val_loss = 1.5422\n",
      "epoch 136: train_loss = 2.4776, val_loss = 3.1913\n",
      "epoch 137: train_loss = 1.1842, val_loss = 1.4957\n",
      "epoch 138: train_loss = 3.9919, val_loss = 5.1929\n",
      "epoch 139: train_loss = 4.9409, val_loss = 6.3855\n",
      "epoch 140: train_loss = 0.6136, val_loss = 0.7841\n",
      "epoch 141: train_loss = 1.1659, val_loss = 1.4462\n",
      "epoch 142: train_loss = 1.9602, val_loss = 2.5282\n",
      "epoch 143: train_loss = 1.0940, val_loss = 1.4047\n",
      "epoch 144: train_loss = 6.6751, val_loss = 8.7382\n",
      "epoch 145: train_loss = 1.0121, val_loss = 1.2859\n",
      "epoch 146: train_loss = 0.5824, val_loss = 0.7280\n",
      "epoch 147: train_loss = 0.6342, val_loss = 0.7906\n",
      "epoch 148: train_loss = 1.6450, val_loss = 2.1278\n",
      "epoch 149: train_loss = 3.4323, val_loss = 4.4302\n",
      "epoch 150: train_loss = 3.5629, val_loss = 4.5571\n",
      "epoch 151: train_loss = 6.4535, val_loss = 8.3558\n",
      "epoch 152: train_loss = 2.9072, val_loss = 3.7614\n",
      "epoch 153: train_loss = 4.9843, val_loss = 6.3907\n",
      "epoch 154: train_loss = 1.5484, val_loss = 1.8688\n",
      "epoch 155: train_loss = 3.9901, val_loss = 5.1617\n",
      "epoch 156: train_loss = 7.7944, val_loss = 10.2039\n",
      "epoch 157: train_loss = 1.1047, val_loss = 1.4370\n",
      "epoch 158: train_loss = 2.6035, val_loss = 3.3105\n",
      "epoch 159: train_loss = 2.0820, val_loss = 2.7466\n",
      "epoch 160: train_loss = 1.3689, val_loss = 1.7824\n",
      "epoch 161: train_loss = 19.2173, val_loss = 24.7939\n",
      "epoch 162: train_loss = 1.5921, val_loss = 2.0441\n",
      "epoch 163: train_loss = 0.7060, val_loss = 0.8448\n",
      "epoch 164: train_loss = 0.8644, val_loss = 1.0761\n",
      "epoch 165: train_loss = 1.2618, val_loss = 1.6277\n",
      "epoch 166: train_loss = 1.0952, val_loss = 1.3977\n",
      "epoch 167: train_loss = 0.7822, val_loss = 1.0184\n",
      "epoch 168: train_loss = 5.8455, val_loss = 7.5743\n",
      "epoch 169: train_loss = 1.9777, val_loss = 2.5285\n",
      "epoch 170: train_loss = 3.8506, val_loss = 4.9478\n",
      "epoch 171: train_loss = 2.1697, val_loss = 2.7851\n",
      "epoch 172: train_loss = 1.0199, val_loss = 1.2816\n",
      "epoch 173: train_loss = 2.2047, val_loss = 2.7942\n",
      "epoch 174: train_loss = 0.7504, val_loss = 0.9538\n",
      "epoch 175: train_loss = 1.6371, val_loss = 2.1235\n",
      "epoch 176: train_loss = 1.7273, val_loss = 2.2275\n",
      "epoch 177: train_loss = 1.1423, val_loss = 1.4231\n",
      "epoch 178: train_loss = 1.7802, val_loss = 2.2148\n",
      "epoch 179: train_loss = 0.5864, val_loss = 0.7492\n",
      "epoch 180: train_loss = 2.3058, val_loss = 2.9323\n",
      "epoch 181: train_loss = 4.9473, val_loss = 6.4585\n",
      "epoch 182: train_loss = 2.5707, val_loss = 3.3905\n",
      "epoch 183: train_loss = 6.8418, val_loss = 8.8167\n",
      "epoch 184: train_loss = 3.0699, val_loss = 3.8664\n",
      "epoch 185: train_loss = 0.9808, val_loss = 1.2514\n",
      "epoch 186: train_loss = 1.7991, val_loss = 2.3875\n",
      "epoch 187: train_loss = 1.6347, val_loss = 2.1367\n",
      "epoch 188: train_loss = 10.4163, val_loss = 13.4782\n",
      "epoch 189: train_loss = 2.4098, val_loss = 3.1154\n",
      "epoch 190: train_loss = 8.9099, val_loss = 11.4496\n",
      "epoch 191: train_loss = 0.7636, val_loss = 0.9930\n",
      "epoch 192: train_loss = 1.1697, val_loss = 1.4830\n",
      "epoch 193: train_loss = 2.0393, val_loss = 2.5829\n",
      "epoch 194: train_loss = 1.9223, val_loss = 2.5304\n",
      "epoch 195: train_loss = 3.7343, val_loss = 4.8702\n",
      "epoch 196: train_loss = 1.3116, val_loss = 1.7030\n",
      "epoch 197: train_loss = 7.2766, val_loss = 9.4277\n",
      "epoch 198: train_loss = 1.0456, val_loss = 1.3152\n",
      "epoch 199: train_loss = 6.7150, val_loss = 8.4988\n",
      "epoch 200: train_loss = 0.4843, val_loss = 0.6154\n",
      "The model is saved at epoch = 125 and the loss = 0.43160247802734375\n"
     ]
    },
    {
     "data": {
      "image/png": "[encoded data removed]",
      "text/plain": [
       "<Figure size 432x288 with 1 Axes>"
      ]
     },
     "metadata": {
      "needs_background": "light"
     },
     "output_type": "display_data"
    }
   ],
   "source": [
    "in_channel = 22\n",
    "node_1 = 512\n",
    "node_2 = 512\n",
    "node_3 = 256\n",
    "node_4 = 256\n",
    "node_5 = 64\n",
    "node_6 = 16\n",
    "out_channel = 2\n",
    "\n",
    "model_physics = PhysicsNet(in_channel, node_1, node_2, node_3, node_4, node_5, node_6, out_channel)\n",
    "optimizer = optim.Adam(model_physics.parameters(), lr=learning_rate)\n",
    "epoch = 200\n",
    "\n",
    "# 0 indicates edge points 1 indicates spline\n",
    "train_physics(model_physics, optimizer, epoch, 1)"
   ]
  },
  {
   "cell_type": "markdown",
   "metadata": {},
   "source": [
    "<font color=red>\n",
    "It seems like more points we have, small oscillation we get.<br>\n",
    "Instead of taking the polynomial coefficients as input, transfer coefficients into points.\n",
    "</font>"
   ]
  },
  {
   "cell_type": "markdown",
   "metadata": {},
   "source": [
    "### Retrain with SGD"
   ]
  },
  {
   "cell_type": "code",
   "execution_count": 18,
   "metadata": {},
   "outputs": [
    {
     "name": "stdout",
     "output_type": "stream",
     "text": [
      "epoch 1: train_loss = 0.1965, val_loss = 0.2486\n",
      "epoch 2: train_loss = 0.1950, val_loss = 0.2495\n",
      "epoch 3: train_loss = 0.5170, val_loss = 0.6382\n",
      "epoch 4: train_loss = 0.2383, val_loss = 0.3036\n",
      "epoch 5: train_loss = 0.2153, val_loss = 0.2701\n",
      "epoch 6: train_loss = 0.2214, val_loss = 0.2832\n",
      "epoch 7: train_loss = 0.2099, val_loss = 0.2634\n",
      "epoch 8: train_loss = 0.6380, val_loss = 0.7930\n",
      "epoch 9: train_loss = 0.1976, val_loss = 0.2536\n",
      "epoch 10: train_loss = 0.2522, val_loss = 0.3194\n",
      "epoch 11: train_loss = 0.6812, val_loss = 0.8413\n",
      "epoch 12: train_loss = 0.2381, val_loss = 0.3030\n",
      "epoch 13: train_loss = 0.1849, val_loss = 0.2344\n",
      "epoch 14: train_loss = 0.2116, val_loss = 0.2698\n",
      "epoch 15: train_loss = 0.2094, val_loss = 0.2657\n",
      "epoch 16: train_loss = 0.2304, val_loss = 0.2934\n",
      "epoch 17: train_loss = 0.2164, val_loss = 0.2751\n",
      "epoch 18: train_loss = 0.2657, val_loss = 0.3359\n",
      "epoch 19: train_loss = 0.3783, val_loss = 0.4643\n",
      "epoch 20: train_loss = 0.2140, val_loss = 0.2769\n",
      "epoch 21: train_loss = 0.3812, val_loss = 0.4803\n",
      "epoch 22: train_loss = 0.2932, val_loss = 0.3754\n",
      "epoch 23: train_loss = 0.1998, val_loss = 0.2523\n",
      "epoch 24: train_loss = 0.2006, val_loss = 0.2518\n",
      "epoch 25: train_loss = 0.2022, val_loss = 0.2517\n",
      "epoch 26: train_loss = 0.4143, val_loss = 0.5093\n",
      "epoch 27: train_loss = 0.2092, val_loss = 0.2654\n",
      "epoch 28: train_loss = 0.4014, val_loss = 0.5006\n",
      "epoch 29: train_loss = 0.2165, val_loss = 0.2803\n",
      "epoch 30: train_loss = 0.3909, val_loss = 0.4959\n",
      "epoch 31: train_loss = 0.2382, val_loss = 0.3057\n",
      "epoch 32: train_loss = 0.5182, val_loss = 0.6501\n",
      "epoch 33: train_loss = 0.5134, val_loss = 0.6378\n",
      "epoch 34: train_loss = 0.4090, val_loss = 0.5045\n",
      "epoch 35: train_loss = 0.6487, val_loss = 0.7986\n",
      "epoch 36: train_loss = 0.1981, val_loss = 0.2505\n",
      "epoch 37: train_loss = 0.2255, val_loss = 0.2857\n",
      "epoch 38: train_loss = 0.4036, val_loss = 0.4995\n",
      "epoch 39: train_loss = 0.2783, val_loss = 0.3468\n",
      "epoch 40: train_loss = 0.1987, val_loss = 0.2495\n",
      "epoch 41: train_loss = 1.2482, val_loss = 1.5621\n",
      "epoch 42: train_loss = 0.9998, val_loss = 1.2379\n",
      "epoch 43: train_loss = 0.3315, val_loss = 0.4107\n",
      "epoch 44: train_loss = 0.3009, val_loss = 0.3703\n",
      "epoch 45: train_loss = 0.3165, val_loss = 0.3991\n",
      "epoch 46: train_loss = 0.9533, val_loss = 1.1826\n",
      "epoch 47: train_loss = 0.2746, val_loss = 0.3457\n",
      "epoch 48: train_loss = 0.2299, val_loss = 0.2949\n",
      "epoch 49: train_loss = 0.2062, val_loss = 0.2654\n",
      "epoch 50: train_loss = 0.2105, val_loss = 0.2657\n",
      "epoch 51: train_loss = 0.2137, val_loss = 0.2674\n",
      "epoch 52: train_loss = 0.8103, val_loss = 1.0037\n",
      "epoch 53: train_loss = 0.2348, val_loss = 0.3023\n",
      "epoch 54: train_loss = 0.2124, val_loss = 0.2711\n",
      "epoch 55: train_loss = 0.3202, val_loss = 0.4045\n",
      "epoch 56: train_loss = 0.2371, val_loss = 0.3005\n",
      "epoch 57: train_loss = 0.2110, val_loss = 0.2727\n",
      "epoch 58: train_loss = 0.2158, val_loss = 0.2721\n",
      "epoch 59: train_loss = 0.2398, val_loss = 0.3063\n",
      "epoch 60: train_loss = 0.4425, val_loss = 0.5436\n",
      "epoch 61: train_loss = 0.2521, val_loss = 0.3198\n",
      "epoch 62: train_loss = 0.2933, val_loss = 0.3776\n",
      "epoch 63: train_loss = 0.2081, val_loss = 0.2633\n",
      "epoch 64: train_loss = 0.2194, val_loss = 0.2829\n",
      "epoch 65: train_loss = 0.5181, val_loss = 0.6386\n",
      "epoch 66: train_loss = 0.2522, val_loss = 0.3155\n",
      "epoch 67: train_loss = 0.2726, val_loss = 0.3370\n",
      "epoch 68: train_loss = 0.2517, val_loss = 0.3147\n",
      "epoch 69: train_loss = 0.5623, val_loss = 0.7025\n",
      "epoch 70: train_loss = 0.4118, val_loss = 0.5133\n",
      "epoch 71: train_loss = 0.4280, val_loss = 0.5225\n",
      "epoch 72: train_loss = 0.1988, val_loss = 0.2538\n",
      "epoch 73: train_loss = 0.2072, val_loss = 0.2618\n",
      "epoch 74: train_loss = 0.2194, val_loss = 0.2789\n",
      "epoch 75: train_loss = 0.5976, val_loss = 0.7549\n",
      "epoch 76: train_loss = 0.2054, val_loss = 0.2614\n",
      "epoch 77: train_loss = 0.1954, val_loss = 0.2490\n",
      "epoch 78: train_loss = 0.2787, val_loss = 0.3588\n",
      "epoch 79: train_loss = 0.2045, val_loss = 0.2594\n",
      "epoch 80: train_loss = 0.1909, val_loss = 0.2427\n",
      "epoch 81: train_loss = 0.2525, val_loss = 0.3181\n",
      "epoch 82: train_loss = 0.3809, val_loss = 0.4760\n",
      "epoch 83: train_loss = 0.5873, val_loss = 0.7392\n",
      "epoch 84: train_loss = 0.2113, val_loss = 0.2692\n",
      "epoch 85: train_loss = 0.2290, val_loss = 0.2878\n",
      "epoch 86: train_loss = 0.2862, val_loss = 0.3650\n",
      "epoch 87: train_loss = 0.2084, val_loss = 0.2632\n",
      "epoch 88: train_loss = 0.3635, val_loss = 0.4456\n",
      "epoch 89: train_loss = 0.3800, val_loss = 0.4811\n",
      "epoch 90: train_loss = 0.2493, val_loss = 0.3115\n",
      "epoch 91: train_loss = 0.4170, val_loss = 0.5264\n",
      "epoch 92: train_loss = 0.4053, val_loss = 0.5021\n",
      "epoch 93: train_loss = 0.2897, val_loss = 0.3559\n",
      "epoch 94: train_loss = 0.9532, val_loss = 1.1954\n",
      "epoch 95: train_loss = 0.2432, val_loss = 0.3096\n",
      "epoch 96: train_loss = 0.5125, val_loss = 0.6482\n",
      "epoch 97: train_loss = 0.6230, val_loss = 0.7672\n",
      "epoch 98: train_loss = 0.2039, val_loss = 0.2567\n",
      "epoch 99: train_loss = 0.2222, val_loss = 0.2823\n",
      "epoch 100: train_loss = 1.1455, val_loss = 1.4228\n",
      "The model is saved at epoch = 99 and the loss = 0.2221854995278751\n"
     ]
    },
    {
     "data": {
      "image/png": "[encoded data removed]",
      "text/plain": [
       "<Figure size 432x288 with 1 Axes>"
      ]
     },
     "metadata": {
      "needs_background": "light"
     },
     "output_type": "display_data"
    }
   ],
   "source": [
    "# PATH_CAL = os.path.join(os.getcwd(), \"model_cal_points.pt\")\n",
    "PATH_CAL = os.path.join(os.getcwd(), \"model_cal_spline.pt\")\n",
    "\n",
    "model_physics_trained = torch.load(PATH_CAL)\n",
    "\n",
    "learning_rate = 1e-4\n",
    "\n",
    "optimizer = optim.SGD(model_physics_trained.parameters(), lr=learning_rate)\n",
    "epoch = 100\n",
    "\n",
    "# 0 indicates edge points 1 indicates spline\n",
    "train_physics(model_physics_trained, optimizer, epoch, 1)"
   ]
  },
  {
   "cell_type": "markdown",
   "metadata": {},
   "source": [
    "### Visualization of outcomes\n",
    "Edge Point Model"
   ]
  },
  {
   "cell_type": "code",
   "execution_count": 19,
   "metadata": {},
   "outputs": [
    {
     "name": "stdout",
     "output_type": "stream",
     "text": [
      "Ground Truths     = tensor([[54.8000, 22.4818],\n",
      "        [48.4000, 18.0608],\n",
      "        [34.1000, 10.4128],\n",
      "        [58.1000, 19.5164],\n",
      "        [15.2000,  6.0122],\n",
      "        [23.5000, 10.1629],\n",
      "        [49.2000, 23.5172],\n",
      "        [60.0000, 26.3465]])\n",
      "Prediction Points = tensor([[55.0641, 22.5130],\n",
      "        [48.1196, 18.0145],\n",
      "        [34.7935, 10.6914],\n",
      "        [58.1139, 19.6032],\n",
      "        [17.1270,  7.0388],\n",
      "        [23.4197, 10.2470],\n",
      "        [48.8733, 23.6151],\n",
      "        [59.3774, 26.5298]])\n"
     ]
    }
   ],
   "source": [
    "PATH_CAL_POINTS = os.path.join(os.getcwd(), \"model_cal_points.pt\")\n",
    "\n",
    "model_physics_trained_points = torch.load(PATH_CAL_POINTS)\n",
    "\n",
    "examples = enumerate(test_loader_points)\n",
    "_, (x_test_points, y_test_points) = next(examples)\n",
    "\n",
    "score_example_points = prediction(model_physics_trained_points, x_test_points)\n",
    "\n",
    "# Print only 8 data samples for comparison\n",
    "print(\"Ground Truths     =\", y_test_points[:8])\n",
    "print(\"Prediction Points =\", score_example_points[:8].reshape(8, 2))"
   ]
  },
  {
   "cell_type": "markdown",
   "metadata": {},
   "source": [
    "Spline Model"
   ]
  },
  {
   "cell_type": "code",
   "execution_count": 20,
   "metadata": {},
   "outputs": [
    {
     "name": "stdout",
     "output_type": "stream",
     "text": [
      "Ground Truths     = tensor([[68.7000, 18.6822],\n",
      "        [30.9000, 14.0615],\n",
      "        [17.6000,  6.9696],\n",
      "        [41.2000, 18.7705],\n",
      "        [73.4000, 31.9182],\n",
      "        [44.2000, 15.5686],\n",
      "        [49.1000, 23.1726],\n",
      "        [64.6000, 24.3229]])\n",
      "Prediction Spline = tensor([[68.2813, 19.1397],\n",
      "        [31.0530, 14.0957],\n",
      "        [17.9066,  7.0499],\n",
      "        [41.3635, 18.7978],\n",
      "        [73.2092, 32.2094],\n",
      "        [44.5009, 15.4835],\n",
      "        [49.3956, 22.9681],\n",
      "        [64.1972, 24.1634]])\n"
     ]
    }
   ],
   "source": [
    "PATH_CAL_SPLINE = os.path.join(os.getcwd(), \"model_cal_spline.pt\")\n",
    "\n",
    "model_physics_trained_spline = torch.load(PATH_CAL_SPLINE)\n",
    "\n",
    "examples = enumerate(test_loader_spline)\n",
    "_, (x_test_spline, y_test_spline) = next(examples)\n",
    "\n",
    "score_example_spline = prediction(model_physics_trained_spline, x_test_spline)\n",
    "\n",
    "# Print only 8 data samples for comparison\n",
    "print(\"Ground Truths     =\", y_test_spline[:8])\n",
    "print(\"Prediction Spline =\", score_example_spline[:8].reshape(8, 2))"
   ]
  },
  {
   "cell_type": "markdown",
   "metadata": {},
   "source": [
    "## Train PictureNet edge points"
   ]
  },
  {
   "cell_type": "code",
   "execution_count": 21,
   "metadata": {},
   "outputs": [
    {
     "name": "stdout",
     "output_type": "stream",
     "text": [
      "epoch 1: train_loss = 1.0819, val_loss = 1.3115\n",
      "epoch 2: train_loss = 1.0549, val_loss = 1.2768\n",
      "epoch 3: train_loss = 0.0295, val_loss = 0.0357\n",
      "epoch 4: train_loss = 0.7713, val_loss = 0.9387\n",
      "epoch 5: train_loss = 0.2277, val_loss = 0.2777\n",
      "epoch 6: train_loss = 0.0100, val_loss = 0.0121\n",
      "epoch 7: train_loss = 1.5768, val_loss = 1.9165\n",
      "epoch 8: train_loss = 0.0600, val_loss = 0.0728\n",
      "epoch 9: train_loss = 1.3030, val_loss = 1.5843\n",
      "epoch 10: train_loss = 0.3826, val_loss = 0.4661\n",
      "epoch 11: train_loss = 0.2732, val_loss = 0.3321\n",
      "epoch 12: train_loss = 0.0085, val_loss = 0.0104\n",
      "epoch 13: train_loss = 0.7909, val_loss = 0.9631\n",
      "epoch 14: train_loss = 0.1190, val_loss = 0.1449\n",
      "epoch 15: train_loss = 1.2889, val_loss = 1.5679\n",
      "epoch 16: train_loss = 1.1996, val_loss = 1.4562\n",
      "epoch 17: train_loss = 0.0009, val_loss = 0.0010\n",
      "epoch 18: train_loss = 1.5206, val_loss = 1.8451\n",
      "epoch 19: train_loss = 1.6373, val_loss = 1.9875\n",
      "epoch 20: train_loss = 1.2104, val_loss = 1.4709\n",
      "epoch 21: train_loss = 1.1782, val_loss = 1.4305\n",
      "epoch 22: train_loss = 0.0820, val_loss = 0.0999\n",
      "epoch 23: train_loss = 0.0057, val_loss = 0.0067\n",
      "epoch 24: train_loss = 0.7536, val_loss = 0.9144\n",
      "epoch 25: train_loss = 0.1528, val_loss = 0.1847\n",
      "epoch 26: train_loss = 0.6642, val_loss = 0.8072\n",
      "epoch 27: train_loss = 0.0450, val_loss = 0.0547\n",
      "epoch 28: train_loss = 0.4424, val_loss = 0.5377\n",
      "epoch 29: train_loss = 0.3558, val_loss = 0.4324\n",
      "epoch 30: train_loss = 0.7457, val_loss = 0.9061\n",
      "epoch 31: train_loss = 0.6170, val_loss = 0.7492\n",
      "epoch 32: train_loss = 0.0858, val_loss = 0.1043\n",
      "epoch 33: train_loss = 0.8187, val_loss = 0.9940\n",
      "epoch 34: train_loss = 0.3443, val_loss = 0.4183\n",
      "epoch 35: train_loss = 0.8907, val_loss = 1.0797\n",
      "epoch 36: train_loss = 0.0848, val_loss = 0.1029\n",
      "epoch 37: train_loss = 0.1682, val_loss = 0.2047\n",
      "epoch 38: train_loss = 0.0697, val_loss = 0.0849\n",
      "epoch 39: train_loss = 0.2421, val_loss = 0.2948\n",
      "epoch 40: train_loss = 0.0008, val_loss = 0.0009\n",
      "epoch 41: train_loss = 0.2816, val_loss = 0.3422\n",
      "epoch 42: train_loss = 0.1327, val_loss = 0.1614\n",
      "epoch 43: train_loss = 0.2086, val_loss = 0.2540\n",
      "epoch 44: train_loss = 0.2917, val_loss = 0.3546\n",
      "epoch 45: train_loss = 0.2187, val_loss = 0.2657\n",
      "epoch 46: train_loss = 0.2568, val_loss = 0.3121\n",
      "epoch 47: train_loss = 0.1218, val_loss = 0.1484\n",
      "epoch 48: train_loss = 0.1013, val_loss = 0.1235\n",
      "epoch 49: train_loss = 0.0424, val_loss = 0.0518\n",
      "epoch 50: train_loss = 0.0401, val_loss = 0.0491\n",
      "epoch 51: train_loss = 0.0020, val_loss = 0.0025\n",
      "epoch 52: train_loss = 0.1185, val_loss = 0.1445\n",
      "epoch 53: train_loss = 0.0335, val_loss = 0.0408\n",
      "epoch 54: train_loss = 0.0139, val_loss = 0.0172\n",
      "epoch 55: train_loss = 0.0144, val_loss = 0.0180\n",
      "epoch 56: train_loss = 0.0172, val_loss = 0.0215\n",
      "epoch 57: train_loss = 0.0015, val_loss = 0.0018\n",
      "epoch 58: train_loss = 0.0574, val_loss = 0.0705\n",
      "epoch 59: train_loss = 0.0229, val_loss = 0.0278\n",
      "epoch 60: train_loss = 0.0359, val_loss = 0.0440\n",
      "epoch 61: train_loss = 0.0008, val_loss = 0.0010\n",
      "epoch 62: train_loss = 0.0276, val_loss = 0.0341\n",
      "epoch 63: train_loss = 0.0173, val_loss = 0.0211\n",
      "epoch 64: train_loss = 0.0162, val_loss = 0.0199\n",
      "epoch 65: train_loss = 0.0492, val_loss = 0.0603\n",
      "epoch 66: train_loss = 0.0343, val_loss = 0.0426\n",
      "epoch 67: train_loss = 0.0098, val_loss = 0.0123\n",
      "epoch 68: train_loss = 0.0076, val_loss = 0.0092\n",
      "epoch 69: train_loss = 0.0125, val_loss = 0.0152\n",
      "epoch 70: train_loss = 0.0162, val_loss = 0.0198\n",
      "epoch 71: train_loss = 0.0208, val_loss = 0.0250\n",
      "epoch 72: train_loss = 0.0311, val_loss = 0.0387\n",
      "epoch 73: train_loss = 0.0119, val_loss = 0.0148\n",
      "epoch 74: train_loss = 0.0103, val_loss = 0.0127\n",
      "epoch 75: train_loss = 0.0059, val_loss = 0.0072\n",
      "epoch 76: train_loss = 0.0342, val_loss = 0.0422\n",
      "epoch 77: train_loss = 0.0345, val_loss = 0.0428\n",
      "epoch 78: train_loss = 0.0355, val_loss = 0.0440\n",
      "epoch 79: train_loss = 0.0493, val_loss = 0.0609\n",
      "epoch 80: train_loss = 0.0095, val_loss = 0.0117\n",
      "epoch 81: train_loss = 0.0074, val_loss = 0.0092\n",
      "epoch 82: train_loss = 0.0386, val_loss = 0.0471\n",
      "epoch 83: train_loss = 0.0106, val_loss = 0.0124\n",
      "epoch 84: train_loss = 0.1265, val_loss = 0.1523\n",
      "epoch 85: train_loss = 0.0257, val_loss = 0.0315\n",
      "epoch 86: train_loss = 0.0735, val_loss = 0.0874\n",
      "epoch 87: train_loss = 0.0398, val_loss = 0.0480\n",
      "epoch 88: train_loss = 0.0195, val_loss = 0.0230\n",
      "epoch 89: train_loss = 0.0555, val_loss = 0.0676\n",
      "epoch 90: train_loss = 0.0120, val_loss = 0.0144\n",
      "epoch 91: train_loss = 0.0163, val_loss = 0.0198\n",
      "epoch 92: train_loss = 0.1163, val_loss = 0.1399\n",
      "epoch 93: train_loss = 0.0205, val_loss = 0.0254\n",
      "epoch 94: train_loss = 0.0084, val_loss = 0.0102\n",
      "epoch 95: train_loss = 0.0054, val_loss = 0.0066\n",
      "epoch 96: train_loss = 0.0574, val_loss = 0.0702\n",
      "epoch 97: train_loss = 0.0971, val_loss = 0.1168\n",
      "epoch 98: train_loss = 0.0792, val_loss = 0.0973\n",
      "epoch 99: train_loss = 0.0673, val_loss = 0.0826\n",
      "epoch 100: train_loss = 0.0925, val_loss = 0.1104\n",
      "The model is saved at epoch = 61 and the loss = 0.0008424633231602217\n"
     ]
    },
    {
     "data": {
      "image/png": "[encoded data removed]",
      "text/plain": [
       "<Figure size 432x288 with 1 Axes>"
      ]
     },
     "metadata": {
      "needs_background": "light"
     },
     "output_type": "display_data"
    }
   ],
   "source": [
    "in_channel = 1\n",
    "channel_1 = 16\n",
    "channel_2 = 32\n",
    "channel_3 = 64\n",
    "node_1 = 1024\n",
    "node_2 = 1024\n",
    "out_channel = 160\n",
    "\n",
    "learning_rate = 1e-3\n",
    "\n",
    "model_picture = PictureNet(in_channel, channel_1, channel_2, channel_3, node_1, node_2, out_channel)\n",
    "optimizer = optim.Adam(model_picture.parameters(), lr=learning_rate)\n",
    "epoch = 100\n",
    "\n",
    "# 0 indicates edge points 1 indicates spline\n",
    "train_picture(model_picture, optimizer, epoch, 0)"
   ]
  },
  {
   "cell_type": "markdown",
   "metadata": {},
   "source": [
    "## Train PictureNet for spline"
   ]
  },
  {
   "cell_type": "code",
   "execution_count": 22,
   "metadata": {},
   "outputs": [
    {
     "name": "stdout",
     "output_type": "stream",
     "text": [
      "epoch 1: train_loss = 1.0596, val_loss = 1.2897\n",
      "epoch 2: train_loss = 0.6276, val_loss = 0.7643\n",
      "epoch 3: train_loss = 0.0253, val_loss = 0.0308\n",
      "epoch 4: train_loss = 0.0067, val_loss = 0.0082\n",
      "epoch 5: train_loss = 0.0065, val_loss = 0.0079\n",
      "epoch 6: train_loss = 0.0035, val_loss = 0.0042\n",
      "epoch 7: train_loss = 0.0037, val_loss = 0.0045\n",
      "epoch 8: train_loss = 0.0036, val_loss = 0.0044\n",
      "epoch 9: train_loss = 0.0009, val_loss = 0.0010\n",
      "epoch 10: train_loss = 0.0021, val_loss = 0.0025\n",
      "epoch 11: train_loss = 0.0022, val_loss = 0.0027\n",
      "epoch 12: train_loss = 0.0033, val_loss = 0.0040\n",
      "epoch 13: train_loss = 0.0014, val_loss = 0.0016\n",
      "epoch 14: train_loss = 0.0016, val_loss = 0.0020\n",
      "epoch 15: train_loss = 0.0064, val_loss = 0.0078\n",
      "epoch 16: train_loss = 0.0064, val_loss = 0.0078\n",
      "epoch 17: train_loss = 0.0013, val_loss = 0.0016\n",
      "epoch 18: train_loss = 0.0171, val_loss = 0.0208\n",
      "epoch 19: train_loss = 0.0045, val_loss = 0.0054\n",
      "epoch 20: train_loss = 0.0009, val_loss = 0.0011\n",
      "epoch 21: train_loss = 0.0286, val_loss = 0.0348\n",
      "epoch 22: train_loss = 0.0053, val_loss = 0.0064\n",
      "epoch 23: train_loss = 0.0016, val_loss = 0.0019\n",
      "epoch 24: train_loss = 0.0056, val_loss = 0.0068\n",
      "epoch 25: train_loss = 0.0067, val_loss = 0.0081\n",
      "epoch 26: train_loss = 0.0059, val_loss = 0.0071\n",
      "epoch 27: train_loss = 0.0059, val_loss = 0.0072\n",
      "epoch 28: train_loss = 0.0010, val_loss = 0.0012\n",
      "epoch 29: train_loss = 0.0029, val_loss = 0.0036\n",
      "epoch 30: train_loss = 0.1270, val_loss = 0.1543\n",
      "epoch 31: train_loss = 0.0009, val_loss = 0.0011\n",
      "epoch 32: train_loss = 0.0002, val_loss = 0.0002\n",
      "epoch 33: train_loss = 0.0023, val_loss = 0.0027\n",
      "epoch 34: train_loss = 0.0003, val_loss = 0.0003\n",
      "epoch 35: train_loss = 0.0008, val_loss = 0.0010\n",
      "epoch 36: train_loss = 0.0071, val_loss = 0.0087\n",
      "epoch 37: train_loss = 0.0017, val_loss = 0.0021\n",
      "epoch 38: train_loss = 0.0003, val_loss = 0.0003\n",
      "epoch 39: train_loss = 0.0002, val_loss = 0.0002\n",
      "epoch 40: train_loss = 0.0027, val_loss = 0.0033\n",
      "epoch 41: train_loss = 0.0027, val_loss = 0.0033\n",
      "epoch 42: train_loss = 0.0014, val_loss = 0.0017\n",
      "epoch 43: train_loss = 0.0006, val_loss = 0.0007\n",
      "epoch 44: train_loss = 0.0012, val_loss = 0.0014\n",
      "epoch 45: train_loss = 0.0004, val_loss = 0.0005\n",
      "epoch 46: train_loss = 0.0016, val_loss = 0.0020\n",
      "epoch 47: train_loss = 0.0089, val_loss = 0.0108\n",
      "epoch 48: train_loss = 0.0021, val_loss = 0.0025\n",
      "epoch 49: train_loss = 0.0209, val_loss = 0.0254\n",
      "epoch 50: train_loss = 0.0003, val_loss = 0.0004\n",
      "epoch 51: train_loss = 0.0017, val_loss = 0.0021\n",
      "epoch 52: train_loss = 0.0004, val_loss = 0.0005\n",
      "epoch 53: train_loss = 0.0002, val_loss = 0.0002\n",
      "epoch 54: train_loss = 0.0051, val_loss = 0.0062\n",
      "epoch 55: train_loss = 0.0010, val_loss = 0.0012\n",
      "epoch 56: train_loss = 0.0100, val_loss = 0.0122\n",
      "epoch 57: train_loss = 0.0006, val_loss = 0.0007\n",
      "epoch 58: train_loss = 0.0003, val_loss = 0.0004\n",
      "epoch 59: train_loss = 0.0019, val_loss = 0.0024\n",
      "epoch 60: train_loss = 0.0001, val_loss = 0.0001\n",
      "epoch 61: train_loss = 0.0001, val_loss = 0.0002\n",
      "epoch 62: train_loss = 0.0010, val_loss = 0.0012\n",
      "epoch 63: train_loss = 0.0016, val_loss = 0.0019\n",
      "epoch 64: train_loss = 0.0013, val_loss = 0.0016\n",
      "epoch 65: train_loss = 0.0005, val_loss = 0.0005\n",
      "epoch 66: train_loss = 0.0005, val_loss = 0.0006\n",
      "epoch 67: train_loss = 0.0003, val_loss = 0.0004\n",
      "epoch 68: train_loss = 0.0002, val_loss = 0.0003\n",
      "epoch 69: train_loss = 0.0005, val_loss = 0.0007\n",
      "epoch 70: train_loss = 0.0009, val_loss = 0.0010\n",
      "epoch 71: train_loss = 0.0003, val_loss = 0.0003\n",
      "epoch 72: train_loss = 0.0013, val_loss = 0.0015\n",
      "epoch 73: train_loss = 0.0071, val_loss = 0.0086\n",
      "epoch 74: train_loss = 0.0001, val_loss = 0.0001\n",
      "epoch 75: train_loss = 0.0003, val_loss = 0.0003\n",
      "epoch 76: train_loss = 0.0002, val_loss = 0.0003\n",
      "epoch 77: train_loss = 0.0026, val_loss = 0.0031\n",
      "epoch 78: train_loss = 0.0002, val_loss = 0.0002\n",
      "epoch 79: train_loss = 0.0001, val_loss = 0.0002\n",
      "epoch 80: train_loss = 0.0006, val_loss = 0.0008\n",
      "epoch 81: train_loss = 0.0001, val_loss = 0.0002\n",
      "epoch 82: train_loss = 0.0001, val_loss = 0.0001\n",
      "epoch 83: train_loss = 0.0012, val_loss = 0.0014\n",
      "epoch 84: train_loss = 0.0020, val_loss = 0.0024\n",
      "epoch 85: train_loss = 0.0007, val_loss = 0.0009\n",
      "epoch 86: train_loss = 0.0002, val_loss = 0.0003\n",
      "epoch 87: train_loss = 0.0005, val_loss = 0.0006\n",
      "epoch 88: train_loss = 0.0001, val_loss = 0.0002\n",
      "epoch 89: train_loss = 0.0001, val_loss = 0.0001\n",
      "epoch 90: train_loss = 0.0027, val_loss = 0.0033\n",
      "epoch 91: train_loss = 0.0001, val_loss = 0.0001\n",
      "epoch 92: train_loss = 0.0006, val_loss = 0.0007\n",
      "epoch 93: train_loss = 0.0001, val_loss = 0.0002\n",
      "epoch 94: train_loss = 0.0008, val_loss = 0.0010\n",
      "epoch 95: train_loss = 0.0003, val_loss = 0.0003\n",
      "epoch 96: train_loss = 0.0001, val_loss = 0.0001\n",
      "epoch 97: train_loss = 0.0021, val_loss = 0.0025\n",
      "epoch 98: train_loss = 0.0003, val_loss = 0.0003\n",
      "epoch 99: train_loss = 0.0004, val_loss = 0.0005\n",
      "epoch 100: train_loss = 0.0001, val_loss = 0.0001\n",
      "The model is saved at epoch = 89 and the loss = 6.638395011817153e-05\n"
     ]
    },
    {
     "data": {
      "image/png": "[encoded data removed]",
      "text/plain": [
       "<Figure size 432x288 with 1 Axes>"
      ]
     },
     "metadata": {
      "needs_background": "light"
     },
     "output_type": "display_data"
    }
   ],
   "source": [
    "in_channel = 1\n",
    "channel_1 = 16\n",
    "channel_2 = 32\n",
    "channel_3 = 64\n",
    "node_1 = 1024\n",
    "node_2 = 1024\n",
    "out_channel = 22\n",
    "\n",
    "learning_rate = 1e-3\n",
    "\n",
    "model_picture = PictureNet(in_channel, channel_1, channel_2, channel_3, node_1, node_2, out_channel)\n",
    "optimizer = optim.Adam(model_picture.parameters(), lr=learning_rate)\n",
    "epoch = 100\n",
    "\n",
    "# 0 indicates edge points 1 indicates spline\n",
    "train_picture(model_picture, optimizer, epoch, 1)"
   ]
  },
  {
   "cell_type": "markdown",
   "metadata": {},
   "source": [
    "### Retrain with SGD"
   ]
  },
  {
   "cell_type": "code",
   "execution_count": 28,
   "metadata": {},
   "outputs": [
    {
     "name": "stdout",
     "output_type": "stream",
     "text": [
      "epoch 1: train_loss = 0.0003, val_loss = 0.0003\n",
      "epoch 2: train_loss = 0.0001, val_loss = 0.0002\n",
      "epoch 3: train_loss = 0.0001, val_loss = 0.0001\n",
      "epoch 4: train_loss = 0.0001, val_loss = 0.0001\n",
      "epoch 5: train_loss = 0.0001, val_loss = 0.0002\n",
      "epoch 6: train_loss = 0.0001, val_loss = 0.0002\n",
      "epoch 7: train_loss = 0.0001, val_loss = 0.0002\n",
      "epoch 8: train_loss = 0.0001, val_loss = 0.0002\n",
      "epoch 9: train_loss = 0.0001, val_loss = 0.0002\n",
      "epoch 10: train_loss = 0.0001, val_loss = 0.0002\n",
      "epoch 11: train_loss = 0.0001, val_loss = 0.0002\n",
      "epoch 12: train_loss = 0.0001, val_loss = 0.0002\n",
      "epoch 13: train_loss = 0.0001, val_loss = 0.0002\n",
      "epoch 14: train_loss = 0.0001, val_loss = 0.0002\n",
      "epoch 15: train_loss = 0.0001, val_loss = 0.0002\n",
      "epoch 16: train_loss = 0.0001, val_loss = 0.0002\n",
      "epoch 17: train_loss = 0.0001, val_loss = 0.0001\n",
      "epoch 18: train_loss = 0.0001, val_loss = 0.0002\n",
      "epoch 19: train_loss = 0.0001, val_loss = 0.0002\n",
      "epoch 20: train_loss = 0.0001, val_loss = 0.0002\n",
      "The model is saved at epoch = 20 and the loss = 0.00012497444588102793\n"
     ]
    },
    {
     "data": {
      "image/png": "[encoded data removed]",
      "text/plain": [
       "<Figure size 432x288 with 1 Axes>"
      ]
     },
     "metadata": {
      "needs_background": "light"
     },
     "output_type": "display_data"
    }
   ],
   "source": [
    "PATH_PIC = os.path.join(os.getcwd(), \"model_pic_points.pt\")\n",
    "# PATH_PIC = os.path.join(os.getcwd(), \"model_pic_spline.pt\")\n",
    "\n",
    "model_picture_trained = torch.load(PATH_PIC)\n",
    "\n",
    "learning_rate = 1e-3\n",
    "\n",
    "optimizer = optim.SGD(model_picture_trained.parameters(), lr=learning_rate)\n",
    "epoch = 20\n",
    "\n",
    "# 0 indicates edge points 1 indicates spline\n",
    "train_picture(model_picture_trained, optimizer, epoch, 0)"
   ]
  },
  {
   "cell_type": "markdown",
   "metadata": {},
   "source": [
    "### Visualization of outcomes"
   ]
  },
  {
   "cell_type": "code",
   "execution_count": 29,
   "metadata": {},
   "outputs": [
    {
     "name": "stdout",
     "output_type": "stream",
     "text": [
      "39\n",
      "torch.Size([512, 1, 82, 77])\n",
      "torch.Size([512, 160])\n"
     ]
    }
   ],
   "source": [
    "# testing cell for better viewing the length\n",
    "train_x_pic_points, train_y_pic_points\n",
    "\n",
    "print(len(train_x_pic_points))\n",
    "print(train_x_pic_points[0].shape)\n",
    "print(train_y_pic_points[0].shape)"
   ]
  },
  {
   "cell_type": "markdown",
   "metadata": {},
   "source": [
    "Edge Point Model"
   ]
  },
  {
   "cell_type": "code",
   "execution_count": 42,
   "metadata": {},
   "outputs": [
    {
     "name": "stdout",
     "output_type": "stream",
     "text": [
      "current batch = 3\n",
      "current testing image = 497\n"
     ]
    }
   ],
   "source": [
    "PATH_PIC = os.path.join(os.getcwd(), \"model_pic_points.pt\")\n",
    "model_picture_trained = torch.load(PATH_PIC)\n",
    "\n",
    "rand1 = random.randint(0, len(test_x_pic_points)-1)\n",
    "rand2 = random.randint(0, 511)\n",
    "\n",
    "print(\"current batch =\", rand1)\n",
    "print(\"current testing image =\", rand2)\n",
    "\n",
    "score_pic = prediction(model_picture_trained, test_x_pic_points[rand1][rand2].reshape(1, 1, 82, 77))\n",
    "\n",
    "# Print all points out for viewing\n",
    "# for num in range(len(test_y_pic_points[rand1][rand2])):\n",
    "#     print(num+1, \": Ground Truths =\", test_y_pic_points[rand1][rand2][num].item(), \", Prediction =\", score_pic[0, num].item())\n"
   ]
  },
  {
   "cell_type": "code",
   "execution_count": 43,
   "metadata": {},
   "outputs": [
    {
     "data": {
      "image/png": "[encoded data removed]",
      "text/plain": [
       "<Figure size 432x288 with 1 Axes>"
      ]
     },
     "metadata": {
      "needs_background": "light"
     },
     "output_type": "display_data"
    }
   ],
   "source": [
    "# scattering points for ground truth\n",
    "x_gt_pos = test_y_pic_points[rand1][rand2][0:80]\n",
    "y_gt_pos = test_y_pic_points[rand1][rand2][80:160]\n",
    "x_gt_neg = -torch.flip(x_gt_pos, [0])\n",
    "y_gt_neg = torch.flip(y_gt_pos, [0])\n",
    "x_gt = torch.cat((x_gt_neg, x_gt_pos))\n",
    "y_gt = torch.cat((y_gt_neg, y_gt_pos))\n",
    "\n",
    "# scattering points for prediction\n",
    "x_pred_pos = score_pic[0, 0:80]\n",
    "y_pred_pos = score_pic[0, 80:160]\n",
    "x_pred_neg = -torch.flip(x_pred_pos, [0])\n",
    "y_pred_neg = torch.flip(y_pred_pos, [0])\n",
    "x_pred = torch.cat((x_pred_neg, x_pred_pos))\n",
    "y_pred = torch.cat((y_pred_neg, y_pred_pos))\n",
    "\n",
    "# plotting\n",
    "fig = plt.figure()\n",
    "a1 = fig.add_axes([0,0,1,1])\n",
    "a1.set_xlim(0,3)\n",
    "a1.set_title(\"Estimated drop edge versus ground truth\", fontsize = 15)\n",
    "plt.scatter(x_gt, y_gt, c=\"red\", label=\"ground truth\")\n",
    "plt.scatter(x_pred, y_pred, c=\"blue\", label=\"prediction\")\n",
    "plt.xlabel(\"rr\")\n",
    "plt.ylabel(\"zz\")\n",
    "plt.legend()\n",
    "plt.axis('equal')\n",
    "plt.show()"
   ]
  },
  {
   "cell_type": "markdown",
   "metadata": {},
   "source": [
    "Spline Model Interpolation points"
   ]
  },
  {
   "cell_type": "code",
   "execution_count": 44,
   "metadata": {},
   "outputs": [],
   "source": [
    "#Number of interpolation points to use for PhysicsNet and plotting\n",
    "Num_points = 160"
   ]
  },
  {
   "cell_type": "code",
   "execution_count": 45,
   "metadata": {},
   "outputs": [],
   "source": [
    "#Load YC matrix for point values and s data for interpolation\n",
    "data_YC = pd.read_csv(\"Data_uniform/YC.csv\", header= None)\n",
    "data_s = pd.read_csv(\"Data_uniform/s.csv\", header= None)\n",
    "\n",
    "YC = torch.Tensor(data_YC.values)\n",
    "s = data_s.values\n",
    "s = s.reshape(1,len(s))\n",
    "#Interpolate to 160 points using a linear vector for s\n",
    "ss = np.linspace(s[0][0],s[0][-1],Num_points)"
   ]
  },
  {
   "cell_type": "markdown",
   "metadata": {},
   "source": [
    "Plot difference Spline and ground truth"
   ]
  },
  {
   "cell_type": "code",
   "execution_count": 46,
   "metadata": {},
   "outputs": [
    {
     "name": "stdout",
     "output_type": "stream",
     "text": [
      "current batch = 0\n",
      "current testing image = 3\n"
     ]
    }
   ],
   "source": [
    "PATH_PIC = os.path.join(os.getcwd(), \"model_pic_spline.pt\")\n",
    "model_picture_trained = torch.load(PATH_PIC)\n",
    "\n",
    "rand1 = random.randint(0, len(test_x_pic_spline)-1)\n",
    "rand2 = random.randint(0, 30)\n",
    "\n",
    "print(\"current batch =\", rand1)\n",
    "print(\"current testing image =\", rand2)\n",
    "\n",
    "score_pic_pred = prediction(model_picture_trained, test_x_pic_spline[rand1][rand2].reshape(1, 1, 82, 77))\n",
    "\n",
    "#Multiply the found Chebyshev coefficients with YC matrix to obtain edge points\n",
    "score_pic_r = torch.matmul(YC ,score_pic_pred[0, 0:11]) \n",
    "score_pic_z = torch.matmul(YC ,score_pic_pred[0, 11:22])\n",
    "\n",
    "#Do polynominal fitting through data to get more data points\n",
    "score_pic_r = np.polyval( np.polyfit(s[0],score_pic_r.numpy(),15), ss)\n",
    "score_pic_z = np.polyval( np.polyfit(s[0],score_pic_z.numpy(),15), ss)\n",
    "\n",
    "#Convert back to torch\n",
    "score_pic_r = torch.tensor(score_pic_r)\n",
    "score_pic_z = torch.tensor(score_pic_z)\n",
    "\n",
    "\n",
    "test_y_pic_r = torch.matmul(YC ,test_y_pic_spline[rand1][rand2][0:11].float()) \n",
    "test_y_pic_z = torch.matmul(YC ,test_y_pic_spline[rand1][rand2][11:22].float()) \n",
    "\n",
    "#Do polynominal fitting through data to get more data points\n",
    "test_y_pic_r = np.polyval( np.polyfit(s[0],test_y_pic_r.numpy(),15), ss)\n",
    "test_y_pic_z = np.polyval( np.polyfit(s[0],test_y_pic_z.numpy(),15), ss)\n",
    "\n",
    "#Convert back to torch\n",
    "test_y_pic_r = torch.tensor(test_y_pic_r)\n",
    "test_y_pic_z = torch.tensor(test_y_pic_z)\n",
    "\n",
    "# Print all points out for viewing\n",
    "# for num in range(len(test_y_pic_r)):\n",
    "#    print(num+1, \": Ground Truths =\", test_y_pic_z[num].item(), \", Prediction =\", score_pic_z[num].item())\n"
   ]
  },
  {
   "cell_type": "code",
   "execution_count": 47,
   "metadata": {},
   "outputs": [
    {
     "data": {
      "image/png": "[encoded data removed]",
      "text/plain": [
       "<Figure size 432x288 with 1 Axes>"
      ]
     },
     "metadata": {
      "needs_background": "light"
     },
     "output_type": "display_data"
    }
   ],
   "source": [
    "# scattering points for ground truth\n",
    "gt_r_pos = test_y_pic_r\n",
    "gt_r_neg = -torch.flip(test_y_pic_r, [0])\n",
    "gt_z_pos = test_y_pic_z\n",
    "gt_z_neg = torch.flip(test_y_pic_z, [0])\n",
    "gt_r = torch.cat((gt_r_neg, gt_r_pos))\n",
    "gt_z = torch.cat((gt_z_neg, gt_z_pos))\n",
    "\n",
    "# scattering points for prediction\n",
    "pred_r_pos = score_pic_r\n",
    "pred_r_neg = -torch.flip(score_pic_r, [0])\n",
    "pred_z_pos = score_pic_z\n",
    "pred_z_neg = torch.flip(score_pic_z, [0])\n",
    "pred_r = torch.cat((pred_r_neg, pred_r_pos))\n",
    "pred_z = torch.cat((pred_z_neg, pred_z_pos))\n",
    "\n",
    "# plotting\n",
    "fig = plt.figure()\n",
    "a1 = fig.add_axes([0,0,1,1])\n",
    "a1.set_xlim(0,3)\n",
    "a1.set_title(\"Estimated drop edge versus ground truth\", fontsize = 15)\n",
    "plt.scatter(gt_r, gt_z, c=\"red\", label=\"ground truth\")\n",
    "plt.scatter(pred_r, pred_z, c=\"blue\", label=\"prediction\")\n",
    "\n",
    "plt.xlabel(\"rr\",fontsize = 15)\n",
    "plt.ylabel(\"zz\",fontsize = 15)\n",
    "plt.legend()\n",
    "plt.axis('equal')\n",
    "plt.show()"
   ]
  },
  {
   "cell_type": "markdown",
   "metadata": {},
   "source": [
    "### Evaluation between two model predictions"
   ]
  },
  {
   "cell_type": "code",
   "execution_count": 48,
   "metadata": {},
   "outputs": [
    {
     "name": "stdout",
     "output_type": "stream",
     "text": [
      "L2 norm of point = 6.339578671168537e-05\n",
      "L2 norm of spline = 0.00019706918068968215\n"
     ]
    }
   ],
   "source": [
    "# Edge Points -> x_gt, y_gt, x_pred, y_pred\n",
    "# Spline -> gt_r, gt_z, pred_r, pred_z\n",
    "\n",
    "l2_x_points = torch.sum(torch.pow((x_gt - x_pred), 2))\n",
    "l2_y_points = torch.sum(torch.pow((y_gt - y_pred), 2))\n",
    "l2_points = (l2_x_points + l2_y_points) / len(x_gt)\n",
    "print(\"L2 norm of point =\", l2_points.item())\n",
    "\n",
    "l2_x_spline = torch.sum(torch.pow((gt_r - pred_r), 2))\n",
    "l2_y_spline = torch.sum(torch.pow((gt_z - pred_z), 2))\n",
    "l2_spline = (l2_x_spline + l2_y_spline) / len(gt_r)\n",
    "print(\"L2 norm of spline =\", l2_spline.item())"
   ]
  },
  {
   "cell_type": "code",
   "execution_count": null,
   "metadata": {},
   "outputs": [],
   "source": []
  }
 ],
 "metadata": {
  "interpreter": {
   "hash": "64def4006c78149665c79cf5850ee76c9e416630a0d9e75e41ff194dcaf5fb2b"
  },
  "kernelspec": {
   "display_name": "Python 3.8.10 64-bit",
   "language": "python",
   "name": "python3"
  },
  "language_info": {
   "codemirror_mode": {
    "name": "ipython",
    "version": 3
   },
   "file_extension": ".py",
   "mimetype": "text/x-python",
   "name": "python",
   "nbconvert_exporter": "python",
   "pygments_lexer": "ipython3",
   "version": "3.8.10"
  }
 },
 "nbformat": 4,
 "nbformat_minor": 2
}
