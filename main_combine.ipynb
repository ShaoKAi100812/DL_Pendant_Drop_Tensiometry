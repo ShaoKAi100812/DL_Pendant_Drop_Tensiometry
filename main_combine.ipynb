{
 "cells": [
  {
   "cell_type": "markdown",
   "metadata": {},
   "source": [
    "# Deep Learning for tensiometry of pendant drop"
   ]
  },
  {
   "cell_type": "markdown",
   "metadata": {},
   "source": [
    "### Import necessary packages and self-defined classes"
   ]
  },
  {
   "cell_type": "code",
   "execution_count": 11,
   "metadata": {},
   "outputs": [],
   "source": [
    "# pyplot\n",
    "import matplotlib.pyplot as plt\n",
    "# pytorch\n",
    "import torch\n",
    "import torch.optim as optim\n",
    "import torch.nn.functional as F  # useful stateless functions\n",
    "# Test/Train data split\n",
    "from functools import lru_cache\n",
    "from torch.utils.data import DataLoader, Dataset\n",
    "from torch.utils.data.sampler import SubsetRandomSampler\n",
    "import numpy as np\n",
    "import logging\n",
    "# sklearn\n",
    "from sklearn import preprocessing\n",
    "# os\n",
    "import os\n",
    "# warnings\n",
    "import warnings\n",
    "warnings.filterwarnings('ignore')\n",
    "# random\n",
    "import random\n",
    "# math\n",
    "import math\n",
    "import scipy.interpolate\n",
    "# self-defined model\n",
    "from model_pic import *\n",
    "from model_cal import *\n",
    "import pandas as pd\n",
    "\n",
    "#PictureNet\n",
    "from PIL import Image\n",
    "from skimage.io import imread\n",
    "from sklearn.model_selection import train_test_split"
   ]
  },
  {
   "cell_type": "markdown",
   "metadata": {},
   "source": [
    "## Dataset loading and preprocessing"
   ]
  },
  {
   "cell_type": "code",
   "execution_count": 2,
   "metadata": {},
   "outputs": [],
   "source": [
    "class DataSplit:\n",
    "\n",
    "    def __init__(self, dataset, test_train_split=0.8, val_train_split=0.1, shuffle=False):\n",
    "        self.dataset = dataset\n",
    "\n",
    "        dataset_size = len(dataset)\n",
    "        self.indices = list(range(dataset_size))\n",
    "        test_split = int(np.floor(test_train_split * dataset_size))\n",
    "\n",
    "        if shuffle:\n",
    "            np.random.shuffle(self.indices)\n",
    "\n",
    "        train_indices, self.test_indices = self.indices[:test_split], self.indices[test_split:]\n",
    "        train_size = len(train_indices)\n",
    "        validation_split = int(np.floor((1 - val_train_split) * train_size))\n",
    "\n",
    "        self.train_indices, self.val_indices = train_indices[:validation_split], train_indices[validation_split:]\n",
    "\n",
    "        self.train_sampler = SubsetRandomSampler(self.train_indices)\n",
    "        self.val_sampler = SubsetRandomSampler(self.val_indices)\n",
    "        self.test_sampler = SubsetRandomSampler(self.test_indices)\n",
    "    \n",
    "    def get_train_split_point(self):\n",
    "        return len(self.train_sampler) + len(self.val_indices)\n",
    "\n",
    "    def get_validation_split_point(self):\n",
    "        return len(self.train_sampler)\n",
    "\n",
    "    @lru_cache(maxsize=4)\n",
    "    def get_split(self, batch_size=64, num_workers=0):\n",
    "        logging.debug('Initializing train-validation-test dataloaders')\n",
    "        self.train_loader = self.get_train_loader(batch_size=batch_size, num_workers=num_workers)\n",
    "        self.val_loader = self.get_validation_loader(batch_size=batch_size, num_workers=num_workers)\n",
    "        self.test_loader = self.get_test_loader(batch_size=batch_size, num_workers=num_workers)\n",
    "        return self.train_loader, self.val_loader, self.test_loader\n",
    "\n",
    "    @lru_cache(maxsize=4)\n",
    "    def get_train_loader(self, batch_size=64, num_workers=0):\n",
    "        logging.debug('Initializing train dataloader')\n",
    "        self.train_loader = DataLoader(self.dataset, batch_size=batch_size, sampler=self.train_sampler, shuffle=False, num_workers=num_workers)\n",
    "        return self.train_loader\n",
    "\n",
    "    @lru_cache(maxsize=4)\n",
    "    def get_validation_loader(self, batch_size=64, num_workers=0):\n",
    "        logging.debug('Initializing validation dataloader')\n",
    "        self.val_loader = DataLoader(self.dataset, batch_size=batch_size, sampler=self.val_sampler, shuffle=False, num_workers=num_workers)\n",
    "        return self.val_loader\n",
    "\n",
    "    @lru_cache(maxsize=4)\n",
    "    def get_test_loader(self, batch_size=64, num_workers=0):\n",
    "        logging.debug('Initializing test dataloader')\n",
    "        self.test_loader = DataLoader(self.dataset, batch_size=batch_size, sampler=self.test_sampler, shuffle=False, num_workers=num_workers)\n",
    "        return self.test_loader"
   ]
  },
  {
   "cell_type": "markdown",
   "metadata": {},
   "source": [
    "==================================="
   ]
  },
  {
   "cell_type": "markdown",
   "metadata": {},
   "source": [
    "### Load data for PhysicsNet"
   ]
  },
  {
   "cell_type": "code",
   "execution_count": 3,
   "metadata": {},
   "outputs": [],
   "source": [
    "data_matrix_points = pd.read_csv(\"Data_uniform/Edge_points.csv\", header= None)\n",
    "data_matrix_spline = pd.read_csv(\"Data_uniform/Spline.csv\", header= None)\n",
    "# print(data_matrix_points)\n",
    "# print(data_matrix_spline)\n",
    "\n",
    "# Make the droplet dataset class based on data_matrix\n",
    "class Droplet_data_set(Dataset):\n",
    "    def __init__(self,dataInput):\n",
    "        x = dataInput.iloc[0:,3:].values\n",
    "        y = dataInput.iloc[0:,0:2].values\n",
    "        # x = np.random.normal(x,0.01)\n",
    "        y0 = dataInput.iloc[:,0].values\n",
    "        y1 = dataInput.iloc[:,1].values\n",
    "        \n",
    "        # Plot surface tension histogram\n",
    "        n, bins, patches = plt.hist(x=y0, bins='auto', color='#0504aa',\n",
    "                                    alpha=0.7, rwidth=0.85)\n",
    "        plt.grid(axis='y', alpha=0.75)\n",
    "        plt.xlabel('Surface Tension[mN/m]')\n",
    "        plt.ylabel('Frequency')\n",
    "        plt.title('Occurence of data per Surface Tension')\\\n",
    "\n",
    "        # Plot volume histogram\n",
    "        # n, bins, patches = plt.hist(x=y1, bins='auto', color='#0504aa',\n",
    "        #                             alpha=0.7, rwidth=0.85)\n",
    "        # plt.grid(axis='y', alpha=0.75)\n",
    "        # plt.xlabel('Volume[mm^3]')\n",
    "        # plt.ylabel('Frequency')\n",
    "        # plt.title('Occurence of data per Volume')\n",
    "\n",
    "        self.x_train = torch.tensor(x,dtype=torch.float32)\n",
    "        self.y_train = torch.tensor(y,dtype=torch.float32)\n",
    "        \n",
    "    def __getitem__(self, idx):\n",
    "        return self.x_train[idx],self.y_train[idx]\n",
    "    \n",
    "    def __len__(self):\n",
    "         return len(self.y_train)\n",
    "        "
   ]
  },
  {
   "cell_type": "markdown",
   "metadata": {},
   "source": [
    "Create and splite the dataset for edge point model"
   ]
  },
  {
   "cell_type": "code",
   "execution_count": 4,
   "metadata": {},
   "outputs": [
    {
     "data": {
      "image/png": "[encoded data removed]",
      "text/plain": [
       "<Figure size 432x288 with 1 Axes>"
      ]
     },
     "metadata": {
      "needs_background": "light"
     },
     "output_type": "display_data"
    }
   ],
   "source": [
    "my_data_set_points = Droplet_data_set(data_matrix_points)\n",
    "split_points = DataSplit(my_data_set_points, shuffle=True)  # Split the single dataset into 3 datasets for training, test and validation.\n",
    "train_loader_points, val_loader_points, test_loader_points = split_points.get_split(batch_size=512, num_workers=0)"
   ]
  },
  {
   "cell_type": "markdown",
   "metadata": {},
   "source": [
    "Create and splite the dataset for spline model"
   ]
  },
  {
   "cell_type": "code",
   "execution_count": 5,
   "metadata": {},
   "outputs": [
    {
     "data": {
      "image/png": "[encoded data removed]",
      "text/plain": [
       "<Figure size 432x288 with 1 Axes>"
      ]
     },
     "metadata": {
      "needs_background": "light"
     },
     "output_type": "display_data"
    }
   ],
   "source": [
    "my_data_set_spline = Droplet_data_set(data_matrix_spline)\n",
    "split_spline = DataSplit(my_data_set_spline, shuffle=True)  # Split the single dataset into 3 datasets for training, test and validation.\n",
    "train_loader_spline, val_loader_spline, test_loader_spline = split_spline.get_split(batch_size=512, num_workers=0)"
   ]
  },
  {
   "cell_type": "markdown",
   "metadata": {},
   "source": [
    "==========================================="
   ]
  },
  {
   "cell_type": "markdown",
   "metadata": {},
   "source": [
    "### Load data for PictureNet\n",
    "Read image from files"
   ]
  },
  {
   "cell_type": "code",
   "execution_count": 20,
   "metadata": {},
   "outputs": [],
   "source": [
    "train_img = []\n",
    "data_matrix_points = pd.read_csv(\"Data_uniform/Edge_points.csv\", header= None)\n",
    "data_matrix_spline = pd.read_csv(\"Data_uniform/Spline.csv\", header= None)\n",
    "data_image_points = data_matrix_points  \n",
    "data_image_spline = data_matrix_spline\n",
    "\n",
    "for img_name in data_image_points.iloc[0:,3:].index + 1:      # modify the number depends on size of dataset\n",
    "    # defining the image path\n",
    "    image_path = 'Data_uniform/Data_Spline/' + str(img_name) + '.png'      # modify the path depends on which dataset\n",
    "    # reading the image\n",
    "    img = imread(image_path, as_gray=True)\n",
    "    img = img[4:-4, 4:-4]  #crop \n",
    "    # normalizing the pixel values\n",
    "    img /= 255.0\n",
    "    # converting the type of pixel to float 32\n",
    "    img = img.astype('float32')\n",
    "    # appending the image into the list\n",
    "    train_img.append(img)"
   ]
  },
  {
   "cell_type": "markdown",
   "metadata": {},
   "source": [
    "Plot a single image for viewing"
   ]
  },
  {
   "cell_type": "code",
   "execution_count": 21,
   "metadata": {},
   "outputs": [
    {
     "name": "stdout",
     "output_type": "stream",
     "text": [
      "Current image = 17188\n",
      "Picture size = (82, 77)\n"
     ]
    },
    {
     "data": {
      "text/plain": [
       "<matplotlib.image.AxesImage at 0x24d8a937088>"
      ]
     },
     "execution_count": 21,
     "metadata": {},
     "output_type": "execute_result"
    },
    {
     "data": {
      "image/png": "[encoded data removed]",
      "text/plain": [
       "<Figure size 432x288 with 1 Axes>"
      ]
     },
     "metadata": {
      "needs_background": "light"
     },
     "output_type": "display_data"
    }
   ],
   "source": [
    "rand = random.randint(1, 24747)\n",
    "print(\"Current image =\", rand)\n",
    "print(\"Picture size =\", train_img[rand].shape)\n",
    "plt.imshow(train_img[rand], cmap='gray')"
   ]
  },
  {
   "cell_type": "markdown",
   "metadata": {},
   "source": [
    "Define the function"
   ]
  },
  {
   "cell_type": "code",
   "execution_count": 22,
   "metadata": {},
   "outputs": [],
   "source": [
    "# Split and transfer the data from list to torch format\n",
    "def split_n_transfer(x, y):\n",
    "    # Points data split\n",
    "    train_x_pic, rem_x_pic, train_y_pic, rem_y_pic = train_test_split(x, y, test_size = 0.2)    # default shuffle = True\n",
    "    val_x_pic, test_x_pic, val_y_pic, test_y_pic = train_test_split(rem_x_pic, rem_y_pic, test_size = 0.5)\n",
    "\n",
    "    # converting the train images of points and targets into torch format\n",
    "    train_x_pic = train_x_pic.reshape(len(train_x_pic), 1, 82, 77)\n",
    "    train_x_pic = torch.from_numpy(train_x_pic)\n",
    "    train_y_pic = torch.from_numpy(train_y_pic)\n",
    "\n",
    "    # converting the val images and target points into torch format\n",
    "    val_x_pic = val_x_pic.reshape(len(val_x_pic), 1, 82, 77)\n",
    "    val_x_pic = torch.from_numpy(val_x_pic)\n",
    "    val_y_pic = torch.from_numpy(val_y_pic)\n",
    "    # print(val_x_pic.shape, val_y_pic.shape)\n",
    "\n",
    "    # converting the test images and targets into torch format for points\n",
    "    test_x_pic = test_x_pic.reshape(len(test_x_pic), 1, 82, 77)\n",
    "    test_x_pic  = torch.from_numpy(test_x_pic)\n",
    "    test_y_pic = torch.from_numpy(test_y_pic)\n",
    "    # print(test_x_pic.shape, test_y_pic.shape)\n",
    "    \n",
    "    return train_x_pic, train_y_pic, val_x_pic, val_y_pic, test_x_pic, test_y_pic\n",
    "\n",
    "# converting the dataset into mini-batch dataset (input 4D -> 5D and 2D -> 3D)\n",
    "def batch_transform(dataset, batch_size=512):\n",
    "    batch = []\n",
    "    batch_num = math.ceil(len(dataset)/batch_size)\n",
    "    for i in range(batch_num):\n",
    "        if len(dataset) == 4:\n",
    "            if i < batch_num-1:\n",
    "                batch.append(dataset[i*batch_size:(i+1)*batch_size, :, :, :])\n",
    "            else:\n",
    "                batch.append(dataset[i*batch_size:, :, :, :])\n",
    "        else:\n",
    "            if i < batch_num-1:\n",
    "                batch.append(dataset[i*batch_size:(i+1)*batch_size, :])\n",
    "            else:\n",
    "                batch.append(dataset[i*batch_size:, :])\n",
    "    return batch\n",
    "\n",
    "# converting all raw datasets into batch datasets in the same time\n",
    "def batch_all(train_x, train_y, val_x, val_y, test_x, test_y):\n",
    "    train_x_pic = batch_transform(train_x)\n",
    "    train_y_pic = batch_transform(train_y)\n",
    "    val_x_pic = batch_transform(val_x)\n",
    "    val_y_pic = batch_transform(val_y)\n",
    "    test_x_pic = batch_transform(test_x)\n",
    "    test_y_pic = batch_transform(test_y)\n",
    "    return train_x_pic, train_y_pic, val_x_pic, val_y_pic, test_x_pic, test_y_pic"
   ]
  },
  {
   "cell_type": "markdown",
   "metadata": {},
   "source": [
    "Create and splite the dataset for edge point model"
   ]
  },
  {
   "cell_type": "code",
   "execution_count": 24,
   "metadata": {},
   "outputs": [
    {
     "name": "stdout",
     "output_type": "stream",
     "text": [
      "39 39 5 5 5 5\n"
     ]
    }
   ],
   "source": [
    "# converting the list to numpy array\n",
    "train_x_pic = np.array(train_img)\n",
    "train_y_pic_points = data_image_points.iloc[0:,3:].values\n",
    "\n",
    "train_x_pic_points, train_y_pic_points, val_x_pic_points, val_y_pic_points, test_x_pic_points, test_y_pic_points = \\\n",
    "    split_n_transfer(train_x_pic, train_y_pic_points)\n",
    "\n",
    "train_x_pic_points, train_y_pic_points, val_x_pic_points, val_y_pic_points, test_x_pic_points, test_y_pic_points = \\\n",
    "    batch_all(train_x_pic_points, train_y_pic_points, val_x_pic_points, val_y_pic_points, test_x_pic_points, test_y_pic_points)\n",
    "    \n",
    "print(len(train_x_pic_points), len(train_y_pic_points), len(val_x_pic_points), len(val_y_pic_points), len(test_x_pic_points), len(test_y_pic_points))\n"
   ]
  },
  {
   "cell_type": "markdown",
   "metadata": {},
   "source": [
    "Create and splite the dataset for spline model"
   ]
  },
  {
   "cell_type": "code",
   "execution_count": 23,
   "metadata": {},
   "outputs": [
    {
     "name": "stdout",
     "output_type": "stream",
     "text": [
      "39 39 5 5 5 5\n"
     ]
    }
   ],
   "source": [
    "# converting the list to numpy array\n",
    "train_x_pic = np.array(train_img)\n",
    "train_y_pic_spline = data_image_spline.iloc[0:,3:].values\n",
    "\n",
    "train_x_pic_spline, train_y_pic_spline, val_x_pic_spline, val_y_pic_spline, test_x_pic_spline, test_y_pic_spline = \\\n",
    "    split_n_transfer(train_x_pic, train_y_pic_spline)\n",
    "\n",
    "train_x_pic_spline, train_y_pic_spline, val_x_pic_spline, val_y_pic_spline, test_x_pic_spline, test_y_pic_spline = \\\n",
    "    batch_all(train_x_pic_spline, train_y_pic_spline, val_x_pic_spline, val_y_pic_spline, test_x_pic_spline, test_y_pic_spline)\n",
    "\n",
    "print(len(train_x_pic_spline), len(train_y_pic_spline), len(val_x_pic_spline), len(val_y_pic_spline), len(test_x_pic_spline), len(test_y_pic_spline))"
   ]
  },
  {
   "cell_type": "markdown",
   "metadata": {},
   "source": [
    "=============================="
   ]
  },
  {
   "cell_type": "markdown",
   "metadata": {},
   "source": [
    "### Deside to apply host or device\n"
   ]
  },
  {
   "cell_type": "code",
   "execution_count": 25,
   "metadata": {},
   "outputs": [
    {
     "name": "stdout",
     "output_type": "stream",
     "text": [
      "cuda\n"
     ]
    }
   ],
   "source": [
    "USE_GPU = True\n",
    "if USE_GPU and torch.cuda.is_available():\n",
    "    device = torch.device('cuda')\n",
    "else:\n",
    "    device = torch.device('cpu')\n",
    "print(device)"
   ]
  },
  {
   "cell_type": "markdown",
   "metadata": {},
   "source": [
    "## Define the functions for models"
   ]
  },
  {
   "cell_type": "code",
   "execution_count": 26,
   "metadata": {},
   "outputs": [],
   "source": [
    "def loss_cal_phiysics(loss_list, model, loader):\n",
    "    model.eval()  # set model to evaluation mode\n",
    "    with torch.no_grad():\n",
    "        loss_epoch = 0\n",
    "        for t, (x, y) in enumerate(loader):\n",
    "            x = x.to(device=device, dtype=torch.float32)  # move to device, e.g. GPU\n",
    "            y = y.to(device=device, dtype=torch.float32)\n",
    "            scores = model(x)\n",
    "            loss = F.mse_loss(scores, y)\n",
    "            loss_epoch += loss\n",
    "        loss_list.append(loss_epoch.cpu().data.numpy()/t)\n",
    "\n",
    "def loss_cal_picture(loss_list, model, x_dataset, y_dataset):\n",
    "    model.eval()  # set model to evaluation mode\n",
    "    with torch.no_grad():\n",
    "        loss_epoch = 0\n",
    "        for t in range(len(x_dataset)):\n",
    "            x = x_dataset[t]\n",
    "            y = y_dataset[t]\n",
    "            x = x.to(device=device, dtype=torch.float32)  # move to device, e.g. GPU\n",
    "            y = y.to(device=device, dtype=torch.float32)\n",
    "            scores = model(x)\n",
    "            loss = F.mse_loss(scores, y)\n",
    "            loss_epoch += loss\n",
    "        loss_list.append(loss_epoch.cpu().data.numpy()/t)\n",
    "\n",
    "def prediction(model, x):   # only a batch\n",
    "    model = model.to(device=device)\n",
    "    model.eval()  # set model to evaluation mode\n",
    "    with torch.no_grad():\n",
    "        x = x.to(device=device, dtype=torch.float32)\n",
    "        score = torch.Tensor.cpu(model(x))\n",
    "    return score\n",
    "\n",
    "def model_selection(model, path, loss, epoch_current, epoch_ref, loss_ref):\n",
    "    loss_best = loss_ref\n",
    "    epoch_best = epoch_ref\n",
    "    if epoch_current == 0 and ~(os.path.isdir(path)):\n",
    "            loss_current = loss[epoch_current]\n",
    "            loss_best = loss[epoch_current]\n",
    "            torch.save(model, path)\n",
    "    else:\n",
    "        loss_current = loss[epoch_current]\n",
    "        if loss_current <= (loss_best * 1.1):   # 10% margin to get better fitting but a bit more loss\n",
    "            loss_best = loss_current\n",
    "            epoch_best = epoch_current\n",
    "            torch.save(model, path)\n",
    "    return loss_best, epoch_best\n",
    "\n",
    "def train_physics(model, optimizer, epochs=1, model_input=0):\n",
    "    loss_train = []\n",
    "    loss_val = []\n",
    "    loss_best = 0\n",
    "    epoch_best = 0\n",
    "    \n",
    "    # model selection depends on data type\n",
    "    if model_input == 0:\n",
    "        train_loader = train_loader_points\n",
    "        val_loader = val_loader_points\n",
    "        PATH_CAL = os.path.join(os.getcwd(), \"model_cal_points.pt\")\n",
    "    elif model_input == 1:\n",
    "        train_loader = train_loader_spline\n",
    "        val_loader = val_loader_spline\n",
    "        PATH_CAL = os.path.join(os.getcwd(), \"model_cal_spline.pt\")\n",
    "    else:\n",
    "        ValueError(\"Incorrect input: 0 for edge point model, 1 for spline model\")\n",
    "\n",
    "    model = model.to(device=device)  # move the model parameters to CPU/GPU\n",
    "    for e in range(epochs):\n",
    "        for _, (x, y) in enumerate(train_loader):\n",
    "            x = x.reshape(len(x), 1, 1, -1)     # reshape to 4D data for formal input of model\n",
    "            model.train()  # put model to training mode\n",
    "            x = x.to(device=device, dtype=torch.float32)  # move to device, e.g. GPU\n",
    "            y = y.to(device=device, dtype=torch.float32)\n",
    "            scores = model(x)\n",
    "            loss = F.mse_loss(scores, y)\n",
    "\n",
    "            optimizer.zero_grad()\n",
    "            loss.backward()\n",
    "            optimizer.step()\n",
    "        loss_cal_phiysics(loss_train, model, train_loader)\n",
    "        loss_cal_phiysics(loss_val, model, val_loader)\n",
    "        print('epoch %d: train_loss = %.4f, val_loss = %.4f' % (e+1, loss_train[e], loss_val[e]))\n",
    "\n",
    "        # selecting the best model to save\n",
    "        loss_best, epoch_best = model_selection(model, PATH_CAL, loss_train, e, epoch_best, loss_best)\n",
    "    \n",
    "    print(\"The model is saved at epoch =\", epoch_best+1, \"and the loss =\", loss_best.item())\n",
    "    \n",
    "    x = range(1, epochs+1)\n",
    "\n",
    "    plt.semilogy(x, loss_train, 'b-', label=\"training loss\")\n",
    "    plt.semilogy(x, loss_val, 'r--', label=\"validation loss\")\n",
    "    plt.xlabel(\"Epochs\")\n",
    "    plt.ylabel(\"MSE Loss\")\n",
    "    plt.title(\"Train/Validation Loss\")\n",
    "    plt.legend()\n",
    "    plt.show()\n",
    "\n",
    "def train_picture(model, optimizer, epochs=1, model_input=0):\n",
    "    loss_train = []\n",
    "    loss_val = []\n",
    "    loss_best = 0\n",
    "    epoch_best = 0\n",
    "\n",
    "    # model selection depends on data type\n",
    "    if model_input == 0:\n",
    "        train_x_pic = train_x_pic_points\n",
    "        train_y_pic = train_y_pic_points\n",
    "        val_x_pic = val_x_pic_points\n",
    "        val_y_pic = val_y_pic_points\n",
    "        PATH_PIC = os.path.join(os.getcwd(), \"model_pic_points.pt\")\n",
    "    elif model_input == 1:\n",
    "        train_x_pic = train_x_pic_spline\n",
    "        train_y_pic = train_y_pic_spline\n",
    "        val_x_pic = val_x_pic_spline\n",
    "        val_y_pic = val_y_pic_spline\n",
    "        PATH_PIC = os.path.join(os.getcwd(), \"model_pic_spline.pt\")\n",
    "    else:\n",
    "        ValueError(\"Incorrect input: 0 for edge point model, 1 for spline model\")\n",
    "\n",
    "    model = model.to(device=device)  # move the model parameters to CPU/GPU\n",
    "    for e in range(epochs):\n",
    "        for t in range(len(train_x_pic)):\n",
    "            model.train()  # put model to training mode\n",
    "            x = train_x_pic[t]\n",
    "            y = train_y_pic[t]\n",
    "            x = x.to(device=device, dtype=torch.float32)  # move to device, e.g. GPU\n",
    "            y = y.to(device=device, dtype=torch.float32)\n",
    "\n",
    "            scores = model(x)\n",
    "            loss = F.mse_loss(scores, y)\n",
    "\n",
    "            optimizer.zero_grad()\n",
    "            loss.backward()\n",
    "            optimizer.step()\n",
    "        loss_cal_picture(loss_train, model, train_x_pic, train_y_pic)\n",
    "        loss_cal_picture(loss_val, model, val_x_pic, val_y_pic)\n",
    "        print('epoch %d: train_loss = %.4f, val_loss = %.4f' % (e+1, loss_train[e], loss_val[e]))\n",
    "        \n",
    "        # selecting the best model to save\n",
    "        loss_best, epoch_best = model_selection(model, PATH_PIC, loss_train, e, epoch_best, loss_best)\n",
    "    \n",
    "    print(\"The model is saved at epoch =\", epoch_best+1, \"and the loss =\", loss_best.item())\n",
    "\n",
    "    x = range(1, epochs+1)\n",
    "\n",
    "    plt.semilogy(x, loss_train, 'b-', label=\"training loss\")\n",
    "    plt.semilogy(x, loss_val, 'r--', label=\"validation loss\")\n",
    "    plt.xlabel(\"Epochs\")\n",
    "    plt.ylabel(\"MSE Loss\")\n",
    "    plt.title(\"Train/Validation Loss\")\n",
    "    plt.legend()\n",
    "    plt.show()\n"
   ]
  },
  {
   "cell_type": "markdown",
   "metadata": {},
   "source": [
    "## Train PhysicsNet Edge Points"
   ]
  },
  {
   "cell_type": "code",
   "execution_count": 42,
   "metadata": {},
   "outputs": [
    {
     "name": "stdout",
     "output_type": "stream",
     "text": [
      "epoch 1: train_loss = 1672.4959, val_loss = 2213.7705\n",
      "epoch 2: train_loss = 1649.8801, val_loss = 2179.6698\n",
      "epoch 3: train_loss = 1620.2050, val_loss = 2142.5853\n",
      "epoch 4: train_loss = 1453.5021, val_loss = 1922.6973\n",
      "epoch 5: train_loss = 1503.3755, val_loss = 1988.3354\n",
      "epoch 6: train_loss = 1355.9702, val_loss = 1792.9526\n",
      "epoch 7: train_loss = 1123.3038, val_loss = 1485.9219\n",
      "epoch 8: train_loss = 1160.8279, val_loss = 1532.4587\n",
      "epoch 9: train_loss = 1205.5416, val_loss = 1592.7181\n",
      "epoch 10: train_loss = 996.8323, val_loss = 1314.6779\n",
      "epoch 11: train_loss = 1020.2824, val_loss = 1344.0673\n",
      "epoch 12: train_loss = 870.3146, val_loss = 1147.7917\n",
      "epoch 13: train_loss = 892.0933, val_loss = 1178.2572\n",
      "epoch 14: train_loss = 689.9632, val_loss = 907.3701\n",
      "epoch 15: train_loss = 654.6311, val_loss = 857.2526\n",
      "epoch 16: train_loss = 803.8532, val_loss = 1055.0815\n",
      "epoch 17: train_loss = 688.4328, val_loss = 901.5947\n",
      "epoch 18: train_loss = 604.5669, val_loss = 794.8028\n",
      "epoch 19: train_loss = 531.9482, val_loss = 695.2440\n",
      "epoch 20: train_loss = 468.8753, val_loss = 615.1189\n",
      "epoch 21: train_loss = 326.0572, val_loss = 428.6165\n",
      "epoch 22: train_loss = 236.6453, val_loss = 311.4233\n",
      "epoch 23: train_loss = 419.7684, val_loss = 545.3512\n",
      "epoch 24: train_loss = 296.5143, val_loss = 382.3780\n",
      "epoch 25: train_loss = 272.1074, val_loss = 351.2653\n",
      "epoch 26: train_loss = 295.7459, val_loss = 383.4928\n",
      "epoch 27: train_loss = 315.5884, val_loss = 409.7424\n",
      "epoch 28: train_loss = 120.6983, val_loss = 158.4161\n",
      "epoch 29: train_loss = 149.9342, val_loss = 192.9262\n",
      "epoch 30: train_loss = 86.9593, val_loss = 112.7351\n",
      "epoch 31: train_loss = 69.8395, val_loss = 91.3844\n",
      "epoch 32: train_loss = 116.5739, val_loss = 151.7277\n",
      "epoch 33: train_loss = 93.8539, val_loss = 121.5355\n",
      "epoch 34: train_loss = 95.8745, val_loss = 123.5854\n",
      "epoch 35: train_loss = 44.9555, val_loss = 58.1258\n",
      "epoch 36: train_loss = 45.7071, val_loss = 59.1705\n",
      "epoch 37: train_loss = 52.6077, val_loss = 68.3165\n",
      "epoch 38: train_loss = 47.9812, val_loss = 62.2208\n",
      "epoch 39: train_loss = 29.5041, val_loss = 37.5503\n",
      "epoch 40: train_loss = 15.7128, val_loss = 20.3957\n",
      "epoch 41: train_loss = 25.3629, val_loss = 33.1155\n",
      "epoch 42: train_loss = 11.7027, val_loss = 15.3787\n",
      "epoch 43: train_loss = 13.2998, val_loss = 17.4876\n",
      "epoch 44: train_loss = 8.1366, val_loss = 10.1997\n",
      "epoch 45: train_loss = 11.5853, val_loss = 14.6197\n",
      "epoch 46: train_loss = 16.2942, val_loss = 20.9203\n",
      "epoch 47: train_loss = 7.3964, val_loss = 9.4323\n",
      "epoch 48: train_loss = 4.7272, val_loss = 6.0413\n",
      "epoch 49: train_loss = 7.1658, val_loss = 8.8541\n",
      "epoch 50: train_loss = 6.9329, val_loss = 9.1723\n",
      "epoch 51: train_loss = 4.6616, val_loss = 6.0292\n",
      "epoch 52: train_loss = 3.8158, val_loss = 4.9628\n",
      "epoch 53: train_loss = 3.4580, val_loss = 4.4016\n",
      "epoch 54: train_loss = 4.1618, val_loss = 5.3034\n",
      "epoch 55: train_loss = 2.2266, val_loss = 2.8121\n",
      "epoch 56: train_loss = 3.0592, val_loss = 3.7850\n",
      "epoch 57: train_loss = 1.6610, val_loss = 2.1507\n",
      "epoch 58: train_loss = 1.8426, val_loss = 2.4354\n",
      "epoch 59: train_loss = 3.2189, val_loss = 4.0732\n",
      "epoch 60: train_loss = 1.6657, val_loss = 2.1891\n",
      "epoch 61: train_loss = 1.2448, val_loss = 1.6213\n",
      "epoch 62: train_loss = 5.1261, val_loss = 6.4392\n",
      "epoch 63: train_loss = 2.8639, val_loss = 3.8169\n",
      "epoch 64: train_loss = 1.6134, val_loss = 2.1253\n",
      "epoch 65: train_loss = 1.1801, val_loss = 1.4890\n",
      "epoch 66: train_loss = 1.0288, val_loss = 1.3308\n",
      "epoch 67: train_loss = 1.2938, val_loss = 1.7043\n",
      "epoch 68: train_loss = 1.8987, val_loss = 2.4176\n",
      "epoch 69: train_loss = 2.4779, val_loss = 3.3416\n",
      "epoch 70: train_loss = 3.1870, val_loss = 4.1124\n",
      "epoch 71: train_loss = 1.0097, val_loss = 1.3564\n",
      "epoch 72: train_loss = 0.7987, val_loss = 1.0402\n",
      "epoch 73: train_loss = 1.1018, val_loss = 1.4513\n",
      "epoch 74: train_loss = 2.5941, val_loss = 3.3950\n",
      "epoch 75: train_loss = 0.9975, val_loss = 1.2892\n",
      "epoch 76: train_loss = 3.1990, val_loss = 4.2879\n",
      "epoch 77: train_loss = 1.5900, val_loss = 2.0576\n",
      "epoch 78: train_loss = 1.0294, val_loss = 1.4061\n",
      "epoch 79: train_loss = 3.6053, val_loss = 4.6384\n",
      "epoch 80: train_loss = 1.3249, val_loss = 1.6985\n",
      "epoch 81: train_loss = 3.1094, val_loss = 4.0717\n",
      "epoch 82: train_loss = 5.1798, val_loss = 6.8260\n",
      "epoch 83: train_loss = 1.1987, val_loss = 1.5728\n",
      "epoch 84: train_loss = 1.0243, val_loss = 1.3817\n",
      "epoch 85: train_loss = 0.7452, val_loss = 1.0022\n",
      "epoch 86: train_loss = 1.8028, val_loss = 2.3479\n",
      "epoch 87: train_loss = 1.7391, val_loss = 2.2690\n",
      "epoch 88: train_loss = 1.0334, val_loss = 1.4041\n",
      "epoch 89: train_loss = 1.1924, val_loss = 1.5366\n",
      "epoch 90: train_loss = 0.8107, val_loss = 1.0741\n",
      "epoch 91: train_loss = 1.7764, val_loss = 2.3669\n",
      "epoch 92: train_loss = 6.2278, val_loss = 8.2673\n",
      "epoch 93: train_loss = 1.4010, val_loss = 1.9120\n",
      "epoch 94: train_loss = 9.1475, val_loss = 11.8607\n",
      "epoch 95: train_loss = 2.1728, val_loss = 2.9138\n",
      "epoch 96: train_loss = 2.0536, val_loss = 2.6155\n",
      "epoch 97: train_loss = 1.0529, val_loss = 1.3482\n",
      "epoch 98: train_loss = 4.2464, val_loss = 5.5992\n",
      "epoch 99: train_loss = 0.9702, val_loss = 1.3249\n",
      "epoch 100: train_loss = 0.9073, val_loss = 1.2007\n",
      "epoch 101: train_loss = 2.2924, val_loss = 3.0958\n",
      "epoch 102: train_loss = 1.9474, val_loss = 2.6532\n",
      "epoch 103: train_loss = 0.9003, val_loss = 1.2024\n",
      "epoch 104: train_loss = 0.6137, val_loss = 0.7800\n",
      "epoch 105: train_loss = 3.0187, val_loss = 3.9555\n",
      "epoch 106: train_loss = 0.7683, val_loss = 1.0644\n",
      "epoch 107: train_loss = 3.5682, val_loss = 4.7745\n",
      "epoch 108: train_loss = 1.4652, val_loss = 1.9514\n",
      "epoch 109: train_loss = 1.1717, val_loss = 1.5212\n",
      "epoch 110: train_loss = 3.1204, val_loss = 4.0203\n",
      "epoch 111: train_loss = 0.9239, val_loss = 1.2137\n",
      "epoch 112: train_loss = 1.1176, val_loss = 1.4783\n",
      "epoch 113: train_loss = 1.8241, val_loss = 2.4442\n",
      "epoch 114: train_loss = 0.7746, val_loss = 1.0555\n",
      "epoch 115: train_loss = 0.7029, val_loss = 0.9397\n",
      "epoch 116: train_loss = 1.3587, val_loss = 1.8395\n",
      "epoch 117: train_loss = 4.3075, val_loss = 5.5520\n",
      "epoch 118: train_loss = 1.5745, val_loss = 2.0946\n",
      "epoch 119: train_loss = 3.4306, val_loss = 4.5076\n",
      "epoch 120: train_loss = 0.5544, val_loss = 0.7473\n",
      "epoch 121: train_loss = 1.6796, val_loss = 2.1172\n",
      "epoch 122: train_loss = 2.4119, val_loss = 3.2058\n",
      "epoch 123: train_loss = 1.6387, val_loss = 2.1289\n",
      "epoch 124: train_loss = 3.1650, val_loss = 4.1098\n",
      "epoch 125: train_loss = 0.9399, val_loss = 1.2394\n",
      "epoch 126: train_loss = 1.0316, val_loss = 1.3580\n",
      "epoch 127: train_loss = 1.1284, val_loss = 1.5312\n",
      "epoch 128: train_loss = 1.1780, val_loss = 1.6069\n",
      "epoch 129: train_loss = 0.7025, val_loss = 0.9538\n",
      "epoch 130: train_loss = 0.5884, val_loss = 0.7944\n",
      "epoch 131: train_loss = 0.9292, val_loss = 1.2522\n",
      "epoch 132: train_loss = 5.2122, val_loss = 6.7225\n",
      "epoch 133: train_loss = 3.6333, val_loss = 4.7897\n",
      "epoch 134: train_loss = 1.1729, val_loss = 1.5848\n",
      "epoch 135: train_loss = 1.0276, val_loss = 1.3555\n",
      "epoch 136: train_loss = 4.6133, val_loss = 5.9827\n",
      "epoch 137: train_loss = 1.7328, val_loss = 2.1942\n",
      "epoch 138: train_loss = 1.2130, val_loss = 1.6260\n",
      "epoch 139: train_loss = 3.1774, val_loss = 4.0310\n",
      "epoch 140: train_loss = 2.7388, val_loss = 3.5417\n",
      "epoch 141: train_loss = 0.6997, val_loss = 0.9363\n",
      "epoch 142: train_loss = 0.5036, val_loss = 0.6854\n",
      "epoch 143: train_loss = 0.9811, val_loss = 1.2584\n",
      "epoch 144: train_loss = 0.4984, val_loss = 0.6597\n",
      "epoch 145: train_loss = 2.0692, val_loss = 2.8257\n",
      "epoch 146: train_loss = 0.9234, val_loss = 1.2183\n",
      "epoch 147: train_loss = 10.0298, val_loss = 13.2214\n",
      "epoch 148: train_loss = 0.5636, val_loss = 0.7297\n",
      "epoch 149: train_loss = 2.5003, val_loss = 3.2578\n",
      "epoch 150: train_loss = 0.7808, val_loss = 1.0721\n",
      "epoch 151: train_loss = 1.0543, val_loss = 1.3954\n",
      "epoch 152: train_loss = 2.4369, val_loss = 3.1593\n",
      "epoch 153: train_loss = 3.4110, val_loss = 4.4727\n",
      "epoch 154: train_loss = 8.1029, val_loss = 10.5149\n",
      "epoch 155: train_loss = 0.7979, val_loss = 1.0346\n",
      "epoch 156: train_loss = 4.7970, val_loss = 6.2571\n",
      "epoch 157: train_loss = 1.3314, val_loss = 1.7959\n",
      "epoch 158: train_loss = 1.3949, val_loss = 1.8515\n",
      "epoch 159: train_loss = 0.8277, val_loss = 1.1093\n",
      "epoch 160: train_loss = 0.7991, val_loss = 1.1168\n",
      "epoch 161: train_loss = 0.9238, val_loss = 1.2155\n",
      "epoch 162: train_loss = 1.9779, val_loss = 2.6032\n",
      "epoch 163: train_loss = 0.7495, val_loss = 1.0180\n",
      "epoch 164: train_loss = 0.8371, val_loss = 1.1045\n",
      "epoch 165: train_loss = 0.8255, val_loss = 1.1109\n",
      "epoch 166: train_loss = 0.8280, val_loss = 1.1003\n",
      "epoch 167: train_loss = 0.6022, val_loss = 0.7791\n",
      "epoch 168: train_loss = 6.1507, val_loss = 7.9351\n",
      "epoch 169: train_loss = 0.6660, val_loss = 0.9091\n",
      "epoch 170: train_loss = 0.6535, val_loss = 0.8345\n",
      "epoch 171: train_loss = 0.5750, val_loss = 0.7513\n",
      "epoch 172: train_loss = 0.4283, val_loss = 0.5733\n",
      "epoch 173: train_loss = 1.0559, val_loss = 1.4232\n",
      "epoch 174: train_loss = 0.7206, val_loss = 0.9227\n",
      "epoch 175: train_loss = 2.6865, val_loss = 3.4169\n",
      "epoch 176: train_loss = 1.4356, val_loss = 1.9507\n",
      "epoch 177: train_loss = 3.4947, val_loss = 4.5305\n",
      "epoch 178: train_loss = 0.7912, val_loss = 1.0417\n",
      "epoch 179: train_loss = 0.6864, val_loss = 0.8907\n",
      "epoch 180: train_loss = 3.7691, val_loss = 4.8371\n",
      "epoch 181: train_loss = 6.3143, val_loss = 8.0549\n",
      "epoch 182: train_loss = 1.2870, val_loss = 1.7199\n",
      "epoch 183: train_loss = 0.7945, val_loss = 1.0507\n",
      "epoch 184: train_loss = 2.1141, val_loss = 2.8408\n",
      "epoch 185: train_loss = 0.9682, val_loss = 1.2223\n",
      "epoch 186: train_loss = 0.4160, val_loss = 0.5673\n",
      "epoch 187: train_loss = 2.3495, val_loss = 3.1719\n",
      "epoch 188: train_loss = 5.5397, val_loss = 7.2130\n",
      "epoch 189: train_loss = 1.4636, val_loss = 1.9111\n",
      "epoch 190: train_loss = 0.4889, val_loss = 0.6651\n",
      "epoch 191: train_loss = 0.5887, val_loss = 0.7923\n",
      "epoch 192: train_loss = 0.6307, val_loss = 0.8733\n",
      "epoch 193: train_loss = 0.7446, val_loss = 0.9693\n",
      "epoch 194: train_loss = 1.9278, val_loss = 2.4149\n",
      "epoch 195: train_loss = 1.4005, val_loss = 1.8569\n",
      "epoch 196: train_loss = 0.8906, val_loss = 1.1634\n",
      "epoch 197: train_loss = 6.5503, val_loss = 8.3487\n",
      "epoch 198: train_loss = 0.6180, val_loss = 0.8313\n",
      "epoch 199: train_loss = 0.6270, val_loss = 0.8468\n",
      "epoch 200: train_loss = 0.8744, val_loss = 1.1772\n",
      "The model is saved at epoch = 186 and the loss = 0.41602563858032227\n"
     ]
    },
    {
     "data": {
      "image/png": "[encoded data removed]",
      "text/plain": [
       "<Figure size 432x288 with 1 Axes>"
      ]
     },
     "metadata": {
      "needs_background": "light"
     },
     "output_type": "display_data"
    }
   ],
   "source": [
    "in_channel = 160\n",
    "node_1 = 512\n",
    "node_2 = 512\n",
    "node_3 = 256\n",
    "node_4 = 256\n",
    "node_5 = 64\n",
    "node_6 = 16\n",
    "out_channel = 2\n",
    "\n",
    "learning_rate = 1e-3\n",
    "\n",
    "model_physics = PhysicsNet(in_channel, node_1, node_2, node_3, node_4, node_5, node_6, out_channel)\n",
    "optimizer = optim.Adam(model_physics.parameters(), lr=learning_rate)\n",
    "epoch = 200\n",
    "\n",
    "# 0 indicates edge points 1 indicates spline\n",
    "train_physics(model_physics, optimizer, epoch, 0)"
   ]
  },
  {
   "cell_type": "markdown",
   "metadata": {},
   "source": [
    "## Train PhysicsNet spline"
   ]
  },
  {
   "cell_type": "code",
   "execution_count": 37,
   "metadata": {},
   "outputs": [
    {
     "name": "stdout",
     "output_type": "stream",
     "text": [
      "epoch 1: train_loss = 1797.3650, val_loss = 2291.0985\n",
      "epoch 2: train_loss = 1776.1575, val_loss = 2266.5179\n",
      "epoch 3: train_loss = 1723.4403, val_loss = 2196.4329\n",
      "epoch 4: train_loss = 1708.9165, val_loss = 2183.2485\n",
      "epoch 5: train_loss = 1671.5749, val_loss = 2129.3695\n",
      "epoch 6: train_loss = 1595.0418, val_loss = 2035.9209\n",
      "epoch 7: train_loss = 1512.6284, val_loss = 1930.5664\n",
      "epoch 8: train_loss = 1423.1129, val_loss = 1817.6950\n",
      "epoch 9: train_loss = 1211.3135, val_loss = 1545.6878\n",
      "epoch 10: train_loss = 1318.6835, val_loss = 1687.2983\n",
      "epoch 11: train_loss = 1207.8994, val_loss = 1550.1663\n",
      "epoch 12: train_loss = 1088.7980, val_loss = 1393.7855\n",
      "epoch 13: train_loss = 1002.3131, val_loss = 1283.9171\n",
      "epoch 14: train_loss = 965.5347, val_loss = 1240.6514\n",
      "epoch 15: train_loss = 1018.3991, val_loss = 1303.9972\n",
      "epoch 16: train_loss = 796.1847, val_loss = 1021.3028\n",
      "epoch 17: train_loss = 686.5109, val_loss = 883.3793\n",
      "epoch 18: train_loss = 713.6433, val_loss = 923.2403\n",
      "epoch 19: train_loss = 549.7188, val_loss = 708.7424\n",
      "epoch 20: train_loss = 503.1039, val_loss = 652.7319\n",
      "epoch 21: train_loss = 532.5907, val_loss = 690.8279\n",
      "epoch 22: train_loss = 366.1169, val_loss = 466.3303\n",
      "epoch 23: train_loss = 405.5433, val_loss = 526.5864\n",
      "epoch 24: train_loss = 331.3765, val_loss = 426.9838\n",
      "epoch 25: train_loss = 292.9344, val_loss = 375.5668\n",
      "epoch 26: train_loss = 273.6696, val_loss = 354.3338\n",
      "epoch 27: train_loss = 199.3918, val_loss = 255.7925\n",
      "epoch 28: train_loss = 190.6148, val_loss = 243.7982\n",
      "epoch 29: train_loss = 195.4054, val_loss = 253.9935\n",
      "epoch 30: train_loss = 183.1352, val_loss = 238.1507\n",
      "epoch 31: train_loss = 114.9485, val_loss = 148.6007\n",
      "epoch 32: train_loss = 87.5668, val_loss = 111.9786\n",
      "epoch 33: train_loss = 93.1996, val_loss = 119.2105\n",
      "epoch 34: train_loss = 72.6684, val_loss = 92.6173\n",
      "epoch 35: train_loss = 53.1462, val_loss = 67.5502\n",
      "epoch 36: train_loss = 44.4687, val_loss = 57.4081\n",
      "epoch 37: train_loss = 46.1475, val_loss = 58.5020\n",
      "epoch 38: train_loss = 39.9059, val_loss = 51.3202\n",
      "epoch 39: train_loss = 27.2753, val_loss = 34.5672\n",
      "epoch 40: train_loss = 23.4858, val_loss = 29.9418\n",
      "epoch 41: train_loss = 22.3474, val_loss = 28.1667\n",
      "epoch 42: train_loss = 25.4979, val_loss = 32.5526\n",
      "epoch 43: train_loss = 11.6983, val_loss = 14.8719\n",
      "epoch 44: train_loss = 12.4213, val_loss = 15.8574\n",
      "epoch 45: train_loss = 12.2126, val_loss = 15.4360\n",
      "epoch 46: train_loss = 7.8398, val_loss = 9.9101\n",
      "epoch 47: train_loss = 6.3550, val_loss = 8.0845\n",
      "epoch 48: train_loss = 10.6307, val_loss = 13.5227\n",
      "epoch 49: train_loss = 4.4711, val_loss = 5.6602\n",
      "epoch 50: train_loss = 4.1289, val_loss = 5.2169\n",
      "epoch 51: train_loss = 4.6482, val_loss = 5.9216\n",
      "epoch 52: train_loss = 4.4612, val_loss = 5.7746\n",
      "epoch 53: train_loss = 7.2480, val_loss = 9.2462\n",
      "epoch 54: train_loss = 3.1138, val_loss = 3.9293\n",
      "epoch 55: train_loss = 2.9841, val_loss = 3.8345\n",
      "epoch 56: train_loss = 2.8859, val_loss = 3.6388\n",
      "epoch 57: train_loss = 2.7233, val_loss = 3.4784\n",
      "epoch 58: train_loss = 2.8778, val_loss = 3.6788\n",
      "epoch 59: train_loss = 1.4049, val_loss = 1.7571\n",
      "epoch 60: train_loss = 1.7680, val_loss = 2.1973\n",
      "epoch 61: train_loss = 2.3162, val_loss = 2.9375\n",
      "epoch 62: train_loss = 5.2448, val_loss = 6.6966\n",
      "epoch 63: train_loss = 3.3041, val_loss = 4.0465\n",
      "epoch 64: train_loss = 1.9756, val_loss = 2.4808\n",
      "epoch 65: train_loss = 4.1514, val_loss = 5.1442\n",
      "epoch 66: train_loss = 1.6025, val_loss = 2.0006\n",
      "epoch 67: train_loss = 14.0988, val_loss = 17.4161\n",
      "epoch 68: train_loss = 1.7546, val_loss = 2.1316\n",
      "epoch 69: train_loss = 2.7871, val_loss = 3.3963\n",
      "epoch 70: train_loss = 2.7936, val_loss = 3.4776\n",
      "epoch 71: train_loss = 6.8121, val_loss = 8.2871\n",
      "epoch 72: train_loss = 1.1454, val_loss = 1.4196\n",
      "epoch 73: train_loss = 15.5444, val_loss = 18.9393\n",
      "epoch 74: train_loss = 2.3196, val_loss = 2.8426\n",
      "epoch 75: train_loss = 1.7380, val_loss = 2.1590\n",
      "epoch 76: train_loss = 0.8775, val_loss = 1.0756\n",
      "epoch 77: train_loss = 0.8742, val_loss = 1.0958\n",
      "epoch 78: train_loss = 1.0872, val_loss = 1.3392\n",
      "epoch 79: train_loss = 0.9527, val_loss = 1.1745\n",
      "epoch 80: train_loss = 3.0464, val_loss = 3.8261\n",
      "epoch 81: train_loss = 2.1841, val_loss = 2.6270\n",
      "epoch 82: train_loss = 1.6319, val_loss = 1.9711\n",
      "epoch 83: train_loss = 2.9229, val_loss = 3.5510\n",
      "epoch 84: train_loss = 1.1375, val_loss = 1.3851\n",
      "epoch 85: train_loss = 8.4350, val_loss = 10.3551\n",
      "epoch 86: train_loss = 1.8428, val_loss = 2.3048\n",
      "epoch 87: train_loss = 0.9748, val_loss = 1.2085\n",
      "epoch 88: train_loss = 0.7997, val_loss = 0.9861\n",
      "epoch 89: train_loss = 1.8711, val_loss = 2.2999\n",
      "epoch 90: train_loss = 2.3912, val_loss = 3.0732\n",
      "epoch 91: train_loss = 1.5112, val_loss = 1.8487\n",
      "epoch 92: train_loss = 1.9783, val_loss = 2.4381\n",
      "epoch 93: train_loss = 9.6273, val_loss = 11.9601\n",
      "epoch 94: train_loss = 0.8928, val_loss = 1.1058\n",
      "epoch 95: train_loss = 2.7139, val_loss = 3.3042\n",
      "epoch 96: train_loss = 2.7763, val_loss = 3.3951\n",
      "epoch 97: train_loss = 1.4138, val_loss = 1.8017\n",
      "epoch 98: train_loss = 3.1221, val_loss = 3.9689\n",
      "epoch 99: train_loss = 1.1051, val_loss = 1.3925\n",
      "epoch 100: train_loss = 16.9883, val_loss = 20.9187\n",
      "epoch 101: train_loss = 3.3208, val_loss = 4.0773\n",
      "epoch 102: train_loss = 9.5707, val_loss = 11.7915\n",
      "epoch 103: train_loss = 3.0742, val_loss = 3.6970\n",
      "epoch 104: train_loss = 2.3832, val_loss = 2.8813\n",
      "epoch 105: train_loss = 2.2522, val_loss = 2.7987\n",
      "epoch 106: train_loss = 3.8336, val_loss = 4.6432\n",
      "epoch 107: train_loss = 2.3712, val_loss = 2.9175\n",
      "epoch 108: train_loss = 2.6750, val_loss = 3.2739\n",
      "epoch 109: train_loss = 5.7820, val_loss = 7.0701\n",
      "epoch 110: train_loss = 5.8860, val_loss = 7.1626\n",
      "epoch 111: train_loss = 2.8344, val_loss = 3.4862\n",
      "epoch 112: train_loss = 8.3227, val_loss = 10.2673\n",
      "epoch 113: train_loss = 4.0844, val_loss = 5.0679\n",
      "epoch 114: train_loss = 5.8742, val_loss = 7.1674\n",
      "epoch 115: train_loss = 13.5396, val_loss = 16.3786\n",
      "epoch 116: train_loss = 2.1514, val_loss = 2.6805\n",
      "epoch 117: train_loss = 8.9774, val_loss = 10.9670\n",
      "epoch 118: train_loss = 6.6710, val_loss = 8.0518\n",
      "epoch 119: train_loss = 1.2010, val_loss = 1.5445\n",
      "epoch 120: train_loss = 3.3021, val_loss = 3.9978\n",
      "epoch 121: train_loss = 1.3927, val_loss = 1.7130\n",
      "epoch 122: train_loss = 3.6353, val_loss = 4.4223\n",
      "epoch 123: train_loss = 12.1158, val_loss = 14.7384\n",
      "epoch 124: train_loss = 2.7565, val_loss = 3.3391\n",
      "epoch 125: train_loss = 1.6481, val_loss = 2.0968\n",
      "epoch 126: train_loss = 2.4618, val_loss = 3.0519\n",
      "epoch 127: train_loss = 2.3350, val_loss = 2.8841\n",
      "epoch 128: train_loss = 1.6436, val_loss = 2.0246\n",
      "epoch 129: train_loss = 4.5239, val_loss = 5.5267\n",
      "epoch 130: train_loss = 3.0089, val_loss = 3.7165\n",
      "epoch 131: train_loss = 15.1138, val_loss = 18.5620\n",
      "epoch 132: train_loss = 2.4446, val_loss = 3.0291\n",
      "epoch 133: train_loss = 0.8962, val_loss = 1.1720\n",
      "epoch 134: train_loss = 11.9864, val_loss = 14.6146\n",
      "epoch 135: train_loss = 1.6156, val_loss = 2.0026\n",
      "epoch 136: train_loss = 4.7563, val_loss = 5.7510\n",
      "epoch 137: train_loss = 2.4592, val_loss = 3.0076\n",
      "epoch 138: train_loss = 19.7817, val_loss = 24.2364\n",
      "epoch 139: train_loss = 5.1695, val_loss = 6.4646\n",
      "epoch 140: train_loss = 13.2383, val_loss = 16.0761\n",
      "epoch 141: train_loss = 0.8886, val_loss = 1.1620\n",
      "epoch 142: train_loss = 1.2690, val_loss = 1.6707\n",
      "epoch 143: train_loss = 5.7383, val_loss = 7.0575\n",
      "epoch 144: train_loss = 0.6657, val_loss = 0.8520\n",
      "epoch 145: train_loss = 0.6732, val_loss = 0.8096\n",
      "epoch 146: train_loss = 6.4787, val_loss = 7.7899\n",
      "epoch 147: train_loss = 6.0520, val_loss = 7.4490\n",
      "epoch 148: train_loss = 0.8503, val_loss = 1.0591\n",
      "epoch 149: train_loss = 1.2251, val_loss = 1.5120\n",
      "epoch 150: train_loss = 4.2459, val_loss = 5.1039\n",
      "epoch 151: train_loss = 7.3625, val_loss = 9.0089\n",
      "epoch 152: train_loss = 11.3023, val_loss = 13.9727\n",
      "epoch 153: train_loss = 2.6091, val_loss = 3.1788\n",
      "epoch 154: train_loss = 4.2392, val_loss = 5.2451\n",
      "epoch 155: train_loss = 3.6647, val_loss = 4.4538\n",
      "epoch 156: train_loss = 12.4563, val_loss = 15.1364\n",
      "epoch 157: train_loss = 0.9005, val_loss = 1.0833\n",
      "epoch 158: train_loss = 1.1320, val_loss = 1.3609\n",
      "epoch 159: train_loss = 1.8707, val_loss = 2.2687\n",
      "epoch 160: train_loss = 1.4191, val_loss = 1.8458\n",
      "epoch 161: train_loss = 1.2358, val_loss = 1.5776\n",
      "epoch 162: train_loss = 2.1266, val_loss = 2.6191\n",
      "epoch 163: train_loss = 8.5010, val_loss = 10.3036\n",
      "epoch 164: train_loss = 2.1945, val_loss = 2.6952\n",
      "epoch 165: train_loss = 4.9944, val_loss = 5.9965\n",
      "epoch 166: train_loss = 4.1545, val_loss = 5.1338\n",
      "epoch 167: train_loss = 5.8085, val_loss = 6.9643\n",
      "epoch 168: train_loss = 42.6375, val_loss = 53.2549\n",
      "epoch 169: train_loss = 3.3482, val_loss = 4.0845\n",
      "epoch 170: train_loss = 4.1901, val_loss = 5.0826\n",
      "epoch 171: train_loss = 17.7755, val_loss = 21.8870\n",
      "epoch 172: train_loss = 0.7920, val_loss = 0.9453\n",
      "epoch 173: train_loss = 1.2185, val_loss = 1.4389\n",
      "epoch 174: train_loss = 1.1747, val_loss = 1.3791\n",
      "epoch 175: train_loss = 0.8882, val_loss = 1.0482\n",
      "epoch 176: train_loss = 3.0682, val_loss = 3.7262\n",
      "epoch 177: train_loss = 1.2589, val_loss = 1.5388\n",
      "epoch 178: train_loss = 5.6814, val_loss = 6.8225\n",
      "epoch 179: train_loss = 1.0033, val_loss = 1.2793\n",
      "epoch 180: train_loss = 9.2815, val_loss = 11.3740\n",
      "epoch 181: train_loss = 0.6090, val_loss = 0.7814\n",
      "epoch 182: train_loss = 9.8955, val_loss = 11.9915\n",
      "epoch 183: train_loss = 0.7161, val_loss = 0.8756\n",
      "epoch 184: train_loss = 1.6055, val_loss = 1.9917\n",
      "epoch 185: train_loss = 21.5647, val_loss = 26.2763\n",
      "epoch 186: train_loss = 6.4711, val_loss = 7.8876\n",
      "epoch 187: train_loss = 3.4686, val_loss = 4.2526\n",
      "epoch 188: train_loss = 1.0572, val_loss = 1.3322\n",
      "epoch 189: train_loss = 3.0425, val_loss = 3.7932\n",
      "epoch 190: train_loss = 0.8583, val_loss = 1.1238\n",
      "epoch 191: train_loss = 3.7102, val_loss = 4.4028\n",
      "epoch 192: train_loss = 1.0479, val_loss = 1.3504\n",
      "epoch 193: train_loss = 1.9673, val_loss = 2.3574\n",
      "epoch 194: train_loss = 0.8359, val_loss = 1.0216\n",
      "epoch 195: train_loss = 23.1011, val_loss = 28.3031\n",
      "epoch 196: train_loss = 6.5428, val_loss = 7.8178\n",
      "epoch 197: train_loss = 2.0746, val_loss = 2.4318\n",
      "epoch 198: train_loss = 0.9017, val_loss = 1.0864\n",
      "epoch 199: train_loss = 2.9343, val_loss = 3.4463\n",
      "epoch 200: train_loss = 8.5352, val_loss = 10.3970\n",
      "The model is saved at epoch = 181 and the loss = 0.608983039855957\n"
     ]
    },
    {
     "data": {
      "image/png": "[encoded data removed]",
      "text/plain": [
       "<Figure size 432x288 with 1 Axes>"
      ]
     },
     "metadata": {
      "needs_background": "light"
     },
     "output_type": "display_data"
    }
   ],
   "source": [
    "in_channel = 22\n",
    "node_1 = 512\n",
    "node_2 = 512\n",
    "node_3 = 256\n",
    "node_4 = 256\n",
    "node_5 = 64\n",
    "node_6 = 16\n",
    "out_channel = 2\n",
    "\n",
    "model_physics = PhysicsNet(in_channel, node_1, node_2, node_3, node_4, node_5, node_6, out_channel)\n",
    "optimizer = optim.Adam(model_physics.parameters(), lr=learning_rate)\n",
    "epoch = 200\n",
    "\n",
    "# 0 indicates edge points 1 indicates spline\n",
    "train_physics(model_physics, optimizer, epoch, 1)"
   ]
  },
  {
   "cell_type": "markdown",
   "metadata": {},
   "source": [
    "<font color=red>\n",
    "It seems like more points we have, small oscillation we get.<br>\n",
    "Instead of taking the polynomial coefficients as input, transfer coefficients into points.\n",
    "</font>"
   ]
  },
  {
   "cell_type": "markdown",
   "metadata": {},
   "source": [
    "### Retrain with SGD"
   ]
  },
  {
   "cell_type": "code",
   "execution_count": 54,
   "metadata": {},
   "outputs": [
    {
     "name": "stdout",
     "output_type": "stream",
     "text": [
      "epoch 1: train_loss = 0.2539, val_loss = 0.3424\n",
      "epoch 2: train_loss = 0.2238, val_loss = 0.3033\n",
      "epoch 3: train_loss = 0.2050, val_loss = 0.2774\n",
      "epoch 4: train_loss = 0.2020, val_loss = 0.2761\n",
      "epoch 5: train_loss = 0.2011, val_loss = 0.2790\n",
      "epoch 6: train_loss = 0.2472, val_loss = 0.3397\n",
      "epoch 7: train_loss = 0.2037, val_loss = 0.2803\n",
      "epoch 8: train_loss = 0.2014, val_loss = 0.2781\n",
      "epoch 9: train_loss = 0.1981, val_loss = 0.2728\n",
      "epoch 10: train_loss = 0.2490, val_loss = 0.3431\n",
      "epoch 11: train_loss = 0.1961, val_loss = 0.2722\n",
      "epoch 12: train_loss = 0.2189, val_loss = 0.3017\n",
      "epoch 13: train_loss = 0.2092, val_loss = 0.2906\n",
      "epoch 14: train_loss = 0.2126, val_loss = 0.2906\n",
      "epoch 15: train_loss = 0.1902, val_loss = 0.2637\n",
      "epoch 16: train_loss = 0.2064, val_loss = 0.2871\n",
      "epoch 17: train_loss = 0.2140, val_loss = 0.2998\n",
      "epoch 18: train_loss = 0.2096, val_loss = 0.2929\n",
      "epoch 19: train_loss = 0.2101, val_loss = 0.2938\n",
      "epoch 20: train_loss = 0.2116, val_loss = 0.2956\n",
      "epoch 21: train_loss = 0.2193, val_loss = 0.3047\n",
      "epoch 22: train_loss = 0.1961, val_loss = 0.2703\n",
      "epoch 23: train_loss = 0.2235, val_loss = 0.3120\n",
      "epoch 24: train_loss = 0.1914, val_loss = 0.2676\n",
      "epoch 25: train_loss = 0.2247, val_loss = 0.3142\n",
      "epoch 26: train_loss = 0.1971, val_loss = 0.2729\n",
      "epoch 27: train_loss = 0.2034, val_loss = 0.2852\n",
      "epoch 28: train_loss = 0.1876, val_loss = 0.2622\n",
      "epoch 29: train_loss = 0.2209, val_loss = 0.3091\n",
      "epoch 30: train_loss = 0.1909, val_loss = 0.2659\n",
      "epoch 31: train_loss = 0.2044, val_loss = 0.2845\n",
      "epoch 32: train_loss = 0.1866, val_loss = 0.2585\n",
      "epoch 33: train_loss = 0.1992, val_loss = 0.2780\n",
      "epoch 34: train_loss = 0.1990, val_loss = 0.2736\n",
      "epoch 35: train_loss = 0.1884, val_loss = 0.2623\n",
      "epoch 36: train_loss = 0.2100, val_loss = 0.2926\n",
      "epoch 37: train_loss = 0.1942, val_loss = 0.2695\n",
      "epoch 38: train_loss = 0.1965, val_loss = 0.2755\n",
      "epoch 39: train_loss = 0.1905, val_loss = 0.2681\n",
      "epoch 40: train_loss = 0.2462, val_loss = 0.3405\n",
      "epoch 41: train_loss = 0.1882, val_loss = 0.2632\n",
      "epoch 42: train_loss = 0.2440, val_loss = 0.3377\n",
      "epoch 43: train_loss = 0.1964, val_loss = 0.2715\n",
      "epoch 44: train_loss = 0.2013, val_loss = 0.2794\n",
      "epoch 45: train_loss = 0.1930, val_loss = 0.2684\n",
      "epoch 46: train_loss = 0.1907, val_loss = 0.2654\n",
      "epoch 47: train_loss = 0.2007, val_loss = 0.2797\n",
      "epoch 48: train_loss = 0.2025, val_loss = 0.2854\n",
      "epoch 49: train_loss = 0.1877, val_loss = 0.2592\n",
      "epoch 50: train_loss = 0.1992, val_loss = 0.2777\n",
      "epoch 51: train_loss = 0.1943, val_loss = 0.2695\n",
      "epoch 52: train_loss = 0.1881, val_loss = 0.2606\n",
      "epoch 53: train_loss = 0.2202, val_loss = 0.3055\n",
      "epoch 54: train_loss = 0.2068, val_loss = 0.2890\n",
      "epoch 55: train_loss = 0.1850, val_loss = 0.2588\n",
      "epoch 56: train_loss = 0.1848, val_loss = 0.2578\n",
      "epoch 57: train_loss = 0.2168, val_loss = 0.3014\n",
      "epoch 58: train_loss = 0.1936, val_loss = 0.2693\n",
      "epoch 59: train_loss = 0.2008, val_loss = 0.2773\n",
      "epoch 60: train_loss = 0.2033, val_loss = 0.2822\n",
      "epoch 61: train_loss = 0.2392, val_loss = 0.3323\n",
      "epoch 62: train_loss = 0.2431, val_loss = 0.3368\n",
      "epoch 63: train_loss = 0.1975, val_loss = 0.2718\n",
      "epoch 64: train_loss = 0.1873, val_loss = 0.2599\n",
      "epoch 65: train_loss = 0.2076, val_loss = 0.2887\n",
      "epoch 66: train_loss = 0.1858, val_loss = 0.2581\n",
      "epoch 67: train_loss = 0.1834, val_loss = 0.2555\n",
      "epoch 68: train_loss = 0.2064, val_loss = 0.2875\n",
      "epoch 69: train_loss = 0.1974, val_loss = 0.2768\n",
      "epoch 70: train_loss = 0.2476, val_loss = 0.3434\n",
      "epoch 71: train_loss = 0.2036, val_loss = 0.2824\n",
      "epoch 72: train_loss = 0.2075, val_loss = 0.2891\n",
      "epoch 73: train_loss = 0.1945, val_loss = 0.2726\n",
      "epoch 74: train_loss = 0.1990, val_loss = 0.2765\n",
      "epoch 75: train_loss = 0.1889, val_loss = 0.2620\n",
      "epoch 76: train_loss = 0.2240, val_loss = 0.3098\n",
      "epoch 77: train_loss = 0.1870, val_loss = 0.2612\n",
      "epoch 78: train_loss = 0.1906, val_loss = 0.2661\n",
      "epoch 79: train_loss = 0.2037, val_loss = 0.2836\n",
      "epoch 80: train_loss = 0.2138, val_loss = 0.2987\n",
      "epoch 81: train_loss = 0.1952, val_loss = 0.2718\n",
      "epoch 82: train_loss = 0.1961, val_loss = 0.2721\n",
      "epoch 83: train_loss = 0.2350, val_loss = 0.3269\n",
      "epoch 84: train_loss = 0.1974, val_loss = 0.2722\n",
      "epoch 85: train_loss = 0.1789, val_loss = 0.2521\n",
      "epoch 86: train_loss = 0.1812, val_loss = 0.2536\n",
      "epoch 87: train_loss = 0.2021, val_loss = 0.2815\n",
      "epoch 88: train_loss = 0.1918, val_loss = 0.2685\n",
      "epoch 89: train_loss = 0.2171, val_loss = 0.3017\n",
      "epoch 90: train_loss = 0.2061, val_loss = 0.2842\n",
      "epoch 91: train_loss = 0.2149, val_loss = 0.2972\n",
      "epoch 92: train_loss = 0.1941, val_loss = 0.2700\n",
      "epoch 93: train_loss = 0.2515, val_loss = 0.3497\n",
      "epoch 94: train_loss = 0.1940, val_loss = 0.2713\n",
      "epoch 95: train_loss = 0.1999, val_loss = 0.2781\n",
      "epoch 96: train_loss = 0.1866, val_loss = 0.2613\n",
      "epoch 97: train_loss = 0.1810, val_loss = 0.2537\n",
      "epoch 98: train_loss = 0.1959, val_loss = 0.2748\n",
      "epoch 99: train_loss = 0.1929, val_loss = 0.2661\n",
      "epoch 100: train_loss = 0.2067, val_loss = 0.2870\n",
      "The model is saved at epoch = 100 and the loss = 0.20670342445373535\n"
     ]
    },
    {
     "data": {
      "image/png": "[encoded data removed]",
      "text/plain": [
       "<Figure size 432x288 with 1 Axes>"
      ]
     },
     "metadata": {
      "needs_background": "light"
     },
     "output_type": "display_data"
    }
   ],
   "source": [
    "PATH_CAL = os.path.join(os.getcwd(), \"model_cal_points.pt\")\n",
    "# PATH_CAL = os.path.join(os.getcwd(), \"model_cal_spline.pt\")\n",
    "\n",
    "model_physics_trained = torch.load(PATH_CAL)\n",
    "\n",
    "learning_rate = 1e-4\n",
    "\n",
    "optimizer = optim.SGD(model_physics_trained.parameters(), lr=learning_rate)\n",
    "epoch = 100\n",
    "\n",
    "# 0 indicates edge points 1 indicates spline\n",
    "train_physics(model_physics_trained, optimizer, epoch, 0)"
   ]
  },
  {
   "cell_type": "markdown",
   "metadata": {},
   "source": [
    "### Visualization of outcomes\n",
    "Edge Point Model"
   ]
  },
  {
   "cell_type": "code",
   "execution_count": 56,
   "metadata": {},
   "outputs": [
    {
     "name": "stdout",
     "output_type": "stream",
     "text": [
      "Ground Truths     = tensor([[41.8000, 11.3235],\n",
      "        [78.7000, 34.8028],\n",
      "        [84.2000, 30.0618],\n",
      "        [19.7000,  7.4447],\n",
      "        [40.3000, 11.8669],\n",
      "        [76.4000, 25.8798],\n",
      "        [42.1000, 14.2858],\n",
      "        [45.4000, 18.4157]])\n",
      "Prediction Points = tensor([[41.2320, 11.5412],\n",
      "        [78.5213, 35.0372],\n",
      "        [83.6687, 30.1058],\n",
      "        [19.0237,  7.5885],\n",
      "        [40.2564, 11.8107],\n",
      "        [76.0485, 25.9798],\n",
      "        [41.9051, 14.3681],\n",
      "        [45.1775, 17.9130]])\n"
     ]
    }
   ],
   "source": [
    "PATH_CAL_POINTS = os.path.join(os.getcwd(), \"model_cal_points.pt\")\n",
    "\n",
    "model_physics_trained_points = torch.load(PATH_CAL_POINTS)\n",
    "\n",
    "examples = enumerate(test_loader_points)\n",
    "_, (x_test_points, y_test_points) = next(examples)\n",
    "\n",
    "score_example_points = prediction(model_physics_trained_points, x_test_points)\n",
    "\n",
    "# Print only 8 data samples for comparison\n",
    "print(\"Ground Truths     =\", y_test_points[:8])\n",
    "print(\"Prediction Points =\", score_example_points[:8].reshape(8, 2))"
   ]
  },
  {
   "cell_type": "markdown",
   "metadata": {},
   "source": [
    "Spline Model"
   ]
  },
  {
   "cell_type": "code",
   "execution_count": 57,
   "metadata": {},
   "outputs": [
    {
     "name": "stdout",
     "output_type": "stream",
     "text": [
      "Ground Truths     = tensor([[39.0000, 11.4064],\n",
      "        [60.5000, 20.8571],\n",
      "        [62.6000, 20.6144],\n",
      "        [18.4000,  6.4489],\n",
      "        [33.9000, 11.2434],\n",
      "        [78.8000, 36.3075],\n",
      "        [44.9000, 16.2956],\n",
      "        [53.2000, 17.9878]])\n",
      "Prediction Spline = tensor([[38.9685, 11.5340],\n",
      "        [60.5208, 20.9125],\n",
      "        [62.8544, 20.7039],\n",
      "        [17.5401,  6.8044],\n",
      "        [33.7758, 11.1543],\n",
      "        [78.3487, 35.7766],\n",
      "        [45.2105, 16.2227],\n",
      "        [52.7328, 17.8263]])\n"
     ]
    }
   ],
   "source": [
    "PATH_CAL_SPLINE = os.path.join(os.getcwd(), \"model_cal_spline.pt\")\n",
    "\n",
    "model_physics_trained_spline = torch.load(PATH_CAL_SPLINE)\n",
    "\n",
    "examples = enumerate(test_loader_spline)\n",
    "_, (x_test_spline, y_test_spline) = next(examples)\n",
    "\n",
    "score_example_spline = prediction(model_physics_trained_spline, x_test_spline)\n",
    "\n",
    "# Print only 8 data samples for comparison\n",
    "print(\"Ground Truths     =\", y_test_spline[:8])\n",
    "print(\"Prediction Spline =\", score_example_spline[:8].reshape(8, 2))"
   ]
  },
  {
   "cell_type": "markdown",
   "metadata": {},
   "source": [
    "## Train PictureNet edge points"
   ]
  },
  {
   "cell_type": "code",
   "execution_count": 63,
   "metadata": {},
   "outputs": [
    {
     "name": "stdout",
     "output_type": "stream",
     "text": [
      "epoch 1: train_loss = 1.2424, val_loss = 1.5225\n",
      "epoch 2: train_loss = 0.3671, val_loss = 0.4497\n",
      "epoch 3: train_loss = 0.0410, val_loss = 0.0488\n",
      "epoch 4: train_loss = 0.0173, val_loss = 0.0208\n",
      "epoch 5: train_loss = 0.0414, val_loss = 0.0504\n",
      "epoch 6: train_loss = 0.0843, val_loss = 0.1030\n",
      "epoch 7: train_loss = 0.0207, val_loss = 0.0250\n",
      "epoch 8: train_loss = 0.2244, val_loss = 0.2701\n",
      "epoch 9: train_loss = 0.0066, val_loss = 0.0079\n",
      "epoch 10: train_loss = 0.1318, val_loss = 0.1594\n",
      "epoch 11: train_loss = 0.0083, val_loss = 0.0101\n",
      "epoch 12: train_loss = 17.2210, val_loss = 20.9856\n",
      "epoch 13: train_loss = 4.0397, val_loss = 4.9025\n",
      "epoch 14: train_loss = 0.3034, val_loss = 0.3702\n",
      "epoch 15: train_loss = 0.0183, val_loss = 0.0218\n",
      "epoch 16: train_loss = 0.0469, val_loss = 0.0565\n",
      "epoch 17: train_loss = 0.0290, val_loss = 0.0349\n",
      "epoch 18: train_loss = 0.0310, val_loss = 0.0373\n",
      "epoch 19: train_loss = 0.0403, val_loss = 0.0487\n",
      "epoch 20: train_loss = 0.0080, val_loss = 0.0096\n",
      "epoch 21: train_loss = 0.0344, val_loss = 0.0417\n",
      "epoch 22: train_loss = 0.0204, val_loss = 0.0247\n",
      "epoch 23: train_loss = 0.0391, val_loss = 0.0477\n",
      "epoch 24: train_loss = 0.0083, val_loss = 0.0099\n",
      "epoch 25: train_loss = 0.0586, val_loss = 0.0712\n",
      "epoch 26: train_loss = 0.0482, val_loss = 0.0586\n",
      "epoch 27: train_loss = 0.0247, val_loss = 0.0300\n",
      "epoch 28: train_loss = 0.0200, val_loss = 0.0245\n",
      "epoch 29: train_loss = 0.0140, val_loss = 0.0171\n",
      "epoch 30: train_loss = 0.0029, val_loss = 0.0035\n",
      "epoch 31: train_loss = 0.0435, val_loss = 0.0533\n",
      "epoch 32: train_loss = 0.0036, val_loss = 0.0043\n",
      "epoch 33: train_loss = 0.0092, val_loss = 0.0112\n",
      "epoch 34: train_loss = 0.0437, val_loss = 0.0535\n",
      "epoch 35: train_loss = 0.0025, val_loss = 0.0031\n",
      "epoch 36: train_loss = 0.0339, val_loss = 0.0416\n",
      "epoch 37: train_loss = 0.0103, val_loss = 0.0126\n",
      "epoch 38: train_loss = 0.0244, val_loss = 0.0298\n",
      "epoch 39: train_loss = 0.0318, val_loss = 0.0391\n",
      "epoch 40: train_loss = 0.0253, val_loss = 0.0310\n",
      "epoch 41: train_loss = 0.0030, val_loss = 0.0037\n",
      "epoch 42: train_loss = 0.0307, val_loss = 0.0375\n",
      "epoch 43: train_loss = 0.0150, val_loss = 0.0183\n",
      "epoch 44: train_loss = 0.0172, val_loss = 0.0210\n",
      "epoch 45: train_loss = 0.1257, val_loss = 0.1538\n",
      "epoch 46: train_loss = 0.0398, val_loss = 0.0487\n",
      "epoch 47: train_loss = 0.0097, val_loss = 0.0119\n",
      "epoch 48: train_loss = 0.0090, val_loss = 0.0109\n",
      "epoch 49: train_loss = 0.0050, val_loss = 0.0061\n",
      "epoch 50: train_loss = 0.0022, val_loss = 0.0027\n",
      "epoch 51: train_loss = 0.0041, val_loss = 0.0050\n",
      "epoch 52: train_loss = 0.0540, val_loss = 0.0659\n",
      "epoch 53: train_loss = 0.0200, val_loss = 0.0247\n",
      "epoch 54: train_loss = 0.0129, val_loss = 0.0157\n",
      "epoch 55: train_loss = 0.0040, val_loss = 0.0048\n",
      "epoch 56: train_loss = 0.0279, val_loss = 0.0338\n",
      "epoch 57: train_loss = 0.0146, val_loss = 0.0175\n",
      "epoch 58: train_loss = 0.0140, val_loss = 0.0170\n",
      "epoch 59: train_loss = 0.0452, val_loss = 0.0553\n",
      "epoch 60: train_loss = 0.0107, val_loss = 0.0131\n",
      "epoch 61: train_loss = 0.0075, val_loss = 0.0092\n",
      "epoch 62: train_loss = 0.0016, val_loss = 0.0019\n",
      "epoch 63: train_loss = 0.0031, val_loss = 0.0038\n",
      "epoch 64: train_loss = 0.0015, val_loss = 0.0018\n",
      "epoch 65: train_loss = 0.0049, val_loss = 0.0060\n",
      "epoch 66: train_loss = 0.0034, val_loss = 0.0041\n",
      "epoch 67: train_loss = 0.0024, val_loss = 0.0029\n",
      "epoch 68: train_loss = 0.0038, val_loss = 0.0045\n",
      "epoch 69: train_loss = 0.0125, val_loss = 0.0154\n",
      "epoch 70: train_loss = 0.0273, val_loss = 0.0333\n",
      "epoch 71: train_loss = 0.0025, val_loss = 0.0030\n",
      "epoch 72: train_loss = 0.0045, val_loss = 0.0055\n",
      "epoch 73: train_loss = 0.0191, val_loss = 0.0235\n",
      "epoch 74: train_loss = 0.0046, val_loss = 0.0056\n",
      "epoch 75: train_loss = 0.0029, val_loss = 0.0035\n",
      "epoch 76: train_loss = 0.0197, val_loss = 0.0237\n",
      "epoch 77: train_loss = 0.0023, val_loss = 0.0029\n",
      "epoch 78: train_loss = 0.0011, val_loss = 0.0013\n",
      "epoch 79: train_loss = 0.0023, val_loss = 0.0028\n",
      "epoch 80: train_loss = 0.0065, val_loss = 0.0080\n",
      "epoch 81: train_loss = 0.0078, val_loss = 0.0095\n",
      "epoch 82: train_loss = 0.0198, val_loss = 0.0240\n",
      "epoch 83: train_loss = 0.0007, val_loss = 0.0008\n",
      "epoch 84: train_loss = 0.0029, val_loss = 0.0035\n",
      "epoch 85: train_loss = 0.0016, val_loss = 0.0019\n",
      "epoch 86: train_loss = 0.0045, val_loss = 0.0055\n",
      "epoch 87: train_loss = 0.0052, val_loss = 0.0064\n",
      "epoch 88: train_loss = 0.0032, val_loss = 0.0039\n",
      "epoch 89: train_loss = 0.0006, val_loss = 0.0007\n",
      "epoch 90: train_loss = 0.0145, val_loss = 0.0177\n",
      "epoch 91: train_loss = 0.0062, val_loss = 0.0075\n",
      "epoch 92: train_loss = 0.0193, val_loss = 0.0236\n",
      "epoch 93: train_loss = 0.0137, val_loss = 0.0168\n",
      "epoch 94: train_loss = 0.0061, val_loss = 0.0074\n",
      "epoch 95: train_loss = 0.0225, val_loss = 0.0275\n",
      "epoch 96: train_loss = 0.0024, val_loss = 0.0030\n",
      "epoch 97: train_loss = 0.0013, val_loss = 0.0016\n",
      "epoch 98: train_loss = 0.0033, val_loss = 0.0040\n",
      "epoch 99: train_loss = 0.0125, val_loss = 0.0153\n",
      "epoch 100: train_loss = 0.0009, val_loss = 0.0010\n",
      "The model is saved at epoch = 89 and the loss = 0.0006001295129719534\n"
     ]
    },
    {
     "data": {
      "image/png": "[encoded data removed]",
      "text/plain": [
       "<Figure size 432x288 with 1 Axes>"
      ]
     },
     "metadata": {
      "needs_background": "light"
     },
     "output_type": "display_data"
    }
   ],
   "source": [
    "in_channel = 1\n",
    "channel_1 = 16\n",
    "channel_2 = 32\n",
    "channel_3 = 64\n",
    "node_1 = 1024\n",
    "node_2 = 1024\n",
    "out_channel = 160\n",
    "\n",
    "learning_rate = 1e-3\n",
    "\n",
    "model_picture = PictureNet(in_channel, channel_1, channel_2, channel_3, node_1, node_2, out_channel)\n",
    "optimizer = optim.Adam(model_picture.parameters(), lr=learning_rate)\n",
    "epoch = 100\n",
    "\n",
    "# 0 indicates edge points 1 indicates spline\n",
    "train_picture(model_picture, optimizer, epoch, 0)"
   ]
  },
  {
   "cell_type": "markdown",
   "metadata": {},
   "source": [
    "## Train PictureNet for spline"
   ]
  },
  {
   "cell_type": "code",
   "execution_count": 59,
   "metadata": {},
   "outputs": [
    {
     "name": "stdout",
     "output_type": "stream",
     "text": [
      "epoch 1: train_loss = 1.3186, val_loss = 1.6068\n",
      "epoch 2: train_loss = 0.8247, val_loss = 1.0055\n",
      "epoch 3: train_loss = 0.0250, val_loss = 0.0303\n",
      "epoch 4: train_loss = 0.0058, val_loss = 0.0070\n",
      "epoch 5: train_loss = 0.0035, val_loss = 0.0043\n",
      "epoch 6: train_loss = 0.0018, val_loss = 0.0021\n",
      "epoch 7: train_loss = 0.0024, val_loss = 0.0029\n",
      "epoch 8: train_loss = 0.0012, val_loss = 0.0015\n",
      "epoch 9: train_loss = 0.0035, val_loss = 0.0042\n",
      "epoch 10: train_loss = 0.0017, val_loss = 0.0021\n",
      "epoch 11: train_loss = 0.0006, val_loss = 0.0007\n",
      "epoch 12: train_loss = 0.0004, val_loss = 0.0005\n",
      "epoch 13: train_loss = 0.0023, val_loss = 0.0028\n",
      "epoch 14: train_loss = 0.0019, val_loss = 0.0023\n",
      "epoch 15: train_loss = 0.0003, val_loss = 0.0004\n",
      "epoch 16: train_loss = 0.0024, val_loss = 0.0029\n",
      "epoch 17: train_loss = 0.0020, val_loss = 0.0024\n",
      "epoch 18: train_loss = 0.0021, val_loss = 0.0025\n",
      "epoch 19: train_loss = 0.0008, val_loss = 0.0010\n",
      "epoch 20: train_loss = 0.0010, val_loss = 0.0012\n",
      "epoch 21: train_loss = 0.0020, val_loss = 0.0025\n",
      "epoch 22: train_loss = 0.0007, val_loss = 0.0009\n",
      "epoch 23: train_loss = 0.0028, val_loss = 0.0034\n",
      "epoch 24: train_loss = 0.0018, val_loss = 0.0022\n",
      "epoch 25: train_loss = 0.0026, val_loss = 0.0031\n",
      "epoch 26: train_loss = 0.0018, val_loss = 0.0022\n",
      "epoch 27: train_loss = 0.0125, val_loss = 0.0151\n",
      "epoch 28: train_loss = 0.0026, val_loss = 0.0032\n",
      "epoch 29: train_loss = 0.0188, val_loss = 0.0228\n",
      "epoch 30: train_loss = 0.0008, val_loss = 0.0009\n",
      "epoch 31: train_loss = 0.0005, val_loss = 0.0006\n",
      "epoch 32: train_loss = 0.0003, val_loss = 0.0004\n",
      "epoch 33: train_loss = 0.0011, val_loss = 0.0013\n",
      "epoch 34: train_loss = 0.0003, val_loss = 0.0004\n",
      "epoch 35: train_loss = 0.0013, val_loss = 0.0016\n",
      "epoch 36: train_loss = 0.0037, val_loss = 0.0045\n",
      "epoch 37: train_loss = 0.0186, val_loss = 0.0225\n",
      "epoch 38: train_loss = 0.0010, val_loss = 0.0012\n",
      "epoch 39: train_loss = 0.0018, val_loss = 0.0022\n",
      "epoch 40: train_loss = 0.0031, val_loss = 0.0038\n",
      "epoch 41: train_loss = 0.0031, val_loss = 0.0038\n",
      "epoch 42: train_loss = 0.0010, val_loss = 0.0012\n",
      "epoch 43: train_loss = 0.0010, val_loss = 0.0012\n",
      "epoch 44: train_loss = 0.0026, val_loss = 0.0031\n",
      "epoch 45: train_loss = 0.0007, val_loss = 0.0009\n",
      "epoch 46: train_loss = 0.0124, val_loss = 0.0152\n",
      "epoch 47: train_loss = 0.0002, val_loss = 0.0002\n",
      "epoch 48: train_loss = 0.0039, val_loss = 0.0048\n",
      "epoch 49: train_loss = 0.0004, val_loss = 0.0005\n",
      "epoch 50: train_loss = 0.0014, val_loss = 0.0017\n",
      "epoch 51: train_loss = 0.0033, val_loss = 0.0040\n",
      "epoch 52: train_loss = 0.0002, val_loss = 0.0002\n",
      "epoch 53: train_loss = 0.0013, val_loss = 0.0016\n",
      "epoch 54: train_loss = 0.0005, val_loss = 0.0006\n",
      "epoch 55: train_loss = 0.0065, val_loss = 0.0080\n",
      "epoch 56: train_loss = 0.0004, val_loss = 0.0004\n",
      "epoch 57: train_loss = 0.0009, val_loss = 0.0012\n",
      "epoch 58: train_loss = 0.0004, val_loss = 0.0004\n",
      "epoch 59: train_loss = 0.0010, val_loss = 0.0012\n",
      "epoch 60: train_loss = 0.0003, val_loss = 0.0004\n",
      "epoch 61: train_loss = 0.0012, val_loss = 0.0014\n",
      "epoch 62: train_loss = 0.0041, val_loss = 0.0050\n",
      "epoch 63: train_loss = 0.0026, val_loss = 0.0032\n",
      "epoch 64: train_loss = 0.0017, val_loss = 0.0021\n",
      "epoch 65: train_loss = 0.0008, val_loss = 0.0010\n",
      "epoch 66: train_loss = 0.0002, val_loss = 0.0002\n",
      "epoch 67: train_loss = 0.0002, val_loss = 0.0002\n",
      "epoch 68: train_loss = 0.0003, val_loss = 0.0004\n",
      "epoch 69: train_loss = 0.0029, val_loss = 0.0035\n",
      "epoch 70: train_loss = 0.0007, val_loss = 0.0009\n",
      "epoch 71: train_loss = 0.0025, val_loss = 0.0031\n",
      "epoch 72: train_loss = 0.0013, val_loss = 0.0015\n",
      "epoch 73: train_loss = 0.0028, val_loss = 0.0035\n",
      "epoch 74: train_loss = 0.0004, val_loss = 0.0005\n",
      "epoch 75: train_loss = 0.0047, val_loss = 0.0058\n",
      "epoch 76: train_loss = 0.0003, val_loss = 0.0003\n",
      "epoch 77: train_loss = 0.0007, val_loss = 0.0008\n",
      "epoch 78: train_loss = 0.0014, val_loss = 0.0017\n",
      "epoch 79: train_loss = 0.0020, val_loss = 0.0024\n",
      "epoch 80: train_loss = 0.0007, val_loss = 0.0009\n",
      "epoch 81: train_loss = 0.0048, val_loss = 0.0058\n",
      "epoch 82: train_loss = 0.0002, val_loss = 0.0002\n",
      "epoch 83: train_loss = 0.0008, val_loss = 0.0010\n",
      "epoch 84: train_loss = 0.0008, val_loss = 0.0010\n",
      "epoch 85: train_loss = 0.0003, val_loss = 0.0003\n",
      "epoch 86: train_loss = 0.0016, val_loss = 0.0020\n",
      "epoch 87: train_loss = 0.0008, val_loss = 0.0010\n",
      "epoch 88: train_loss = 0.0012, val_loss = 0.0015\n",
      "epoch 89: train_loss = 0.0002, val_loss = 0.0002\n",
      "epoch 90: train_loss = 0.0010, val_loss = 0.0012\n",
      "epoch 91: train_loss = 0.0001, val_loss = 0.0002\n",
      "epoch 92: train_loss = 0.0022, val_loss = 0.0027\n",
      "epoch 93: train_loss = 0.0018, val_loss = 0.0022\n",
      "epoch 94: train_loss = 0.0008, val_loss = 0.0009\n",
      "epoch 95: train_loss = 0.0004, val_loss = 0.0005\n",
      "epoch 96: train_loss = 0.0003, val_loss = 0.0004\n",
      "epoch 97: train_loss = 0.0003, val_loss = 0.0003\n",
      "epoch 98: train_loss = 0.0012, val_loss = 0.0014\n",
      "epoch 99: train_loss = 0.0005, val_loss = 0.0006\n",
      "epoch 100: train_loss = 0.0040, val_loss = 0.0049\n",
      "The model is saved at epoch = 91 and the loss = 0.00014888263601613673\n"
     ]
    },
    {
     "data": {
      "image/png": "[encoded data removed]",
      "text/plain": [
       "<Figure size 432x288 with 1 Axes>"
      ]
     },
     "metadata": {
      "needs_background": "light"
     },
     "output_type": "display_data"
    }
   ],
   "source": [
    "in_channel = 1\n",
    "channel_1 = 16\n",
    "channel_2 = 32\n",
    "channel_3 = 64\n",
    "node_1 = 1024\n",
    "node_2 = 1024\n",
    "out_channel = 22\n",
    "\n",
    "learning_rate = 1e-3\n",
    "\n",
    "model_picture = PictureNet(in_channel, channel_1, channel_2, channel_3, node_1, node_2, out_channel)\n",
    "optimizer = optim.Adam(model_picture.parameters(), lr=learning_rate)\n",
    "epoch = 100\n",
    "\n",
    "# 0 indicates edge points 1 indicates spline\n",
    "train_picture(model_picture, optimizer, epoch, 1)"
   ]
  },
  {
   "cell_type": "markdown",
   "metadata": {},
   "source": [
    "### Retrain with SGD"
   ]
  },
  {
   "cell_type": "code",
   "execution_count": 97,
   "metadata": {},
   "outputs": [
    {
     "name": "stdout",
     "output_type": "stream",
     "text": [
      "epoch 1: train_loss = 0.0000, val_loss = 0.0000\n",
      "epoch 2: train_loss = 0.0000, val_loss = 0.0000\n",
      "epoch 3: train_loss = 0.0000, val_loss = 0.0000\n",
      "epoch 4: train_loss = 0.0000, val_loss = 0.0000\n",
      "epoch 5: train_loss = 0.0000, val_loss = 0.0001\n",
      "epoch 6: train_loss = 0.0000, val_loss = 0.0001\n",
      "epoch 7: train_loss = 0.0000, val_loss = 0.0000\n",
      "epoch 8: train_loss = 0.0000, val_loss = 0.0000\n",
      "epoch 9: train_loss = 0.0000, val_loss = 0.0000\n",
      "epoch 10: train_loss = 0.0000, val_loss = 0.0000\n",
      "epoch 11: train_loss = 0.0000, val_loss = 0.0000\n",
      "epoch 12: train_loss = 0.0000, val_loss = 0.0001\n",
      "epoch 13: train_loss = 0.0000, val_loss = 0.0000\n",
      "epoch 14: train_loss = 0.0000, val_loss = 0.0000\n",
      "epoch 15: train_loss = 0.0000, val_loss = 0.0000\n",
      "epoch 16: train_loss = 0.0000, val_loss = 0.0001\n",
      "epoch 17: train_loss = 0.0000, val_loss = 0.0000\n",
      "epoch 18: train_loss = 0.0000, val_loss = 0.0000\n",
      "epoch 19: train_loss = 0.0000, val_loss = 0.0000\n",
      "epoch 20: train_loss = 0.0000, val_loss = 0.0000\n",
      "The model is saved at epoch = 20 and the loss = 3.7829783794127014e-05\n"
     ]
    },
    {
     "data": {
      "image/png": "[encoded data removed]",
      "text/plain": [
       "<Figure size 432x288 with 1 Axes>"
      ]
     },
     "metadata": {
      "needs_background": "light"
     },
     "output_type": "display_data"
    }
   ],
   "source": [
    "# PATH_PIC = os.path.join(os.getcwd(), \"model_pic_points.pt\")\n",
    "PATH_PIC = os.path.join(os.getcwd(), \"model_pic_spline.pt\")\n",
    "\n",
    "model_picture_trained = torch.load(PATH_PIC)\n",
    "\n",
    "learning_rate = 1e-3\n",
    "\n",
    "optimizer = optim.SGD(model_picture_trained.parameters(), lr=learning_rate)\n",
    "epoch = 20\n",
    "\n",
    "# 0 indicates edge points 1 indicates spline\n",
    "train_picture(model_picture_trained, optimizer, epoch, 1)"
   ]
  },
  {
   "cell_type": "markdown",
   "metadata": {},
   "source": [
    "### Visualization of outcomes"
   ]
  },
  {
   "cell_type": "code",
   "execution_count": 118,
   "metadata": {},
   "outputs": [
    {
     "name": "stdout",
     "output_type": "stream",
     "text": [
      "39\n",
      "torch.Size([512, 1, 82, 77])\n",
      "torch.Size([512, 160])\n"
     ]
    }
   ],
   "source": [
    "# testing cell for better viewing the length\n",
    "train_x_pic_points, train_y_pic_points\n",
    "\n",
    "print(len(train_x_pic_points))\n",
    "print(train_x_pic_points[0].shape)\n",
    "print(train_y_pic_points[0].shape)"
   ]
  },
  {
   "cell_type": "markdown",
   "metadata": {},
   "source": [
    "Edge Point Model"
   ]
  },
  {
   "cell_type": "code",
   "execution_count": 183,
   "metadata": {},
   "outputs": [
    {
     "name": "stdout",
     "output_type": "stream",
     "text": [
      "current batch = 1\n",
      "current testing image = 267\n"
     ]
    }
   ],
   "source": [
    "PATH_PIC = os.path.join(os.getcwd(), \"model_pic_points.pt\")\n",
    "model_picture_trained = torch.load(PATH_PIC)\n",
    "\n",
    "rand1 = random.randint(0, len(test_x_pic_points)-1)\n",
    "rand2 = random.randint(0, 511)\n",
    "\n",
    "print(\"current batch =\", rand1)\n",
    "print(\"current testing image =\", rand2)\n",
    "\n",
    "score_pic = prediction(model_picture_trained, test_x_pic_points[rand1][rand2].reshape(1, 1, 82, 77))\n",
    "\n",
    "# Print all points out for viewing\n",
    "# for num in range(len(test_y_pic_points[rand1][rand2])):\n",
    "#     print(num+1, \": Ground Truths =\", test_y_pic_points[rand1][rand2][num].item(), \", Prediction =\", score_pic[0, num].item())\n"
   ]
  },
  {
   "cell_type": "code",
   "execution_count": 184,
   "metadata": {},
   "outputs": [
    {
     "data": {
      "image/png": "[encoded data removed]",
      "text/plain": [
       "<Figure size 432x288 with 1 Axes>"
      ]
     },
     "metadata": {
      "needs_background": "light"
     },
     "output_type": "display_data"
    }
   ],
   "source": [
    "# scattering points for ground truth\n",
    "x_gt_pos = test_y_pic_points[rand1][rand2][0:80]\n",
    "y_gt_pos = test_y_pic_points[rand1][rand2][80:160]\n",
    "x_gt_neg = -torch.flip(x_gt_pos, [0])\n",
    "y_gt_neg = torch.flip(y_gt_pos, [0])\n",
    "x_gt = torch.cat((x_gt_neg, x_gt_pos))\n",
    "y_gt = torch.cat((y_gt_neg, y_gt_pos))\n",
    "\n",
    "# scattering points for prediction\n",
    "x_pred_pos = score_pic[0, 0:80]\n",
    "y_pred_pos = score_pic[0, 80:160]\n",
    "x_pred_neg = -torch.flip(x_pred_pos, [0])\n",
    "y_pred_neg = torch.flip(y_pred_pos, [0])\n",
    "x_pred = torch.cat((x_pred_neg, x_pred_pos))\n",
    "y_pred = torch.cat((y_pred_neg, y_pred_pos))\n",
    "\n",
    "# plotting\n",
    "fig = plt.figure()\n",
    "a1 = fig.add_axes([0,0,1,1])\n",
    "a1.set_xlim(0,3)\n",
    "a1.set_title(\"Estimated drop edge versus ground truth\", fontsize = 15)\n",
    "plt.scatter(x_gt, y_gt, c=\"red\", label=\"ground truth\")\n",
    "plt.scatter(x_pred, y_pred, c=\"blue\", label=\"prediction\")\n",
    "plt.xlabel(\"rr\")\n",
    "plt.ylabel(\"zz\")\n",
    "plt.legend()\n",
    "plt.axis('equal')\n",
    "plt.show()"
   ]
  },
  {
   "cell_type": "markdown",
   "metadata": {},
   "source": [
    "Spline Model Interpolation points"
   ]
  },
  {
   "cell_type": "code",
   "execution_count": 84,
   "metadata": {},
   "outputs": [],
   "source": [
    "#Number of interpolation points to use for PhysicsNet and plotting\n",
    "Num_points = 160"
   ]
  },
  {
   "cell_type": "code",
   "execution_count": 93,
   "metadata": {},
   "outputs": [],
   "source": [
    "#Load YC matrix for point values and s data for interpolation\n",
    "data_YC = pd.read_csv(\"Data_uniform/YC.csv\", header= None)\n",
    "data_s = pd.read_csv(\"Data_uniform/s.csv\", header= None)\n",
    "\n",
    "YC = torch.Tensor(data_YC.values)\n",
    "s = data_s.values\n",
    "s = s.reshape(1,len(s))\n",
    "#Interpolate to 160 points using a linear vector for s\n",
    "ss = np.linspace(s[0][0],s[0][-1],Num_points)"
   ]
  },
  {
   "cell_type": "markdown",
   "metadata": {},
   "source": [
    "Plot difference Spline and ground truth"
   ]
  },
  {
   "cell_type": "code",
   "execution_count": 94,
   "metadata": {},
   "outputs": [
    {
     "name": "stdout",
     "output_type": "stream",
     "text": [
      "current batch = 2\n",
      "current testing image = 9\n"
     ]
    }
   ],
   "source": [
    "PATH_PIC = os.path.join(os.getcwd(), \"model_pic_spline.pt\")\n",
    "model_picture_trained = torch.load(PATH_PIC)\n",
    "\n",
    "rand1 = random.randint(0, len(test_x_pic_spline)-1)\n",
    "rand2 = random.randint(0, 30)\n",
    "\n",
    "print(\"current batch =\", rand1)\n",
    "print(\"current testing image =\", rand2)\n",
    "\n",
    "score_pic_pred = prediction(model_picture_trained, test_x_pic_spline[rand1][rand2].reshape(1, 1, 82, 77))\n",
    "\n",
    "#Multiply the found Chebyshev coefficients with YC matrix to obtain edge points\n",
    "score_pic_r = torch.matmul(YC ,score_pic_pred[0, 0:11]) \n",
    "score_pic_z = torch.matmul(YC ,score_pic_pred[0, 11:22])\n",
    "\n",
    "#Do polynominal fitting through data to get more data points\n",
    "score_pic_r = np.polyval( np.polyfit(s[0],score_pic_r.numpy(),15), ss)\n",
    "score_pic_z = np.polyval( np.polyfit(s[0],score_pic_z.numpy(),15), ss)\n",
    "\n",
    "#Convert back to torch\n",
    "score_pic_r = torch.tensor(score_pic_r)\n",
    "score_pic_z = torch.tensor(score_pic_z)\n",
    "\n",
    "\n",
    "test_y_pic_r = torch.matmul(YC ,test_y_pic_spline[rand1][rand2][0:11].float()) \n",
    "test_y_pic_z = torch.matmul(YC ,test_y_pic_spline[rand1][rand2][11:22].float()) \n",
    "\n",
    "#Do polynominal fitting through data to get more data points\n",
    "test_y_pic_r = np.polyval( np.polyfit(s[0],test_y_pic_r.numpy(),15), ss)\n",
    "test_y_pic_z = np.polyval( np.polyfit(s[0],test_y_pic_z.numpy(),15), ss)\n",
    "\n",
    "#Convert back to torch\n",
    "test_y_pic_r = torch.tensor(test_y_pic_r)\n",
    "test_y_pic_z = torch.tensor(test_y_pic_z)\n",
    "\n",
    "# Print all points out for viewing\n",
    "# for num in range(len(test_y_pic_r)):\n",
    "#    print(num+1, \": Ground Truths =\", test_y_pic_z[num].item(), \", Prediction =\", score_pic_z[num].item())\n"
   ]
  },
  {
   "cell_type": "code",
   "execution_count": 95,
   "metadata": {},
   "outputs": [
    {
     "data": {
      "image/png": "[encoded data removed]",
      "text/plain": [
       "<Figure size 432x288 with 1 Axes>"
      ]
     },
     "metadata": {
      "needs_background": "light"
     },
     "output_type": "display_data"
    }
   ],
   "source": [
    "# scattering points for ground truth\n",
    "gt_r_pos = test_y_pic_r\n",
    "gt_r_neg = -torch.flip(test_y_pic_r, [0])\n",
    "gt_z_pos = test_y_pic_z\n",
    "gt_z_neg = torch.flip(test_y_pic_z, [0])\n",
    "gt_r = torch.cat((gt_r_neg, gt_r_pos))\n",
    "gt_z = torch.cat((gt_z_neg, gt_z_pos))\n",
    "\n",
    "# scattering points for prediction\n",
    "pred_r_pos = score_pic_r\n",
    "pred_r_neg = -torch.flip(score_pic_r, [0])\n",
    "pred_z_pos = score_pic_z\n",
    "pred_z_neg = torch.flip(score_pic_z, [0])\n",
    "pred_r = torch.cat((pred_r_neg, pred_r_pos))\n",
    "pred_z = torch.cat((pred_z_neg, pred_z_pos))\n",
    "\n",
    "# plotting\n",
    "fig = plt.figure()\n",
    "a1 = fig.add_axes([0,0,1,1])\n",
    "a1.set_xlim(0,3)\n",
    "a1.set_title(\"Estimated drop edge versus ground truth\", fontsize = 15)\n",
    "plt.scatter(gt_r, gt_z, c=\"red\", label=\"ground truth\")\n",
    "plt.scatter(pred_r, pred_z, c=\"blue\", label=\"prediction\")\n",
    "\n",
    "plt.xlabel(\"rr\",fontsize = 15)\n",
    "plt.ylabel(\"zz\",fontsize = 15)\n",
    "plt.legend()\n",
    "plt.axis('equal')\n",
    "plt.show()"
   ]
  },
  {
   "cell_type": "markdown",
   "metadata": {},
   "source": [
    "### Evaluation between two model predictions"
   ]
  },
  {
   "cell_type": "code",
   "execution_count": 187,
   "metadata": {},
   "outputs": [
    {
     "name": "stdout",
     "output_type": "stream",
     "text": [
      "L2 norm of point = 0.0007448227857817151\n",
      "L2 norm of spline = 0.0006540290196426213\n"
     ]
    }
   ],
   "source": [
    "# Edge Points -> x_gt, y_gt, x_pred, y_pred\n",
    "# Spline -> gt_r, gt_z, pred_r, pred_z\n",
    "\n",
    "l2_x_points = torch.sum(torch.pow((x_gt - x_pred), 2))\n",
    "l2_y_points = torch.sum(torch.pow((y_gt - y_pred), 2))\n",
    "l2_points = (l2_x_points + l2_y_points) / len(x_gt)\n",
    "print(\"L2 norm of point =\", l2_points.item())\n",
    "\n",
    "l2_x_spline = torch.sum(torch.pow((gt_r - pred_r), 2))\n",
    "l2_y_spline = torch.sum(torch.pow((gt_z - pred_z), 2))\n",
    "l2_spline = (l2_x_spline + l2_y_spline) / len(gt_r)\n",
    "print(\"L2 norm of spline =\", l2_spline.item())"
   ]
  },
  {
   "cell_type": "code",
   "execution_count": null,
   "metadata": {},
   "outputs": [],
   "source": []
  }
 ],
 "metadata": {
  "interpreter": {
   "hash": "d02908a6a4020c0dee71330d10741c85add751c2d2978c27222bad6a32175214"
  },
  "kernelspec": {
   "display_name": "Python 3.7.11",
   "language": "python",
   "name": "python3"
  },
  "language_info": {
   "codemirror_mode": {
    "name": "ipython",
    "version": 3
   },
   "file_extension": ".py",
   "mimetype": "text/x-python",
   "name": "python",
   "nbconvert_exporter": "python",
   "pygments_lexer": "ipython3",
   "version": "3.7.11"
  }
 },
 "nbformat": 4,
 "nbformat_minor": 2
}
